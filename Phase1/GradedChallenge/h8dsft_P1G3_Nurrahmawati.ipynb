{
 "cells": [
  {
   "cell_type": "markdown",
   "metadata": {},
   "source": [
    "# GRADED CHALLENGE 3"
   ]
  },
  {
   "cell_type": "markdown",
   "metadata": {},
   "source": [
    "## I. Introduction"
   ]
  },
  {
   "cell_type": "markdown",
   "metadata": {},
   "source": [
    "Nama: Nurrahmawati\n",
    "\n",
    "Batch: FTDS-002"
   ]
  },
  {
   "cell_type": "markdown",
   "metadata": {},
   "source": [
    "> Objektif :\n",
    "\n",
    ">Penyakit kardiovaskular (CVDs) adalah gangguan pada jantung dan pembuluh darah termasuk, penyakit jantung koroner (serangan jantung), penyakit serebrovaskular (stroke), gagal jantung (HF), dan jenis patologi lainnya. Secara keseluruhan, penyakit kardiovaskular menyebabkan kematian sekitar 17 juta orang di seluruh dunia setiap tahunnya, dengan angka kematian meningkat untuk pertama kalinya dalam 50 tahun di Inggris. Secara khusus, gagal jantung terjadi ketika jantung tidak mampu memompa cukup darah ke tubuh, dan biasanya disebabkan oleh diabetes, tekanan darah tinggi, atau kondisi atau penyakit jantung lainnya.\n",
    "\n",
    ">Mengenai ciri-cirinya, creatinine phosphokinase (CPK) menyatakan kadar enzim CPK dalam darah. Ketika jaringan otot rusak, CPK mengalir ke dalam darah. Oleh karena itu, kadar CPK yang tinggi dalam darah pasien dapat mengindikasikan gagal jantung atau cedera. Fraksi ejeksi menyatakan persentase berapa banyak darah yang dipompa oleh ventrikel kiri pada setiap kontraksi. Kreatinin serum adalah produk limbah yang dihasilkan oleh kreatin, saat otot rusak. Terutama, dokter fokus pada serum kreatinin dalam darah untuk memeriksa fungsi ginjal. Jika seorang pasien memiliki kadar kreatinin serum yang tinggi, ini mungkin mengindikasikan disfungsi ginjal. Sodium adalah mineral yang berfungsi untuk fungsi otot dan saraf yang benar. Tes natrium serum adalah pemeriksaan darah rutin yang menunjukkan apakah pasien memiliki kadar natrium yang normal dalam darah. Tingkat natrium yang sangat rendah dalam darah mungkin disebabkan oleh gagal jantung. Fitur peristiwa kematian, yang kami gunakan sebagai target dalam studi klasifikasi biner kami, menyatakan jika pasien meninggal atau bertahan hidup sebelum akhir masa tindak lanjut, rata-rata adalah 130 hari.\n",
    "\n",
    ">Tujuan dari proyek ini adalah untuk menerapkan beberapa machine learning classifiers untuk memprediksi kelangsungan hidup pasien, dan memberi peringkat fitur yang sesuai dengan faktor risiko yang paling penting."
   ]
  },
  {
   "cell_type": "markdown",
   "metadata": {},
   "source": [
    "Data extraction from ftds-hacktiv8-project \n",
    "```txt\n",
    "SELECT * FROM `ftds-hacktiv8-project.phase1_ftds_002_hck.heart-failure`\n",
    "```"
   ]
  },
  {
   "cell_type": "markdown",
   "metadata": {},
   "source": [
    "## II. Import Libraries"
   ]
  },
  {
   "cell_type": "code",
   "execution_count": 58,
   "metadata": {},
   "outputs": [],
   "source": [
    "# Define Libraries\n",
    "import pandas as pd\n",
    "import numpy as np\n",
    "import matplotlib.pyplot as plt\n",
    "%matplotlib inline\n",
    "import plotly.express as px\n",
    "import seaborn as sns\n",
    "from scipy import stats\n",
    "\n",
    "# For Classifier Problems\n",
    "from sklearn.ensemble import RandomForestClassifier\n",
    "from sklearn.ensemble import AdaBoostClassifier\n",
    "\n",
    "# Split Dataset and Standarize the Datasets\n",
    "from sklearn.model_selection import train_test_split\n",
    "from sklearn.preprocessing import StandardScaler, MinMaxScaler, OneHotEncoder, OrdinalEncoder\n",
    "\n",
    "from imblearn.over_sampling import SMOTE\n",
    "from collections import Counter\n",
    "\n",
    "from feature_engine.outliers import Winsorizer\n",
    "\n",
    "# Evaluate Regression Models\n",
    "from sklearn.model_selection import cross_val_score, GridSearchCV\n",
    "from sklearn.metrics import accuracy_score, classification_report, ConfusionMatrixDisplay, confusion_matrix\n",
    "\n",
    "# Error and Display settings\n",
    "pd.set_option('display.max_column', None)\n",
    "pd.set_option('display.max_rows', 100)\n",
    "import warnings\n",
    "warnings.filterwarnings('ignore')"
   ]
  },
  {
   "cell_type": "markdown",
   "metadata": {},
   "source": [
    "## III. Data Loading"
   ]
  },
  {
   "cell_type": "code",
   "execution_count": 2,
   "metadata": {},
   "outputs": [
    {
     "data": {
      "text/html": [
       "<div>\n",
       "<style scoped>\n",
       "    .dataframe tbody tr th:only-of-type {\n",
       "        vertical-align: middle;\n",
       "    }\n",
       "\n",
       "    .dataframe tbody tr th {\n",
       "        vertical-align: top;\n",
       "    }\n",
       "\n",
       "    .dataframe thead th {\n",
       "        text-align: right;\n",
       "    }\n",
       "</style>\n",
       "<table border=\"1\" class=\"dataframe\">\n",
       "  <thead>\n",
       "    <tr style=\"text-align: right;\">\n",
       "      <th></th>\n",
       "      <th>age</th>\n",
       "      <th>anaemia</th>\n",
       "      <th>creatinine_phosphokinase</th>\n",
       "      <th>diabetes</th>\n",
       "      <th>ejection_fraction</th>\n",
       "      <th>high_blood_pressure</th>\n",
       "      <th>platelets</th>\n",
       "      <th>serum_creatinine</th>\n",
       "      <th>serum_sodium</th>\n",
       "      <th>sex</th>\n",
       "      <th>smoking</th>\n",
       "      <th>time</th>\n",
       "      <th>DEATH_EVENT</th>\n",
       "    </tr>\n",
       "  </thead>\n",
       "  <tbody>\n",
       "    <tr>\n",
       "      <th>0</th>\n",
       "      <td>42.0</td>\n",
       "      <td>1</td>\n",
       "      <td>250</td>\n",
       "      <td>1</td>\n",
       "      <td>15</td>\n",
       "      <td>0</td>\n",
       "      <td>213000.0</td>\n",
       "      <td>1.3</td>\n",
       "      <td>136</td>\n",
       "      <td>0</td>\n",
       "      <td>0</td>\n",
       "      <td>65</td>\n",
       "      <td>1</td>\n",
       "    </tr>\n",
       "    <tr>\n",
       "      <th>1</th>\n",
       "      <td>46.0</td>\n",
       "      <td>0</td>\n",
       "      <td>168</td>\n",
       "      <td>1</td>\n",
       "      <td>17</td>\n",
       "      <td>1</td>\n",
       "      <td>271000.0</td>\n",
       "      <td>2.1</td>\n",
       "      <td>124</td>\n",
       "      <td>0</td>\n",
       "      <td>0</td>\n",
       "      <td>100</td>\n",
       "      <td>1</td>\n",
       "    </tr>\n",
       "    <tr>\n",
       "      <th>2</th>\n",
       "      <td>65.0</td>\n",
       "      <td>1</td>\n",
       "      <td>160</td>\n",
       "      <td>1</td>\n",
       "      <td>20</td>\n",
       "      <td>0</td>\n",
       "      <td>327000.0</td>\n",
       "      <td>2.7</td>\n",
       "      <td>116</td>\n",
       "      <td>0</td>\n",
       "      <td>0</td>\n",
       "      <td>8</td>\n",
       "      <td>1</td>\n",
       "    </tr>\n",
       "    <tr>\n",
       "      <th>3</th>\n",
       "      <td>53.0</td>\n",
       "      <td>1</td>\n",
       "      <td>91</td>\n",
       "      <td>0</td>\n",
       "      <td>20</td>\n",
       "      <td>1</td>\n",
       "      <td>418000.0</td>\n",
       "      <td>1.4</td>\n",
       "      <td>139</td>\n",
       "      <td>0</td>\n",
       "      <td>0</td>\n",
       "      <td>43</td>\n",
       "      <td>1</td>\n",
       "    </tr>\n",
       "    <tr>\n",
       "      <th>4</th>\n",
       "      <td>50.0</td>\n",
       "      <td>1</td>\n",
       "      <td>582</td>\n",
       "      <td>1</td>\n",
       "      <td>20</td>\n",
       "      <td>1</td>\n",
       "      <td>279000.0</td>\n",
       "      <td>1.0</td>\n",
       "      <td>134</td>\n",
       "      <td>0</td>\n",
       "      <td>0</td>\n",
       "      <td>186</td>\n",
       "      <td>0</td>\n",
       "    </tr>\n",
       "  </tbody>\n",
       "</table>\n",
       "</div>"
      ],
      "text/plain": [
       "    age  anaemia  creatinine_phosphokinase  diabetes  ejection_fraction  \\\n",
       "0  42.0        1                       250         1                 15   \n",
       "1  46.0        0                       168         1                 17   \n",
       "2  65.0        1                       160         1                 20   \n",
       "3  53.0        1                        91         0                 20   \n",
       "4  50.0        1                       582         1                 20   \n",
       "\n",
       "   high_blood_pressure  platelets  serum_creatinine  serum_sodium  sex  \\\n",
       "0                    0   213000.0               1.3           136    0   \n",
       "1                    1   271000.0               2.1           124    0   \n",
       "2                    0   327000.0               2.7           116    0   \n",
       "3                    1   418000.0               1.4           139    0   \n",
       "4                    1   279000.0               1.0           134    0   \n",
       "\n",
       "   smoking  time  DEATH_EVENT  \n",
       "0        0    65            1  \n",
       "1        0   100            1  \n",
       "2        0     8            1  \n",
       "3        0    43            1  \n",
       "4        0   186            0  "
      ]
     },
     "execution_count": 2,
     "metadata": {},
     "output_type": "execute_result"
    }
   ],
   "source": [
    "# Load Dataset\n",
    "data = pd.read_csv('h8dsft_P1G3_Nurrahmawati.csv')\n",
    "data.head()"
   ]
  },
  {
   "cell_type": "code",
   "execution_count": 3,
   "metadata": {},
   "outputs": [
    {
     "data": {
      "text/html": [
       "<div>\n",
       "<style scoped>\n",
       "    .dataframe tbody tr th:only-of-type {\n",
       "        vertical-align: middle;\n",
       "    }\n",
       "\n",
       "    .dataframe tbody tr th {\n",
       "        vertical-align: top;\n",
       "    }\n",
       "\n",
       "    .dataframe thead th {\n",
       "        text-align: right;\n",
       "    }\n",
       "</style>\n",
       "<table border=\"1\" class=\"dataframe\">\n",
       "  <thead>\n",
       "    <tr style=\"text-align: right;\">\n",
       "      <th></th>\n",
       "      <th>age</th>\n",
       "      <th>anaemia</th>\n",
       "      <th>creatinine_phosphokinase</th>\n",
       "      <th>diabetes</th>\n",
       "      <th>ejection_fraction</th>\n",
       "      <th>high_blood_pressure</th>\n",
       "      <th>platelets</th>\n",
       "      <th>serum_creatinine</th>\n",
       "      <th>serum_sodium</th>\n",
       "      <th>sex</th>\n",
       "      <th>smoking</th>\n",
       "      <th>time</th>\n",
       "      <th>DEATH_EVENT</th>\n",
       "    </tr>\n",
       "  </thead>\n",
       "  <tbody>\n",
       "    <tr>\n",
       "      <th>294</th>\n",
       "      <td>63.0</td>\n",
       "      <td>1</td>\n",
       "      <td>122</td>\n",
       "      <td>1</td>\n",
       "      <td>60</td>\n",
       "      <td>0</td>\n",
       "      <td>267000.00</td>\n",
       "      <td>1.2</td>\n",
       "      <td>145</td>\n",
       "      <td>1</td>\n",
       "      <td>0</td>\n",
       "      <td>147</td>\n",
       "      <td>0</td>\n",
       "    </tr>\n",
       "    <tr>\n",
       "      <th>295</th>\n",
       "      <td>45.0</td>\n",
       "      <td>0</td>\n",
       "      <td>308</td>\n",
       "      <td>1</td>\n",
       "      <td>60</td>\n",
       "      <td>1</td>\n",
       "      <td>377000.00</td>\n",
       "      <td>1.0</td>\n",
       "      <td>136</td>\n",
       "      <td>1</td>\n",
       "      <td>0</td>\n",
       "      <td>186</td>\n",
       "      <td>0</td>\n",
       "    </tr>\n",
       "    <tr>\n",
       "      <th>296</th>\n",
       "      <td>70.0</td>\n",
       "      <td>0</td>\n",
       "      <td>97</td>\n",
       "      <td>0</td>\n",
       "      <td>60</td>\n",
       "      <td>1</td>\n",
       "      <td>220000.00</td>\n",
       "      <td>0.9</td>\n",
       "      <td>138</td>\n",
       "      <td>1</td>\n",
       "      <td>0</td>\n",
       "      <td>186</td>\n",
       "      <td>0</td>\n",
       "    </tr>\n",
       "    <tr>\n",
       "      <th>297</th>\n",
       "      <td>53.0</td>\n",
       "      <td>1</td>\n",
       "      <td>446</td>\n",
       "      <td>0</td>\n",
       "      <td>60</td>\n",
       "      <td>1</td>\n",
       "      <td>263358.03</td>\n",
       "      <td>1.0</td>\n",
       "      <td>139</td>\n",
       "      <td>1</td>\n",
       "      <td>0</td>\n",
       "      <td>215</td>\n",
       "      <td>0</td>\n",
       "    </tr>\n",
       "    <tr>\n",
       "      <th>298</th>\n",
       "      <td>50.0</td>\n",
       "      <td>0</td>\n",
       "      <td>582</td>\n",
       "      <td>0</td>\n",
       "      <td>62</td>\n",
       "      <td>1</td>\n",
       "      <td>147000.00</td>\n",
       "      <td>0.8</td>\n",
       "      <td>140</td>\n",
       "      <td>1</td>\n",
       "      <td>1</td>\n",
       "      <td>192</td>\n",
       "      <td>0</td>\n",
       "    </tr>\n",
       "  </tbody>\n",
       "</table>\n",
       "</div>"
      ],
      "text/plain": [
       "      age  anaemia  creatinine_phosphokinase  diabetes  ejection_fraction  \\\n",
       "294  63.0        1                       122         1                 60   \n",
       "295  45.0        0                       308         1                 60   \n",
       "296  70.0        0                        97         0                 60   \n",
       "297  53.0        1                       446         0                 60   \n",
       "298  50.0        0                       582         0                 62   \n",
       "\n",
       "     high_blood_pressure  platelets  serum_creatinine  serum_sodium  sex  \\\n",
       "294                    0  267000.00               1.2           145    1   \n",
       "295                    1  377000.00               1.0           136    1   \n",
       "296                    1  220000.00               0.9           138    1   \n",
       "297                    1  263358.03               1.0           139    1   \n",
       "298                    1  147000.00               0.8           140    1   \n",
       "\n",
       "     smoking  time  DEATH_EVENT  \n",
       "294        0   147            0  \n",
       "295        0   186            0  \n",
       "296        0   186            0  \n",
       "297        0   215            0  \n",
       "298        1   192            0  "
      ]
     },
     "execution_count": 3,
     "metadata": {},
     "output_type": "execute_result"
    }
   ],
   "source": [
    "data.tail()"
   ]
  },
  {
   "cell_type": "code",
   "execution_count": 4,
   "metadata": {},
   "outputs": [
    {
     "name": "stdout",
     "output_type": "stream",
     "text": [
      "<class 'pandas.core.frame.DataFrame'>\n",
      "RangeIndex: 299 entries, 0 to 298\n",
      "Data columns (total 13 columns):\n",
      " #   Column                    Non-Null Count  Dtype  \n",
      "---  ------                    --------------  -----  \n",
      " 0   age                       299 non-null    float64\n",
      " 1   anaemia                   299 non-null    int64  \n",
      " 2   creatinine_phosphokinase  299 non-null    int64  \n",
      " 3   diabetes                  299 non-null    int64  \n",
      " 4   ejection_fraction         299 non-null    int64  \n",
      " 5   high_blood_pressure       299 non-null    int64  \n",
      " 6   platelets                 299 non-null    float64\n",
      " 7   serum_creatinine          299 non-null    float64\n",
      " 8   serum_sodium              299 non-null    int64  \n",
      " 9   sex                       299 non-null    int64  \n",
      " 10  smoking                   299 non-null    int64  \n",
      " 11  time                      299 non-null    int64  \n",
      " 12  DEATH_EVENT               299 non-null    int64  \n",
      "dtypes: float64(3), int64(10)\n",
      "memory usage: 30.5 KB\n"
     ]
    }
   ],
   "source": [
    "# Checking Basic Information\n",
    "data.info()"
   ]
  },
  {
   "cell_type": "markdown",
   "metadata": {},
   "source": [
    "Berdasarkan data informasi ini, terlihat bahwa ada dua tipe data ini, yaitu tipe int64 dan float64. Selain itu, terlihat bahwa data ini mewakili semuanya dengan 299 entri data yang dapat diartikan sebagai tidak ada nilai yang hilang (missing value)."
   ]
  },
  {
   "cell_type": "code",
   "execution_count": 5,
   "metadata": {},
   "outputs": [
    {
     "data": {
      "text/plain": [
       "age                         0.0\n",
       "anaemia                     0.0\n",
       "creatinine_phosphokinase    0.0\n",
       "diabetes                    0.0\n",
       "ejection_fraction           0.0\n",
       "high_blood_pressure         0.0\n",
       "platelets                   0.0\n",
       "serum_creatinine            0.0\n",
       "serum_sodium                0.0\n",
       "sex                         0.0\n",
       "smoking                     0.0\n",
       "time                        0.0\n",
       "DEATH_EVENT                 0.0\n",
       "dtype: float64"
      ]
     },
     "execution_count": 5,
     "metadata": {},
     "output_type": "execute_result"
    }
   ],
   "source": [
    "# Check Percentage Missing Values\n",
    "data.isnull().mean()"
   ]
  },
  {
   "cell_type": "code",
   "execution_count": 6,
   "metadata": {},
   "outputs": [
    {
     "data": {
      "text/plain": [
       "(0, 13)"
      ]
     },
     "execution_count": 6,
     "metadata": {},
     "output_type": "execute_result"
    }
   ],
   "source": [
    "# Checking data duplicated\n",
    "data[data.duplicated()].shape"
   ]
  },
  {
   "cell_type": "markdown",
   "metadata": {},
   "source": [
    "Dapat terlihat bahwa pada dataset yang digunakan tidak terdapat duplikasi data dalam dataset."
   ]
  },
  {
   "cell_type": "code",
   "execution_count": 7,
   "metadata": {},
   "outputs": [
    {
     "name": "stdout",
     "output_type": "stream",
     "text": [
      "num of unique label in age:  47\n",
      "num of unique label in anaemia:  2\n",
      "num of unique label in creatinine_phosphokinase:  208\n",
      "num of unique label in diabetes:  2\n",
      "num of unique label in ejection_fraction:  17\n",
      "num of unique label in high_blood_pressure:  2\n",
      "num of unique label in platelets:  176\n",
      "num of unique label in serum_creatinine:  40\n",
      "num of unique label in serum_sodium:  27\n",
      "num of unique label in sex:  2\n",
      "num of unique label in smoking:  2\n",
      "num of unique label in time:  148\n",
      "num of unique label in DEATH_EVENT:  2\n"
     ]
    }
   ],
   "source": [
    "for i in data.columns.tolist():\n",
    "    print(f'num of unique label in {i}: ', len(data[i].unique()))"
   ]
  },
  {
   "cell_type": "code",
   "execution_count": 8,
   "metadata": {},
   "outputs": [
    {
     "data": {
      "text/html": [
       "<div>\n",
       "<style scoped>\n",
       "    .dataframe tbody tr th:only-of-type {\n",
       "        vertical-align: middle;\n",
       "    }\n",
       "\n",
       "    .dataframe tbody tr th {\n",
       "        vertical-align: top;\n",
       "    }\n",
       "\n",
       "    .dataframe thead th {\n",
       "        text-align: right;\n",
       "    }\n",
       "</style>\n",
       "<table border=\"1\" class=\"dataframe\">\n",
       "  <thead>\n",
       "    <tr style=\"text-align: right;\">\n",
       "      <th></th>\n",
       "      <th>age</th>\n",
       "      <th>creatinine_phosphokinase</th>\n",
       "      <th>ejection_fraction</th>\n",
       "      <th>platelets</th>\n",
       "      <th>serum_creatinine</th>\n",
       "      <th>serum_sodium</th>\n",
       "      <th>time</th>\n",
       "    </tr>\n",
       "  </thead>\n",
       "  <tbody>\n",
       "    <tr>\n",
       "      <th>count</th>\n",
       "      <td>299.000000</td>\n",
       "      <td>299.000000</td>\n",
       "      <td>299.000000</td>\n",
       "      <td>299.000000</td>\n",
       "      <td>299.00000</td>\n",
       "      <td>299.000000</td>\n",
       "      <td>299.000000</td>\n",
       "    </tr>\n",
       "    <tr>\n",
       "      <th>mean</th>\n",
       "      <td>60.833893</td>\n",
       "      <td>581.839465</td>\n",
       "      <td>38.083612</td>\n",
       "      <td>263358.029264</td>\n",
       "      <td>1.39388</td>\n",
       "      <td>136.625418</td>\n",
       "      <td>130.260870</td>\n",
       "    </tr>\n",
       "    <tr>\n",
       "      <th>std</th>\n",
       "      <td>11.894809</td>\n",
       "      <td>970.287881</td>\n",
       "      <td>11.834841</td>\n",
       "      <td>97804.236869</td>\n",
       "      <td>1.03451</td>\n",
       "      <td>4.412477</td>\n",
       "      <td>77.614208</td>\n",
       "    </tr>\n",
       "    <tr>\n",
       "      <th>min</th>\n",
       "      <td>40.000000</td>\n",
       "      <td>23.000000</td>\n",
       "      <td>14.000000</td>\n",
       "      <td>25100.000000</td>\n",
       "      <td>0.50000</td>\n",
       "      <td>113.000000</td>\n",
       "      <td>4.000000</td>\n",
       "    </tr>\n",
       "    <tr>\n",
       "      <th>25%</th>\n",
       "      <td>51.000000</td>\n",
       "      <td>116.500000</td>\n",
       "      <td>30.000000</td>\n",
       "      <td>212500.000000</td>\n",
       "      <td>0.90000</td>\n",
       "      <td>134.000000</td>\n",
       "      <td>73.000000</td>\n",
       "    </tr>\n",
       "    <tr>\n",
       "      <th>50%</th>\n",
       "      <td>60.000000</td>\n",
       "      <td>250.000000</td>\n",
       "      <td>38.000000</td>\n",
       "      <td>262000.000000</td>\n",
       "      <td>1.10000</td>\n",
       "      <td>137.000000</td>\n",
       "      <td>115.000000</td>\n",
       "    </tr>\n",
       "    <tr>\n",
       "      <th>75%</th>\n",
       "      <td>70.000000</td>\n",
       "      <td>582.000000</td>\n",
       "      <td>45.000000</td>\n",
       "      <td>303500.000000</td>\n",
       "      <td>1.40000</td>\n",
       "      <td>140.000000</td>\n",
       "      <td>203.000000</td>\n",
       "    </tr>\n",
       "    <tr>\n",
       "      <th>max</th>\n",
       "      <td>95.000000</td>\n",
       "      <td>7861.000000</td>\n",
       "      <td>80.000000</td>\n",
       "      <td>850000.000000</td>\n",
       "      <td>9.40000</td>\n",
       "      <td>148.000000</td>\n",
       "      <td>285.000000</td>\n",
       "    </tr>\n",
       "  </tbody>\n",
       "</table>\n",
       "</div>"
      ],
      "text/plain": [
       "              age  creatinine_phosphokinase  ejection_fraction      platelets  \\\n",
       "count  299.000000                299.000000         299.000000     299.000000   \n",
       "mean    60.833893                581.839465          38.083612  263358.029264   \n",
       "std     11.894809                970.287881          11.834841   97804.236869   \n",
       "min     40.000000                 23.000000          14.000000   25100.000000   \n",
       "25%     51.000000                116.500000          30.000000  212500.000000   \n",
       "50%     60.000000                250.000000          38.000000  262000.000000   \n",
       "75%     70.000000                582.000000          45.000000  303500.000000   \n",
       "max     95.000000               7861.000000          80.000000  850000.000000   \n",
       "\n",
       "       serum_creatinine  serum_sodium        time  \n",
       "count         299.00000    299.000000  299.000000  \n",
       "mean            1.39388    136.625418  130.260870  \n",
       "std             1.03451      4.412477   77.614208  \n",
       "min             0.50000    113.000000    4.000000  \n",
       "25%             0.90000    134.000000   73.000000  \n",
       "50%             1.10000    137.000000  115.000000  \n",
       "75%             1.40000    140.000000  203.000000  \n",
       "max             9.40000    148.000000  285.000000  "
      ]
     },
     "execution_count": 8,
     "metadata": {},
     "output_type": "execute_result"
    }
   ],
   "source": [
    "num = ['age', 'creatinine_phosphokinase', 'ejection_fraction', 'platelets', 'serum_creatinine', 'serum_sodium', 'time']\n",
    "data[num].describe()"
   ]
  },
  {
   "cell_type": "markdown",
   "metadata": {},
   "source": [
    "Bedasarkan hasil describe diatas, diketahui bahwa tidak terdapat keanehan pada data numerik, seperti terdapat data missing value 99999 dll, sehingga data ini dapat diproses pada tahap selanjutnya hingga modelling"
   ]
  },
  {
   "cell_type": "code",
   "execution_count": 9,
   "metadata": {},
   "outputs": [
    {
     "name": "stdout",
     "output_type": "stream",
     "text": [
      "anaemia \n",
      "\n",
      "0    170\n",
      "1    129\n",
      "Name: anaemia, dtype: int64\n",
      "------------------------------\n",
      "diabetes \n",
      "\n",
      "0    174\n",
      "1    125\n",
      "Name: diabetes, dtype: int64\n",
      "------------------------------\n",
      "high_blood_pressure \n",
      "\n",
      "0    194\n",
      "1    105\n",
      "Name: high_blood_pressure, dtype: int64\n",
      "------------------------------\n",
      "sex \n",
      "\n",
      "1    194\n",
      "0    105\n",
      "Name: sex, dtype: int64\n",
      "------------------------------\n",
      "smoking \n",
      "\n",
      "0    203\n",
      "1     96\n",
      "Name: smoking, dtype: int64\n",
      "------------------------------\n"
     ]
    }
   ],
   "source": [
    "cat = ['anaemia', 'diabetes', 'high_blood_pressure', 'sex', 'smoking']\n",
    "for i in data[cat].columns.tolist():\n",
    "    print(i, '\\n')\n",
    "    print(data[cat][i].value_counts().head())\n",
    "    print('-'*30)"
   ]
  },
  {
   "cell_type": "markdown",
   "metadata": {},
   "source": [
    "Beberapa nama kolom menurut kami terlalu panjang, sehingga kami ingin mengubah beberapa nama kolom untuk memudahkan kami mengerjakan proyek ini. Nama kolom yang akan diganti adalah:\n",
    "\n",
    "creatinine_phosphokinase -> cpk\n",
    "\n",
    "ejection_fraction -> ef\n",
    "\n",
    "high_blood_pressure -> hbp\n",
    "\n",
    "serum_creatinine -> sCre\n",
    "\n",
    "serum_sodium -> sSod"
   ]
  },
  {
   "cell_type": "markdown",
   "metadata": {},
   "source": [
    "Berdasarkan gambaran umum:\n",
    "- tidak ada nilai yang hilang pada data\n",
    "- tidak ada entri duplikat data\n",
    "- mengubah nama kolom yang terlalu panjang\n",
    "- mengubah tipe data float68 pada kolom age dan platelets menjadi tipe data int68"
   ]
  },
  {
   "cell_type": "markdown",
   "metadata": {},
   "source": [
    "## IV Data Cleaning"
   ]
  },
  {
   "cell_type": "code",
   "execution_count": 10,
   "metadata": {},
   "outputs": [
    {
     "data": {
      "text/html": [
       "<div>\n",
       "<style scoped>\n",
       "    .dataframe tbody tr th:only-of-type {\n",
       "        vertical-align: middle;\n",
       "    }\n",
       "\n",
       "    .dataframe tbody tr th {\n",
       "        vertical-align: top;\n",
       "    }\n",
       "\n",
       "    .dataframe thead th {\n",
       "        text-align: right;\n",
       "    }\n",
       "</style>\n",
       "<table border=\"1\" class=\"dataframe\">\n",
       "  <thead>\n",
       "    <tr style=\"text-align: right;\">\n",
       "      <th></th>\n",
       "      <th>age</th>\n",
       "      <th>anaemia</th>\n",
       "      <th>creatinine_phosphokinase</th>\n",
       "      <th>diabetes</th>\n",
       "      <th>ejection_fraction</th>\n",
       "      <th>high_blood_pressure</th>\n",
       "      <th>platelets</th>\n",
       "      <th>serum_creatinine</th>\n",
       "      <th>serum_sodium</th>\n",
       "      <th>sex</th>\n",
       "      <th>smoking</th>\n",
       "      <th>time</th>\n",
       "      <th>DEATH_EVENT</th>\n",
       "    </tr>\n",
       "  </thead>\n",
       "  <tbody>\n",
       "    <tr>\n",
       "      <th>0</th>\n",
       "      <td>42.0</td>\n",
       "      <td>1</td>\n",
       "      <td>250</td>\n",
       "      <td>1</td>\n",
       "      <td>15</td>\n",
       "      <td>0</td>\n",
       "      <td>213000.0</td>\n",
       "      <td>1.3</td>\n",
       "      <td>136</td>\n",
       "      <td>0</td>\n",
       "      <td>0</td>\n",
       "      <td>65</td>\n",
       "      <td>1</td>\n",
       "    </tr>\n",
       "    <tr>\n",
       "      <th>1</th>\n",
       "      <td>46.0</td>\n",
       "      <td>0</td>\n",
       "      <td>168</td>\n",
       "      <td>1</td>\n",
       "      <td>17</td>\n",
       "      <td>1</td>\n",
       "      <td>271000.0</td>\n",
       "      <td>2.1</td>\n",
       "      <td>124</td>\n",
       "      <td>0</td>\n",
       "      <td>0</td>\n",
       "      <td>100</td>\n",
       "      <td>1</td>\n",
       "    </tr>\n",
       "    <tr>\n",
       "      <th>2</th>\n",
       "      <td>65.0</td>\n",
       "      <td>1</td>\n",
       "      <td>160</td>\n",
       "      <td>1</td>\n",
       "      <td>20</td>\n",
       "      <td>0</td>\n",
       "      <td>327000.0</td>\n",
       "      <td>2.7</td>\n",
       "      <td>116</td>\n",
       "      <td>0</td>\n",
       "      <td>0</td>\n",
       "      <td>8</td>\n",
       "      <td>1</td>\n",
       "    </tr>\n",
       "    <tr>\n",
       "      <th>3</th>\n",
       "      <td>53.0</td>\n",
       "      <td>1</td>\n",
       "      <td>91</td>\n",
       "      <td>0</td>\n",
       "      <td>20</td>\n",
       "      <td>1</td>\n",
       "      <td>418000.0</td>\n",
       "      <td>1.4</td>\n",
       "      <td>139</td>\n",
       "      <td>0</td>\n",
       "      <td>0</td>\n",
       "      <td>43</td>\n",
       "      <td>1</td>\n",
       "    </tr>\n",
       "    <tr>\n",
       "      <th>4</th>\n",
       "      <td>50.0</td>\n",
       "      <td>1</td>\n",
       "      <td>582</td>\n",
       "      <td>1</td>\n",
       "      <td>20</td>\n",
       "      <td>1</td>\n",
       "      <td>279000.0</td>\n",
       "      <td>1.0</td>\n",
       "      <td>134</td>\n",
       "      <td>0</td>\n",
       "      <td>0</td>\n",
       "      <td>186</td>\n",
       "      <td>0</td>\n",
       "    </tr>\n",
       "  </tbody>\n",
       "</table>\n",
       "</div>"
      ],
      "text/plain": [
       "    age  anaemia  creatinine_phosphokinase  diabetes  ejection_fraction  \\\n",
       "0  42.0        1                       250         1                 15   \n",
       "1  46.0        0                       168         1                 17   \n",
       "2  65.0        1                       160         1                 20   \n",
       "3  53.0        1                        91         0                 20   \n",
       "4  50.0        1                       582         1                 20   \n",
       "\n",
       "   high_blood_pressure  platelets  serum_creatinine  serum_sodium  sex  \\\n",
       "0                    0   213000.0               1.3           136    0   \n",
       "1                    1   271000.0               2.1           124    0   \n",
       "2                    0   327000.0               2.7           116    0   \n",
       "3                    1   418000.0               1.4           139    0   \n",
       "4                    1   279000.0               1.0           134    0   \n",
       "\n",
       "   smoking  time  DEATH_EVENT  \n",
       "0        0    65            1  \n",
       "1        0   100            1  \n",
       "2        0     8            1  \n",
       "3        0    43            1  \n",
       "4        0   186            0  "
      ]
     },
     "execution_count": 10,
     "metadata": {},
     "output_type": "execute_result"
    }
   ],
   "source": [
    "data_clean = data.copy()\n",
    "data_clean.head()"
   ]
  },
  {
   "cell_type": "markdown",
   "metadata": {},
   "source": [
    "Data ini memiliki 13 atribut. Attribute Information:\n",
    "\n",
    "- age                       : umur pasien\n",
    "- anaemia                   : apakah ada pengurangan haemoglobin (0 = No, 1 = Yes)\n",
    "- creatinine_phosphokinase  : level enzim CPK dalam mcg/L\n",
    "- diabetes                  : apakah pasien punya riwayat diabetes (0 = No, 1 = Yes)\n",
    "- ejection_fraction         : persentase darah yang meninggalkan jantung dalam persentasi di setiap kontraksi jantung\n",
    "- high_blood_pressure       : apakah pasien punya darah tinggi (0 = No, 1 = Yes)\n",
    "- platelets                 : jumlah platelet di darah dalam kiloplatelets/mL\n",
    "- serum_creatinine          : level serum creatinine di darah dalam mg/dL\n",
    "- serum_sodium              : level serum sodium di darah dalam mEq/L\n",
    "- sex                       : apakah pasien pria atau wanita (0 = Wanita, 1 = Pria)\n",
    "- smoking                   : apakah pasien merokok (0 = No, 1 = Yes)\n",
    "- time                      : waktu dalam hari untuk follow-up\n",
    "- DEATH_EVENT               : apakah pasien sudah meninggal saat waktu follow-up (0 = No, 1 = Yes)"
   ]
  },
  {
   "cell_type": "code",
   "execution_count": 11,
   "metadata": {},
   "outputs": [],
   "source": [
    "# Change type of data\n",
    "data_clean['age'] = data_clean.age.astype('int64')\n",
    "data_clean['platelets'] = data_clean.platelets.astype('int64')"
   ]
  },
  {
   "cell_type": "code",
   "execution_count": 12,
   "metadata": {},
   "outputs": [
    {
     "name": "stdout",
     "output_type": "stream",
     "text": [
      "<class 'pandas.core.frame.DataFrame'>\n",
      "RangeIndex: 299 entries, 0 to 298\n",
      "Data columns (total 13 columns):\n",
      " #   Column       Non-Null Count  Dtype  \n",
      "---  ------       --------------  -----  \n",
      " 0   age          299 non-null    int64  \n",
      " 1   anaemia      299 non-null    int64  \n",
      " 2   cpk          299 non-null    int64  \n",
      " 3   diabetes     299 non-null    int64  \n",
      " 4   ef           299 non-null    int64  \n",
      " 5   hbp          299 non-null    int64  \n",
      " 6   platelets    299 non-null    int64  \n",
      " 7   sCre         299 non-null    float64\n",
      " 8   sSod         299 non-null    int64  \n",
      " 9   sex          299 non-null    int64  \n",
      " 10  smoking      299 non-null    int64  \n",
      " 11  time         299 non-null    int64  \n",
      " 12  DEATH_EVENT  299 non-null    int64  \n",
      "dtypes: float64(1), int64(12)\n",
      "memory usage: 30.5 KB\n"
     ]
    }
   ],
   "source": [
    "# Rename column\n",
    "data_clean.rename(columns={'creatinine_phosphokinase':'cpk',\n",
    "                   'ejection_fraction':'ef',\n",
    "                   'high_blood_pressure':'hbp',\n",
    "                   'serum_creatinine':'sCre',\n",
    "                   'serum_sodium':'sSod'} , inplace=True)\n",
    "data_clean.info()"
   ]
  },
  {
   "cell_type": "code",
   "execution_count": 13,
   "metadata": {},
   "outputs": [
    {
     "data": {
      "text/html": [
       "<div>\n",
       "<style scoped>\n",
       "    .dataframe tbody tr th:only-of-type {\n",
       "        vertical-align: middle;\n",
       "    }\n",
       "\n",
       "    .dataframe tbody tr th {\n",
       "        vertical-align: top;\n",
       "    }\n",
       "\n",
       "    .dataframe thead th {\n",
       "        text-align: right;\n",
       "    }\n",
       "</style>\n",
       "<table border=\"1\" class=\"dataframe\">\n",
       "  <thead>\n",
       "    <tr style=\"text-align: right;\">\n",
       "      <th></th>\n",
       "      <th>count</th>\n",
       "      <th>mean</th>\n",
       "      <th>std</th>\n",
       "      <th>min</th>\n",
       "      <th>25%</th>\n",
       "      <th>50%</th>\n",
       "      <th>75%</th>\n",
       "      <th>max</th>\n",
       "    </tr>\n",
       "  </thead>\n",
       "  <tbody>\n",
       "    <tr>\n",
       "      <th>age</th>\n",
       "      <td>299.0</td>\n",
       "      <td>60.829431</td>\n",
       "      <td>11.894997</td>\n",
       "      <td>40.0</td>\n",
       "      <td>51.0</td>\n",
       "      <td>60.0</td>\n",
       "      <td>70.0</td>\n",
       "      <td>95.0</td>\n",
       "    </tr>\n",
       "    <tr>\n",
       "      <th>anaemia</th>\n",
       "      <td>299.0</td>\n",
       "      <td>0.431438</td>\n",
       "      <td>0.496107</td>\n",
       "      <td>0.0</td>\n",
       "      <td>0.0</td>\n",
       "      <td>0.0</td>\n",
       "      <td>1.0</td>\n",
       "      <td>1.0</td>\n",
       "    </tr>\n",
       "    <tr>\n",
       "      <th>cpk</th>\n",
       "      <td>299.0</td>\n",
       "      <td>581.839465</td>\n",
       "      <td>970.287881</td>\n",
       "      <td>23.0</td>\n",
       "      <td>116.5</td>\n",
       "      <td>250.0</td>\n",
       "      <td>582.0</td>\n",
       "      <td>7861.0</td>\n",
       "    </tr>\n",
       "    <tr>\n",
       "      <th>diabetes</th>\n",
       "      <td>299.0</td>\n",
       "      <td>0.418060</td>\n",
       "      <td>0.494067</td>\n",
       "      <td>0.0</td>\n",
       "      <td>0.0</td>\n",
       "      <td>0.0</td>\n",
       "      <td>1.0</td>\n",
       "      <td>1.0</td>\n",
       "    </tr>\n",
       "    <tr>\n",
       "      <th>ef</th>\n",
       "      <td>299.0</td>\n",
       "      <td>38.083612</td>\n",
       "      <td>11.834841</td>\n",
       "      <td>14.0</td>\n",
       "      <td>30.0</td>\n",
       "      <td>38.0</td>\n",
       "      <td>45.0</td>\n",
       "      <td>80.0</td>\n",
       "    </tr>\n",
       "    <tr>\n",
       "      <th>hbp</th>\n",
       "      <td>299.0</td>\n",
       "      <td>0.351171</td>\n",
       "      <td>0.478136</td>\n",
       "      <td>0.0</td>\n",
       "      <td>0.0</td>\n",
       "      <td>0.0</td>\n",
       "      <td>1.0</td>\n",
       "      <td>1.0</td>\n",
       "    </tr>\n",
       "    <tr>\n",
       "      <th>platelets</th>\n",
       "      <td>299.0</td>\n",
       "      <td>263358.026756</td>\n",
       "      <td>97804.236869</td>\n",
       "      <td>25100.0</td>\n",
       "      <td>212500.0</td>\n",
       "      <td>262000.0</td>\n",
       "      <td>303500.0</td>\n",
       "      <td>850000.0</td>\n",
       "    </tr>\n",
       "    <tr>\n",
       "      <th>sCre</th>\n",
       "      <td>299.0</td>\n",
       "      <td>1.393880</td>\n",
       "      <td>1.034510</td>\n",
       "      <td>0.5</td>\n",
       "      <td>0.9</td>\n",
       "      <td>1.1</td>\n",
       "      <td>1.4</td>\n",
       "      <td>9.4</td>\n",
       "    </tr>\n",
       "    <tr>\n",
       "      <th>sSod</th>\n",
       "      <td>299.0</td>\n",
       "      <td>136.625418</td>\n",
       "      <td>4.412477</td>\n",
       "      <td>113.0</td>\n",
       "      <td>134.0</td>\n",
       "      <td>137.0</td>\n",
       "      <td>140.0</td>\n",
       "      <td>148.0</td>\n",
       "    </tr>\n",
       "    <tr>\n",
       "      <th>sex</th>\n",
       "      <td>299.0</td>\n",
       "      <td>0.648829</td>\n",
       "      <td>0.478136</td>\n",
       "      <td>0.0</td>\n",
       "      <td>0.0</td>\n",
       "      <td>1.0</td>\n",
       "      <td>1.0</td>\n",
       "      <td>1.0</td>\n",
       "    </tr>\n",
       "    <tr>\n",
       "      <th>smoking</th>\n",
       "      <td>299.0</td>\n",
       "      <td>0.321070</td>\n",
       "      <td>0.467670</td>\n",
       "      <td>0.0</td>\n",
       "      <td>0.0</td>\n",
       "      <td>0.0</td>\n",
       "      <td>1.0</td>\n",
       "      <td>1.0</td>\n",
       "    </tr>\n",
       "    <tr>\n",
       "      <th>time</th>\n",
       "      <td>299.0</td>\n",
       "      <td>130.260870</td>\n",
       "      <td>77.614208</td>\n",
       "      <td>4.0</td>\n",
       "      <td>73.0</td>\n",
       "      <td>115.0</td>\n",
       "      <td>203.0</td>\n",
       "      <td>285.0</td>\n",
       "    </tr>\n",
       "    <tr>\n",
       "      <th>DEATH_EVENT</th>\n",
       "      <td>299.0</td>\n",
       "      <td>0.321070</td>\n",
       "      <td>0.467670</td>\n",
       "      <td>0.0</td>\n",
       "      <td>0.0</td>\n",
       "      <td>0.0</td>\n",
       "      <td>1.0</td>\n",
       "      <td>1.0</td>\n",
       "    </tr>\n",
       "  </tbody>\n",
       "</table>\n",
       "</div>"
      ],
      "text/plain": [
       "             count           mean           std      min       25%       50%  \\\n",
       "age          299.0      60.829431     11.894997     40.0      51.0      60.0   \n",
       "anaemia      299.0       0.431438      0.496107      0.0       0.0       0.0   \n",
       "cpk          299.0     581.839465    970.287881     23.0     116.5     250.0   \n",
       "diabetes     299.0       0.418060      0.494067      0.0       0.0       0.0   \n",
       "ef           299.0      38.083612     11.834841     14.0      30.0      38.0   \n",
       "hbp          299.0       0.351171      0.478136      0.0       0.0       0.0   \n",
       "platelets    299.0  263358.026756  97804.236869  25100.0  212500.0  262000.0   \n",
       "sCre         299.0       1.393880      1.034510      0.5       0.9       1.1   \n",
       "sSod         299.0     136.625418      4.412477    113.0     134.0     137.0   \n",
       "sex          299.0       0.648829      0.478136      0.0       0.0       1.0   \n",
       "smoking      299.0       0.321070      0.467670      0.0       0.0       0.0   \n",
       "time         299.0     130.260870     77.614208      4.0      73.0     115.0   \n",
       "DEATH_EVENT  299.0       0.321070      0.467670      0.0       0.0       0.0   \n",
       "\n",
       "                  75%       max  \n",
       "age              70.0      95.0  \n",
       "anaemia           1.0       1.0  \n",
       "cpk             582.0    7861.0  \n",
       "diabetes          1.0       1.0  \n",
       "ef               45.0      80.0  \n",
       "hbp               1.0       1.0  \n",
       "platelets    303500.0  850000.0  \n",
       "sCre              1.4       9.4  \n",
       "sSod            140.0     148.0  \n",
       "sex               1.0       1.0  \n",
       "smoking           1.0       1.0  \n",
       "time            203.0     285.0  \n",
       "DEATH_EVENT       1.0       1.0  "
      ]
     },
     "execution_count": 13,
     "metadata": {},
     "output_type": "execute_result"
    }
   ],
   "source": [
    "data_clean.describe().T"
   ]
  },
  {
   "cell_type": "markdown",
   "metadata": {},
   "source": [
    "Rata-rata variabel \"DEATH_EVENT\", adalah 0,32, yang menunjukkan bahwa 32 persen pengamatan dalam kumpulan data memiliki DEATH_EVENT sama dengan 1.\n",
    "Oleh karena itu, akurasi garis dasar adalah 68 persen dan model yang kami buat pasti akan mengalahkan tolok ukur garis dasar ini.\n",
    "Selain itu, dataset memiliki tingkat ketidakseimbangan kelas yang ringan sehingga akurasi saja tidak cukup untuk menentukan kinerja model nantinya.\n",
    "Fitur creatine_phosphokinase dan platelet memiliki variasi yang sangat besar dibandingkan dengan fitur lainnya.\n",
    "Usia berkisar antara 40 hingga 95 tahun dengan rata-rata 60 tahun. Jadi dataset condong ke populasi yang lebih tua.\n",
    "Rerata variabel jenis kelamin adalah 0,65 yang menunjukkan bahwa variabel tersebut condong ke laki-laki (jenis kelamin=1)"
   ]
  },
  {
   "cell_type": "markdown",
   "metadata": {},
   "source": [
    "## V. EDA for Analysis Purpose"
   ]
  },
  {
   "cell_type": "code",
   "execution_count": 14,
   "metadata": {},
   "outputs": [
    {
     "data": {
      "application/vnd.plotly.v1+json": {
       "config": {
        "plotlyServerURL": "https://plot.ly"
       },
       "data": [
        {
         "domain": {
          "x": [
           0,
           1
          ],
          "y": [
           0,
           1
          ]
         },
         "hovertemplate": "age=%{label}<extra></extra>",
         "labels": [
          42,
          46,
          65,
          53,
          50,
          70,
          65,
          70,
          60,
          59,
          60,
          60,
          65,
          72,
          49,
          65,
          75,
          50,
          50,
          57,
          72,
          60,
          50,
          65,
          48,
          60,
          50,
          50,
          50,
          62,
          46,
          65,
          52,
          50,
          70,
          49,
          55,
          70,
          55,
          70,
          70,
          65,
          60,
          60,
          58,
          86,
          66,
          60,
          80,
          45,
          65,
          45,
          67,
          45,
          55,
          90,
          55,
          95,
          50,
          70,
          63,
          58,
          46,
          61,
          65,
          60,
          40,
          60,
          65,
          73,
          53,
          62,
          51,
          55,
          72,
          40,
          50,
          82,
          70,
          60,
          43,
          49,
          50,
          70,
          48,
          45,
          45,
          60,
          70,
          42,
          70,
          70,
          60,
          85,
          65,
          58,
          65,
          64,
          75,
          68,
          45,
          60,
          65,
          54,
          45,
          45,
          75,
          70,
          75,
          65,
          50,
          70,
          80,
          49,
          72,
          60,
          69,
          60,
          59,
          50,
          45,
          73,
          55,
          62,
          51,
          68,
          45,
          72,
          65,
          57,
          60,
          63,
          65,
          80,
          50,
          68,
          72,
          60,
          50,
          59,
          65,
          58,
          60,
          47,
          58,
          58,
          55,
          64,
          45,
          65,
          45,
          82,
          60,
          95,
          42,
          61,
          50,
          50,
          52,
          75,
          45,
          40,
          60,
          73,
          70,
          65,
          52,
          44,
          60,
          42,
          80,
          68,
          69,
          70,
          55,
          45,
          58,
          85,
          55,
          45,
          45,
          55,
          53,
          81,
          60,
          50,
          45,
          51,
          65,
          80,
          60,
          65,
          73,
          68,
          42,
          55,
          70,
          40,
          40,
          40,
          50,
          40,
          60,
          60,
          63,
          55,
          75,
          50,
          87,
          80,
          58,
          94,
          50,
          60,
          75,
          63,
          80,
          75,
          85,
          53,
          54,
          61,
          58,
          61,
          56,
          70,
          65,
          52,
          62,
          45,
          90,
          60,
          41,
          42,
          44,
          60,
          60,
          75,
          66,
          63,
          52,
          69,
          55,
          50,
          78,
          55,
          42,
          70,
          70,
          50,
          55,
          70,
          85,
          70,
          70,
          60,
          75,
          55,
          60,
          50,
          59,
          77,
          63,
          53,
          55,
          50,
          50,
          82,
          65,
          90,
          72,
          65,
          67,
          79,
          51,
          85,
          78,
          65,
          77,
          75,
          53,
          60,
          53,
          65,
          58,
          85,
          60,
          53,
          63,
          64,
          62,
          53,
          70,
          60,
          63,
          45,
          70,
          53,
          50
         ],
         "legendgroup": "",
         "name": "",
         "showlegend": true,
         "textinfo": "percent+label",
         "textposition": "inside",
         "type": "pie"
        }
       ],
       "layout": {
        "height": 600,
        "legend": {
         "tracegroupgap": 0
        },
        "piecolorway": [
         "rgb(103,0,31)",
         "rgb(178,24,43)",
         "rgb(214,96,77)",
         "rgb(244,165,130)",
         "rgb(253,219,199)",
         "rgb(247,247,247)",
         "rgb(209,229,240)",
         "rgb(146,197,222)",
         "rgb(67,147,195)",
         "rgb(33,102,172)",
         "rgb(5,48,97)"
        ],
        "template": {
         "data": {
          "bar": [
           {
            "error_x": {
             "color": "#2a3f5f"
            },
            "error_y": {
             "color": "#2a3f5f"
            },
            "marker": {
             "line": {
              "color": "#E5ECF6",
              "width": 0.5
             },
             "pattern": {
              "fillmode": "overlay",
              "size": 10,
              "solidity": 0.2
             }
            },
            "type": "bar"
           }
          ],
          "barpolar": [
           {
            "marker": {
             "line": {
              "color": "#E5ECF6",
              "width": 0.5
             },
             "pattern": {
              "fillmode": "overlay",
              "size": 10,
              "solidity": 0.2
             }
            },
            "type": "barpolar"
           }
          ],
          "carpet": [
           {
            "aaxis": {
             "endlinecolor": "#2a3f5f",
             "gridcolor": "white",
             "linecolor": "white",
             "minorgridcolor": "white",
             "startlinecolor": "#2a3f5f"
            },
            "baxis": {
             "endlinecolor": "#2a3f5f",
             "gridcolor": "white",
             "linecolor": "white",
             "minorgridcolor": "white",
             "startlinecolor": "#2a3f5f"
            },
            "type": "carpet"
           }
          ],
          "choropleth": [
           {
            "colorbar": {
             "outlinewidth": 0,
             "ticks": ""
            },
            "type": "choropleth"
           }
          ],
          "contour": [
           {
            "colorbar": {
             "outlinewidth": 0,
             "ticks": ""
            },
            "colorscale": [
             [
              0,
              "#0d0887"
             ],
             [
              0.1111111111111111,
              "#46039f"
             ],
             [
              0.2222222222222222,
              "#7201a8"
             ],
             [
              0.3333333333333333,
              "#9c179e"
             ],
             [
              0.4444444444444444,
              "#bd3786"
             ],
             [
              0.5555555555555556,
              "#d8576b"
             ],
             [
              0.6666666666666666,
              "#ed7953"
             ],
             [
              0.7777777777777778,
              "#fb9f3a"
             ],
             [
              0.8888888888888888,
              "#fdca26"
             ],
             [
              1,
              "#f0f921"
             ]
            ],
            "type": "contour"
           }
          ],
          "contourcarpet": [
           {
            "colorbar": {
             "outlinewidth": 0,
             "ticks": ""
            },
            "type": "contourcarpet"
           }
          ],
          "heatmap": [
           {
            "colorbar": {
             "outlinewidth": 0,
             "ticks": ""
            },
            "colorscale": [
             [
              0,
              "#0d0887"
             ],
             [
              0.1111111111111111,
              "#46039f"
             ],
             [
              0.2222222222222222,
              "#7201a8"
             ],
             [
              0.3333333333333333,
              "#9c179e"
             ],
             [
              0.4444444444444444,
              "#bd3786"
             ],
             [
              0.5555555555555556,
              "#d8576b"
             ],
             [
              0.6666666666666666,
              "#ed7953"
             ],
             [
              0.7777777777777778,
              "#fb9f3a"
             ],
             [
              0.8888888888888888,
              "#fdca26"
             ],
             [
              1,
              "#f0f921"
             ]
            ],
            "type": "heatmap"
           }
          ],
          "heatmapgl": [
           {
            "colorbar": {
             "outlinewidth": 0,
             "ticks": ""
            },
            "colorscale": [
             [
              0,
              "#0d0887"
             ],
             [
              0.1111111111111111,
              "#46039f"
             ],
             [
              0.2222222222222222,
              "#7201a8"
             ],
             [
              0.3333333333333333,
              "#9c179e"
             ],
             [
              0.4444444444444444,
              "#bd3786"
             ],
             [
              0.5555555555555556,
              "#d8576b"
             ],
             [
              0.6666666666666666,
              "#ed7953"
             ],
             [
              0.7777777777777778,
              "#fb9f3a"
             ],
             [
              0.8888888888888888,
              "#fdca26"
             ],
             [
              1,
              "#f0f921"
             ]
            ],
            "type": "heatmapgl"
           }
          ],
          "histogram": [
           {
            "marker": {
             "pattern": {
              "fillmode": "overlay",
              "size": 10,
              "solidity": 0.2
             }
            },
            "type": "histogram"
           }
          ],
          "histogram2d": [
           {
            "colorbar": {
             "outlinewidth": 0,
             "ticks": ""
            },
            "colorscale": [
             [
              0,
              "#0d0887"
             ],
             [
              0.1111111111111111,
              "#46039f"
             ],
             [
              0.2222222222222222,
              "#7201a8"
             ],
             [
              0.3333333333333333,
              "#9c179e"
             ],
             [
              0.4444444444444444,
              "#bd3786"
             ],
             [
              0.5555555555555556,
              "#d8576b"
             ],
             [
              0.6666666666666666,
              "#ed7953"
             ],
             [
              0.7777777777777778,
              "#fb9f3a"
             ],
             [
              0.8888888888888888,
              "#fdca26"
             ],
             [
              1,
              "#f0f921"
             ]
            ],
            "type": "histogram2d"
           }
          ],
          "histogram2dcontour": [
           {
            "colorbar": {
             "outlinewidth": 0,
             "ticks": ""
            },
            "colorscale": [
             [
              0,
              "#0d0887"
             ],
             [
              0.1111111111111111,
              "#46039f"
             ],
             [
              0.2222222222222222,
              "#7201a8"
             ],
             [
              0.3333333333333333,
              "#9c179e"
             ],
             [
              0.4444444444444444,
              "#bd3786"
             ],
             [
              0.5555555555555556,
              "#d8576b"
             ],
             [
              0.6666666666666666,
              "#ed7953"
             ],
             [
              0.7777777777777778,
              "#fb9f3a"
             ],
             [
              0.8888888888888888,
              "#fdca26"
             ],
             [
              1,
              "#f0f921"
             ]
            ],
            "type": "histogram2dcontour"
           }
          ],
          "mesh3d": [
           {
            "colorbar": {
             "outlinewidth": 0,
             "ticks": ""
            },
            "type": "mesh3d"
           }
          ],
          "parcoords": [
           {
            "line": {
             "colorbar": {
              "outlinewidth": 0,
              "ticks": ""
             }
            },
            "type": "parcoords"
           }
          ],
          "pie": [
           {
            "automargin": true,
            "type": "pie"
           }
          ],
          "scatter": [
           {
            "marker": {
             "colorbar": {
              "outlinewidth": 0,
              "ticks": ""
             }
            },
            "type": "scatter"
           }
          ],
          "scatter3d": [
           {
            "line": {
             "colorbar": {
              "outlinewidth": 0,
              "ticks": ""
             }
            },
            "marker": {
             "colorbar": {
              "outlinewidth": 0,
              "ticks": ""
             }
            },
            "type": "scatter3d"
           }
          ],
          "scattercarpet": [
           {
            "marker": {
             "colorbar": {
              "outlinewidth": 0,
              "ticks": ""
             }
            },
            "type": "scattercarpet"
           }
          ],
          "scattergeo": [
           {
            "marker": {
             "colorbar": {
              "outlinewidth": 0,
              "ticks": ""
             }
            },
            "type": "scattergeo"
           }
          ],
          "scattergl": [
           {
            "marker": {
             "colorbar": {
              "outlinewidth": 0,
              "ticks": ""
             }
            },
            "type": "scattergl"
           }
          ],
          "scattermapbox": [
           {
            "marker": {
             "colorbar": {
              "outlinewidth": 0,
              "ticks": ""
             }
            },
            "type": "scattermapbox"
           }
          ],
          "scatterpolar": [
           {
            "marker": {
             "colorbar": {
              "outlinewidth": 0,
              "ticks": ""
             }
            },
            "type": "scatterpolar"
           }
          ],
          "scatterpolargl": [
           {
            "marker": {
             "colorbar": {
              "outlinewidth": 0,
              "ticks": ""
             }
            },
            "type": "scatterpolargl"
           }
          ],
          "scatterternary": [
           {
            "marker": {
             "colorbar": {
              "outlinewidth": 0,
              "ticks": ""
             }
            },
            "type": "scatterternary"
           }
          ],
          "surface": [
           {
            "colorbar": {
             "outlinewidth": 0,
             "ticks": ""
            },
            "colorscale": [
             [
              0,
              "#0d0887"
             ],
             [
              0.1111111111111111,
              "#46039f"
             ],
             [
              0.2222222222222222,
              "#7201a8"
             ],
             [
              0.3333333333333333,
              "#9c179e"
             ],
             [
              0.4444444444444444,
              "#bd3786"
             ],
             [
              0.5555555555555556,
              "#d8576b"
             ],
             [
              0.6666666666666666,
              "#ed7953"
             ],
             [
              0.7777777777777778,
              "#fb9f3a"
             ],
             [
              0.8888888888888888,
              "#fdca26"
             ],
             [
              1,
              "#f0f921"
             ]
            ],
            "type": "surface"
           }
          ],
          "table": [
           {
            "cells": {
             "fill": {
              "color": "#EBF0F8"
             },
             "line": {
              "color": "white"
             }
            },
            "header": {
             "fill": {
              "color": "#C8D4E3"
             },
             "line": {
              "color": "white"
             }
            },
            "type": "table"
           }
          ]
         },
         "layout": {
          "annotationdefaults": {
           "arrowcolor": "#2a3f5f",
           "arrowhead": 0,
           "arrowwidth": 1
          },
          "autotypenumbers": "strict",
          "coloraxis": {
           "colorbar": {
            "outlinewidth": 0,
            "ticks": ""
           }
          },
          "colorscale": {
           "diverging": [
            [
             0,
             "#8e0152"
            ],
            [
             0.1,
             "#c51b7d"
            ],
            [
             0.2,
             "#de77ae"
            ],
            [
             0.3,
             "#f1b6da"
            ],
            [
             0.4,
             "#fde0ef"
            ],
            [
             0.5,
             "#f7f7f7"
            ],
            [
             0.6,
             "#e6f5d0"
            ],
            [
             0.7,
             "#b8e186"
            ],
            [
             0.8,
             "#7fbc41"
            ],
            [
             0.9,
             "#4d9221"
            ],
            [
             1,
             "#276419"
            ]
           ],
           "sequential": [
            [
             0,
             "#0d0887"
            ],
            [
             0.1111111111111111,
             "#46039f"
            ],
            [
             0.2222222222222222,
             "#7201a8"
            ],
            [
             0.3333333333333333,
             "#9c179e"
            ],
            [
             0.4444444444444444,
             "#bd3786"
            ],
            [
             0.5555555555555556,
             "#d8576b"
            ],
            [
             0.6666666666666666,
             "#ed7953"
            ],
            [
             0.7777777777777778,
             "#fb9f3a"
            ],
            [
             0.8888888888888888,
             "#fdca26"
            ],
            [
             1,
             "#f0f921"
            ]
           ],
           "sequentialminus": [
            [
             0,
             "#0d0887"
            ],
            [
             0.1111111111111111,
             "#46039f"
            ],
            [
             0.2222222222222222,
             "#7201a8"
            ],
            [
             0.3333333333333333,
             "#9c179e"
            ],
            [
             0.4444444444444444,
             "#bd3786"
            ],
            [
             0.5555555555555556,
             "#d8576b"
            ],
            [
             0.6666666666666666,
             "#ed7953"
            ],
            [
             0.7777777777777778,
             "#fb9f3a"
            ],
            [
             0.8888888888888888,
             "#fdca26"
            ],
            [
             1,
             "#f0f921"
            ]
           ]
          },
          "colorway": [
           "#636efa",
           "#EF553B",
           "#00cc96",
           "#ab63fa",
           "#FFA15A",
           "#19d3f3",
           "#FF6692",
           "#B6E880",
           "#FF97FF",
           "#FECB52"
          ],
          "font": {
           "color": "#2a3f5f"
          },
          "geo": {
           "bgcolor": "white",
           "lakecolor": "white",
           "landcolor": "#E5ECF6",
           "showlakes": true,
           "showland": true,
           "subunitcolor": "white"
          },
          "hoverlabel": {
           "align": "left"
          },
          "hovermode": "closest",
          "mapbox": {
           "style": "light"
          },
          "paper_bgcolor": "white",
          "plot_bgcolor": "#E5ECF6",
          "polar": {
           "angularaxis": {
            "gridcolor": "white",
            "linecolor": "white",
            "ticks": ""
           },
           "bgcolor": "#E5ECF6",
           "radialaxis": {
            "gridcolor": "white",
            "linecolor": "white",
            "ticks": ""
           }
          },
          "scene": {
           "xaxis": {
            "backgroundcolor": "#E5ECF6",
            "gridcolor": "white",
            "gridwidth": 2,
            "linecolor": "white",
            "showbackground": true,
            "ticks": "",
            "zerolinecolor": "white"
           },
           "yaxis": {
            "backgroundcolor": "#E5ECF6",
            "gridcolor": "white",
            "gridwidth": 2,
            "linecolor": "white",
            "showbackground": true,
            "ticks": "",
            "zerolinecolor": "white"
           },
           "zaxis": {
            "backgroundcolor": "#E5ECF6",
            "gridcolor": "white",
            "gridwidth": 2,
            "linecolor": "white",
            "showbackground": true,
            "ticks": "",
            "zerolinecolor": "white"
           }
          },
          "shapedefaults": {
           "line": {
            "color": "#2a3f5f"
           }
          },
          "ternary": {
           "aaxis": {
            "gridcolor": "white",
            "linecolor": "white",
            "ticks": ""
           },
           "baxis": {
            "gridcolor": "white",
            "linecolor": "white",
            "ticks": ""
           },
           "bgcolor": "#E5ECF6",
           "caxis": {
            "gridcolor": "white",
            "linecolor": "white",
            "ticks": ""
           }
          },
          "title": {
           "x": 0.05
          },
          "xaxis": {
           "automargin": true,
           "gridcolor": "white",
           "linecolor": "white",
           "ticks": "",
           "title": {
            "standoff": 15
           },
           "zerolinecolor": "white",
           "zerolinewidth": 2
          },
          "yaxis": {
           "automargin": true,
           "gridcolor": "white",
           "linecolor": "white",
           "ticks": "",
           "title": {
            "standoff": 15
           },
           "zerolinecolor": "white",
           "zerolinewidth": 2
          }
         }
        },
        "title": {
         "text": "Pie Chart for Different Age Values"
        },
        "width": 600
       }
      }
     },
     "metadata": {},
     "output_type": "display_data"
    }
   ],
   "source": [
    "fig = px.pie(data_clean, names='age', height=600, width= 600, color_discrete_sequence=px.colors.sequential.RdBu,  title='Pie Chart for Different Age Values')\n",
    "fig.update_traces(textposition='inside', textinfo='percent+label')\n",
    "fig.show()"
   ]
  },
  {
   "cell_type": "markdown",
   "metadata": {},
   "source": [
    "Berdasarkan visualisasi di atas, diketahui bahwa pada penderita gangguan jantung terbesar berada pada kalangan umur 60 tahun"
   ]
  },
  {
   "cell_type": "code",
   "execution_count": 15,
   "metadata": {},
   "outputs": [
    {
     "data": {
      "image/png": "[encoded data removed]",
      "text/plain": [
       "<Figure size 432x288 with 1 Axes>"
      ]
     },
     "metadata": {
      "needs_background": "light"
     },
     "output_type": "display_data"
    }
   ],
   "source": [
    "sns.countplot(x ='DEATH_EVENT', hue = \"anaemia\", data = data_clean, palette = \"Set2\")\n",
    "plt.title('Frecquency values of anaemia')\n",
    "plt.show()"
   ]
  },
  {
   "cell_type": "markdown",
   "metadata": {},
   "source": [
    "Pada visualisasi di atas, secara keseluruhan diketahui bahwa perbandingan antara seseorang baik yang mengalami pengurangan hemoglobin (anemia) atau tidak cenderung lebih banyak yang tidak meninggal dibandingkan dengan yang meninggal. Sedangkan untuk frekuensi seseorang yang meninggal lebih banyak yang tidak mengalami penurunan hemoglobin (anemia), begitupun untuk frekuensi seseorang yang tidak meninggal lebih banyak yang tidak mengalamai penurunan hemoglobin (anemia)"
   ]
  },
  {
   "cell_type": "code",
   "execution_count": 16,
   "metadata": {},
   "outputs": [
    {
     "data": {
      "image/png": "[encoded data removed]",
      "text/plain": [
       "<Figure size 799.5x360 with 2 Axes>"
      ]
     },
     "metadata": {
      "needs_background": "light"
     },
     "output_type": "display_data"
    }
   ],
   "source": [
    "g = sns.catplot(x=\"anaemia\",  kind=\"count\", hue= \"DEATH_EVENT\", col = \"sex\", data = data_clean, palette=\"Set2\");\n",
    "g.fig.suptitle(\"Effect of Anaemia on Survival\", y=1.05, fontsize=18, fontweight=\"bold\")\n",
    "\n",
    "# iterate through axes\n",
    "for ax in g.axes.ravel():\n",
    "\n",
    "    # iterate through the axes containers\n",
    "    for c in ax.containers:\n",
    "        labels = [v.get_height() for v in c]\n",
    "        ax.bar_label(c, labels=labels, label_type='edge')"
   ]
  },
  {
   "cell_type": "markdown",
   "metadata": {},
   "source": [
    "Hampir setengah dari perempuan menderita anemia.\n",
    "13% wanita yang meninggal tidak menderita anemia.\n",
    "19% wanita yang meninggal menderita anemia.\n",
    "40% laki-laki mengalami anemia.\n",
    "19% laki-laki yang meninggal tidak menderita anemia.\n",
    "13% laki-laki yang meninggal menderita anemia.\n",
    "Tampaknya anemia bukan merupakan faktor risiko utama terutama pada pria."
   ]
  },
  {
   "cell_type": "code",
   "execution_count": 17,
   "metadata": {},
   "outputs": [
    {
     "data": {
      "image/png": "[encoded data removed]",
      "text/plain": [
       "<Figure size 432x288 with 1 Axes>"
      ]
     },
     "metadata": {
      "needs_background": "light"
     },
     "output_type": "display_data"
    }
   ],
   "source": [
    "sns.countplot(x ='DEATH_EVENT', hue = \"diabetes\", data = data_clean, palette = \"Set2\")\n",
    "plt.title('Frecquency values of diabetes')\n",
    "plt.show()"
   ]
  },
  {
   "cell_type": "markdown",
   "metadata": {},
   "source": [
    "Pada visualisasi di atas, secara keseluruhan diketahui bahwa perbandingan antara seseorang baik yang mempunyai darah tinggi atau tidak cenderung lebih banyak yang tidak meninggal dibandingkan dengan yang meninggal. Sedangkan untuk frekuensi seseorang yang meninggal lebih banyak yang tidak mempunyai darah tinggi, begitupun untuk frekuensi seseorang yang tidak meninggal lebih banyak yang tidak mempunyai darah tinggi."
   ]
  },
  {
   "cell_type": "code",
   "execution_count": 18,
   "metadata": {},
   "outputs": [
    {
     "data": {
      "image/png": "[encoded data removed]",
      "text/plain": [
       "<Figure size 799.5x360 with 2 Axes>"
      ]
     },
     "metadata": {
      "needs_background": "light"
     },
     "output_type": "display_data"
    }
   ],
   "source": [
    "g = sns.catplot(x=\"diabetes\", kind=\"count\",hue=\"DEATH_EVENT\", data = data_clean ,col=\"sex\", palette=\"Set2\");\n",
    "g.fig.suptitle(\"Effect of Diabetes on Survival\", y=1.05, fontsize=18, fontweight=\"bold\")\n",
    "\n",
    "# iterate through axes\n",
    "for ax in g.axes.ravel():\n",
    "\n",
    "    # iterate through the axes containers\n",
    "    for c in ax.containers:\n",
    "        labels = [v.get_height() for v in c]\n",
    "        ax.bar_label(c, labels=labels, label_type='edge')"
   ]
  },
  {
   "cell_type": "markdown",
   "metadata": {},
   "source": [
    "52% wanita menderita diabetes.\n",
    "19% wanita dengan diabetes meninggal.\n",
    "13% wanita tanpa diabetes meninggal.\n",
    "36% pria menderita diabetes.\n",
    "10% pria dengan diabetes meninggal.\n",
    "22% pria tanpa diabetes meninggal.\n",
    "Diabetes tampaknya bukan penyebab utama kematian di antara para pasien."
   ]
  },
  {
   "cell_type": "code",
   "execution_count": 19,
   "metadata": {},
   "outputs": [
    {
     "data": {
      "image/png": "[encoded data removed]",
      "text/plain": [
       "<Figure size 432x288 with 1 Axes>"
      ]
     },
     "metadata": {
      "needs_background": "light"
     },
     "output_type": "display_data"
    }
   ],
   "source": [
    "sns.countplot(x ='DEATH_EVENT', hue = \"sex\", data = data_clean, palette = \"Set2\")\n",
    "plt.title('Frecquency values of sex')\n",
    "plt.show()"
   ]
  },
  {
   "cell_type": "markdown",
   "metadata": {},
   "source": [
    "Pada visualisasi di atas, frekuensi seseorang yang meninggal lebih banyak berjenis kelamin wanita dibandingkan pria, begitupun dengan frekuensi seseorang yang tidak meninggal lebih banyak yang berjenis kelamin wanita."
   ]
  },
  {
   "cell_type": "code",
   "execution_count": 20,
   "metadata": {},
   "outputs": [
    {
     "data": {
      "image/png": "[encoded data removed]",
      "text/plain": [
       "<Figure size 799.5x360 with 2 Axes>"
      ]
     },
     "metadata": {
      "needs_background": "light"
     },
     "output_type": "display_data"
    }
   ],
   "source": [
    "g = sns.catplot(x=\"hbp\", kind=\"count\", hue=\"DEATH_EVENT\", col=\"sex\", data = data_clean, palette=\"Set2\");\n",
    "\n",
    "g.fig.suptitle(\"Effect of High Blood Pressure on Survival\", y=1.05, fontsize=18, fontweight=\"bold\")\n",
    "\n",
    "# iterate through axes\n",
    "for ax in g.axes.ravel():\n",
    "\n",
    "    # iterate through the axes containers\n",
    "    for c in ax.containers:\n",
    "        labels = [v.get_height() for v in c]\n",
    "        ax.bar_label(c, labels=labels, label_type='edge')"
   ]
  },
  {
   "cell_type": "markdown",
   "metadata": {},
   "source": [
    "42% wanita memiliki tekanan darah tinggi.\n",
    "16% wanita dengan tekanan darah tinggi meninggal.\n",
    "16% wanita tanpa tekanan darah tinggi meninggal.\n",
    "31% pria memiliki tekanan darah tinggi.\n",
    "11% pria dengan tekanan darah tinggi meninggal.\n",
    "21% pria tanpa tekanan darah tinggi meninggal.\n",
    "Tekanan darah tinggi saja bukanlah faktor risiko utama."
   ]
  },
  {
   "cell_type": "code",
   "execution_count": 21,
   "metadata": {},
   "outputs": [
    {
     "data": {
      "image/png": "[encoded data removed]",
      "text/plain": [
       "<Figure size 432x288 with 1 Axes>"
      ]
     },
     "metadata": {
      "needs_background": "light"
     },
     "output_type": "display_data"
    }
   ],
   "source": [
    "sns.countplot(x ='DEATH_EVENT', hue = \"smoking\", data = data_clean, palette = \"Set2\")\n",
    "plt.title('Frecquency values of smoking')\n",
    "plt.show()"
   ]
  },
  {
   "cell_type": "markdown",
   "metadata": {},
   "source": [
    "Pada visualisasi di atas, secara keseluruhan diketahui bahwa perbandingan antara seseorang baik yang merokok atau tidak cenderung lebih banyak yang tidak meninggal dibandingkan dengan yang meninggal. Sedangkan untuk frekuensi seseorang yang meninggal lebih banyak yang tidak merokok, begitupun untuk frekuensi seseorang yang tidak meninggal lebih banyak yang tidak merokok."
   ]
  },
  {
   "cell_type": "code",
   "execution_count": 22,
   "metadata": {},
   "outputs": [
    {
     "data": {
      "image/png": "[encoded data removed]",
      "text/plain": [
       "<Figure size 799.5x360 with 2 Axes>"
      ]
     },
     "metadata": {
      "needs_background": "light"
     },
     "output_type": "display_data"
    }
   ],
   "source": [
    "g = sns.catplot(x=\"smoking\", kind=\"count\", hue=\"DEATH_EVENT\", col=\"sex\", data = data_clean, palette=\"Set2\");\n",
    "\n",
    "g.fig.suptitle(\"Effect of Smoking on Survival\", y=1.05, fontsize=18, fontweight=\"bold\")\n",
    "\n",
    "# iterate through axes\n",
    "for ax in g.axes.ravel():\n",
    "\n",
    "    # iterate through the axes containers\n",
    "    for c in ax.containers:\n",
    "        labels = [v.get_height() for v in c]\n",
    "        ax.bar_label(c, labels=labels, label_type='edge')"
   ]
  },
  {
   "cell_type": "markdown",
   "metadata": {},
   "source": [
    "Merokok populer di kalangan pria dibandingkan dengan wanita: 0,04% wanita merokok.\n",
    "3 dari 4 perokok pada wanita meninggal.\n",
    "30% wanita bukan perokok meninggal.\n",
    "47% pria merokok.\n",
    "14% perokok pria meninggal.\n",
    "18% pria bukan perokok meninggal.\n",
    "Setidaknya berdasarkan data laki-laki, merokok tampaknya tidak menjadi faktor risiko utama."
   ]
  },
  {
   "cell_type": "code",
   "execution_count": 23,
   "metadata": {},
   "outputs": [
    {
     "data": {
      "image/png": "[encoded data removed]",
      "text/plain": [
       "<Figure size 432x288 with 1 Axes>"
      ]
     },
     "metadata": {
      "needs_background": "light"
     },
     "output_type": "display_data"
    }
   ],
   "source": [
    "sns.countplot(x = 'DEATH_EVENT', data = data_clean, palette = 'Set2')\n",
    "plt.title('Frecquency values of DEATH_EVENT')\n",
    "plt.show()"
   ]
  },
  {
   "cell_type": "markdown",
   "metadata": {},
   "source": [
    "Pada visualisasi di atas, dapat terlihat bahwa kolom DEATH_EVENT menunjukan data yang imbalanced. Imbalnaced sendiri merupakan suatu keadaan dimana distribusi kelas data tidak seimbang, jumlah kelas data (instance) yang satu lebih sedikit atau lebih banyak dibanding dengan jumlah kelas data lainnya. Selanjutnya akan kami lakukan penanganan agar data menjadi seimbang."
   ]
  },
  {
   "cell_type": "markdown",
   "metadata": {},
   "source": [
    "## VI. Split data into Train and Test"
   ]
  },
  {
   "cell_type": "markdown",
   "metadata": {},
   "source": [
    "Pisahkan sampel sebelum split data untuk inferensi model nanti"
   ]
  },
  {
   "cell_type": "code",
   "execution_count": 24,
   "metadata": {},
   "outputs": [
    {
     "data": {
      "text/html": [
       "<div>\n",
       "<style scoped>\n",
       "    .dataframe tbody tr th:only-of-type {\n",
       "        vertical-align: middle;\n",
       "    }\n",
       "\n",
       "    .dataframe tbody tr th {\n",
       "        vertical-align: top;\n",
       "    }\n",
       "\n",
       "    .dataframe thead th {\n",
       "        text-align: right;\n",
       "    }\n",
       "</style>\n",
       "<table border=\"1\" class=\"dataframe\">\n",
       "  <thead>\n",
       "    <tr style=\"text-align: right;\">\n",
       "      <th></th>\n",
       "      <th>age</th>\n",
       "      <th>anaemia</th>\n",
       "      <th>cpk</th>\n",
       "      <th>diabetes</th>\n",
       "      <th>ef</th>\n",
       "      <th>hbp</th>\n",
       "      <th>platelets</th>\n",
       "      <th>sCre</th>\n",
       "      <th>sSod</th>\n",
       "      <th>sex</th>\n",
       "      <th>smoking</th>\n",
       "      <th>time</th>\n",
       "      <th>DEATH_EVENT</th>\n",
       "    </tr>\n",
       "  </thead>\n",
       "  <tbody>\n",
       "    <tr>\n",
       "      <th>0</th>\n",
       "      <td>65</td>\n",
       "      <td>0</td>\n",
       "      <td>146</td>\n",
       "      <td>0</td>\n",
       "      <td>20</td>\n",
       "      <td>0</td>\n",
       "      <td>162000</td>\n",
       "      <td>1.30</td>\n",
       "      <td>129</td>\n",
       "      <td>1</td>\n",
       "      <td>1</td>\n",
       "      <td>7</td>\n",
       "      <td>1</td>\n",
       "    </tr>\n",
       "    <tr>\n",
       "      <th>1</th>\n",
       "      <td>55</td>\n",
       "      <td>1</td>\n",
       "      <td>180</td>\n",
       "      <td>0</td>\n",
       "      <td>45</td>\n",
       "      <td>0</td>\n",
       "      <td>263358</td>\n",
       "      <td>1.18</td>\n",
       "      <td>137</td>\n",
       "      <td>1</td>\n",
       "      <td>1</td>\n",
       "      <td>211</td>\n",
       "      <td>0</td>\n",
       "    </tr>\n",
       "    <tr>\n",
       "      <th>2</th>\n",
       "      <td>85</td>\n",
       "      <td>0</td>\n",
       "      <td>129</td>\n",
       "      <td>0</td>\n",
       "      <td>60</td>\n",
       "      <td>0</td>\n",
       "      <td>306000</td>\n",
       "      <td>1.20</td>\n",
       "      <td>132</td>\n",
       "      <td>1</td>\n",
       "      <td>1</td>\n",
       "      <td>90</td>\n",
       "      <td>1</td>\n",
       "    </tr>\n",
       "    <tr>\n",
       "      <th>3</th>\n",
       "      <td>57</td>\n",
       "      <td>1</td>\n",
       "      <td>129</td>\n",
       "      <td>0</td>\n",
       "      <td>30</td>\n",
       "      <td>0</td>\n",
       "      <td>395000</td>\n",
       "      <td>1.00</td>\n",
       "      <td>140</td>\n",
       "      <td>0</td>\n",
       "      <td>0</td>\n",
       "      <td>42</td>\n",
       "      <td>1</td>\n",
       "    </tr>\n",
       "    <tr>\n",
       "      <th>4</th>\n",
       "      <td>62</td>\n",
       "      <td>0</td>\n",
       "      <td>231</td>\n",
       "      <td>0</td>\n",
       "      <td>25</td>\n",
       "      <td>1</td>\n",
       "      <td>253000</td>\n",
       "      <td>0.90</td>\n",
       "      <td>140</td>\n",
       "      <td>1</td>\n",
       "      <td>1</td>\n",
       "      <td>10</td>\n",
       "      <td>1</td>\n",
       "    </tr>\n",
       "    <tr>\n",
       "      <th>5</th>\n",
       "      <td>55</td>\n",
       "      <td>0</td>\n",
       "      <td>835</td>\n",
       "      <td>0</td>\n",
       "      <td>40</td>\n",
       "      <td>0</td>\n",
       "      <td>279000</td>\n",
       "      <td>0.70</td>\n",
       "      <td>140</td>\n",
       "      <td>1</td>\n",
       "      <td>1</td>\n",
       "      <td>147</td>\n",
       "      <td>0</td>\n",
       "    </tr>\n",
       "    <tr>\n",
       "      <th>6</th>\n",
       "      <td>54</td>\n",
       "      <td>1</td>\n",
       "      <td>427</td>\n",
       "      <td>0</td>\n",
       "      <td>70</td>\n",
       "      <td>1</td>\n",
       "      <td>151000</td>\n",
       "      <td>9.00</td>\n",
       "      <td>137</td>\n",
       "      <td>0</td>\n",
       "      <td>0</td>\n",
       "      <td>196</td>\n",
       "      <td>1</td>\n",
       "    </tr>\n",
       "    <tr>\n",
       "      <th>7</th>\n",
       "      <td>70</td>\n",
       "      <td>0</td>\n",
       "      <td>97</td>\n",
       "      <td>0</td>\n",
       "      <td>60</td>\n",
       "      <td>1</td>\n",
       "      <td>220000</td>\n",
       "      <td>0.90</td>\n",
       "      <td>138</td>\n",
       "      <td>1</td>\n",
       "      <td>0</td>\n",
       "      <td>186</td>\n",
       "      <td>0</td>\n",
       "    </tr>\n",
       "    <tr>\n",
       "      <th>8</th>\n",
       "      <td>63</td>\n",
       "      <td>1</td>\n",
       "      <td>103</td>\n",
       "      <td>1</td>\n",
       "      <td>35</td>\n",
       "      <td>0</td>\n",
       "      <td>179000</td>\n",
       "      <td>0.90</td>\n",
       "      <td>136</td>\n",
       "      <td>1</td>\n",
       "      <td>1</td>\n",
       "      <td>270</td>\n",
       "      <td>0</td>\n",
       "    </tr>\n",
       "    <tr>\n",
       "      <th>9</th>\n",
       "      <td>60</td>\n",
       "      <td>0</td>\n",
       "      <td>68</td>\n",
       "      <td>0</td>\n",
       "      <td>20</td>\n",
       "      <td>0</td>\n",
       "      <td>119000</td>\n",
       "      <td>2.90</td>\n",
       "      <td>127</td>\n",
       "      <td>1</td>\n",
       "      <td>1</td>\n",
       "      <td>64</td>\n",
       "      <td>1</td>\n",
       "    </tr>\n",
       "  </tbody>\n",
       "</table>\n",
       "</div>"
      ],
      "text/plain": [
       "   age  anaemia  cpk  diabetes  ef  hbp  platelets  sCre  sSod  sex  smoking  \\\n",
       "0   65        0  146         0  20    0     162000  1.30   129    1        1   \n",
       "1   55        1  180         0  45    0     263358  1.18   137    1        1   \n",
       "2   85        0  129         0  60    0     306000  1.20   132    1        1   \n",
       "3   57        1  129         0  30    0     395000  1.00   140    0        0   \n",
       "4   62        0  231         0  25    1     253000  0.90   140    1        1   \n",
       "5   55        0  835         0  40    0     279000  0.70   140    1        1   \n",
       "6   54        1  427         0  70    1     151000  9.00   137    0        0   \n",
       "7   70        0   97         0  60    1     220000  0.90   138    1        0   \n",
       "8   63        1  103         1  35    0     179000  0.90   136    1        1   \n",
       "9   60        0   68         0  20    0     119000  2.90   127    1        1   \n",
       "\n",
       "   time  DEATH_EVENT  \n",
       "0     7            1  \n",
       "1   211            0  \n",
       "2    90            1  \n",
       "3    42            1  \n",
       "4    10            1  \n",
       "5   147            0  \n",
       "6   196            1  \n",
       "7   186            0  \n",
       "8   270            0  \n",
       "9    64            1  "
      ]
     },
     "execution_count": 24,
     "metadata": {},
     "output_type": "execute_result"
    }
   ],
   "source": [
    "# separating inference data\n",
    "data_inf = data_clean.sample(10, random_state=32)\n",
    "# reseting index\n",
    "data_inf.reset_index(drop=True, inplace=True)\n",
    "data_inf"
   ]
  },
  {
   "cell_type": "code",
   "execution_count": 25,
   "metadata": {},
   "outputs": [
    {
     "data": {
      "text/html": [
       "<div>\n",
       "<style scoped>\n",
       "    .dataframe tbody tr th:only-of-type {\n",
       "        vertical-align: middle;\n",
       "    }\n",
       "\n",
       "    .dataframe tbody tr th {\n",
       "        vertical-align: top;\n",
       "    }\n",
       "\n",
       "    .dataframe thead th {\n",
       "        text-align: right;\n",
       "    }\n",
       "</style>\n",
       "<table border=\"1\" class=\"dataframe\">\n",
       "  <thead>\n",
       "    <tr style=\"text-align: right;\">\n",
       "      <th></th>\n",
       "      <th>age</th>\n",
       "      <th>anaemia</th>\n",
       "      <th>cpk</th>\n",
       "      <th>diabetes</th>\n",
       "      <th>ef</th>\n",
       "      <th>hbp</th>\n",
       "      <th>platelets</th>\n",
       "      <th>sCre</th>\n",
       "      <th>sSod</th>\n",
       "      <th>sex</th>\n",
       "      <th>smoking</th>\n",
       "      <th>time</th>\n",
       "      <th>DEATH_EVENT</th>\n",
       "    </tr>\n",
       "  </thead>\n",
       "  <tbody>\n",
       "    <tr>\n",
       "      <th>0</th>\n",
       "      <td>60</td>\n",
       "      <td>1</td>\n",
       "      <td>156</td>\n",
       "      <td>1</td>\n",
       "      <td>25</td>\n",
       "      <td>1</td>\n",
       "      <td>318000</td>\n",
       "      <td>1.2</td>\n",
       "      <td>137</td>\n",
       "      <td>0</td>\n",
       "      <td>0</td>\n",
       "      <td>85</td>\n",
       "      <td>0</td>\n",
       "    </tr>\n",
       "    <tr>\n",
       "      <th>1</th>\n",
       "      <td>60</td>\n",
       "      <td>0</td>\n",
       "      <td>1896</td>\n",
       "      <td>1</td>\n",
       "      <td>25</td>\n",
       "      <td>0</td>\n",
       "      <td>365000</td>\n",
       "      <td>2.1</td>\n",
       "      <td>144</td>\n",
       "      <td>0</td>\n",
       "      <td>0</td>\n",
       "      <td>172</td>\n",
       "      <td>1</td>\n",
       "    </tr>\n",
       "    <tr>\n",
       "      <th>2</th>\n",
       "      <td>65</td>\n",
       "      <td>0</td>\n",
       "      <td>56</td>\n",
       "      <td>0</td>\n",
       "      <td>25</td>\n",
       "      <td>0</td>\n",
       "      <td>237000</td>\n",
       "      <td>5.0</td>\n",
       "      <td>130</td>\n",
       "      <td>0</td>\n",
       "      <td>0</td>\n",
       "      <td>207</td>\n",
       "      <td>0</td>\n",
       "    </tr>\n",
       "    <tr>\n",
       "      <th>3</th>\n",
       "      <td>72</td>\n",
       "      <td>0</td>\n",
       "      <td>211</td>\n",
       "      <td>0</td>\n",
       "      <td>25</td>\n",
       "      <td>0</td>\n",
       "      <td>274000</td>\n",
       "      <td>1.2</td>\n",
       "      <td>134</td>\n",
       "      <td>0</td>\n",
       "      <td>0</td>\n",
       "      <td>207</td>\n",
       "      <td>0</td>\n",
       "    </tr>\n",
       "    <tr>\n",
       "      <th>4</th>\n",
       "      <td>49</td>\n",
       "      <td>1</td>\n",
       "      <td>80</td>\n",
       "      <td>0</td>\n",
       "      <td>30</td>\n",
       "      <td>1</td>\n",
       "      <td>427000</td>\n",
       "      <td>1.0</td>\n",
       "      <td>138</td>\n",
       "      <td>0</td>\n",
       "      <td>0</td>\n",
       "      <td>12</td>\n",
       "      <td>0</td>\n",
       "    </tr>\n",
       "    <tr>\n",
       "      <th>...</th>\n",
       "      <td>...</td>\n",
       "      <td>...</td>\n",
       "      <td>...</td>\n",
       "      <td>...</td>\n",
       "      <td>...</td>\n",
       "      <td>...</td>\n",
       "      <td>...</td>\n",
       "      <td>...</td>\n",
       "      <td>...</td>\n",
       "      <td>...</td>\n",
       "      <td>...</td>\n",
       "      <td>...</td>\n",
       "      <td>...</td>\n",
       "    </tr>\n",
       "    <tr>\n",
       "      <th>284</th>\n",
       "      <td>63</td>\n",
       "      <td>1</td>\n",
       "      <td>122</td>\n",
       "      <td>1</td>\n",
       "      <td>60</td>\n",
       "      <td>0</td>\n",
       "      <td>267000</td>\n",
       "      <td>1.2</td>\n",
       "      <td>145</td>\n",
       "      <td>1</td>\n",
       "      <td>0</td>\n",
       "      <td>147</td>\n",
       "      <td>0</td>\n",
       "    </tr>\n",
       "    <tr>\n",
       "      <th>285</th>\n",
       "      <td>45</td>\n",
       "      <td>0</td>\n",
       "      <td>308</td>\n",
       "      <td>1</td>\n",
       "      <td>60</td>\n",
       "      <td>1</td>\n",
       "      <td>377000</td>\n",
       "      <td>1.0</td>\n",
       "      <td>136</td>\n",
       "      <td>1</td>\n",
       "      <td>0</td>\n",
       "      <td>186</td>\n",
       "      <td>0</td>\n",
       "    </tr>\n",
       "    <tr>\n",
       "      <th>286</th>\n",
       "      <td>70</td>\n",
       "      <td>0</td>\n",
       "      <td>97</td>\n",
       "      <td>0</td>\n",
       "      <td>60</td>\n",
       "      <td>1</td>\n",
       "      <td>220000</td>\n",
       "      <td>0.9</td>\n",
       "      <td>138</td>\n",
       "      <td>1</td>\n",
       "      <td>0</td>\n",
       "      <td>186</td>\n",
       "      <td>0</td>\n",
       "    </tr>\n",
       "    <tr>\n",
       "      <th>287</th>\n",
       "      <td>53</td>\n",
       "      <td>1</td>\n",
       "      <td>446</td>\n",
       "      <td>0</td>\n",
       "      <td>60</td>\n",
       "      <td>1</td>\n",
       "      <td>263358</td>\n",
       "      <td>1.0</td>\n",
       "      <td>139</td>\n",
       "      <td>1</td>\n",
       "      <td>0</td>\n",
       "      <td>215</td>\n",
       "      <td>0</td>\n",
       "    </tr>\n",
       "    <tr>\n",
       "      <th>288</th>\n",
       "      <td>50</td>\n",
       "      <td>0</td>\n",
       "      <td>582</td>\n",
       "      <td>0</td>\n",
       "      <td>62</td>\n",
       "      <td>1</td>\n",
       "      <td>147000</td>\n",
       "      <td>0.8</td>\n",
       "      <td>140</td>\n",
       "      <td>1</td>\n",
       "      <td>1</td>\n",
       "      <td>192</td>\n",
       "      <td>0</td>\n",
       "    </tr>\n",
       "  </tbody>\n",
       "</table>\n",
       "<p>289 rows × 13 columns</p>\n",
       "</div>"
      ],
      "text/plain": [
       "     age  anaemia   cpk  diabetes  ef  hbp  platelets  sCre  sSod  sex  \\\n",
       "0     60        1   156         1  25    1     318000   1.2   137    0   \n",
       "1     60        0  1896         1  25    0     365000   2.1   144    0   \n",
       "2     65        0    56         0  25    0     237000   5.0   130    0   \n",
       "3     72        0   211         0  25    0     274000   1.2   134    0   \n",
       "4     49        1    80         0  30    1     427000   1.0   138    0   \n",
       "..   ...      ...   ...       ...  ..  ...        ...   ...   ...  ...   \n",
       "284   63        1   122         1  60    0     267000   1.2   145    1   \n",
       "285   45        0   308         1  60    1     377000   1.0   136    1   \n",
       "286   70        0    97         0  60    1     220000   0.9   138    1   \n",
       "287   53        1   446         0  60    1     263358   1.0   139    1   \n",
       "288   50        0   582         0  62    1     147000   0.8   140    1   \n",
       "\n",
       "     smoking  time  DEATH_EVENT  \n",
       "0          0    85            0  \n",
       "1          0   172            1  \n",
       "2          0   207            0  \n",
       "3          0   207            0  \n",
       "4          0    12            0  \n",
       "..       ...   ...          ...  \n",
       "284        0   147            0  \n",
       "285        0   186            0  \n",
       "286        0   186            0  \n",
       "287        0   215            0  \n",
       "288        1   192            0  \n",
       "\n",
       "[289 rows x 13 columns]"
      ]
     },
     "execution_count": 25,
     "metadata": {},
     "output_type": "execute_result"
    }
   ],
   "source": [
    "# separating inferential data from dataframe\n",
    "data_eda = data_clean.drop(data_inf.index)\n",
    "# reseting index\n",
    "data_eda.reset_index(drop=True, inplace=True)\n",
    "data_eda"
   ]
  },
  {
   "cell_type": "markdown",
   "metadata": {},
   "source": [
    "Menentukan antara fitur dan target. Terlihat dalam hal ini target berada di kolom death_event dan bisa kita atur sebagai variabel y, sedangkan selain kolom death_event kita bisa atur ke variabel x."
   ]
  },
  {
   "cell_type": "code",
   "execution_count": 26,
   "metadata": {},
   "outputs": [],
   "source": [
    "# Splitting features and target\n",
    "\n",
    "X = data_eda.drop('DEATH_EVENT', axis=1) \n",
    "y = data_eda['DEATH_EVENT']\n",
    "\n",
    "X_train, X_test, y_train, y_test = train_test_split(X, y, test_size=0.3, stratify=y, random_state=0)"
   ]
  },
  {
   "cell_type": "code",
   "execution_count": 27,
   "metadata": {},
   "outputs": [
    {
     "name": "stdout",
     "output_type": "stream",
     "text": [
      "(202, 12)\n",
      "(87, 12)\n",
      "(202,)\n",
      "(87,)\n"
     ]
    }
   ],
   "source": [
    "for i in [X_train, X_test, y_train, y_test]:\n",
    "    print(i.shape)"
   ]
  },
  {
   "cell_type": "markdown",
   "metadata": {},
   "source": [
    "Dapat kita lihat bentuk antara X dan Y dari setiap data train dan test. Artinya distribusi datanya adalah 70% untuk data train dan 30% untuk data test dari data (`data_eda`) sehingga data train memiliki bentuk 202 baris dan data test memiliki 87 baris."
   ]
  },
  {
   "cell_type": "code",
   "execution_count": 28,
   "metadata": {},
   "outputs": [
    {
     "data": {
      "text/plain": [
       "(202, 13)"
      ]
     },
     "execution_count": 28,
     "metadata": {},
     "output_type": "execute_result"
    }
   ],
   "source": [
    "# for EDA model creation, use dataframe stored in data_eda\n",
    "data_eda = pd.concat([X_train, y_train], axis=1)\n",
    "\n",
    "data_eda.shape"
   ]
  },
  {
   "cell_type": "markdown",
   "metadata": {},
   "source": [
    "Menggabungkan kembali dari X dan Y yang telah kita pisahkan, tetapi yang digabungkan hanya untuk data train saja. Data untuk pengujian berbeda ketika data prapemrosesan berasal dari data train"
   ]
  },
  {
   "cell_type": "markdown",
   "metadata": {},
   "source": [
    "## VII. EDA FOR MODELING"
   ]
  },
  {
   "cell_type": "code",
   "execution_count": 29,
   "metadata": {},
   "outputs": [
    {
     "name": "stdout",
     "output_type": "stream",
     "text": [
      "<class 'pandas.core.frame.DataFrame'>\n",
      "Int64Index: 202 entries, 59 to 112\n",
      "Data columns (total 13 columns):\n",
      " #   Column       Non-Null Count  Dtype  \n",
      "---  ------       --------------  -----  \n",
      " 0   age          202 non-null    int64  \n",
      " 1   anaemia      202 non-null    int64  \n",
      " 2   cpk          202 non-null    int64  \n",
      " 3   diabetes     202 non-null    int64  \n",
      " 4   ef           202 non-null    int64  \n",
      " 5   hbp          202 non-null    int64  \n",
      " 6   platelets    202 non-null    int64  \n",
      " 7   sCre         202 non-null    float64\n",
      " 8   sSod         202 non-null    int64  \n",
      " 9   sex          202 non-null    int64  \n",
      " 10  smoking      202 non-null    int64  \n",
      " 11  time         202 non-null    int64  \n",
      " 12  DEATH_EVENT  202 non-null    int64  \n",
      "dtypes: float64(1), int64(12)\n",
      "memory usage: 22.1 KB\n"
     ]
    }
   ],
   "source": [
    "data_eda.info()"
   ]
  },
  {
   "cell_type": "code",
   "execution_count": 30,
   "metadata": {},
   "outputs": [
    {
     "name": "stdout",
     "output_type": "stream",
     "text": [
      "num of unique label in age:  44\n",
      "num of unique label in anaemia:  2\n",
      "num of unique label in cpk:  142\n",
      "num of unique label in diabetes:  2\n",
      "num of unique label in ef:  15\n",
      "num of unique label in hbp:  2\n",
      "num of unique label in platelets:  137\n",
      "num of unique label in sCre:  31\n",
      "num of unique label in sSod:  19\n",
      "num of unique label in sex:  2\n",
      "num of unique label in smoking:  2\n",
      "num of unique label in time:  116\n",
      "num of unique label in DEATH_EVENT:  2\n"
     ]
    }
   ],
   "source": [
    "for i in data_eda.columns.tolist():\n",
    "    print(f'num of unique label in {i}: ', len(data_eda[i].unique()))"
   ]
  },
  {
   "cell_type": "markdown",
   "metadata": {},
   "source": [
    "Berdasarkan informasi di atas yg menjelaskan tentang banyaknya jumlah unique value dalam setiap feature, maka dapat kita golongkan feature-feature tersebut menjadi 2 golongan yang mana untuk golongan categorical feature untuk unique yg berjumlah 2 dan selebihnya masuk ke dalam numerik feature"
   ]
  },
  {
   "cell_type": "code",
   "execution_count": 31,
   "metadata": {},
   "outputs": [
    {
     "name": "stdout",
     "output_type": "stream",
     "text": [
      "Numerical Columns   :  ['age', 'cpk', 'ef', 'platelets', 'sCre', 'sSod', 'time']\n",
      "--------------------------------------------------\n",
      "Categorical Columns :  ['anaemia', 'diabetes', 'hbp', 'sex', 'smoking', 'DEATH_EVENT']\n"
     ]
    }
   ],
   "source": [
    "# get name columns for data type numeric and categoric\n",
    "num_col = ['age', 'cpk', 'ef', 'platelets', 'sCre', 'sSod', 'time']\n",
    "cat_col = ['anaemia', 'diabetes', 'hbp', 'sex', 'smoking', 'DEATH_EVENT']\n",
    "\n",
    "print('Numerical Columns   : ', data_eda[num_col].columns.tolist())\n",
    "print('-'*50)\n",
    "print('Categorical Columns : ', data_eda[cat_col].columns.tolist())"
   ]
  },
  {
   "cell_type": "code",
   "execution_count": 32,
   "metadata": {},
   "outputs": [
    {
     "data": {
      "text/plain": [
       "(202, 7)"
      ]
     },
     "execution_count": 32,
     "metadata": {},
     "output_type": "execute_result"
    }
   ],
   "source": [
    "data_eda[num_col].shape"
   ]
  },
  {
   "cell_type": "code",
   "execution_count": 33,
   "metadata": {},
   "outputs": [
    {
     "data": {
      "text/plain": [
       "(202, 6)"
      ]
     },
     "execution_count": 33,
     "metadata": {},
     "output_type": "execute_result"
    }
   ],
   "source": [
    "data_eda[cat_col].shape"
   ]
  },
  {
   "cell_type": "markdown",
   "metadata": {},
   "source": [
    "Kita pisahkan terlebih dahulu untuk data numerik dengan data kategorik, untuk data numerik terdapat 7 kolom dan untuk data kategoris terdapat 6 kolom"
   ]
  },
  {
   "cell_type": "markdown",
   "metadata": {},
   "source": [
    "### **categorical features**"
   ]
  },
  {
   "cell_type": "markdown",
   "metadata": {},
   "source": [
    "Karena dataset ini telah diencoding, maka kami tidak perlu dilakukan encoding untuk data kategorikal"
   ]
  },
  {
   "cell_type": "code",
   "execution_count": 34,
   "metadata": {},
   "outputs": [
    {
     "data": {
      "text/html": [
       "<div>\n",
       "<style scoped>\n",
       "    .dataframe tbody tr th:only-of-type {\n",
       "        vertical-align: middle;\n",
       "    }\n",
       "\n",
       "    .dataframe tbody tr th {\n",
       "        vertical-align: top;\n",
       "    }\n",
       "\n",
       "    .dataframe thead th {\n",
       "        text-align: right;\n",
       "    }\n",
       "</style>\n",
       "<table border=\"1\" class=\"dataframe\">\n",
       "  <thead>\n",
       "    <tr style=\"text-align: right;\">\n",
       "      <th></th>\n",
       "      <th>anaemia</th>\n",
       "      <th>diabetes</th>\n",
       "      <th>hbp</th>\n",
       "      <th>sex</th>\n",
       "      <th>smoking</th>\n",
       "      <th>DEATH_EVENT</th>\n",
       "    </tr>\n",
       "  </thead>\n",
       "  <tbody>\n",
       "    <tr>\n",
       "      <th>59</th>\n",
       "      <td>1</td>\n",
       "      <td>0</td>\n",
       "      <td>1</td>\n",
       "      <td>0</td>\n",
       "      <td>0</td>\n",
       "      <td>0</td>\n",
       "    </tr>\n",
       "    <tr>\n",
       "      <th>192</th>\n",
       "      <td>0</td>\n",
       "      <td>0</td>\n",
       "      <td>0</td>\n",
       "      <td>1</td>\n",
       "      <td>0</td>\n",
       "      <td>0</td>\n",
       "    </tr>\n",
       "    <tr>\n",
       "      <th>173</th>\n",
       "      <td>0</td>\n",
       "      <td>0</td>\n",
       "      <td>0</td>\n",
       "      <td>1</td>\n",
       "      <td>1</td>\n",
       "      <td>0</td>\n",
       "    </tr>\n",
       "    <tr>\n",
       "      <th>108</th>\n",
       "      <td>0</td>\n",
       "      <td>1</td>\n",
       "      <td>0</td>\n",
       "      <td>1</td>\n",
       "      <td>0</td>\n",
       "      <td>1</td>\n",
       "    </tr>\n",
       "    <tr>\n",
       "      <th>24</th>\n",
       "      <td>0</td>\n",
       "      <td>0</td>\n",
       "      <td>1</td>\n",
       "      <td>0</td>\n",
       "      <td>0</td>\n",
       "      <td>0</td>\n",
       "    </tr>\n",
       "  </tbody>\n",
       "</table>\n",
       "</div>"
      ],
      "text/plain": [
       "     anaemia  diabetes  hbp  sex  smoking  DEATH_EVENT\n",
       "59         1         0    1    0        0            0\n",
       "192        0         0    0    1        0            0\n",
       "173        0         0    0    1        1            0\n",
       "108        0         1    0    1        0            1\n",
       "24         0         0    1    0        0            0"
      ]
     },
     "execution_count": 34,
     "metadata": {},
     "output_type": "execute_result"
    }
   ],
   "source": [
    "data_cat = data_eda[cat_col]\n",
    "data_cat.head()"
   ]
  },
  {
   "cell_type": "code",
   "execution_count": 35,
   "metadata": {},
   "outputs": [
    {
     "name": "stdout",
     "output_type": "stream",
     "text": [
      "anaemia \n",
      "\n",
      "0    116\n",
      "1     86\n",
      "Name: anaemia, dtype: int64\n",
      "------------------------------\n",
      "diabetes \n",
      "\n",
      "0    117\n",
      "1     85\n",
      "Name: diabetes, dtype: int64\n",
      "------------------------------\n",
      "hbp \n",
      "\n",
      "0    132\n",
      "1     70\n",
      "Name: hbp, dtype: int64\n",
      "------------------------------\n",
      "sex \n",
      "\n",
      "1    135\n",
      "0     67\n",
      "Name: sex, dtype: int64\n",
      "------------------------------\n",
      "smoking \n",
      "\n",
      "0    134\n",
      "1     68\n",
      "Name: smoking, dtype: int64\n",
      "------------------------------\n",
      "DEATH_EVENT \n",
      "\n",
      "0    140\n",
      "1     62\n",
      "Name: DEATH_EVENT, dtype: int64\n",
      "------------------------------\n"
     ]
    }
   ],
   "source": [
    "for i in data_cat.columns.tolist():\n",
    "    print(i, '\\n')\n",
    "    print(data_cat[i].value_counts().head())\n",
    "    print('-'*30)"
   ]
  },
  {
   "cell_type": "code",
   "execution_count": 36,
   "metadata": {},
   "outputs": [
    {
     "data": {
      "image/png": "[encoded data removed]",
      "text/plain": [
       "<Figure size 1800x1080 with 2 Axes>"
      ]
     },
     "metadata": {
      "needs_background": "light"
     },
     "output_type": "display_data"
    }
   ],
   "source": [
    "fig,ax = plt.subplots(figsize=[25,15])\n",
    "\n",
    "corr = data_cat.corr()\n",
    "\n",
    "ax = sns.heatmap(corr,annot=True, vmin=0, vmax=1)\n",
    "plt.show()"
   ]
  },
  {
   "cell_type": "markdown",
   "metadata": {},
   "source": [
    "Berdasarkan heatmap korelasi di atas, dapat kita lihat dari kelima feature tersebut, yang memiliki koefisien korelasi tertinggi terdapat pada feature tekanan darah tinggi (hbp) saja terhadap target (DEATH_EVENT) dibandingkan dengan feature lainnya sehingga kami hanya akan menggunakan feature tersebut dari feature kategorikal."
   ]
  },
  {
   "cell_type": "code",
   "execution_count": 37,
   "metadata": {},
   "outputs": [
    {
     "data": {
      "text/html": [
       "<div>\n",
       "<style scoped>\n",
       "    .dataframe tbody tr th:only-of-type {\n",
       "        vertical-align: middle;\n",
       "    }\n",
       "\n",
       "    .dataframe tbody tr th {\n",
       "        vertical-align: top;\n",
       "    }\n",
       "\n",
       "    .dataframe thead th {\n",
       "        text-align: right;\n",
       "    }\n",
       "</style>\n",
       "<table border=\"1\" class=\"dataframe\">\n",
       "  <thead>\n",
       "    <tr style=\"text-align: right;\">\n",
       "      <th></th>\n",
       "      <th>hbp</th>\n",
       "      <th>DEATH_EVENT</th>\n",
       "    </tr>\n",
       "  </thead>\n",
       "  <tbody>\n",
       "    <tr>\n",
       "      <th>59</th>\n",
       "      <td>1</td>\n",
       "      <td>0</td>\n",
       "    </tr>\n",
       "    <tr>\n",
       "      <th>192</th>\n",
       "      <td>0</td>\n",
       "      <td>0</td>\n",
       "    </tr>\n",
       "    <tr>\n",
       "      <th>173</th>\n",
       "      <td>0</td>\n",
       "      <td>0</td>\n",
       "    </tr>\n",
       "    <tr>\n",
       "      <th>108</th>\n",
       "      <td>0</td>\n",
       "      <td>1</td>\n",
       "    </tr>\n",
       "    <tr>\n",
       "      <th>24</th>\n",
       "      <td>1</td>\n",
       "      <td>0</td>\n",
       "    </tr>\n",
       "  </tbody>\n",
       "</table>\n",
       "</div>"
      ],
      "text/plain": [
       "     hbp  DEATH_EVENT\n",
       "59     1            0\n",
       "192    0            0\n",
       "173    0            0\n",
       "108    0            1\n",
       "24     1            0"
      ]
     },
     "execution_count": 37,
     "metadata": {},
     "output_type": "execute_result"
    }
   ],
   "source": [
    "cat_selection = ['hbp', 'DEATH_EVENT']\n",
    "data_eda[cat_selection].head()"
   ]
  },
  {
   "cell_type": "markdown",
   "metadata": {},
   "source": [
    "### **numerical feature**"
   ]
  },
  {
   "cell_type": "markdown",
   "metadata": {},
   "source": [
    "Setelah kami melakukan seleksi feature untuk data kategorikal, maka kami akan fokus pada preprocessing data numerik"
   ]
  },
  {
   "cell_type": "code",
   "execution_count": 38,
   "metadata": {},
   "outputs": [
    {
     "data": {
      "text/html": [
       "<div>\n",
       "<style scoped>\n",
       "    .dataframe tbody tr th:only-of-type {\n",
       "        vertical-align: middle;\n",
       "    }\n",
       "\n",
       "    .dataframe tbody tr th {\n",
       "        vertical-align: top;\n",
       "    }\n",
       "\n",
       "    .dataframe thead th {\n",
       "        text-align: right;\n",
       "    }\n",
       "</style>\n",
       "<table border=\"1\" class=\"dataframe\">\n",
       "  <thead>\n",
       "    <tr style=\"text-align: right;\">\n",
       "      <th></th>\n",
       "      <th>age</th>\n",
       "      <th>cpk</th>\n",
       "      <th>ef</th>\n",
       "      <th>platelets</th>\n",
       "      <th>sCre</th>\n",
       "      <th>sSod</th>\n",
       "      <th>time</th>\n",
       "    </tr>\n",
       "  </thead>\n",
       "  <tbody>\n",
       "    <tr>\n",
       "      <th>59</th>\n",
       "      <td>73</td>\n",
       "      <td>1185</td>\n",
       "      <td>40</td>\n",
       "      <td>220000</td>\n",
       "      <td>0.90</td>\n",
       "      <td>141</td>\n",
       "      <td>213</td>\n",
       "    </tr>\n",
       "    <tr>\n",
       "      <th>192</th>\n",
       "      <td>60</td>\n",
       "      <td>253</td>\n",
       "      <td>35</td>\n",
       "      <td>279000</td>\n",
       "      <td>1.70</td>\n",
       "      <td>140</td>\n",
       "      <td>250</td>\n",
       "    </tr>\n",
       "    <tr>\n",
       "      <th>173</th>\n",
       "      <td>81</td>\n",
       "      <td>4540</td>\n",
       "      <td>35</td>\n",
       "      <td>231000</td>\n",
       "      <td>1.18</td>\n",
       "      <td>137</td>\n",
       "      <td>107</td>\n",
       "    </tr>\n",
       "    <tr>\n",
       "      <th>108</th>\n",
       "      <td>59</td>\n",
       "      <td>66</td>\n",
       "      <td>20</td>\n",
       "      <td>70000</td>\n",
       "      <td>2.40</td>\n",
       "      <td>134</td>\n",
       "      <td>135</td>\n",
       "    </tr>\n",
       "    <tr>\n",
       "      <th>24</th>\n",
       "      <td>70</td>\n",
       "      <td>835</td>\n",
       "      <td>35</td>\n",
       "      <td>305000</td>\n",
       "      <td>0.80</td>\n",
       "      <td>133</td>\n",
       "      <td>145</td>\n",
       "    </tr>\n",
       "  </tbody>\n",
       "</table>\n",
       "</div>"
      ],
      "text/plain": [
       "     age   cpk  ef  platelets  sCre  sSod  time\n",
       "59    73  1185  40     220000  0.90   141   213\n",
       "192   60   253  35     279000  1.70   140   250\n",
       "173   81  4540  35     231000  1.18   137   107\n",
       "108   59    66  20      70000  2.40   134   135\n",
       "24    70   835  35     305000  0.80   133   145"
      ]
     },
     "execution_count": 38,
     "metadata": {},
     "output_type": "execute_result"
    }
   ],
   "source": [
    "data_eda[num_col].head()"
   ]
  },
  {
   "cell_type": "code",
   "execution_count": 39,
   "metadata": {},
   "outputs": [
    {
     "data": {
      "image/png": "[encoded data removed]",
      "text/plain": [
       "<Figure size 1800x720 with 8 Axes>"
      ]
     },
     "metadata": {
      "needs_background": "light"
     },
     "output_type": "display_data"
    }
   ],
   "source": [
    "fig, ax = plt.subplots(ncols=4,nrows=2, figsize=[25,10])\n",
    "ax = ax.flatten()\n",
    "\n",
    "for idx, col in enumerate(data_eda[num_col]):\n",
    "    sns.histplot(data_eda[num_col][col], ax=ax[idx])\n",
    "    ax[idx].set_title(f'{[idx]} skew: {data_eda[num_col][col].skew()}')"
   ]
  },
  {
   "cell_type": "code",
   "execution_count": 40,
   "metadata": {},
   "outputs": [
    {
     "name": "stdout",
     "output_type": "stream",
     "text": [
      "percentage outlier from age : 0.0 %\n",
      "percentage outlier from cpk : 2.4752475247524752 %\n",
      "percentage outlier from ef : 0.49504950495049505 %\n",
      "percentage outlier from platelets : 0.9900990099009901 %\n",
      "percentage outlier from sCre : 0.9900990099009901 %\n",
      "percentage outlier from sSod : 0.0 %\n",
      "percentage outlier from time : 0.0 %\n"
     ]
    }
   ],
   "source": [
    "def outlier_analysis(data_eda,col):\n",
    "  skewness = data_eda[num_col][col].skew()\n",
    "  if skewness>=-0.5 or skewness<=0.5:\n",
    "    upper = data_eda[num_col][col].mean() + 3*data_eda[num_col][col].std()\n",
    "    lower = data_eda[num_col][col].mean() - 3*data_eda[num_col][col].std()\n",
    "  else:\n",
    "    Q1 = data_eda[num_col][col].quantile(0.25)\n",
    "    Q3 = data_eda[num_col][col].quantile(0.75)\n",
    "    IQR = Q3 - Q1\n",
    "    upper = Q1 + (1.5*IQR)\n",
    "    lower = Q3 - (1.5*IQR)\n",
    "  \n",
    "  no_outliers = data_eda[num_col][(data_eda[num_col][col]>=lower) & (data_eda[num_col][col]<=upper)]\n",
    "  outliers = data_eda[num_col][(data_eda[num_col][col]<lower) | (data_eda[num_col][col]>upper)]\n",
    "  print('percentage outlier from',i,':',outliers.shape[0]/data_eda.shape[0] * 100, '%')\n",
    "  return outliers,no_outliers, upper, lower\n",
    "\n",
    "for i in list(data_eda[num_col].columns):\n",
    "  outlier_analysis(data_eda[num_col],i)"
   ]
  },
  {
   "cell_type": "markdown",
   "metadata": {},
   "source": [
    "Pada case ini tidak dilakukan handling outlier dikarenakan persentase dalam outlier masih di anggap kecil sehingga tidak perlu dilakukan handling outlier"
   ]
  },
  {
   "cell_type": "code",
   "execution_count": 41,
   "metadata": {},
   "outputs": [
    {
     "data": {
      "image/png": "[encoded data removed]",
      "text/plain": [
       "<Figure size 1800x1080 with 2 Axes>"
      ]
     },
     "metadata": {
      "needs_background": "light"
     },
     "output_type": "display_data"
    }
   ],
   "source": [
    "fig,ax = plt.subplots(figsize=[25,15])\n",
    "\n",
    "corr = data_eda[num_col + ['DEATH_EVENT']].corr()\n",
    "\n",
    "ax = sns.heatmap(corr,annot=True, vmin=0, vmax=1)\n",
    "plt.show()"
   ]
  },
  {
   "cell_type": "markdown",
   "metadata": {},
   "source": [
    "Berdasarkan heatmap korelasi di atas, pada feature numerik memiliki perbedaan dengan feature kategorikal. Berdasarkan analysis di atas bahwa semua feature numerik memiliki koefisien korelasi yang tinggi terhadap target (DEATH_EVENT) kecuali satu feature yaitu platelets. Sehingga kami akan menggunakan keenam feature di atas dalam pembuatan model machine learning nantinya."
   ]
  },
  {
   "cell_type": "code",
   "execution_count": 42,
   "metadata": {},
   "outputs": [
    {
     "data": {
      "text/html": [
       "<div>\n",
       "<style scoped>\n",
       "    .dataframe tbody tr th:only-of-type {\n",
       "        vertical-align: middle;\n",
       "    }\n",
       "\n",
       "    .dataframe tbody tr th {\n",
       "        vertical-align: top;\n",
       "    }\n",
       "\n",
       "    .dataframe thead th {\n",
       "        text-align: right;\n",
       "    }\n",
       "</style>\n",
       "<table border=\"1\" class=\"dataframe\">\n",
       "  <thead>\n",
       "    <tr style=\"text-align: right;\">\n",
       "      <th></th>\n",
       "      <th>age</th>\n",
       "      <th>sCre</th>\n",
       "      <th>cpk</th>\n",
       "      <th>ef</th>\n",
       "      <th>sSod</th>\n",
       "      <th>time</th>\n",
       "    </tr>\n",
       "  </thead>\n",
       "  <tbody>\n",
       "    <tr>\n",
       "      <th>59</th>\n",
       "      <td>73</td>\n",
       "      <td>0.90</td>\n",
       "      <td>1185</td>\n",
       "      <td>40</td>\n",
       "      <td>141</td>\n",
       "      <td>213</td>\n",
       "    </tr>\n",
       "    <tr>\n",
       "      <th>192</th>\n",
       "      <td>60</td>\n",
       "      <td>1.70</td>\n",
       "      <td>253</td>\n",
       "      <td>35</td>\n",
       "      <td>140</td>\n",
       "      <td>250</td>\n",
       "    </tr>\n",
       "    <tr>\n",
       "      <th>173</th>\n",
       "      <td>81</td>\n",
       "      <td>1.18</td>\n",
       "      <td>4540</td>\n",
       "      <td>35</td>\n",
       "      <td>137</td>\n",
       "      <td>107</td>\n",
       "    </tr>\n",
       "    <tr>\n",
       "      <th>108</th>\n",
       "      <td>59</td>\n",
       "      <td>2.40</td>\n",
       "      <td>66</td>\n",
       "      <td>20</td>\n",
       "      <td>134</td>\n",
       "      <td>135</td>\n",
       "    </tr>\n",
       "    <tr>\n",
       "      <th>24</th>\n",
       "      <td>70</td>\n",
       "      <td>0.80</td>\n",
       "      <td>835</td>\n",
       "      <td>35</td>\n",
       "      <td>133</td>\n",
       "      <td>145</td>\n",
       "    </tr>\n",
       "  </tbody>\n",
       "</table>\n",
       "</div>"
      ],
      "text/plain": [
       "     age  sCre   cpk  ef  sSod  time\n",
       "59    73  0.90  1185  40   141   213\n",
       "192   60  1.70   253  35   140   250\n",
       "173   81  1.18  4540  35   137   107\n",
       "108   59  2.40    66  20   134   135\n",
       "24    70  0.80   835  35   133   145"
      ]
     },
     "execution_count": 42,
     "metadata": {},
     "output_type": "execute_result"
    }
   ],
   "source": [
    "num_selection = ['age', 'sCre', 'cpk', 'ef', 'sSod', 'time']\n",
    "data_eda[num_selection].head()"
   ]
  },
  {
   "cell_type": "markdown",
   "metadata": {},
   "source": [
    "**combine Numerical and Categorical data after processed**"
   ]
  },
  {
   "cell_type": "code",
   "execution_count": 43,
   "metadata": {},
   "outputs": [
    {
     "data": {
      "text/html": [
       "<div>\n",
       "<style scoped>\n",
       "    .dataframe tbody tr th:only-of-type {\n",
       "        vertical-align: middle;\n",
       "    }\n",
       "\n",
       "    .dataframe tbody tr th {\n",
       "        vertical-align: top;\n",
       "    }\n",
       "\n",
       "    .dataframe thead th {\n",
       "        text-align: right;\n",
       "    }\n",
       "</style>\n",
       "<table border=\"1\" class=\"dataframe\">\n",
       "  <thead>\n",
       "    <tr style=\"text-align: right;\">\n",
       "      <th></th>\n",
       "      <th>age</th>\n",
       "      <th>sCre</th>\n",
       "      <th>cpk</th>\n",
       "      <th>ef</th>\n",
       "      <th>sSod</th>\n",
       "      <th>time</th>\n",
       "      <th>hbp</th>\n",
       "      <th>DEATH_EVENT</th>\n",
       "    </tr>\n",
       "  </thead>\n",
       "  <tbody>\n",
       "    <tr>\n",
       "      <th>0</th>\n",
       "      <td>73</td>\n",
       "      <td>0.90</td>\n",
       "      <td>1185</td>\n",
       "      <td>40</td>\n",
       "      <td>141</td>\n",
       "      <td>213</td>\n",
       "      <td>1</td>\n",
       "      <td>0</td>\n",
       "    </tr>\n",
       "    <tr>\n",
       "      <th>1</th>\n",
       "      <td>60</td>\n",
       "      <td>1.70</td>\n",
       "      <td>253</td>\n",
       "      <td>35</td>\n",
       "      <td>140</td>\n",
       "      <td>250</td>\n",
       "      <td>0</td>\n",
       "      <td>0</td>\n",
       "    </tr>\n",
       "    <tr>\n",
       "      <th>2</th>\n",
       "      <td>81</td>\n",
       "      <td>1.18</td>\n",
       "      <td>4540</td>\n",
       "      <td>35</td>\n",
       "      <td>137</td>\n",
       "      <td>107</td>\n",
       "      <td>0</td>\n",
       "      <td>0</td>\n",
       "    </tr>\n",
       "    <tr>\n",
       "      <th>3</th>\n",
       "      <td>59</td>\n",
       "      <td>2.40</td>\n",
       "      <td>66</td>\n",
       "      <td>20</td>\n",
       "      <td>134</td>\n",
       "      <td>135</td>\n",
       "      <td>0</td>\n",
       "      <td>1</td>\n",
       "    </tr>\n",
       "    <tr>\n",
       "      <th>4</th>\n",
       "      <td>70</td>\n",
       "      <td>0.80</td>\n",
       "      <td>835</td>\n",
       "      <td>35</td>\n",
       "      <td>133</td>\n",
       "      <td>145</td>\n",
       "      <td>1</td>\n",
       "      <td>0</td>\n",
       "    </tr>\n",
       "  </tbody>\n",
       "</table>\n",
       "</div>"
      ],
      "text/plain": [
       "   age  sCre   cpk  ef  sSod  time  hbp  DEATH_EVENT\n",
       "0   73  0.90  1185  40   141   213    1            0\n",
       "1   60  1.70   253  35   140   250    0            0\n",
       "2   81  1.18  4540  35   137   107    0            0\n",
       "3   59  2.40    66  20   134   135    0            1\n",
       "4   70  0.80   835  35   133   145    1            0"
      ]
     },
     "execution_count": 43,
     "metadata": {},
     "output_type": "execute_result"
    }
   ],
   "source": [
    "data_eda = pd.concat([data_eda[num_selection].reset_index(drop=True), data_eda[cat_selection].reset_index(drop=True)], axis=1)\n",
    "data_eda.head()"
   ]
  },
  {
   "cell_type": "code",
   "execution_count": 44,
   "metadata": {},
   "outputs": [
    {
     "data": {
      "text/html": [
       "<style>#sk-container-id-1 {color: black;background-color: white;}#sk-container-id-1 pre{padding: 0;}#sk-container-id-1 div.sk-toggleable {background-color: white;}#sk-container-id-1 label.sk-toggleable__label {cursor: pointer;display: block;width: 100%;margin-bottom: 0;padding: 0.3em;box-sizing: border-box;text-align: center;}#sk-container-id-1 label.sk-toggleable__label-arrow:before {content: \"▸\";float: left;margin-right: 0.25em;color: #696969;}#sk-container-id-1 label.sk-toggleable__label-arrow:hover:before {color: black;}#sk-container-id-1 div.sk-estimator:hover label.sk-toggleable__label-arrow:before {color: black;}#sk-container-id-1 div.sk-toggleable__content {max-height: 0;max-width: 0;overflow: hidden;text-align: left;background-color: #f0f8ff;}#sk-container-id-1 div.sk-toggleable__content pre {margin: 0.2em;color: black;border-radius: 0.25em;background-color: #f0f8ff;}#sk-container-id-1 input.sk-toggleable__control:checked~div.sk-toggleable__content {max-height: 200px;max-width: 100%;overflow: auto;}#sk-container-id-1 input.sk-toggleable__control:checked~label.sk-toggleable__label-arrow:before {content: \"▾\";}#sk-container-id-1 div.sk-estimator input.sk-toggleable__control:checked~label.sk-toggleable__label {background-color: #d4ebff;}#sk-container-id-1 div.sk-label input.sk-toggleable__control:checked~label.sk-toggleable__label {background-color: #d4ebff;}#sk-container-id-1 input.sk-hidden--visually {border: 0;clip: rect(1px 1px 1px 1px);clip: rect(1px, 1px, 1px, 1px);height: 1px;margin: -1px;overflow: hidden;padding: 0;position: absolute;width: 1px;}#sk-container-id-1 div.sk-estimator {font-family: monospace;background-color: #f0f8ff;border: 1px dotted black;border-radius: 0.25em;box-sizing: border-box;margin-bottom: 0.5em;}#sk-container-id-1 div.sk-estimator:hover {background-color: #d4ebff;}#sk-container-id-1 div.sk-parallel-item::after {content: \"\";width: 100%;border-bottom: 1px solid gray;flex-grow: 1;}#sk-container-id-1 div.sk-label:hover label.sk-toggleable__label {background-color: #d4ebff;}#sk-container-id-1 div.sk-serial::before {content: \"\";position: absolute;border-left: 1px solid gray;box-sizing: border-box;top: 0;bottom: 0;left: 50%;z-index: 0;}#sk-container-id-1 div.sk-serial {display: flex;flex-direction: column;align-items: center;background-color: white;padding-right: 0.2em;padding-left: 0.2em;position: relative;}#sk-container-id-1 div.sk-item {position: relative;z-index: 1;}#sk-container-id-1 div.sk-parallel {display: flex;align-items: stretch;justify-content: center;background-color: white;position: relative;}#sk-container-id-1 div.sk-item::before, #sk-container-id-1 div.sk-parallel-item::before {content: \"\";position: absolute;border-left: 1px solid gray;box-sizing: border-box;top: 0;bottom: 0;left: 50%;z-index: -1;}#sk-container-id-1 div.sk-parallel-item {display: flex;flex-direction: column;z-index: 1;position: relative;background-color: white;}#sk-container-id-1 div.sk-parallel-item:first-child::after {align-self: flex-end;width: 50%;}#sk-container-id-1 div.sk-parallel-item:last-child::after {align-self: flex-start;width: 50%;}#sk-container-id-1 div.sk-parallel-item:only-child::after {width: 0;}#sk-container-id-1 div.sk-dashed-wrapped {border: 1px dashed gray;margin: 0 0.4em 0.5em 0.4em;box-sizing: border-box;padding-bottom: 0.4em;background-color: white;}#sk-container-id-1 div.sk-label label {font-family: monospace;font-weight: bold;display: inline-block;line-height: 1.2em;}#sk-container-id-1 div.sk-label-container {text-align: center;}#sk-container-id-1 div.sk-container {/* jupyter's `normalize.less` sets `[hidden] { display: none; }` but bootstrap.min.css set `[hidden] { display: none !important; }` so we also need the `!important` here to be able to override the default hidden behavior on the sphinx rendered scikit-learn.org. See: https://github.com/scikit-learn/scikit-learn/issues/21755 */display: inline-block !important;position: relative;}#sk-container-id-1 div.sk-text-repr-fallback {display: none;}</style><div id=\"sk-container-id-1\" class=\"sk-top-container\"><div class=\"sk-text-repr-fallback\"><pre>MinMaxScaler()</pre><b>In a Jupyter environment, please rerun this cell to show the HTML representation or trust the notebook. <br />On GitHub, the HTML representation is unable to render, please try loading this page with nbviewer.org.</b></div><div class=\"sk-container\" hidden><div class=\"sk-item\"><div class=\"sk-estimator sk-toggleable\"><input class=\"sk-toggleable__control sk-hidden--visually\" id=\"sk-estimator-id-1\" type=\"checkbox\" checked><label for=\"sk-estimator-id-1\" class=\"sk-toggleable__label sk-toggleable__label-arrow\">MinMaxScaler</label><div class=\"sk-toggleable__content\"><pre>MinMaxScaler()</pre></div></div></div></div></div>"
      ],
      "text/plain": [
       "MinMaxScaler()"
      ]
     },
     "execution_count": 44,
     "metadata": {},
     "output_type": "execute_result"
    }
   ],
   "source": [
    "norm = 0\n",
    "nonorm = 0\n",
    "for col in data_eda[['age', 'sCre', 'cpk', 'ef', 'sSod', 'time']]:\n",
    "  if data_eda[col].skew() >=-0.5 and data_eda[col].skew() <0.5:\n",
    "    norm += 1\n",
    "  else:\n",
    "    nonorm +=1\n",
    "\n",
    "if norm > nonorm:\n",
    "  scaler = StandardScaler()\n",
    "else:\n",
    "  scaler = MinMaxScaler()\n",
    "scaler"
   ]
  },
  {
   "cell_type": "code",
   "execution_count": 45,
   "metadata": {},
   "outputs": [
    {
     "data": {
      "text/html": [
       "<div>\n",
       "<style scoped>\n",
       "    .dataframe tbody tr th:only-of-type {\n",
       "        vertical-align: middle;\n",
       "    }\n",
       "\n",
       "    .dataframe tbody tr th {\n",
       "        vertical-align: top;\n",
       "    }\n",
       "\n",
       "    .dataframe thead th {\n",
       "        text-align: right;\n",
       "    }\n",
       "</style>\n",
       "<table border=\"1\" class=\"dataframe\">\n",
       "  <thead>\n",
       "    <tr style=\"text-align: right;\">\n",
       "      <th></th>\n",
       "      <th>age</th>\n",
       "      <th>sCre</th>\n",
       "      <th>cpk</th>\n",
       "      <th>ef</th>\n",
       "      <th>sSod</th>\n",
       "      <th>time</th>\n",
       "      <th>hbp</th>\n",
       "      <th>DEATH_EVENT</th>\n",
       "    </tr>\n",
       "  </thead>\n",
       "  <tbody>\n",
       "    <tr>\n",
       "      <th>0</th>\n",
       "      <td>0.600000</td>\n",
       "      <td>0.047059</td>\n",
       "      <td>0.145636</td>\n",
       "      <td>0.393939</td>\n",
       "      <td>0.666667</td>\n",
       "      <td>0.784091</td>\n",
       "      <td>1</td>\n",
       "      <td>0</td>\n",
       "    </tr>\n",
       "    <tr>\n",
       "      <th>1</th>\n",
       "      <td>0.363636</td>\n",
       "      <td>0.141176</td>\n",
       "      <td>0.026363</td>\n",
       "      <td>0.318182</td>\n",
       "      <td>0.619048</td>\n",
       "      <td>0.924242</td>\n",
       "      <td>0</td>\n",
       "      <td>0</td>\n",
       "    </tr>\n",
       "    <tr>\n",
       "      <th>2</th>\n",
       "      <td>0.745455</td>\n",
       "      <td>0.080000</td>\n",
       "      <td>0.574994</td>\n",
       "      <td>0.318182</td>\n",
       "      <td>0.476190</td>\n",
       "      <td>0.382576</td>\n",
       "      <td>0</td>\n",
       "      <td>0</td>\n",
       "    </tr>\n",
       "    <tr>\n",
       "      <th>3</th>\n",
       "      <td>0.345455</td>\n",
       "      <td>0.223529</td>\n",
       "      <td>0.002432</td>\n",
       "      <td>0.090909</td>\n",
       "      <td>0.333333</td>\n",
       "      <td>0.488636</td>\n",
       "      <td>0</td>\n",
       "      <td>1</td>\n",
       "    </tr>\n",
       "    <tr>\n",
       "      <th>4</th>\n",
       "      <td>0.545455</td>\n",
       "      <td>0.035294</td>\n",
       "      <td>0.100845</td>\n",
       "      <td>0.318182</td>\n",
       "      <td>0.285714</td>\n",
       "      <td>0.526515</td>\n",
       "      <td>1</td>\n",
       "      <td>0</td>\n",
       "    </tr>\n",
       "  </tbody>\n",
       "</table>\n",
       "</div>"
      ],
      "text/plain": [
       "        age      sCre       cpk        ef      sSod      time  hbp  \\\n",
       "0  0.600000  0.047059  0.145636  0.393939  0.666667  0.784091    1   \n",
       "1  0.363636  0.141176  0.026363  0.318182  0.619048  0.924242    0   \n",
       "2  0.745455  0.080000  0.574994  0.318182  0.476190  0.382576    0   \n",
       "3  0.345455  0.223529  0.002432  0.090909  0.333333  0.488636    0   \n",
       "4  0.545455  0.035294  0.100845  0.318182  0.285714  0.526515    1   \n",
       "\n",
       "   DEATH_EVENT  \n",
       "0            0  \n",
       "1            0  \n",
       "2            0  \n",
       "3            1  \n",
       "4            0  "
      ]
     },
     "execution_count": 45,
     "metadata": {},
     "output_type": "execute_result"
    }
   ],
   "source": [
    "# numerical scaling\n",
    "\n",
    "num_col = ['age', 'sCre', 'cpk', 'ef', 'sSod', 'time']\n",
    "scaler = MinMaxScaler()\n",
    "\n",
    "data_eda[num_col] = pd.DataFrame(scaler.fit_transform(data_eda[num_col]))\n",
    "data_eda.head()"
   ]
  },
  {
   "cell_type": "markdown",
   "metadata": {},
   "source": [
    "1. Feature Selection -> 'age', 'sCre', 'cpk', 'ef', 'sSod', 'time', 'hbp', dan 'DEATH_EVENT'\n",
    "3. Scaling on numerical features"
   ]
  },
  {
   "cell_type": "markdown",
   "metadata": {},
   "source": [
    "## VIII. Data Preprocessing"
   ]
  },
  {
   "cell_type": "markdown",
   "metadata": {},
   "source": [
    "1. Feature Selection -> 'age', 'sCre', 'cpk', 'ef', 'sSod', 'time', 'hbp', dan 'DEATH_EVENT'\n",
    "3. Scaling on numerical features"
   ]
  },
  {
   "cell_type": "markdown",
   "metadata": {},
   "source": [
    "Selanjutnya kita akan melakukan testing modelling pada data test yang telah kita pisahkan di awal."
   ]
  },
  {
   "cell_type": "code",
   "execution_count": 46,
   "metadata": {},
   "outputs": [
    {
     "name": "stdout",
     "output_type": "stream",
     "text": [
      "<class 'pandas.core.frame.DataFrame'>\n",
      "Int64Index: 87 entries, 132 to 52\n",
      "Data columns (total 13 columns):\n",
      " #   Column       Non-Null Count  Dtype  \n",
      "---  ------       --------------  -----  \n",
      " 0   age          87 non-null     int64  \n",
      " 1   anaemia      87 non-null     int64  \n",
      " 2   cpk          87 non-null     int64  \n",
      " 3   diabetes     87 non-null     int64  \n",
      " 4   ef           87 non-null     int64  \n",
      " 5   hbp          87 non-null     int64  \n",
      " 6   platelets    87 non-null     int64  \n",
      " 7   sCre         87 non-null     float64\n",
      " 8   sSod         87 non-null     int64  \n",
      " 9   sex          87 non-null     int64  \n",
      " 10  smoking      87 non-null     int64  \n",
      " 11  time         87 non-null     int64  \n",
      " 12  DEATH_EVENT  87 non-null     int64  \n",
      "dtypes: float64(1), int64(12)\n",
      "memory usage: 9.5 KB\n"
     ]
    }
   ],
   "source": [
    "testing = pd.concat([X_test, y_test], axis=1)\n",
    "testing.info()"
   ]
  },
  {
   "cell_type": "code",
   "execution_count": 48,
   "metadata": {},
   "outputs": [
    {
     "data": {
      "text/html": [
       "<div>\n",
       "<style scoped>\n",
       "    .dataframe tbody tr th:only-of-type {\n",
       "        vertical-align: middle;\n",
       "    }\n",
       "\n",
       "    .dataframe tbody tr th {\n",
       "        vertical-align: top;\n",
       "    }\n",
       "\n",
       "    .dataframe thead th {\n",
       "        text-align: right;\n",
       "    }\n",
       "</style>\n",
       "<table border=\"1\" class=\"dataframe\">\n",
       "  <thead>\n",
       "    <tr style=\"text-align: right;\">\n",
       "      <th></th>\n",
       "      <th>age</th>\n",
       "      <th>sCre</th>\n",
       "      <th>cpk</th>\n",
       "      <th>ef</th>\n",
       "      <th>sSod</th>\n",
       "      <th>time</th>\n",
       "      <th>hbp</th>\n",
       "      <th>DEATH_EVENT</th>\n",
       "    </tr>\n",
       "  </thead>\n",
       "  <tbody>\n",
       "    <tr>\n",
       "      <th>132</th>\n",
       "      <td>60</td>\n",
       "      <td>3.5</td>\n",
       "      <td>59</td>\n",
       "      <td>25</td>\n",
       "      <td>136</td>\n",
       "      <td>187</td>\n",
       "      <td>1</td>\n",
       "      <td>0</td>\n",
       "    </tr>\n",
       "    <tr>\n",
       "      <th>105</th>\n",
       "      <td>60</td>\n",
       "      <td>2.9</td>\n",
       "      <td>68</td>\n",
       "      <td>20</td>\n",
       "      <td>127</td>\n",
       "      <td>64</td>\n",
       "      <td>0</td>\n",
       "      <td>1</td>\n",
       "    </tr>\n",
       "    <tr>\n",
       "      <th>193</th>\n",
       "      <td>60</td>\n",
       "      <td>1.4</td>\n",
       "      <td>320</td>\n",
       "      <td>35</td>\n",
       "      <td>139</td>\n",
       "      <td>258</td>\n",
       "      <td>0</td>\n",
       "      <td>0</td>\n",
       "    </tr>\n",
       "    <tr>\n",
       "      <th>283</th>\n",
       "      <td>60</td>\n",
       "      <td>1.0</td>\n",
       "      <td>95</td>\n",
       "      <td>60</td>\n",
       "      <td>138</td>\n",
       "      <td>146</td>\n",
       "      <td>0</td>\n",
       "      <td>0</td>\n",
       "    </tr>\n",
       "    <tr>\n",
       "      <th>121</th>\n",
       "      <td>63</td>\n",
       "      <td>1.3</td>\n",
       "      <td>514</td>\n",
       "      <td>25</td>\n",
       "      <td>134</td>\n",
       "      <td>83</td>\n",
       "      <td>1</td>\n",
       "      <td>0</td>\n",
       "    </tr>\n",
       "  </tbody>\n",
       "</table>\n",
       "</div>"
      ],
      "text/plain": [
       "     age  sCre  cpk  ef  sSod  time  hbp  DEATH_EVENT\n",
       "132   60   3.5   59  25   136   187    1            0\n",
       "105   60   2.9   68  20   127    64    0            1\n",
       "193   60   1.4  320  35   139   258    0            0\n",
       "283   60   1.0   95  60   138   146    0            0\n",
       "121   63   1.3  514  25   134    83    1            0"
      ]
     },
     "execution_count": 48,
     "metadata": {},
     "output_type": "execute_result"
    }
   ],
   "source": [
    "testing_cleaned = testing[['age', 'sCre', 'cpk', 'ef', 'sSod', 'time', 'hbp', 'DEATH_EVENT']]\n",
    "\n",
    "testing_cleaned.head()"
   ]
  },
  {
   "cell_type": "code",
   "execution_count": 49,
   "metadata": {},
   "outputs": [
    {
     "data": {
      "text/html": [
       "<div>\n",
       "<style scoped>\n",
       "    .dataframe tbody tr th:only-of-type {\n",
       "        vertical-align: middle;\n",
       "    }\n",
       "\n",
       "    .dataframe tbody tr th {\n",
       "        vertical-align: top;\n",
       "    }\n",
       "\n",
       "    .dataframe thead th {\n",
       "        text-align: right;\n",
       "    }\n",
       "</style>\n",
       "<table border=\"1\" class=\"dataframe\">\n",
       "  <thead>\n",
       "    <tr style=\"text-align: right;\">\n",
       "      <th></th>\n",
       "      <th>age</th>\n",
       "      <th>sCre</th>\n",
       "      <th>cpk</th>\n",
       "      <th>ef</th>\n",
       "      <th>sSod</th>\n",
       "      <th>time</th>\n",
       "      <th>hbp</th>\n",
       "      <th>DEATH_EVENT</th>\n",
       "    </tr>\n",
       "  </thead>\n",
       "  <tbody>\n",
       "    <tr>\n",
       "      <th>132</th>\n",
       "      <td>0.363636</td>\n",
       "      <td>0.352941</td>\n",
       "      <td>0.001536</td>\n",
       "      <td>0.166667</td>\n",
       "      <td>0.428571</td>\n",
       "      <td>0.685606</td>\n",
       "      <td>1</td>\n",
       "      <td>0</td>\n",
       "    </tr>\n",
       "    <tr>\n",
       "      <th>105</th>\n",
       "      <td>0.363636</td>\n",
       "      <td>0.282353</td>\n",
       "      <td>0.002687</td>\n",
       "      <td>0.090909</td>\n",
       "      <td>0.000000</td>\n",
       "      <td>0.219697</td>\n",
       "      <td>0</td>\n",
       "      <td>1</td>\n",
       "    </tr>\n",
       "    <tr>\n",
       "      <th>193</th>\n",
       "      <td>0.363636</td>\n",
       "      <td>0.105882</td>\n",
       "      <td>0.034937</td>\n",
       "      <td>0.318182</td>\n",
       "      <td>0.571429</td>\n",
       "      <td>0.954545</td>\n",
       "      <td>0</td>\n",
       "      <td>0</td>\n",
       "    </tr>\n",
       "    <tr>\n",
       "      <th>283</th>\n",
       "      <td>0.363636</td>\n",
       "      <td>0.058824</td>\n",
       "      <td>0.006143</td>\n",
       "      <td>0.696970</td>\n",
       "      <td>0.523810</td>\n",
       "      <td>0.530303</td>\n",
       "      <td>0</td>\n",
       "      <td>0</td>\n",
       "    </tr>\n",
       "    <tr>\n",
       "      <th>121</th>\n",
       "      <td>0.418182</td>\n",
       "      <td>0.094118</td>\n",
       "      <td>0.059765</td>\n",
       "      <td>0.166667</td>\n",
       "      <td>0.333333</td>\n",
       "      <td>0.291667</td>\n",
       "      <td>1</td>\n",
       "      <td>0</td>\n",
       "    </tr>\n",
       "  </tbody>\n",
       "</table>\n",
       "</div>"
      ],
      "text/plain": [
       "          age      sCre       cpk        ef      sSod      time  hbp  \\\n",
       "132  0.363636  0.352941  0.001536  0.166667  0.428571  0.685606    1   \n",
       "105  0.363636  0.282353  0.002687  0.090909  0.000000  0.219697    0   \n",
       "193  0.363636  0.105882  0.034937  0.318182  0.571429  0.954545    0   \n",
       "283  0.363636  0.058824  0.006143  0.696970  0.523810  0.530303    0   \n",
       "121  0.418182  0.094118  0.059765  0.166667  0.333333  0.291667    1   \n",
       "\n",
       "     DEATH_EVENT  \n",
       "132            0  \n",
       "105            1  \n",
       "193            0  \n",
       "283            0  \n",
       "121            0  "
      ]
     },
     "execution_count": 49,
     "metadata": {},
     "output_type": "execute_result"
    }
   ],
   "source": [
    "# numerical scalling\n",
    "testing_cleaned[num_col] = scaler.transform(testing_cleaned[num_col])\n",
    "testing_cleaned.head()"
   ]
  },
  {
   "cell_type": "code",
   "execution_count": 50,
   "metadata": {},
   "outputs": [],
   "source": [
    "X_train = data_eda.drop('DEATH_EVENT',axis=1).copy()\n",
    "y_train = data_eda['DEATH_EVENT']\n",
    "\n",
    "X_test = testing_cleaned.drop('DEATH_EVENT',axis=1).copy()\n",
    "y_test = testing_cleaned['DEATH_EVENT']"
   ]
  },
  {
   "cell_type": "markdown",
   "metadata": {},
   "source": [
    "## IX. Imbalanced Target Data Handling"
   ]
  },
  {
   "cell_type": "markdown",
   "metadata": {},
   "source": [
    "Seperti yang telah kami jelaskan di awal EDA, kelas-kelas di target merupakan data yang tidak seimbang. oleh karena itu untuk mengatasi masalah tersebut, kami akan menggunakan SMOTE untuk melakukan resampling data dan membuat kelas-kelas di target seimbang."
   ]
  },
  {
   "cell_type": "code",
   "execution_count": 51,
   "metadata": {},
   "outputs": [],
   "source": [
    "smote = SMOTE(k_neighbors=8)"
   ]
  },
  {
   "cell_type": "code",
   "execution_count": 52,
   "metadata": {},
   "outputs": [
    {
     "name": "stdout",
     "output_type": "stream",
     "text": [
      "Before SMOTE :  Counter({0: 140, 1: 62})\n",
      "After SMOTE : Counter({0: 140, 1: 140})\n"
     ]
    }
   ],
   "source": [
    "X_train_smote, y_train_smote = smote.fit_resample(X_train, y_train)\n",
    "print('Before SMOTE : ', Counter(y_train))\n",
    "print('After SMOTE :', Counter(y_train_smote))"
   ]
  },
  {
   "cell_type": "code",
   "execution_count": 55,
   "metadata": {},
   "outputs": [
    {
     "data": {
      "text/plain": [
       "0    140\n",
       "1     62\n",
       "Name: DEATH_EVENT, dtype: int64"
      ]
     },
     "execution_count": 55,
     "metadata": {},
     "output_type": "execute_result"
    }
   ],
   "source": [
    "y_train.value_counts()"
   ]
  },
  {
   "cell_type": "code",
   "execution_count": 54,
   "metadata": {},
   "outputs": [
    {
     "data": {
      "text/plain": [
       "0    140\n",
       "1    140\n",
       "Name: DEATH_EVENT, dtype: int64"
      ]
     },
     "execution_count": 54,
     "metadata": {},
     "output_type": "execute_result"
    }
   ],
   "source": [
    "y_train_smote.value_counts()"
   ]
  },
  {
   "cell_type": "markdown",
   "metadata": {},
   "source": [
    "## X. Model Definition, Training, & hyperparameter tuning\n",
    "\n",
    "dalam pemodelan ini, terdapat dua model yang akan dibuat dalam memprediksi gagal jantung atau tidak dengan menggunakan model randomforest dan adaBoost model."
   ]
  },
  {
   "cell_type": "markdown",
   "metadata": {},
   "source": [
    "> **Before Balancing**"
   ]
  },
  {
   "cell_type": "code",
   "execution_count": 56,
   "metadata": {},
   "outputs": [],
   "source": [
    "# Defining Random Forest Classifier Model\n",
    "rf_model = RandomForestClassifier()\n",
    "# Defining AdaBoost Classifier Model\n",
    "ada_model = AdaBoostClassifier()\n",
    "\n",
    "\n",
    "# training model\n",
    "for model in [rf_model, ada_model]:\n",
    "    model.fit(X_train,y_train)"
   ]
  },
  {
   "cell_type": "code",
   "execution_count": 60,
   "metadata": {},
   "outputs": [
    {
     "name": "stdout",
     "output_type": "stream",
     "text": [
      "rf_model\n",
      "Accuracy - All - Cross Validation  :  [0.83823529 0.82089552 0.8358209 ]\n",
      "Accuracy - Mean - Cross Validation :  0.8316505706760315\n",
      "Accuracy - Std - Cross Validation  :  0.007668577786510887\n",
      "Accuracy - Range of Test-Set       :  0.8239819928895207 - 0.8393191484625424\n",
      "--------------------------------------------------\n",
      "ada_model\n",
      "Accuracy - All - Cross Validation  :  [0.82352941 0.76119403 0.7761194 ]\n",
      "Accuracy - Mean - Cross Validation :  0.7869476148668423\n",
      "Accuracy - Std - Cross Validation  :  0.026575208860980942\n",
      "Accuracy - Range of Test-Set       :  0.7603724060058613 - 0.8135228237278233\n",
      "--------------------------------------------------\n",
      "best model: rf_model\n",
      "cross-val mean: 0.8316505706760315\n"
     ]
    }
   ],
   "source": [
    "# checking cross validation score\n",
    "cv_rf_model = cross_val_score(rf_model, X_train, y_train, cv=3, scoring=\"accuracy\")\n",
    "cv_ada_model = cross_val_score(ada_model, X_train, y_train, cv=3, scoring=\"accuracy\")\n",
    "cvh=0\n",
    "for cv,name in zip([cv_rf_model, cv_ada_model],['rf_model','ada_model']):\n",
    "    print(name)\n",
    "    print('Accuracy - All - Cross Validation  : ', cv)\n",
    "    print('Accuracy - Mean - Cross Validation : ', cv.mean())\n",
    "    print('Accuracy - Std - Cross Validation  : ', cv.std())\n",
    "    print('Accuracy - Range of Test-Set       : ', (cv.mean()-cv.std()) , '-', (cv.mean()+cv.std()))\n",
    "    print('-'*50)\n",
    "    if cv.mean()>cvh:\n",
    "        cvh= cv.mean()\n",
    "        nameh=name\n",
    "    else:\n",
    "        continue\n",
    "print ('best model:', nameh)\n",
    "print('cross-val mean:', cvh)"
   ]
  },
  {
   "cell_type": "markdown",
   "metadata": {},
   "source": [
    "Berdasarkan hasil cross validation di atas, dapat kita simpulkan untuk best model dari kedua model tersebut yaitu berada pada randomforest model. Randomforest model memiliki nilai rata-rata konsistensi (akurasi) yang lebih tinggi dibandingkan dengan adaBoost model yang bernilai 0.83. Selain itu standardeviasi atau persebaran data dari randomforest model jauh lebih rendah dibandingkan dengan adaBoost model yang artinya semakin konsisten data tersebut pada randomforest model."
   ]
  },
  {
   "cell_type": "code",
   "execution_count": 65,
   "metadata": {},
   "outputs": [
    {
     "name": "stdout",
     "output_type": "stream",
     "text": [
      "Training\n",
      "              precision    recall  f1-score   support\n",
      "\n",
      "           0       1.00      1.00      1.00       140\n",
      "           1       1.00      1.00      1.00        62\n",
      "\n",
      "    accuracy                           1.00       202\n",
      "   macro avg       1.00      1.00      1.00       202\n",
      "weighted avg       1.00      1.00      1.00       202\n",
      "\n",
      "\n",
      "===========================\n",
      "\n",
      "Test\n",
      "              precision    recall  f1-score   support\n",
      "\n",
      "           0       0.89      0.95      0.92        61\n",
      "           1       0.86      0.73      0.79        26\n",
      "\n",
      "    accuracy                           0.89        87\n",
      "   macro avg       0.88      0.84      0.86        87\n",
      "weighted avg       0.88      0.89      0.88        87\n",
      "\n"
     ]
    }
   ],
   "source": [
    "# Evaluating the default random forest model\n",
    "# creating prediction data\n",
    "rf_y_pred_train = rf_model.predict(X_train)\n",
    "rf_y_pred_test = rf_model.predict(X_test)\n",
    "# Evaluating the model\n",
    "print(\"Training\")\n",
    "print(classification_report(y_train,rf_y_pred_train))\n",
    "print(\"\\n===========================\\n\")\n",
    "print(\"Test\")\n",
    "print(classification_report(y_test,rf_y_pred_test))\n"
   ]
  },
  {
   "cell_type": "markdown",
   "metadata": {},
   "source": [
    "Berikut adalah hasil dari classification report dari randomforest model (baseline) dengan data yang belum di balancing (imbalanced data). Berdasarkan penjelasan di awal bahwa untuk kelas 0 merupakan tidak terjadinya kematian yang disebabkan oleh gagal jantung sedangkan kelas 1 berarti terjadinya kematian karena penyebab dari gagal jantung seseorang tersebut. Berdasarkan classification report ini, kita dapat fokus pada kelas 1 dan fokus pada nilai recall karena urgensi dalam kasus gagal jantung ini sangat krusial sehingga kita harus meminimalisir kesalahan dalam prediksi model yang mana jika model memprediksi tidak akan terjadinya kematian atau pasien dianggap masih dalam batas baik-baik aja padahal dalam kenyataannya seseorang tersebut dapat dibilang kritis karena gagal jantung tersebut sehingga perlu diperhatikan dan ditangani dengan tepat. \n",
    "\n",
    "Prediksi tersebut harus diminimalisir agar tidak terjadi kesalahan yang dapat menyebabkan kematian pada pasien. Untuk mengurangi prediksi tersebut, nilai evaluasi recall harus mendekati 1 agar tidak terjadi kesalahan fatal seperti yang telah disebutkan sebelumnya. Pada laporan klasifikasi di atas diketahui nilai recall pada model randomforest dengan baseline hyperparameter sebesar 73% artinya model masih kurang baik dalam memprediksi kelas 1 yang disebabkan pada data ini imbalance"
   ]
  },
  {
   "cell_type": "markdown",
   "metadata": {},
   "source": [
    "> **After Balancing**"
   ]
  },
  {
   "cell_type": "code",
   "execution_count": 61,
   "metadata": {},
   "outputs": [],
   "source": [
    "# Defining Random Forest Classifier Model\n",
    "rft_model = RandomForestClassifier()\n",
    "# Defining AdaBoost Classifier Model\n",
    "adaB_model = AdaBoostClassifier()\n",
    "\n",
    "\n",
    "# training model\n",
    "for model in [rft_model, adaB_model]:\n",
    "    model.fit(X_train_smote,y_train_smote)"
   ]
  },
  {
   "cell_type": "code",
   "execution_count": 62,
   "metadata": {},
   "outputs": [
    {
     "name": "stdout",
     "output_type": "stream",
     "text": [
      "rft_model\n",
      "Accuracy - All - Cross Validation  :  [0.79787234 0.88172043 0.93548387]\n",
      "Accuracy - Mean - Cross Validation :  0.8716922138336002\n",
      "Accuracy - Std - Cross Validation  :  0.05662541935544427\n",
      "Accuracy - Range of Test-Set       :  0.8150667944781559 - 0.9283176331890445\n",
      "--------------------------------------------------\n",
      "adaB_model\n",
      "Accuracy - All - Cross Validation  :  [0.74468085 0.84946237 0.91397849]\n",
      "Accuracy - Mean - Cross Validation :  0.8360405704262944\n",
      "Accuracy - Std - Cross Validation  :  0.06976403786009894\n",
      "Accuracy - Range of Test-Set       :  0.7662765325661955 - 0.9058046082863933\n",
      "--------------------------------------------------\n",
      "best model: rft_model\n",
      "cross-val mean: 0.8716922138336002\n"
     ]
    }
   ],
   "source": [
    "# checking cross validation score\n",
    "cv_rft_model = cross_val_score(rft_model, X_train_smote, y_train_smote, cv=3, scoring=\"accuracy\")\n",
    "cv_adaB_model = cross_val_score(adaB_model, X_train_smote, y_train_smote, cv=3, scoring=\"accuracy\")\n",
    "cvh=0\n",
    "for cv,name in zip([cv_rft_model, cv_adaB_model],['rft_model','adaB_model']):\n",
    "    print(name)\n",
    "    print('Accuracy - All - Cross Validation  : ', cv)\n",
    "    print('Accuracy - Mean - Cross Validation : ', cv.mean())\n",
    "    print('Accuracy - Std - Cross Validation  : ', cv.std())\n",
    "    print('Accuracy - Range of Test-Set       : ', (cv.mean()-cv.std()) , '-', (cv.mean()+cv.std()))\n",
    "    print('-'*50)\n",
    "    if cv.mean()>cvh:\n",
    "        cvh= cv.mean()\n",
    "        nameh=name\n",
    "    else:\n",
    "        continue\n",
    "print ('best model:', nameh)\n",
    "print('cross-val mean:', cvh)"
   ]
  },
  {
   "cell_type": "markdown",
   "metadata": {},
   "source": [
    "Sama halnya dengan hasil dari cross validation antar kedua model ini dengan penjelasan di atas pada data yang imbalance. Perbedaannya pada hasil ini merupakan hasil dari data yang sudah dilakukan balancing dengan metode SMOTE, Berdasarkan hasil cross validation ini, dapat kita simpulkan untuk best model dari kedua model tersebut yaitu berada pada randomforest model juga dengan nilai rata-rata akurasi tertinggi dan terendah pada nilai standardeviasinya dari adaBoost model. Jika dibandingkan dengan data sebelum balancing nilai rata-rata dari akurasi cross validationnya hanya 0,83 akan tetapi rata-rata dari akurasi cross validation pada data yang telah dilakukan balancing jauh lebih baik dibandingkan dengan data sebelum balancing sebesar 0,87 yang artinya konsistensi pada model tersebut semakin konsisten\n"
   ]
  },
  {
   "cell_type": "code",
   "execution_count": 66,
   "metadata": {},
   "outputs": [
    {
     "name": "stdout",
     "output_type": "stream",
     "text": [
      "Training\n",
      "              precision    recall  f1-score   support\n",
      "\n",
      "           0       1.00      1.00      1.00       140\n",
      "           1       1.00      1.00      1.00       140\n",
      "\n",
      "    accuracy                           1.00       280\n",
      "   macro avg       1.00      1.00      1.00       280\n",
      "weighted avg       1.00      1.00      1.00       280\n",
      "\n",
      "\n",
      "===========================\n",
      "\n",
      "Test\n",
      "              precision    recall  f1-score   support\n",
      "\n",
      "           0       0.91      0.87      0.89        61\n",
      "           1       0.72      0.81      0.76        26\n",
      "\n",
      "    accuracy                           0.85        87\n",
      "   macro avg       0.82      0.84      0.83        87\n",
      "weighted avg       0.86      0.85      0.85        87\n",
      "\n"
     ]
    }
   ],
   "source": [
    "# Evaluating the default random forest model\n",
    "# creating prediction data\n",
    "rft_y_pred_train = rft_model.predict(X_train_smote)\n",
    "rft_y_pred_test = rft_model.predict(X_test)\n",
    "# Evaluating the model\n",
    "print(\"Training\")\n",
    "print(classification_report(y_train_smote,rft_y_pred_train))\n",
    "print(\"\\n===========================\\n\")\n",
    "print(\"Test\")\n",
    "print(classification_report(y_test,rft_y_pred_test))\n"
   ]
  },
  {
   "cell_type": "markdown",
   "metadata": {},
   "source": [
    "Sekarang kita akan membandingkan hasil dari classification report dari randomforest dengan baseline parameter pada data yang telah dilakukan balancing menggunakan SMOTE. Jika dibandingkan dari hasil classification report pada data yang imbalanced dengan fokus nilai recall di kelas 1 mencapai nilai 73% sedangkan hasil dari data yg telah balancing mencapai nilai 81% yang artinya semakin tinggi nilai recall maka semakin kecil terjadinya kesalahan yang tidak kita inginkan seperti yg telah dijelaskan di atas, sehingga selanjutnya kita akan menggunakan data yang telah dilakukan balancing ini dengan model randomforest."
   ]
  },
  {
   "cell_type": "code",
   "execution_count": 84,
   "metadata": {},
   "outputs": [
    {
     "data": {
      "text/html": [
       "<style>#sk-container-id-4 {color: black;background-color: white;}#sk-container-id-4 pre{padding: 0;}#sk-container-id-4 div.sk-toggleable {background-color: white;}#sk-container-id-4 label.sk-toggleable__label {cursor: pointer;display: block;width: 100%;margin-bottom: 0;padding: 0.3em;box-sizing: border-box;text-align: center;}#sk-container-id-4 label.sk-toggleable__label-arrow:before {content: \"▸\";float: left;margin-right: 0.25em;color: #696969;}#sk-container-id-4 label.sk-toggleable__label-arrow:hover:before {color: black;}#sk-container-id-4 div.sk-estimator:hover label.sk-toggleable__label-arrow:before {color: black;}#sk-container-id-4 div.sk-toggleable__content {max-height: 0;max-width: 0;overflow: hidden;text-align: left;background-color: #f0f8ff;}#sk-container-id-4 div.sk-toggleable__content pre {margin: 0.2em;color: black;border-radius: 0.25em;background-color: #f0f8ff;}#sk-container-id-4 input.sk-toggleable__control:checked~div.sk-toggleable__content {max-height: 200px;max-width: 100%;overflow: auto;}#sk-container-id-4 input.sk-toggleable__control:checked~label.sk-toggleable__label-arrow:before {content: \"▾\";}#sk-container-id-4 div.sk-estimator input.sk-toggleable__control:checked~label.sk-toggleable__label {background-color: #d4ebff;}#sk-container-id-4 div.sk-label input.sk-toggleable__control:checked~label.sk-toggleable__label {background-color: #d4ebff;}#sk-container-id-4 input.sk-hidden--visually {border: 0;clip: rect(1px 1px 1px 1px);clip: rect(1px, 1px, 1px, 1px);height: 1px;margin: -1px;overflow: hidden;padding: 0;position: absolute;width: 1px;}#sk-container-id-4 div.sk-estimator {font-family: monospace;background-color: #f0f8ff;border: 1px dotted black;border-radius: 0.25em;box-sizing: border-box;margin-bottom: 0.5em;}#sk-container-id-4 div.sk-estimator:hover {background-color: #d4ebff;}#sk-container-id-4 div.sk-parallel-item::after {content: \"\";width: 100%;border-bottom: 1px solid gray;flex-grow: 1;}#sk-container-id-4 div.sk-label:hover label.sk-toggleable__label {background-color: #d4ebff;}#sk-container-id-4 div.sk-serial::before {content: \"\";position: absolute;border-left: 1px solid gray;box-sizing: border-box;top: 0;bottom: 0;left: 50%;z-index: 0;}#sk-container-id-4 div.sk-serial {display: flex;flex-direction: column;align-items: center;background-color: white;padding-right: 0.2em;padding-left: 0.2em;position: relative;}#sk-container-id-4 div.sk-item {position: relative;z-index: 1;}#sk-container-id-4 div.sk-parallel {display: flex;align-items: stretch;justify-content: center;background-color: white;position: relative;}#sk-container-id-4 div.sk-item::before, #sk-container-id-4 div.sk-parallel-item::before {content: \"\";position: absolute;border-left: 1px solid gray;box-sizing: border-box;top: 0;bottom: 0;left: 50%;z-index: -1;}#sk-container-id-4 div.sk-parallel-item {display: flex;flex-direction: column;z-index: 1;position: relative;background-color: white;}#sk-container-id-4 div.sk-parallel-item:first-child::after {align-self: flex-end;width: 50%;}#sk-container-id-4 div.sk-parallel-item:last-child::after {align-self: flex-start;width: 50%;}#sk-container-id-4 div.sk-parallel-item:only-child::after {width: 0;}#sk-container-id-4 div.sk-dashed-wrapped {border: 1px dashed gray;margin: 0 0.4em 0.5em 0.4em;box-sizing: border-box;padding-bottom: 0.4em;background-color: white;}#sk-container-id-4 div.sk-label label {font-family: monospace;font-weight: bold;display: inline-block;line-height: 1.2em;}#sk-container-id-4 div.sk-label-container {text-align: center;}#sk-container-id-4 div.sk-container {/* jupyter's `normalize.less` sets `[hidden] { display: none; }` but bootstrap.min.css set `[hidden] { display: none !important; }` so we also need the `!important` here to be able to override the default hidden behavior on the sphinx rendered scikit-learn.org. See: https://github.com/scikit-learn/scikit-learn/issues/21755 */display: inline-block !important;position: relative;}#sk-container-id-4 div.sk-text-repr-fallback {display: none;}</style><div id=\"sk-container-id-4\" class=\"sk-top-container\"><div class=\"sk-text-repr-fallback\"><pre>GridSearchCV(cv=3, estimator=RandomForestClassifier(),\n",
       "             param_grid=[{&#x27;criterion&#x27;: [&#x27;gini&#x27;, &#x27;entropy&#x27;],\n",
       "                          &#x27;max_depth&#x27;: [2, 4, 6, 8],\n",
       "                          &#x27;min_samples_split&#x27;: [2, 4, 6],\n",
       "                          &#x27;n_estimators&#x27;: [10, 50, 100, 500]}],\n",
       "             return_train_score=True, scoring=&#x27;accuracy&#x27;)</pre><b>In a Jupyter environment, please rerun this cell to show the HTML representation or trust the notebook. <br />On GitHub, the HTML representation is unable to render, please try loading this page with nbviewer.org.</b></div><div class=\"sk-container\" hidden><div class=\"sk-item sk-dashed-wrapped\"><div class=\"sk-label-container\"><div class=\"sk-label sk-toggleable\"><input class=\"sk-toggleable__control sk-hidden--visually\" id=\"sk-estimator-id-8\" type=\"checkbox\" ><label for=\"sk-estimator-id-8\" class=\"sk-toggleable__label sk-toggleable__label-arrow\">GridSearchCV</label><div class=\"sk-toggleable__content\"><pre>GridSearchCV(cv=3, estimator=RandomForestClassifier(),\n",
       "             param_grid=[{&#x27;criterion&#x27;: [&#x27;gini&#x27;, &#x27;entropy&#x27;],\n",
       "                          &#x27;max_depth&#x27;: [2, 4, 6, 8],\n",
       "                          &#x27;min_samples_split&#x27;: [2, 4, 6],\n",
       "                          &#x27;n_estimators&#x27;: [10, 50, 100, 500]}],\n",
       "             return_train_score=True, scoring=&#x27;accuracy&#x27;)</pre></div></div></div><div class=\"sk-parallel\"><div class=\"sk-parallel-item\"><div class=\"sk-item\"><div class=\"sk-label-container\"><div class=\"sk-label sk-toggleable\"><input class=\"sk-toggleable__control sk-hidden--visually\" id=\"sk-estimator-id-9\" type=\"checkbox\" ><label for=\"sk-estimator-id-9\" class=\"sk-toggleable__label sk-toggleable__label-arrow\">estimator: RandomForestClassifier</label><div class=\"sk-toggleable__content\"><pre>RandomForestClassifier()</pre></div></div></div><div class=\"sk-serial\"><div class=\"sk-item\"><div class=\"sk-estimator sk-toggleable\"><input class=\"sk-toggleable__control sk-hidden--visually\" id=\"sk-estimator-id-10\" type=\"checkbox\" ><label for=\"sk-estimator-id-10\" class=\"sk-toggleable__label sk-toggleable__label-arrow\">RandomForestClassifier</label><div class=\"sk-toggleable__content\"><pre>RandomForestClassifier()</pre></div></div></div></div></div></div></div></div></div></div>"
      ],
      "text/plain": [
       "GridSearchCV(cv=3, estimator=RandomForestClassifier(),\n",
       "             param_grid=[{'criterion': ['gini', 'entropy'],\n",
       "                          'max_depth': [2, 4, 6, 8],\n",
       "                          'min_samples_split': [2, 4, 6],\n",
       "                          'n_estimators': [10, 50, 100, 500]}],\n",
       "             return_train_score=True, scoring='accuracy')"
      ]
     },
     "execution_count": 84,
     "metadata": {},
     "output_type": "execute_result"
    }
   ],
   "source": [
    "# defining hyperparameters for tuning\n",
    "params = [{\n",
    "            'n_estimators': [10,50,100,500],\n",
    "            'criterion':['gini', 'entropy'],\n",
    "            'max_depth': [2,4,6,8],\n",
    "            'min_samples_split': [2,4,6],\n",
    "             }]\n",
    "\n",
    "# Training using grid search\n",
    "grid_search = GridSearchCV(rft_model, params, cv=3,\n",
    "                           scoring='accuracy',\n",
    "                           return_train_score=True)\n",
    "grid_search.fit(X_train_smote, y_train_smote)"
   ]
  },
  {
   "cell_type": "code",
   "execution_count": 85,
   "metadata": {},
   "outputs": [
    {
     "data": {
      "text/plain": [
       "(96, 20)"
      ]
     },
     "execution_count": 85,
     "metadata": {},
     "output_type": "execute_result"
    }
   ],
   "source": [
    "pd.DataFrame(grid_search.cv_results_).shape"
   ]
  },
  {
   "cell_type": "markdown",
   "metadata": {},
   "source": [
    "Setelah kita mendapatkan model terbaik, selanjutnya kita akan menentukan hyperparameter terbaik dengan menggunakan metode grid search. Kami mencoba 4 parameter dengan total 96 kombinasi percobaan"
   ]
  },
  {
   "cell_type": "code",
   "execution_count": 86,
   "metadata": {},
   "outputs": [
    {
     "data": {
      "text/plain": [
       "{'criterion': 'entropy',\n",
       " 'max_depth': 6,\n",
       " 'min_samples_split': 4,\n",
       " 'n_estimators': 100}"
      ]
     },
     "execution_count": 86,
     "metadata": {},
     "output_type": "execute_result"
    }
   ],
   "source": [
    "# Displaying best hyperparameters\n",
    "grid_search.best_params_"
   ]
  },
  {
   "cell_type": "code",
   "execution_count": 87,
   "metadata": {},
   "outputs": [
    {
     "data": {
      "text/plain": [
       "0.8859147410966216"
      ]
     },
     "execution_count": 87,
     "metadata": {},
     "output_type": "execute_result"
    }
   ],
   "source": [
    "grid_search.best_score_"
   ]
  },
  {
   "cell_type": "code",
   "execution_count": 88,
   "metadata": {},
   "outputs": [],
   "source": [
    "# retrieving the best model\n",
    "rf_gridcv_best = grid_search.best_estimator_"
   ]
  },
  {
   "cell_type": "markdown",
   "metadata": {},
   "source": [
    "Berdasarkan analysis di atas, kami berhasil menemukan hyperparameter terbaik dalam model ini dengan score akurasi terbaik sebesar 89%"
   ]
  },
  {
   "cell_type": "markdown",
   "metadata": {},
   "source": [
    "## XI. MODEL EVALUATION"
   ]
  },
  {
   "cell_type": "code",
   "execution_count": 89,
   "metadata": {},
   "outputs": [
    {
     "data": {
      "text/plain": [
       "<sklearn.metrics._plot.confusion_matrix.ConfusionMatrixDisplay at 0x1e5b4ad33d0>"
      ]
     },
     "execution_count": 89,
     "metadata": {},
     "output_type": "execute_result"
    },
    {
     "data": {
      "image/png": "[encoded data removed]",
      "text/plain": [
       "<Figure size 432x288 with 2 Axes>"
      ]
     },
     "metadata": {
      "needs_background": "light"
     },
     "output_type": "display_data"
    }
   ],
   "source": [
    "# Evaluating the default randomforest model \n",
    "# creating prediction data\n",
    "best_y_pred_train = rf_gridcv_best.predict(X_train_smote)\n",
    "best_y_pred_test = rf_gridcv_best.predict(X_test)\n",
    "\n",
    "# Plotting confusion matrix \n",
    "cm = confusion_matrix(y_test, best_y_pred_test, labels=rf_gridcv_best.classes_) \n",
    "\n",
    "ConfusionMatrixDisplay(confusion_matrix=cm,display_labels=rf_gridcv_best.classes_).plot()"
   ]
  },
  {
   "cell_type": "markdown",
   "metadata": {},
   "source": [
    "Berdasarkan hasil confussion matrix di atas diketahui bahwa model ini mampu memprediksi dengan benar kasus True Positif sebanyak 22 data dari 26 data test. Kasus True Positif adalah keadaan di mana pasien yang mengalami kematian karena gagal jantung dan diprediksi dengan benar bahwa pasien tersebut mengalami kematian karena gagal jantung. Bila ditinjau dari kasus False Negatif maka model ini mengalami kesalahan prediksi sebanyak 4 data dari 26 data. Kasus False Negatif adalah kondisi di mana pasien yang mengalami kematian karena gagal jantung namun hasil prediksinya adalah pasien tersebut dinyatakan tidak mengalami kematian karena gagal jantung."
   ]
  },
  {
   "cell_type": "code",
   "execution_count": 91,
   "metadata": {},
   "outputs": [
    {
     "name": "stdout",
     "output_type": "stream",
     "text": [
      "Training\n",
      "              precision    recall  f1-score   support\n",
      "\n",
      "           0       0.97      0.97      0.97       140\n",
      "           1       0.97      0.97      0.97       140\n",
      "\n",
      "    accuracy                           0.97       280\n",
      "   macro avg       0.97      0.97      0.97       280\n",
      "weighted avg       0.97      0.97      0.97       280\n",
      "\n",
      "\n",
      "===========================\n",
      "\n",
      "Test\n",
      "              precision    recall  f1-score   support\n",
      "\n",
      "           0       0.93      0.84      0.88        61\n",
      "           1       0.69      0.85      0.76        26\n",
      "\n",
      "    accuracy                           0.84        87\n",
      "   macro avg       0.81      0.84      0.82        87\n",
      "weighted avg       0.86      0.84      0.84        87\n",
      "\n"
     ]
    }
   ],
   "source": [
    "# Evaluating the model\n",
    "print(\"Training\")\n",
    "print(classification_report(y_train_smote,best_y_pred_train))\n",
    "print(\"\\n===========================\\n\")\n",
    "print(\"Test\")\n",
    "print(classification_report(y_test,best_y_pred_test))\n"
   ]
  },
  {
   "cell_type": "markdown",
   "metadata": {},
   "source": [
    "Berdasarkan hasil dari classification report di atas, seperti yang kita inginkan yaitu meminimalisir kesalahan model dalam mempredict kelas 1 sehingga kita akan fokuskan pada nilai di recall. Berdasarkan analysis di atas dapat kita lihat jika randomforest dipasangkan dengan hyperparameter terpilih dari metode gridsearch dapat memperoleh nilai recalll yang lebih tinggi menjadi 85% dibandingkan randomforest dengan baseline hyperparameter yg memiliki selisih 4% dari hasil ini. "
   ]
  },
  {
   "cell_type": "markdown",
   "metadata": {},
   "source": [
    "## XII. MODEL INFERENCE"
   ]
  },
  {
   "cell_type": "code",
   "execution_count": 92,
   "metadata": {},
   "outputs": [
    {
     "data": {
      "text/html": [
       "<div>\n",
       "<style scoped>\n",
       "    .dataframe tbody tr th:only-of-type {\n",
       "        vertical-align: middle;\n",
       "    }\n",
       "\n",
       "    .dataframe tbody tr th {\n",
       "        vertical-align: top;\n",
       "    }\n",
       "\n",
       "    .dataframe thead th {\n",
       "        text-align: right;\n",
       "    }\n",
       "</style>\n",
       "<table border=\"1\" class=\"dataframe\">\n",
       "  <thead>\n",
       "    <tr style=\"text-align: right;\">\n",
       "      <th></th>\n",
       "      <th>age</th>\n",
       "      <th>anaemia</th>\n",
       "      <th>cpk</th>\n",
       "      <th>diabetes</th>\n",
       "      <th>ef</th>\n",
       "      <th>hbp</th>\n",
       "      <th>platelets</th>\n",
       "      <th>sCre</th>\n",
       "      <th>sSod</th>\n",
       "      <th>sex</th>\n",
       "      <th>smoking</th>\n",
       "      <th>time</th>\n",
       "      <th>DEATH_EVENT</th>\n",
       "    </tr>\n",
       "  </thead>\n",
       "  <tbody>\n",
       "    <tr>\n",
       "      <th>0</th>\n",
       "      <td>65</td>\n",
       "      <td>0</td>\n",
       "      <td>146</td>\n",
       "      <td>0</td>\n",
       "      <td>20</td>\n",
       "      <td>0</td>\n",
       "      <td>162000</td>\n",
       "      <td>1.30</td>\n",
       "      <td>129</td>\n",
       "      <td>1</td>\n",
       "      <td>1</td>\n",
       "      <td>7</td>\n",
       "      <td>1</td>\n",
       "    </tr>\n",
       "    <tr>\n",
       "      <th>1</th>\n",
       "      <td>55</td>\n",
       "      <td>1</td>\n",
       "      <td>180</td>\n",
       "      <td>0</td>\n",
       "      <td>45</td>\n",
       "      <td>0</td>\n",
       "      <td>263358</td>\n",
       "      <td>1.18</td>\n",
       "      <td>137</td>\n",
       "      <td>1</td>\n",
       "      <td>1</td>\n",
       "      <td>211</td>\n",
       "      <td>0</td>\n",
       "    </tr>\n",
       "    <tr>\n",
       "      <th>2</th>\n",
       "      <td>85</td>\n",
       "      <td>0</td>\n",
       "      <td>129</td>\n",
       "      <td>0</td>\n",
       "      <td>60</td>\n",
       "      <td>0</td>\n",
       "      <td>306000</td>\n",
       "      <td>1.20</td>\n",
       "      <td>132</td>\n",
       "      <td>1</td>\n",
       "      <td>1</td>\n",
       "      <td>90</td>\n",
       "      <td>1</td>\n",
       "    </tr>\n",
       "    <tr>\n",
       "      <th>3</th>\n",
       "      <td>57</td>\n",
       "      <td>1</td>\n",
       "      <td>129</td>\n",
       "      <td>0</td>\n",
       "      <td>30</td>\n",
       "      <td>0</td>\n",
       "      <td>395000</td>\n",
       "      <td>1.00</td>\n",
       "      <td>140</td>\n",
       "      <td>0</td>\n",
       "      <td>0</td>\n",
       "      <td>42</td>\n",
       "      <td>1</td>\n",
       "    </tr>\n",
       "    <tr>\n",
       "      <th>4</th>\n",
       "      <td>62</td>\n",
       "      <td>0</td>\n",
       "      <td>231</td>\n",
       "      <td>0</td>\n",
       "      <td>25</td>\n",
       "      <td>1</td>\n",
       "      <td>253000</td>\n",
       "      <td>0.90</td>\n",
       "      <td>140</td>\n",
       "      <td>1</td>\n",
       "      <td>1</td>\n",
       "      <td>10</td>\n",
       "      <td>1</td>\n",
       "    </tr>\n",
       "  </tbody>\n",
       "</table>\n",
       "</div>"
      ],
      "text/plain": [
       "   age  anaemia  cpk  diabetes  ef  hbp  platelets  sCre  sSod  sex  smoking  \\\n",
       "0   65        0  146         0  20    0     162000  1.30   129    1        1   \n",
       "1   55        1  180         0  45    0     263358  1.18   137    1        1   \n",
       "2   85        0  129         0  60    0     306000  1.20   132    1        1   \n",
       "3   57        1  129         0  30    0     395000  1.00   140    0        0   \n",
       "4   62        0  231         0  25    1     253000  0.90   140    1        1   \n",
       "\n",
       "   time  DEATH_EVENT  \n",
       "0     7            1  \n",
       "1   211            0  \n",
       "2    90            1  \n",
       "3    42            1  \n",
       "4    10            1  "
      ]
     },
     "execution_count": 92,
     "metadata": {},
     "output_type": "execute_result"
    }
   ],
   "source": [
    "data_inf.head()"
   ]
  },
  {
   "cell_type": "code",
   "execution_count": 94,
   "metadata": {},
   "outputs": [
    {
     "data": {
      "text/html": [
       "<div>\n",
       "<style scoped>\n",
       "    .dataframe tbody tr th:only-of-type {\n",
       "        vertical-align: middle;\n",
       "    }\n",
       "\n",
       "    .dataframe tbody tr th {\n",
       "        vertical-align: top;\n",
       "    }\n",
       "\n",
       "    .dataframe thead th {\n",
       "        text-align: right;\n",
       "    }\n",
       "</style>\n",
       "<table border=\"1\" class=\"dataframe\">\n",
       "  <thead>\n",
       "    <tr style=\"text-align: right;\">\n",
       "      <th></th>\n",
       "      <th>age</th>\n",
       "      <th>sCre</th>\n",
       "      <th>cpk</th>\n",
       "      <th>ef</th>\n",
       "      <th>sSod</th>\n",
       "      <th>time</th>\n",
       "      <th>hbp</th>\n",
       "      <th>DEATH_EVENT</th>\n",
       "    </tr>\n",
       "  </thead>\n",
       "  <tbody>\n",
       "    <tr>\n",
       "      <th>0</th>\n",
       "      <td>65</td>\n",
       "      <td>1.30</td>\n",
       "      <td>146</td>\n",
       "      <td>20</td>\n",
       "      <td>129</td>\n",
       "      <td>7</td>\n",
       "      <td>0</td>\n",
       "      <td>1</td>\n",
       "    </tr>\n",
       "    <tr>\n",
       "      <th>1</th>\n",
       "      <td>55</td>\n",
       "      <td>1.18</td>\n",
       "      <td>180</td>\n",
       "      <td>45</td>\n",
       "      <td>137</td>\n",
       "      <td>211</td>\n",
       "      <td>0</td>\n",
       "      <td>0</td>\n",
       "    </tr>\n",
       "    <tr>\n",
       "      <th>2</th>\n",
       "      <td>85</td>\n",
       "      <td>1.20</td>\n",
       "      <td>129</td>\n",
       "      <td>60</td>\n",
       "      <td>132</td>\n",
       "      <td>90</td>\n",
       "      <td>0</td>\n",
       "      <td>1</td>\n",
       "    </tr>\n",
       "    <tr>\n",
       "      <th>3</th>\n",
       "      <td>57</td>\n",
       "      <td>1.00</td>\n",
       "      <td>129</td>\n",
       "      <td>30</td>\n",
       "      <td>140</td>\n",
       "      <td>42</td>\n",
       "      <td>0</td>\n",
       "      <td>1</td>\n",
       "    </tr>\n",
       "    <tr>\n",
       "      <th>4</th>\n",
       "      <td>62</td>\n",
       "      <td>0.90</td>\n",
       "      <td>231</td>\n",
       "      <td>25</td>\n",
       "      <td>140</td>\n",
       "      <td>10</td>\n",
       "      <td>1</td>\n",
       "      <td>1</td>\n",
       "    </tr>\n",
       "  </tbody>\n",
       "</table>\n",
       "</div>"
      ],
      "text/plain": [
       "   age  sCre  cpk  ef  sSod  time  hbp  DEATH_EVENT\n",
       "0   65  1.30  146  20   129     7    0            1\n",
       "1   55  1.18  180  45   137   211    0            0\n",
       "2   85  1.20  129  60   132    90    0            1\n",
       "3   57  1.00  129  30   140    42    0            1\n",
       "4   62  0.90  231  25   140    10    1            1"
      ]
     },
     "execution_count": 94,
     "metadata": {},
     "output_type": "execute_result"
    }
   ],
   "source": [
    "inference_cleaned = data_inf[['age', 'sCre', 'cpk', 'ef', 'sSod', 'time', 'hbp', 'DEATH_EVENT']]\n",
    "\n",
    "inference_cleaned.head()"
   ]
  },
  {
   "cell_type": "code",
   "execution_count": 95,
   "metadata": {},
   "outputs": [
    {
     "data": {
      "text/html": [
       "<div>\n",
       "<style scoped>\n",
       "    .dataframe tbody tr th:only-of-type {\n",
       "        vertical-align: middle;\n",
       "    }\n",
       "\n",
       "    .dataframe tbody tr th {\n",
       "        vertical-align: top;\n",
       "    }\n",
       "\n",
       "    .dataframe thead th {\n",
       "        text-align: right;\n",
       "    }\n",
       "</style>\n",
       "<table border=\"1\" class=\"dataframe\">\n",
       "  <thead>\n",
       "    <tr style=\"text-align: right;\">\n",
       "      <th></th>\n",
       "      <th>age</th>\n",
       "      <th>sCre</th>\n",
       "      <th>cpk</th>\n",
       "      <th>ef</th>\n",
       "      <th>sSod</th>\n",
       "      <th>time</th>\n",
       "      <th>hbp</th>\n",
       "      <th>DEATH_EVENT</th>\n",
       "    </tr>\n",
       "  </thead>\n",
       "  <tbody>\n",
       "    <tr>\n",
       "      <th>0</th>\n",
       "      <td>0.454545</td>\n",
       "      <td>0.094118</td>\n",
       "      <td>0.012670</td>\n",
       "      <td>0.090909</td>\n",
       "      <td>0.095238</td>\n",
       "      <td>0.003788</td>\n",
       "      <td>0</td>\n",
       "      <td>1</td>\n",
       "    </tr>\n",
       "    <tr>\n",
       "      <th>1</th>\n",
       "      <td>0.272727</td>\n",
       "      <td>0.080000</td>\n",
       "      <td>0.017021</td>\n",
       "      <td>0.469697</td>\n",
       "      <td>0.476190</td>\n",
       "      <td>0.776515</td>\n",
       "      <td>0</td>\n",
       "      <td>0</td>\n",
       "    </tr>\n",
       "    <tr>\n",
       "      <th>2</th>\n",
       "      <td>0.818182</td>\n",
       "      <td>0.082353</td>\n",
       "      <td>0.010494</td>\n",
       "      <td>0.696970</td>\n",
       "      <td>0.238095</td>\n",
       "      <td>0.318182</td>\n",
       "      <td>0</td>\n",
       "      <td>1</td>\n",
       "    </tr>\n",
       "    <tr>\n",
       "      <th>3</th>\n",
       "      <td>0.309091</td>\n",
       "      <td>0.058824</td>\n",
       "      <td>0.010494</td>\n",
       "      <td>0.242424</td>\n",
       "      <td>0.619048</td>\n",
       "      <td>0.136364</td>\n",
       "      <td>0</td>\n",
       "      <td>1</td>\n",
       "    </tr>\n",
       "    <tr>\n",
       "      <th>4</th>\n",
       "      <td>0.400000</td>\n",
       "      <td>0.047059</td>\n",
       "      <td>0.023547</td>\n",
       "      <td>0.166667</td>\n",
       "      <td>0.619048</td>\n",
       "      <td>0.015152</td>\n",
       "      <td>1</td>\n",
       "      <td>1</td>\n",
       "    </tr>\n",
       "    <tr>\n",
       "      <th>5</th>\n",
       "      <td>0.272727</td>\n",
       "      <td>0.023529</td>\n",
       "      <td>0.100845</td>\n",
       "      <td>0.393939</td>\n",
       "      <td>0.619048</td>\n",
       "      <td>0.534091</td>\n",
       "      <td>0</td>\n",
       "      <td>0</td>\n",
       "    </tr>\n",
       "    <tr>\n",
       "      <th>6</th>\n",
       "      <td>0.254545</td>\n",
       "      <td>1.000000</td>\n",
       "      <td>0.048631</td>\n",
       "      <td>0.848485</td>\n",
       "      <td>0.476190</td>\n",
       "      <td>0.719697</td>\n",
       "      <td>1</td>\n",
       "      <td>1</td>\n",
       "    </tr>\n",
       "    <tr>\n",
       "      <th>7</th>\n",
       "      <td>0.545455</td>\n",
       "      <td>0.047059</td>\n",
       "      <td>0.006399</td>\n",
       "      <td>0.696970</td>\n",
       "      <td>0.523810</td>\n",
       "      <td>0.681818</td>\n",
       "      <td>1</td>\n",
       "      <td>0</td>\n",
       "    </tr>\n",
       "    <tr>\n",
       "      <th>8</th>\n",
       "      <td>0.418182</td>\n",
       "      <td>0.047059</td>\n",
       "      <td>0.007167</td>\n",
       "      <td>0.318182</td>\n",
       "      <td>0.428571</td>\n",
       "      <td>1.000000</td>\n",
       "      <td>0</td>\n",
       "      <td>0</td>\n",
       "    </tr>\n",
       "    <tr>\n",
       "      <th>9</th>\n",
       "      <td>0.363636</td>\n",
       "      <td>0.282353</td>\n",
       "      <td>0.002687</td>\n",
       "      <td>0.090909</td>\n",
       "      <td>0.000000</td>\n",
       "      <td>0.219697</td>\n",
       "      <td>0</td>\n",
       "      <td>1</td>\n",
       "    </tr>\n",
       "  </tbody>\n",
       "</table>\n",
       "</div>"
      ],
      "text/plain": [
       "        age      sCre       cpk        ef      sSod      time  hbp  \\\n",
       "0  0.454545  0.094118  0.012670  0.090909  0.095238  0.003788    0   \n",
       "1  0.272727  0.080000  0.017021  0.469697  0.476190  0.776515    0   \n",
       "2  0.818182  0.082353  0.010494  0.696970  0.238095  0.318182    0   \n",
       "3  0.309091  0.058824  0.010494  0.242424  0.619048  0.136364    0   \n",
       "4  0.400000  0.047059  0.023547  0.166667  0.619048  0.015152    1   \n",
       "5  0.272727  0.023529  0.100845  0.393939  0.619048  0.534091    0   \n",
       "6  0.254545  1.000000  0.048631  0.848485  0.476190  0.719697    1   \n",
       "7  0.545455  0.047059  0.006399  0.696970  0.523810  0.681818    1   \n",
       "8  0.418182  0.047059  0.007167  0.318182  0.428571  1.000000    0   \n",
       "9  0.363636  0.282353  0.002687  0.090909  0.000000  0.219697    0   \n",
       "\n",
       "   DEATH_EVENT  \n",
       "0            1  \n",
       "1            0  \n",
       "2            1  \n",
       "3            1  \n",
       "4            1  \n",
       "5            0  \n",
       "6            1  \n",
       "7            0  \n",
       "8            0  \n",
       "9            1  "
      ]
     },
     "execution_count": 95,
     "metadata": {},
     "output_type": "execute_result"
    }
   ],
   "source": [
    "# numerical scalling\n",
    "inference_cleaned[num_col] = scaler.transform(inference_cleaned[num_col])\n",
    "inference_cleaned"
   ]
  },
  {
   "cell_type": "code",
   "execution_count": 96,
   "metadata": {},
   "outputs": [],
   "source": [
    "X_inf = inference_cleaned.drop('DEATH_EVENT',axis=1).copy()"
   ]
  },
  {
   "cell_type": "code",
   "execution_count": 97,
   "metadata": {},
   "outputs": [
    {
     "data": {
      "text/html": [
       "<div>\n",
       "<style scoped>\n",
       "    .dataframe tbody tr th:only-of-type {\n",
       "        vertical-align: middle;\n",
       "    }\n",
       "\n",
       "    .dataframe tbody tr th {\n",
       "        vertical-align: top;\n",
       "    }\n",
       "\n",
       "    .dataframe thead th {\n",
       "        text-align: right;\n",
       "    }\n",
       "</style>\n",
       "<table border=\"1\" class=\"dataframe\">\n",
       "  <thead>\n",
       "    <tr style=\"text-align: right;\">\n",
       "      <th></th>\n",
       "      <th>RF Prediction</th>\n",
       "    </tr>\n",
       "  </thead>\n",
       "  <tbody>\n",
       "    <tr>\n",
       "      <th>0</th>\n",
       "      <td>1</td>\n",
       "    </tr>\n",
       "    <tr>\n",
       "      <th>1</th>\n",
       "      <td>0</td>\n",
       "    </tr>\n",
       "    <tr>\n",
       "      <th>2</th>\n",
       "      <td>1</td>\n",
       "    </tr>\n",
       "    <tr>\n",
       "      <th>3</th>\n",
       "      <td>1</td>\n",
       "    </tr>\n",
       "    <tr>\n",
       "      <th>4</th>\n",
       "      <td>1</td>\n",
       "    </tr>\n",
       "    <tr>\n",
       "      <th>5</th>\n",
       "      <td>0</td>\n",
       "    </tr>\n",
       "    <tr>\n",
       "      <th>6</th>\n",
       "      <td>1</td>\n",
       "    </tr>\n",
       "    <tr>\n",
       "      <th>7</th>\n",
       "      <td>0</td>\n",
       "    </tr>\n",
       "    <tr>\n",
       "      <th>8</th>\n",
       "      <td>0</td>\n",
       "    </tr>\n",
       "    <tr>\n",
       "      <th>9</th>\n",
       "      <td>1</td>\n",
       "    </tr>\n",
       "  </tbody>\n",
       "</table>\n",
       "</div>"
      ],
      "text/plain": [
       "   RF Prediction\n",
       "0              1\n",
       "1              0\n",
       "2              1\n",
       "3              1\n",
       "4              1\n",
       "5              0\n",
       "6              1\n",
       "7              0\n",
       "8              0\n",
       "9              1"
      ]
     },
     "execution_count": 97,
     "metadata": {},
     "output_type": "execute_result"
    }
   ],
   "source": [
    "y_pred_inf = rf_gridcv_best.predict(X_inf)\n",
    "y_pred_inf_df = pd.DataFrame(y_pred_inf, columns=['RF Prediction'])\n",
    "y_pred_inf_df"
   ]
  },
  {
   "cell_type": "code",
   "execution_count": 98,
   "metadata": {},
   "outputs": [
    {
     "data": {
      "text/html": [
       "<div>\n",
       "<style scoped>\n",
       "    .dataframe tbody tr th:only-of-type {\n",
       "        vertical-align: middle;\n",
       "    }\n",
       "\n",
       "    .dataframe tbody tr th {\n",
       "        vertical-align: top;\n",
       "    }\n",
       "\n",
       "    .dataframe thead th {\n",
       "        text-align: right;\n",
       "    }\n",
       "</style>\n",
       "<table border=\"1\" class=\"dataframe\">\n",
       "  <thead>\n",
       "    <tr style=\"text-align: right;\">\n",
       "      <th></th>\n",
       "      <th>age</th>\n",
       "      <th>sCre</th>\n",
       "      <th>cpk</th>\n",
       "      <th>ef</th>\n",
       "      <th>sSod</th>\n",
       "      <th>time</th>\n",
       "      <th>hbp</th>\n",
       "      <th>DEATH_EVENT</th>\n",
       "      <th>RF Prediction</th>\n",
       "    </tr>\n",
       "  </thead>\n",
       "  <tbody>\n",
       "    <tr>\n",
       "      <th>0</th>\n",
       "      <td>0.454545</td>\n",
       "      <td>0.094118</td>\n",
       "      <td>0.012670</td>\n",
       "      <td>0.090909</td>\n",
       "      <td>0.095238</td>\n",
       "      <td>0.003788</td>\n",
       "      <td>0</td>\n",
       "      <td>1</td>\n",
       "      <td>1</td>\n",
       "    </tr>\n",
       "    <tr>\n",
       "      <th>1</th>\n",
       "      <td>0.272727</td>\n",
       "      <td>0.080000</td>\n",
       "      <td>0.017021</td>\n",
       "      <td>0.469697</td>\n",
       "      <td>0.476190</td>\n",
       "      <td>0.776515</td>\n",
       "      <td>0</td>\n",
       "      <td>0</td>\n",
       "      <td>0</td>\n",
       "    </tr>\n",
       "    <tr>\n",
       "      <th>2</th>\n",
       "      <td>0.818182</td>\n",
       "      <td>0.082353</td>\n",
       "      <td>0.010494</td>\n",
       "      <td>0.696970</td>\n",
       "      <td>0.238095</td>\n",
       "      <td>0.318182</td>\n",
       "      <td>0</td>\n",
       "      <td>1</td>\n",
       "      <td>1</td>\n",
       "    </tr>\n",
       "    <tr>\n",
       "      <th>3</th>\n",
       "      <td>0.309091</td>\n",
       "      <td>0.058824</td>\n",
       "      <td>0.010494</td>\n",
       "      <td>0.242424</td>\n",
       "      <td>0.619048</td>\n",
       "      <td>0.136364</td>\n",
       "      <td>0</td>\n",
       "      <td>1</td>\n",
       "      <td>1</td>\n",
       "    </tr>\n",
       "    <tr>\n",
       "      <th>4</th>\n",
       "      <td>0.400000</td>\n",
       "      <td>0.047059</td>\n",
       "      <td>0.023547</td>\n",
       "      <td>0.166667</td>\n",
       "      <td>0.619048</td>\n",
       "      <td>0.015152</td>\n",
       "      <td>1</td>\n",
       "      <td>1</td>\n",
       "      <td>1</td>\n",
       "    </tr>\n",
       "    <tr>\n",
       "      <th>5</th>\n",
       "      <td>0.272727</td>\n",
       "      <td>0.023529</td>\n",
       "      <td>0.100845</td>\n",
       "      <td>0.393939</td>\n",
       "      <td>0.619048</td>\n",
       "      <td>0.534091</td>\n",
       "      <td>0</td>\n",
       "      <td>0</td>\n",
       "      <td>0</td>\n",
       "    </tr>\n",
       "    <tr>\n",
       "      <th>6</th>\n",
       "      <td>0.254545</td>\n",
       "      <td>1.000000</td>\n",
       "      <td>0.048631</td>\n",
       "      <td>0.848485</td>\n",
       "      <td>0.476190</td>\n",
       "      <td>0.719697</td>\n",
       "      <td>1</td>\n",
       "      <td>1</td>\n",
       "      <td>1</td>\n",
       "    </tr>\n",
       "    <tr>\n",
       "      <th>7</th>\n",
       "      <td>0.545455</td>\n",
       "      <td>0.047059</td>\n",
       "      <td>0.006399</td>\n",
       "      <td>0.696970</td>\n",
       "      <td>0.523810</td>\n",
       "      <td>0.681818</td>\n",
       "      <td>1</td>\n",
       "      <td>0</td>\n",
       "      <td>0</td>\n",
       "    </tr>\n",
       "    <tr>\n",
       "      <th>8</th>\n",
       "      <td>0.418182</td>\n",
       "      <td>0.047059</td>\n",
       "      <td>0.007167</td>\n",
       "      <td>0.318182</td>\n",
       "      <td>0.428571</td>\n",
       "      <td>1.000000</td>\n",
       "      <td>0</td>\n",
       "      <td>0</td>\n",
       "      <td>0</td>\n",
       "    </tr>\n",
       "    <tr>\n",
       "      <th>9</th>\n",
       "      <td>0.363636</td>\n",
       "      <td>0.282353</td>\n",
       "      <td>0.002687</td>\n",
       "      <td>0.090909</td>\n",
       "      <td>0.000000</td>\n",
       "      <td>0.219697</td>\n",
       "      <td>0</td>\n",
       "      <td>1</td>\n",
       "      <td>1</td>\n",
       "    </tr>\n",
       "  </tbody>\n",
       "</table>\n",
       "</div>"
      ],
      "text/plain": [
       "        age      sCre       cpk        ef      sSod      time  hbp  \\\n",
       "0  0.454545  0.094118  0.012670  0.090909  0.095238  0.003788    0   \n",
       "1  0.272727  0.080000  0.017021  0.469697  0.476190  0.776515    0   \n",
       "2  0.818182  0.082353  0.010494  0.696970  0.238095  0.318182    0   \n",
       "3  0.309091  0.058824  0.010494  0.242424  0.619048  0.136364    0   \n",
       "4  0.400000  0.047059  0.023547  0.166667  0.619048  0.015152    1   \n",
       "5  0.272727  0.023529  0.100845  0.393939  0.619048  0.534091    0   \n",
       "6  0.254545  1.000000  0.048631  0.848485  0.476190  0.719697    1   \n",
       "7  0.545455  0.047059  0.006399  0.696970  0.523810  0.681818    1   \n",
       "8  0.418182  0.047059  0.007167  0.318182  0.428571  1.000000    0   \n",
       "9  0.363636  0.282353  0.002687  0.090909  0.000000  0.219697    0   \n",
       "\n",
       "   DEATH_EVENT  RF Prediction  \n",
       "0            1              1  \n",
       "1            0              0  \n",
       "2            1              1  \n",
       "3            1              1  \n",
       "4            1              1  \n",
       "5            0              0  \n",
       "6            1              1  \n",
       "7            0              0  \n",
       "8            0              0  \n",
       "9            1              1  "
      ]
     },
     "execution_count": 98,
     "metadata": {},
     "output_type": "execute_result"
    }
   ],
   "source": [
    "# Joining inference data with predictions\n",
    "pd.concat([inference_cleaned,y_pred_inf_df], axis=1)"
   ]
  },
  {
   "cell_type": "markdown",
   "metadata": {},
   "source": [
    "Pada tahapan inference ini, model yang digunakan untuk memprediksi kematian akibat penderita gagal jantung yaitu menggunakan best model hasil dari crossvalidation (randomforest model) dengan hyperparameter tuning ({'criterion': 'entropy', 'max_depth': 6, 'min_samples_split': 4, 'n_estimators': 100}). Percobaan model tersebut pada data inference ini menghasilkan model dapat berjalan dengan sangat baik dan model dapat memprediksi dengan benar"
   ]
  },
  {
   "cell_type": "markdown",
   "metadata": {},
   "source": [
    "---"
   ]
  },
  {
   "cell_type": "markdown",
   "metadata": {},
   "source": [
    "## KESIMPULAN:\n",
    "\n",
    "Berdasarkan analisis yang telah dilakukan, kami berhasil membuat model machine learning untuk memprediksi apakah seseorang akan meninggal atau tidak yang disebabkan oleh gagal jantung.\n",
    "Berdasarkan hasil seleksi fitur, fitur numerik yang memiliki korelasi paling tinggi dengan target adalah serum_creatinine. Kemudian, fitur kategorik yang memiliki korelasi paling tinggi dengan target adalah high_blood_pressure.\n",
    "Sebelum dilakukannya modelling, dikarena data target dari awal merupakan data imbalance sehingga kami handling data target tersebut menjadi balance dengan menggunakan metode SMOTE.\n",
    "Model machine learning yang telah dibuat adalah RandomForest Classifier dan AdaBoostClassifier.\n",
    "Model RandomForest Classifier yang kami buat memiliki akurasi yang lebih tinggi dibandingkan AdaBoostClassifier dengan skor 0,83.\n",
    "Random forest dapat dijalankan pada tugas klasifikasi sekaligus regresi. Selain itu, algoritma ini juga mampu menghasilkan prediksi dengan tingkat akurasi tinggi yang mudah dipahami. Jika diterapkan pada kumpulan dataset berskala besar, random forest akan bekerja secara efisien. Sayangnya, kelebihan tersebut pun disertai dengan beberapa kelemahan. Untuk bisa menghasilkan prediksi dengan tingkat akurasi tinggi, diperlukan lebih banyak sumber daya dalam proses komputasi. Makin banyak sumber daya yang diperlukan, artinya makin banyak juga waktu yang diperlukan untuk bisa memprediksi hasil.\n",
    "\n",
    "Saran yang dapat kami berikan untuk proyek atau analisis tentang topik tersebut adalah:\n",
    "\n",
    "Usahakan mendapatkan data yang lebih banyak karena dataset yang digunakan dalam proyek ini adalah dataset kecil.\n",
    "kami sudah mencoba model classifier lain seperti GradientBoosting dan XGBoost Classifier, tapi ternyata tidak begitu bagus. Jadi, saran kami adalah mencoba model classifier lain dan mencoba dengan hyperparameter lainnya."
   ]
  },
  {
   "cell_type": "markdown",
   "metadata": {},
   "source": [
    "## CONCEPTUAL PROBLEM\n",
    "\n",
    "1. Apakah yang dimaksud dengan Bagging?\n",
    "\n",
    "Bagging dalam pembelajaran mesin mengacu pada algoritma pembelajaran ansambel yang menjalankan beberapa model basis homogen secara paralel dan menggabungkannya menggunakan metode rata-rata yang telah ditentukan sebelumnya. Random Forest adalah salah satu contoh dari algoritma bagging.\n",
    "\n",
    "2. Jelaskan perbedaan algoritma Random Forest dengan algoritma boosting yang Anda pilih?\n",
    "\n",
    "Perbedaan antara random forest dan adaptive boosting adalah cara model ansambel menjalankan model dasar (pengklasifikasi decision tree dalam kasus ini). Random Forest adalah algoritme bagging, yang artinya menjalankan beberapa model dasar secara paralel secara independen. Peningkatan adaptif atau AdaBoost adalah algoritme penguat, yang artinya menjalankan model dasar secara berurutan satu demi satu dengan belajar dari model sebelumnya secara berurutan. Algoritma bagging menghasilkan model yang memiliki variansi lebih rendah sedangkan algoritme boosting menghasilkan model yang memiliki bias lebih rendah.\n",
    "\n",
    "Referensi: https://towardsdatascience.com/ensemble-methods-bagging-boosting-and-stacking-c9214a10a205"
   ]
  }
 ],
 "metadata": {
  "kernelspec": {
   "display_name": "Python 3.9.12 ('base')",
   "language": "python",
   "name": "python3"
  },
  "language_info": {
   "codemirror_mode": {
    "name": "ipython",
    "version": 3
   },
   "file_extension": ".py",
   "mimetype": "text/x-python",
   "name": "python",
   "nbconvert_exporter": "python",
   "pygments_lexer": "ipython3",
   "version": "3.9.12"
  },
  "orig_nbformat": 4,
  "vscode": {
   "interpreter": {
    "hash": "7679c2132d3f6ce38c9df14d554b39c06862b36a4e6689c81f9ae15bd0911d7d"
   }
  }
 },
 "nbformat": 4,
 "nbformat_minor": 2
}
