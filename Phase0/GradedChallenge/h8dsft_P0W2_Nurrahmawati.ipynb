{
 "cells": [
  {
   "cell_type": "markdown",
   "metadata": {},
   "source": [
    "# Graded Challenge 2\n",
    "\n",
    "`Nurrahmawati Batch 002`"
   ]
  },
  {
   "cell_type": "markdown",
   "metadata": {},
   "source": [
    "## Description\n",
    "\n",
    "### Objective\n",
    "\n",
    "`I am a member of the Data Science team at Austin Smart City and am currently working on a project to analyze the waste management and disposal system in the city, especially in the management of garbage collection and single stream recycling. As a team member, based on the available data, I tried to analyze the data using descriptive and inferential statistics, as well as provide insight to the city of Austin regarding the state of the waste disposal and management system.`"
   ]
  },
  {
   "cell_type": "markdown",
   "metadata": {},
   "source": [
    "## Working Area\n",
    "### DATA EXTRACTION\n",
    "\n",
    "Data extraction from Bigquery using Google Cloud Platform (Bigquery-public-data table waste_and_diversion based on dataset in austin_waste ) \n",
    "```txt\n",
    "SELECT report_date,\n",
    "      load_time,\n",
    "      load_type,\n",
    "      load_weight,\n",
    "      dropoff_site\n",
    "FROM `bigquery-public-data.austin_waste.waste_and_diversion` \n",
    "WHERE report_date BETWEEN '2021-01-01' AND '2021-07-09'\n",
    "ORDER BY report_date ASC\n",
    "```\n",
    "From this data extraction, I take this data since 01 January 2021 to 09 July 2021 with attributes (columns) report_date, load_time, load_type, load_weight, and dropoff_site to make further analysis."
   ]
  },
  {
   "cell_type": "markdown",
   "metadata": {},
   "source": [
    "# Working Station Problem 1 (Statistics)\n",
    "### Libraries to be used in the analysis"
   ]
  },
  {
   "cell_type": "code",
   "execution_count": 1,
   "metadata": {},
   "outputs": [],
   "source": [
    "import numpy as np\n",
    "import pandas as pd\n",
    "from scipy import stats\n",
    "import matplotlib.pyplot as plt\n",
    "import seaborn as sns\n",
    "import warnings\n",
    "warnings.filterwarnings(\"ignore\")"
   ]
  },
  {
   "cell_type": "markdown",
   "metadata": {},
   "source": [
    "# Data Loading\n",
    "### Creating the data frame and showing the head and tail of the data"
   ]
  },
  {
   "cell_type": "code",
   "execution_count": 2,
   "metadata": {},
   "outputs": [
    {
     "data": {
      "text/html": [
       "<div>\n",
       "<style scoped>\n",
       "    .dataframe tbody tr th:only-of-type {\n",
       "        vertical-align: middle;\n",
       "    }\n",
       "\n",
       "    .dataframe tbody tr th {\n",
       "        vertical-align: top;\n",
       "    }\n",
       "\n",
       "    .dataframe thead th {\n",
       "        text-align: right;\n",
       "    }\n",
       "</style>\n",
       "<table border=\"1\" class=\"dataframe\">\n",
       "  <thead>\n",
       "    <tr style=\"text-align: right;\">\n",
       "      <th></th>\n",
       "      <th>report_date</th>\n",
       "      <th>load_time</th>\n",
       "      <th>load_type</th>\n",
       "      <th>load_weight</th>\n",
       "      <th>dropoff_site</th>\n",
       "    </tr>\n",
       "  </thead>\n",
       "  <tbody>\n",
       "    <tr>\n",
       "      <th>0</th>\n",
       "      <td>2021-01-01</td>\n",
       "      <td>2021-01-01 12:00:00 UTC</td>\n",
       "      <td>SWEEPING</td>\n",
       "      <td>NaN</td>\n",
       "      <td>ONION CREEK</td>\n",
       "    </tr>\n",
       "    <tr>\n",
       "      <th>1</th>\n",
       "      <td>2021-01-01</td>\n",
       "      <td>2021-01-01 12:00:00 UTC</td>\n",
       "      <td>SWEEPING</td>\n",
       "      <td>NaN</td>\n",
       "      <td>ONION CREEK</td>\n",
       "    </tr>\n",
       "    <tr>\n",
       "      <th>2</th>\n",
       "      <td>2021-01-01</td>\n",
       "      <td>2021-01-01 12:00:00 UTC</td>\n",
       "      <td>SWEEPING</td>\n",
       "      <td>NaN</td>\n",
       "      <td>ONION CREEK</td>\n",
       "    </tr>\n",
       "    <tr>\n",
       "      <th>3</th>\n",
       "      <td>2021-01-01</td>\n",
       "      <td>2021-01-01 12:00:00 UTC</td>\n",
       "      <td>SWEEPING</td>\n",
       "      <td>NaN</td>\n",
       "      <td>ONION CREEK</td>\n",
       "    </tr>\n",
       "    <tr>\n",
       "      <th>4</th>\n",
       "      <td>2021-01-02</td>\n",
       "      <td>2021-01-02 09:24:00 UTC</td>\n",
       "      <td>TIRES</td>\n",
       "      <td>1640.0</td>\n",
       "      <td>MRF</td>\n",
       "    </tr>\n",
       "    <tr>\n",
       "      <th>...</th>\n",
       "      <td>...</td>\n",
       "      <td>...</td>\n",
       "      <td>...</td>\n",
       "      <td>...</td>\n",
       "      <td>...</td>\n",
       "    </tr>\n",
       "    <tr>\n",
       "      <th>26152</th>\n",
       "      <td>2021-07-09</td>\n",
       "      <td>2021-07-09 09:48:00 UTC</td>\n",
       "      <td>BRUSH</td>\n",
       "      <td>8240.0</td>\n",
       "      <td>HORNSBY BEND</td>\n",
       "    </tr>\n",
       "    <tr>\n",
       "      <th>26153</th>\n",
       "      <td>2021-07-09</td>\n",
       "      <td>2021-07-09 12:02:00 UTC</td>\n",
       "      <td>BRUSH</td>\n",
       "      <td>4160.0</td>\n",
       "      <td>HORNSBY BEND</td>\n",
       "    </tr>\n",
       "    <tr>\n",
       "      <th>26154</th>\n",
       "      <td>2021-07-09</td>\n",
       "      <td>2021-07-09 11:55:00 UTC</td>\n",
       "      <td>BRUSH</td>\n",
       "      <td>4340.0</td>\n",
       "      <td>HORNSBY BEND</td>\n",
       "    </tr>\n",
       "    <tr>\n",
       "      <th>26155</th>\n",
       "      <td>2021-07-09</td>\n",
       "      <td>2021-07-09 12:00:00 UTC</td>\n",
       "      <td>LITTER</td>\n",
       "      <td>1900.0</td>\n",
       "      <td>TDS LANDFILL</td>\n",
       "    </tr>\n",
       "    <tr>\n",
       "      <th>26156</th>\n",
       "      <td>2021-07-09</td>\n",
       "      <td>2021-07-09 12:00:00 UTC</td>\n",
       "      <td>LITTER</td>\n",
       "      <td>3040.0</td>\n",
       "      <td>TDS LANDFILL</td>\n",
       "    </tr>\n",
       "  </tbody>\n",
       "</table>\n",
       "<p>26157 rows × 5 columns</p>\n",
       "</div>"
      ],
      "text/plain": [
       "      report_date                load_time load_type  load_weight  \\\n",
       "0      2021-01-01  2021-01-01 12:00:00 UTC  SWEEPING          NaN   \n",
       "1      2021-01-01  2021-01-01 12:00:00 UTC  SWEEPING          NaN   \n",
       "2      2021-01-01  2021-01-01 12:00:00 UTC  SWEEPING          NaN   \n",
       "3      2021-01-01  2021-01-01 12:00:00 UTC  SWEEPING          NaN   \n",
       "4      2021-01-02  2021-01-02 09:24:00 UTC     TIRES       1640.0   \n",
       "...           ...                      ...       ...          ...   \n",
       "26152  2021-07-09  2021-07-09 09:48:00 UTC     BRUSH       8240.0   \n",
       "26153  2021-07-09  2021-07-09 12:02:00 UTC     BRUSH       4160.0   \n",
       "26154  2021-07-09  2021-07-09 11:55:00 UTC     BRUSH       4340.0   \n",
       "26155  2021-07-09  2021-07-09 12:00:00 UTC    LITTER       1900.0   \n",
       "26156  2021-07-09  2021-07-09 12:00:00 UTC    LITTER       3040.0   \n",
       "\n",
       "       dropoff_site  \n",
       "0       ONION CREEK  \n",
       "1       ONION CREEK  \n",
       "2       ONION CREEK  \n",
       "3       ONION CREEK  \n",
       "4               MRF  \n",
       "...             ...  \n",
       "26152  HORNSBY BEND  \n",
       "26153  HORNSBY BEND  \n",
       "26154  HORNSBY BEND  \n",
       "26155  TDS LANDFILL  \n",
       "26156  TDS LANDFILL  \n",
       "\n",
       "[26157 rows x 5 columns]"
      ]
     },
     "execution_count": 2,
     "metadata": {},
     "output_type": "execute_result"
    }
   ],
   "source": [
    "df = pd.read_csv('h8dsft_P0GC2_Nurrahmawati.csv')\n",
    "df"
   ]
  },
  {
   "cell_type": "markdown",
   "metadata": {},
   "source": [
    "From the results of the data extraction, then loading the data in the form of csv to be displayed so that the data can be processed for further analysis. The data consists of 26157 rows and 5 columns."
   ]
  },
  {
   "cell_type": "code",
   "execution_count": 3,
   "metadata": {},
   "outputs": [
    {
     "data": {
      "text/html": [
       "<div>\n",
       "<style scoped>\n",
       "    .dataframe tbody tr th:only-of-type {\n",
       "        vertical-align: middle;\n",
       "    }\n",
       "\n",
       "    .dataframe tbody tr th {\n",
       "        vertical-align: top;\n",
       "    }\n",
       "\n",
       "    .dataframe thead th {\n",
       "        text-align: right;\n",
       "    }\n",
       "</style>\n",
       "<table border=\"1\" class=\"dataframe\">\n",
       "  <thead>\n",
       "    <tr style=\"text-align: right;\">\n",
       "      <th></th>\n",
       "      <th>report_date</th>\n",
       "      <th>load_time</th>\n",
       "      <th>load_type</th>\n",
       "      <th>load_weight</th>\n",
       "      <th>dropoff_site</th>\n",
       "    </tr>\n",
       "  </thead>\n",
       "  <tbody>\n",
       "    <tr>\n",
       "      <th>0</th>\n",
       "      <td>2021-01-01</td>\n",
       "      <td>2021-01-01 12:00:00 UTC</td>\n",
       "      <td>SWEEPING</td>\n",
       "      <td>NaN</td>\n",
       "      <td>ONION CREEK</td>\n",
       "    </tr>\n",
       "    <tr>\n",
       "      <th>1</th>\n",
       "      <td>2021-01-01</td>\n",
       "      <td>2021-01-01 12:00:00 UTC</td>\n",
       "      <td>SWEEPING</td>\n",
       "      <td>NaN</td>\n",
       "      <td>ONION CREEK</td>\n",
       "    </tr>\n",
       "    <tr>\n",
       "      <th>2</th>\n",
       "      <td>2021-01-01</td>\n",
       "      <td>2021-01-01 12:00:00 UTC</td>\n",
       "      <td>SWEEPING</td>\n",
       "      <td>NaN</td>\n",
       "      <td>ONION CREEK</td>\n",
       "    </tr>\n",
       "    <tr>\n",
       "      <th>3</th>\n",
       "      <td>2021-01-01</td>\n",
       "      <td>2021-01-01 12:00:00 UTC</td>\n",
       "      <td>SWEEPING</td>\n",
       "      <td>NaN</td>\n",
       "      <td>ONION CREEK</td>\n",
       "    </tr>\n",
       "    <tr>\n",
       "      <th>4</th>\n",
       "      <td>2021-01-02</td>\n",
       "      <td>2021-01-02 09:24:00 UTC</td>\n",
       "      <td>TIRES</td>\n",
       "      <td>1640.0</td>\n",
       "      <td>MRF</td>\n",
       "    </tr>\n",
       "  </tbody>\n",
       "</table>\n",
       "</div>"
      ],
      "text/plain": [
       "  report_date                load_time load_type  load_weight dropoff_site\n",
       "0  2021-01-01  2021-01-01 12:00:00 UTC  SWEEPING          NaN  ONION CREEK\n",
       "1  2021-01-01  2021-01-01 12:00:00 UTC  SWEEPING          NaN  ONION CREEK\n",
       "2  2021-01-01  2021-01-01 12:00:00 UTC  SWEEPING          NaN  ONION CREEK\n",
       "3  2021-01-01  2021-01-01 12:00:00 UTC  SWEEPING          NaN  ONION CREEK\n",
       "4  2021-01-02  2021-01-02 09:24:00 UTC     TIRES       1640.0          MRF"
      ]
     },
     "execution_count": 3,
     "metadata": {},
     "output_type": "execute_result"
    }
   ],
   "source": [
    "df.head()"
   ]
  },
  {
   "cell_type": "markdown",
   "metadata": {},
   "source": [
    "From this data, we can see that the data is showed by 5 rows in sequence from above"
   ]
  },
  {
   "cell_type": "code",
   "execution_count": 4,
   "metadata": {},
   "outputs": [
    {
     "data": {
      "text/html": [
       "<div>\n",
       "<style scoped>\n",
       "    .dataframe tbody tr th:only-of-type {\n",
       "        vertical-align: middle;\n",
       "    }\n",
       "\n",
       "    .dataframe tbody tr th {\n",
       "        vertical-align: top;\n",
       "    }\n",
       "\n",
       "    .dataframe thead th {\n",
       "        text-align: right;\n",
       "    }\n",
       "</style>\n",
       "<table border=\"1\" class=\"dataframe\">\n",
       "  <thead>\n",
       "    <tr style=\"text-align: right;\">\n",
       "      <th></th>\n",
       "      <th>report_date</th>\n",
       "      <th>load_time</th>\n",
       "      <th>load_type</th>\n",
       "      <th>load_weight</th>\n",
       "      <th>dropoff_site</th>\n",
       "    </tr>\n",
       "  </thead>\n",
       "  <tbody>\n",
       "    <tr>\n",
       "      <th>26152</th>\n",
       "      <td>2021-07-09</td>\n",
       "      <td>2021-07-09 09:48:00 UTC</td>\n",
       "      <td>BRUSH</td>\n",
       "      <td>8240.0</td>\n",
       "      <td>HORNSBY BEND</td>\n",
       "    </tr>\n",
       "    <tr>\n",
       "      <th>26153</th>\n",
       "      <td>2021-07-09</td>\n",
       "      <td>2021-07-09 12:02:00 UTC</td>\n",
       "      <td>BRUSH</td>\n",
       "      <td>4160.0</td>\n",
       "      <td>HORNSBY BEND</td>\n",
       "    </tr>\n",
       "    <tr>\n",
       "      <th>26154</th>\n",
       "      <td>2021-07-09</td>\n",
       "      <td>2021-07-09 11:55:00 UTC</td>\n",
       "      <td>BRUSH</td>\n",
       "      <td>4340.0</td>\n",
       "      <td>HORNSBY BEND</td>\n",
       "    </tr>\n",
       "    <tr>\n",
       "      <th>26155</th>\n",
       "      <td>2021-07-09</td>\n",
       "      <td>2021-07-09 12:00:00 UTC</td>\n",
       "      <td>LITTER</td>\n",
       "      <td>1900.0</td>\n",
       "      <td>TDS LANDFILL</td>\n",
       "    </tr>\n",
       "    <tr>\n",
       "      <th>26156</th>\n",
       "      <td>2021-07-09</td>\n",
       "      <td>2021-07-09 12:00:00 UTC</td>\n",
       "      <td>LITTER</td>\n",
       "      <td>3040.0</td>\n",
       "      <td>TDS LANDFILL</td>\n",
       "    </tr>\n",
       "  </tbody>\n",
       "</table>\n",
       "</div>"
      ],
      "text/plain": [
       "      report_date                load_time load_type  load_weight  \\\n",
       "26152  2021-07-09  2021-07-09 09:48:00 UTC     BRUSH       8240.0   \n",
       "26153  2021-07-09  2021-07-09 12:02:00 UTC     BRUSH       4160.0   \n",
       "26154  2021-07-09  2021-07-09 11:55:00 UTC     BRUSH       4340.0   \n",
       "26155  2021-07-09  2021-07-09 12:00:00 UTC    LITTER       1900.0   \n",
       "26156  2021-07-09  2021-07-09 12:00:00 UTC    LITTER       3040.0   \n",
       "\n",
       "       dropoff_site  \n",
       "26152  HORNSBY BEND  \n",
       "26153  HORNSBY BEND  \n",
       "26154  HORNSBY BEND  \n",
       "26155  TDS LANDFILL  \n",
       "26156  TDS LANDFILL  "
      ]
     },
     "execution_count": 4,
     "metadata": {},
     "output_type": "execute_result"
    }
   ],
   "source": [
    "df.tail()"
   ]
  },
  {
   "cell_type": "markdown",
   "metadata": {},
   "source": [
    "Data is displayed in 5 rows in sequence from the bottom"
   ]
  },
  {
   "cell_type": "code",
   "execution_count": 5,
   "metadata": {},
   "outputs": [
    {
     "name": "stdout",
     "output_type": "stream",
     "text": [
      "<class 'pandas.core.frame.DataFrame'>\n",
      "RangeIndex: 26157 entries, 0 to 26156\n",
      "Data columns (total 5 columns):\n",
      " #   Column        Non-Null Count  Dtype  \n",
      "---  ------        --------------  -----  \n",
      " 0   report_date   26157 non-null  object \n",
      " 1   load_time     26157 non-null  object \n",
      " 2   load_type     26157 non-null  object \n",
      " 3   load_weight   25109 non-null  float64\n",
      " 4   dropoff_site  26157 non-null  object \n",
      "dtypes: float64(1), object(4)\n",
      "memory usage: 1021.9+ KB\n"
     ]
    }
   ],
   "source": [
    "df.info()"
   ]
  },
  {
   "cell_type": "markdown",
   "metadata": {},
   "source": [
    "From the info, we can see that the load_weight data does not match the other attributes:\n",
    "### The load data does not represent all 26157 data of other attributes. For load_weight data is showing a great discrepancy with only 25109 entries data."
   ]
  },
  {
   "cell_type": "markdown",
   "metadata": {},
   "source": [
    "# DATA CLEANING\n",
    "## Missing Value Handling\n",
    "\n",
    "```text\n",
    "Since this is missing values in the load_weight columns. Let us explore whether there are other missing values or not\n",
    "```"
   ]
  },
  {
   "cell_type": "code",
   "execution_count": 6,
   "metadata": {},
   "outputs": [
    {
     "data": {
      "text/plain": [
       "report_date        0\n",
       "load_time          0\n",
       "load_type          0\n",
       "load_weight     1048\n",
       "dropoff_site       0\n",
       "dtype: int64"
      ]
     },
     "execution_count": 6,
     "metadata": {},
     "output_type": "execute_result"
    }
   ],
   "source": [
    "df.isnull().sum()"
   ]
  },
  {
   "cell_type": "markdown",
   "metadata": {},
   "source": [
    "```text\n",
    "While there are no standard missing value in other columns, I have discovered that there are 1048 missing values of the load_weight columns.\n",
    "\n",
    "Since the \"0\" in the columns does not represent missing value. \n",
    "```"
   ]
  },
  {
   "cell_type": "markdown",
   "metadata": {},
   "source": [
    "---"
   ]
  },
  {
   "cell_type": "markdown",
   "metadata": {},
   "source": [
    "There are several methods to perform null value handling. The two most common methods are drop and fill.\n",
    "\n",
    "The `drop function` will remove all null values in the dataset while the `fill function` will fill the null values with the desired value.\n",
    "\n",
    "Before choosing the method to be used, I will do a little analysis of the dataset that has been loaded."
   ]
  },
  {
   "cell_type": "code",
   "execution_count": 7,
   "metadata": {},
   "outputs": [
    {
     "data": {
      "text/html": [
       "<div>\n",
       "<style scoped>\n",
       "    .dataframe tbody tr th:only-of-type {\n",
       "        vertical-align: middle;\n",
       "    }\n",
       "\n",
       "    .dataframe tbody tr th {\n",
       "        vertical-align: top;\n",
       "    }\n",
       "\n",
       "    .dataframe thead th {\n",
       "        text-align: right;\n",
       "    }\n",
       "</style>\n",
       "<table border=\"1\" class=\"dataframe\">\n",
       "  <thead>\n",
       "    <tr style=\"text-align: right;\">\n",
       "      <th></th>\n",
       "      <th>report_date</th>\n",
       "      <th>load_time</th>\n",
       "      <th>load_type</th>\n",
       "      <th>load_weight</th>\n",
       "      <th>dropoff_site</th>\n",
       "    </tr>\n",
       "  </thead>\n",
       "  <tbody>\n",
       "    <tr>\n",
       "      <th>0</th>\n",
       "      <td>2021-01-01</td>\n",
       "      <td>2021-01-01 12:00:00 UTC</td>\n",
       "      <td>SWEEPING</td>\n",
       "      <td>NaN</td>\n",
       "      <td>ONION CREEK</td>\n",
       "    </tr>\n",
       "    <tr>\n",
       "      <th>1</th>\n",
       "      <td>2021-01-01</td>\n",
       "      <td>2021-01-01 12:00:00 UTC</td>\n",
       "      <td>SWEEPING</td>\n",
       "      <td>NaN</td>\n",
       "      <td>ONION CREEK</td>\n",
       "    </tr>\n",
       "    <tr>\n",
       "      <th>2</th>\n",
       "      <td>2021-01-01</td>\n",
       "      <td>2021-01-01 12:00:00 UTC</td>\n",
       "      <td>SWEEPING</td>\n",
       "      <td>NaN</td>\n",
       "      <td>ONION CREEK</td>\n",
       "    </tr>\n",
       "    <tr>\n",
       "      <th>3</th>\n",
       "      <td>2021-01-01</td>\n",
       "      <td>2021-01-01 12:00:00 UTC</td>\n",
       "      <td>SWEEPING</td>\n",
       "      <td>NaN</td>\n",
       "      <td>ONION CREEK</td>\n",
       "    </tr>\n",
       "    <tr>\n",
       "      <th>8</th>\n",
       "      <td>2021-01-02</td>\n",
       "      <td>2021-01-02 12:00:00 UTC</td>\n",
       "      <td>SWEEPING</td>\n",
       "      <td>NaN</td>\n",
       "      <td>ONION CREEK</td>\n",
       "    </tr>\n",
       "    <tr>\n",
       "      <th>...</th>\n",
       "      <td>...</td>\n",
       "      <td>...</td>\n",
       "      <td>...</td>\n",
       "      <td>...</td>\n",
       "      <td>...</td>\n",
       "    </tr>\n",
       "    <tr>\n",
       "      <th>26131</th>\n",
       "      <td>2021-07-09</td>\n",
       "      <td>2021-07-09 12:00:00 UTC</td>\n",
       "      <td>SWEEPING</td>\n",
       "      <td>NaN</td>\n",
       "      <td>ONION CREEK</td>\n",
       "    </tr>\n",
       "    <tr>\n",
       "      <th>26132</th>\n",
       "      <td>2021-07-09</td>\n",
       "      <td>2021-07-09 12:00:00 UTC</td>\n",
       "      <td>SWEEPING</td>\n",
       "      <td>NaN</td>\n",
       "      <td>ONION CREEK</td>\n",
       "    </tr>\n",
       "    <tr>\n",
       "      <th>26133</th>\n",
       "      <td>2021-07-09</td>\n",
       "      <td>2021-07-09 12:00:00 UTC</td>\n",
       "      <td>SWEEPING</td>\n",
       "      <td>NaN</td>\n",
       "      <td>ONION CREEK</td>\n",
       "    </tr>\n",
       "    <tr>\n",
       "      <th>26134</th>\n",
       "      <td>2021-07-09</td>\n",
       "      <td>2021-07-09 12:00:00 UTC</td>\n",
       "      <td>SWEEPING</td>\n",
       "      <td>NaN</td>\n",
       "      <td>ONION CREEK</td>\n",
       "    </tr>\n",
       "    <tr>\n",
       "      <th>26135</th>\n",
       "      <td>2021-07-09</td>\n",
       "      <td>2021-07-09 12:00:00 UTC</td>\n",
       "      <td>SWEEPING</td>\n",
       "      <td>NaN</td>\n",
       "      <td>ONION CREEK</td>\n",
       "    </tr>\n",
       "  </tbody>\n",
       "</table>\n",
       "<p>1048 rows × 5 columns</p>\n",
       "</div>"
      ],
      "text/plain": [
       "      report_date                load_time load_type  load_weight dropoff_site\n",
       "0      2021-01-01  2021-01-01 12:00:00 UTC  SWEEPING          NaN  ONION CREEK\n",
       "1      2021-01-01  2021-01-01 12:00:00 UTC  SWEEPING          NaN  ONION CREEK\n",
       "2      2021-01-01  2021-01-01 12:00:00 UTC  SWEEPING          NaN  ONION CREEK\n",
       "3      2021-01-01  2021-01-01 12:00:00 UTC  SWEEPING          NaN  ONION CREEK\n",
       "8      2021-01-02  2021-01-02 12:00:00 UTC  SWEEPING          NaN  ONION CREEK\n",
       "...           ...                      ...       ...          ...          ...\n",
       "26131  2021-07-09  2021-07-09 12:00:00 UTC  SWEEPING          NaN  ONION CREEK\n",
       "26132  2021-07-09  2021-07-09 12:00:00 UTC  SWEEPING          NaN  ONION CREEK\n",
       "26133  2021-07-09  2021-07-09 12:00:00 UTC  SWEEPING          NaN  ONION CREEK\n",
       "26134  2021-07-09  2021-07-09 12:00:00 UTC  SWEEPING          NaN  ONION CREEK\n",
       "26135  2021-07-09  2021-07-09 12:00:00 UTC  SWEEPING          NaN  ONION CREEK\n",
       "\n",
       "[1048 rows x 5 columns]"
      ]
     },
     "execution_count": 7,
     "metadata": {},
     "output_type": "execute_result"
    }
   ],
   "source": [
    "df[df.isna().any(axis=1)]"
   ]
  },
  {
   "cell_type": "markdown",
   "metadata": {},
   "source": [
    "By using the `isna` function, I get the result that most of the null values come from the `load_type` column with category `SWEEPING`.\n",
    "\n",
    "The `isna` function is used to find null values in the dataset and by using the `axis = 1` parameter, the search will be based on the columns in the dataset."
   ]
  },
  {
   "cell_type": "markdown",
   "metadata": {},
   "source": [
    "Next, I will calculate how significant is `load_type` sweeping is on the dataset in order to maintain the distribution of the data."
   ]
  },
  {
   "cell_type": "code",
   "execution_count": 8,
   "metadata": {},
   "outputs": [
    {
     "data": {
      "text/plain": [
       "GARBAGE COLLECTIONS          8242\n",
       "RECYCLING - SINGLE STREAM    6760\n",
       "ORGANICS                     5763\n",
       "BULK                         1594\n",
       "BRUSH                        1517\n",
       "SWEEPING                     1390\n",
       "MIXED LITTER                  329\n",
       "TIRES                         175\n",
       "DEAD ANIMAL                   150\n",
       "YARD TRIMMING                 137\n",
       "RECYCLED METAL                 57\n",
       "LITTER                         41\n",
       "CONTAMINATED RECYCLING          1\n",
       "CONTAMINATED ORGANICS           1\n",
       "Name: load_type, dtype: int64"
      ]
     },
     "execution_count": 8,
     "metadata": {},
     "output_type": "execute_result"
    }
   ],
   "source": [
    "# count the frequency of occurrence of each category on `load_type` in the dataset\n",
    "\n",
    "df['load_type'].value_counts()"
   ]
  },
  {
   "cell_type": "markdown",
   "metadata": {},
   "source": [
    "I assume the `SWEEPING` category in `load_type` is an activity such as sweeping the road or sweeping certain sites with large numbers of load types on certain sites. And because of that I will fill the null value in the `SWEEPING` category with a value of 0."
   ]
  },
  {
   "cell_type": "code",
   "execution_count": 9,
   "metadata": {},
   "outputs": [],
   "source": [
    "df['load_weight'] = df['load_weight'].fillna(0)"
   ]
  },
  {
   "cell_type": "code",
   "execution_count": 10,
   "metadata": {},
   "outputs": [
    {
     "data": {
      "text/plain": [
       "report_date     0\n",
       "load_time       0\n",
       "load_type       0\n",
       "load_weight     0\n",
       "dropoff_site    0\n",
       "dtype: int64"
      ]
     },
     "execution_count": 10,
     "metadata": {},
     "output_type": "execute_result"
    }
   ],
   "source": [
    "df.isnull().sum()"
   ]
  },
  {
   "cell_type": "code",
   "execution_count": 11,
   "metadata": {},
   "outputs": [
    {
     "data": {
      "text/html": [
       "<div>\n",
       "<style scoped>\n",
       "    .dataframe tbody tr th:only-of-type {\n",
       "        vertical-align: middle;\n",
       "    }\n",
       "\n",
       "    .dataframe tbody tr th {\n",
       "        vertical-align: top;\n",
       "    }\n",
       "\n",
       "    .dataframe thead th {\n",
       "        text-align: right;\n",
       "    }\n",
       "</style>\n",
       "<table border=\"1\" class=\"dataframe\">\n",
       "  <thead>\n",
       "    <tr style=\"text-align: right;\">\n",
       "      <th></th>\n",
       "      <th>report_date</th>\n",
       "      <th>load_time</th>\n",
       "      <th>load_type</th>\n",
       "      <th>load_weight</th>\n",
       "      <th>dropoff_site</th>\n",
       "    </tr>\n",
       "  </thead>\n",
       "  <tbody>\n",
       "    <tr>\n",
       "      <th>0</th>\n",
       "      <td>2021-01-01</td>\n",
       "      <td>2021-01-01 12:00:00 UTC</td>\n",
       "      <td>SWEEPING</td>\n",
       "      <td>0.0</td>\n",
       "      <td>ONION CREEK</td>\n",
       "    </tr>\n",
       "    <tr>\n",
       "      <th>1</th>\n",
       "      <td>2021-01-01</td>\n",
       "      <td>2021-01-01 12:00:00 UTC</td>\n",
       "      <td>SWEEPING</td>\n",
       "      <td>0.0</td>\n",
       "      <td>ONION CREEK</td>\n",
       "    </tr>\n",
       "    <tr>\n",
       "      <th>2</th>\n",
       "      <td>2021-01-01</td>\n",
       "      <td>2021-01-01 12:00:00 UTC</td>\n",
       "      <td>SWEEPING</td>\n",
       "      <td>0.0</td>\n",
       "      <td>ONION CREEK</td>\n",
       "    </tr>\n",
       "    <tr>\n",
       "      <th>3</th>\n",
       "      <td>2021-01-01</td>\n",
       "      <td>2021-01-01 12:00:00 UTC</td>\n",
       "      <td>SWEEPING</td>\n",
       "      <td>0.0</td>\n",
       "      <td>ONION CREEK</td>\n",
       "    </tr>\n",
       "    <tr>\n",
       "      <th>4</th>\n",
       "      <td>2021-01-02</td>\n",
       "      <td>2021-01-02 09:24:00 UTC</td>\n",
       "      <td>TIRES</td>\n",
       "      <td>1640.0</td>\n",
       "      <td>MRF</td>\n",
       "    </tr>\n",
       "    <tr>\n",
       "      <th>...</th>\n",
       "      <td>...</td>\n",
       "      <td>...</td>\n",
       "      <td>...</td>\n",
       "      <td>...</td>\n",
       "      <td>...</td>\n",
       "    </tr>\n",
       "    <tr>\n",
       "      <th>26152</th>\n",
       "      <td>2021-07-09</td>\n",
       "      <td>2021-07-09 09:48:00 UTC</td>\n",
       "      <td>BRUSH</td>\n",
       "      <td>8240.0</td>\n",
       "      <td>HORNSBY BEND</td>\n",
       "    </tr>\n",
       "    <tr>\n",
       "      <th>26153</th>\n",
       "      <td>2021-07-09</td>\n",
       "      <td>2021-07-09 12:02:00 UTC</td>\n",
       "      <td>BRUSH</td>\n",
       "      <td>4160.0</td>\n",
       "      <td>HORNSBY BEND</td>\n",
       "    </tr>\n",
       "    <tr>\n",
       "      <th>26154</th>\n",
       "      <td>2021-07-09</td>\n",
       "      <td>2021-07-09 11:55:00 UTC</td>\n",
       "      <td>BRUSH</td>\n",
       "      <td>4340.0</td>\n",
       "      <td>HORNSBY BEND</td>\n",
       "    </tr>\n",
       "    <tr>\n",
       "      <th>26155</th>\n",
       "      <td>2021-07-09</td>\n",
       "      <td>2021-07-09 12:00:00 UTC</td>\n",
       "      <td>LITTER</td>\n",
       "      <td>1900.0</td>\n",
       "      <td>TDS LANDFILL</td>\n",
       "    </tr>\n",
       "    <tr>\n",
       "      <th>26156</th>\n",
       "      <td>2021-07-09</td>\n",
       "      <td>2021-07-09 12:00:00 UTC</td>\n",
       "      <td>LITTER</td>\n",
       "      <td>3040.0</td>\n",
       "      <td>TDS LANDFILL</td>\n",
       "    </tr>\n",
       "  </tbody>\n",
       "</table>\n",
       "<p>26157 rows × 5 columns</p>\n",
       "</div>"
      ],
      "text/plain": [
       "      report_date                load_time load_type  load_weight  \\\n",
       "0      2021-01-01  2021-01-01 12:00:00 UTC  SWEEPING          0.0   \n",
       "1      2021-01-01  2021-01-01 12:00:00 UTC  SWEEPING          0.0   \n",
       "2      2021-01-01  2021-01-01 12:00:00 UTC  SWEEPING          0.0   \n",
       "3      2021-01-01  2021-01-01 12:00:00 UTC  SWEEPING          0.0   \n",
       "4      2021-01-02  2021-01-02 09:24:00 UTC     TIRES       1640.0   \n",
       "...           ...                      ...       ...          ...   \n",
       "26152  2021-07-09  2021-07-09 09:48:00 UTC     BRUSH       8240.0   \n",
       "26153  2021-07-09  2021-07-09 12:02:00 UTC     BRUSH       4160.0   \n",
       "26154  2021-07-09  2021-07-09 11:55:00 UTC     BRUSH       4340.0   \n",
       "26155  2021-07-09  2021-07-09 12:00:00 UTC    LITTER       1900.0   \n",
       "26156  2021-07-09  2021-07-09 12:00:00 UTC    LITTER       3040.0   \n",
       "\n",
       "       dropoff_site  \n",
       "0       ONION CREEK  \n",
       "1       ONION CREEK  \n",
       "2       ONION CREEK  \n",
       "3       ONION CREEK  \n",
       "4               MRF  \n",
       "...             ...  \n",
       "26152  HORNSBY BEND  \n",
       "26153  HORNSBY BEND  \n",
       "26154  HORNSBY BEND  \n",
       "26155  TDS LANDFILL  \n",
       "26156  TDS LANDFILL  \n",
       "\n",
       "[26157 rows x 5 columns]"
      ]
     },
     "execution_count": 11,
     "metadata": {},
     "output_type": "execute_result"
    }
   ],
   "source": [
    "df"
   ]
  },
  {
   "cell_type": "markdown",
   "metadata": {},
   "source": [
    "---"
   ]
  },
  {
   "cell_type": "code",
   "execution_count": 12,
   "metadata": {},
   "outputs": [
    {
     "data": {
      "text/plain": [
       "'2021-01-01'"
      ]
     },
     "execution_count": 12,
     "metadata": {},
     "output_type": "execute_result"
    }
   ],
   "source": [
    "min_date = df['report_date'].min()\n",
    "min_date"
   ]
  },
  {
   "cell_type": "code",
   "execution_count": 13,
   "metadata": {},
   "outputs": [
    {
     "data": {
      "text/plain": [
       "'2021-07-09'"
      ]
     },
     "execution_count": 13,
     "metadata": {},
     "output_type": "execute_result"
    }
   ],
   "source": [
    "max_date = df['report_date'].max()\n",
    "max_date"
   ]
  },
  {
   "cell_type": "code",
   "execution_count": 14,
   "metadata": {},
   "outputs": [
    {
     "name": "stdout",
     "output_type": "stream",
     "text": [
      "Rentang waktu dari pengambilan data ini dimulai pada tanggal 2021-01-01 hingga 2021-07-09\n"
     ]
    }
   ],
   "source": [
    "print(f'Rentang waktu dari pengambilan data ini dimulai pada tanggal {min_date} hingga {max_date}')"
   ]
  },
  {
   "cell_type": "markdown",
   "metadata": {},
   "source": [
    "From this data, it can be shown that the data retrieval time span in this analysis is only on January 1, 2021 to July 09, 2021, by looking at the minimum and maximum dates in this data."
   ]
  },
  {
   "cell_type": "code",
   "execution_count": 15,
   "metadata": {},
   "outputs": [
    {
     "data": {
      "text/plain": [
       "array(['ONION CREEK', 'MRF', 'TDS - MRF', 'HORNSBY BEND', 'TDS LANDFILL',\n",
       "       'ORGANICS BY GOSH', 'BALCONES RECYCLING', 'AUSTIN IRON AND METAL',\n",
       "       'PARK CENTER', 'ON ROUTE HIGH DUMP', 'WILCAB', 'GREAT NORTHERN',\n",
       "       'AUSTIN WOOD RECYCLING', 'PARK BEND', 'BALCONES WOODS',\n",
       "       'STEINER LANDFILL', 'WESTFIELD', 'ST. EDWARDS'], dtype=object)"
      ]
     },
     "execution_count": 15,
     "metadata": {},
     "output_type": "execute_result"
    }
   ],
   "source": [
    "df['dropoff_site'].unique()"
   ]
  },
  {
   "cell_type": "markdown",
   "metadata": {},
   "source": [
    "from this unique, We could know the dropoff site places in the Austin Smart City"
   ]
  },
  {
   "cell_type": "code",
   "execution_count": 16,
   "metadata": {},
   "outputs": [
    {
     "data": {
      "text/plain": [
       "array(['SWEEPING', 'TIRES', 'RECYCLING - SINGLE STREAM', 'YARD TRIMMING',\n",
       "       'BULK', 'DEAD ANIMAL', 'GARBAGE COLLECTIONS', 'MIXED LITTER',\n",
       "       'ORGANICS', 'BRUSH', 'RECYCLED METAL', 'LITTER',\n",
       "       'CONTAMINATED RECYCLING', 'CONTAMINATED ORGANICS'], dtype=object)"
      ]
     },
     "execution_count": 16,
     "metadata": {},
     "output_type": "execute_result"
    }
   ],
   "source": [
    "df['load_type'].unique()"
   ]
  },
  {
   "cell_type": "markdown",
   "metadata": {},
   "source": [
    "besides that, We also could know load type in the Austin Smart City"
   ]
  },
  {
   "cell_type": "markdown",
   "metadata": {},
   "source": [
    "---"
   ]
  },
  {
   "cell_type": "markdown",
   "metadata": {},
   "source": [
    "After the dataset is cleared of null values, I will now calculate the central tendency of the dataset.\n",
    "\n",
    "Central Tendency is a value that shows the midpoint of a dataset to find out where the position of many data values gather in the distribution. The Mean, Median, and Mode values are the most commonly used measures of Central Tendency. "
   ]
  },
  {
   "cell_type": "code",
   "execution_count": 17,
   "metadata": {},
   "outputs": [
    {
     "data": {
      "text/plain": [
       "0    TDS LANDFILL\n",
       "Name: dropoff_site, dtype: object"
      ]
     },
     "execution_count": 17,
     "metadata": {},
     "output_type": "execute_result"
    }
   ],
   "source": [
    "df['dropoff_site'].mode()"
   ]
  },
  {
   "cell_type": "code",
   "execution_count": 18,
   "metadata": {},
   "outputs": [
    {
     "data": {
      "text/plain": [
       "dropoff_site\n",
       "AUSTIN IRON AND METAL      451.200000\n",
       "AUSTIN WOOD RECYCLING     4050.000000\n",
       "BALCONES RECYCLING        9464.652072\n",
       "BALCONES WOODS            8460.000000\n",
       "GREAT NORTHERN            1641.714286\n",
       "HORNSBY BEND              6616.628399\n",
       "MRF                       1799.982143\n",
       "ON ROUTE HIGH DUMP        1082.469136\n",
       "ONION CREEK                  0.000000\n",
       "ORGANICS BY GOSH         11789.731712\n",
       "PARK BEND                13385.000000\n",
       "PARK CENTER                  0.000000\n",
       "ST. EDWARDS                  0.000000\n",
       "STEINER LANDFILL           780.000000\n",
       "TDS - MRF                 9872.550882\n",
       "TDS LANDFILL             15165.151724\n",
       "WESTFIELD                16020.000000\n",
       "WILCAB                       0.000000\n",
       "Name: load_weight, dtype: float64"
      ]
     },
     "execution_count": 18,
     "metadata": {},
     "output_type": "execute_result"
    }
   ],
   "source": [
    "mean = df.groupby('dropoff_site')['load_weight'].apply(pd.Series.mean)\n",
    "mean"
   ]
  },
  {
   "cell_type": "code",
   "execution_count": 19,
   "metadata": {},
   "outputs": [
    {
     "data": {
      "text/html": [
       "<div>\n",
       "<style scoped>\n",
       "    .dataframe tbody tr th:only-of-type {\n",
       "        vertical-align: middle;\n",
       "    }\n",
       "\n",
       "    .dataframe tbody tr th {\n",
       "        vertical-align: top;\n",
       "    }\n",
       "\n",
       "    .dataframe thead th {\n",
       "        text-align: right;\n",
       "    }\n",
       "</style>\n",
       "<table border=\"1\" class=\"dataframe\">\n",
       "  <thead>\n",
       "    <tr style=\"text-align: right;\">\n",
       "      <th></th>\n",
       "      <th>load_weight</th>\n",
       "    </tr>\n",
       "    <tr>\n",
       "      <th>dropoff_site</th>\n",
       "      <th></th>\n",
       "    </tr>\n",
       "  </thead>\n",
       "  <tbody>\n",
       "    <tr>\n",
       "      <th>AUSTIN IRON AND METAL</th>\n",
       "      <td>400.0</td>\n",
       "    </tr>\n",
       "    <tr>\n",
       "      <th>AUSTIN WOOD RECYCLING</th>\n",
       "      <td>4050.0</td>\n",
       "    </tr>\n",
       "    <tr>\n",
       "      <th>BALCONES RECYCLING</th>\n",
       "      <td>9840.0</td>\n",
       "    </tr>\n",
       "    <tr>\n",
       "      <th>BALCONES WOODS</th>\n",
       "      <td>8460.0</td>\n",
       "    </tr>\n",
       "    <tr>\n",
       "      <th>GREAT NORTHERN</th>\n",
       "      <td>0.0</td>\n",
       "    </tr>\n",
       "    <tr>\n",
       "      <th>HORNSBY BEND</th>\n",
       "      <td>6380.0</td>\n",
       "    </tr>\n",
       "    <tr>\n",
       "      <th>MRF</th>\n",
       "      <td>1360.0</td>\n",
       "    </tr>\n",
       "    <tr>\n",
       "      <th>ON ROUTE HIGH DUMP</th>\n",
       "      <td>0.0</td>\n",
       "    </tr>\n",
       "    <tr>\n",
       "      <th>ONION CREEK</th>\n",
       "      <td>0.0</td>\n",
       "    </tr>\n",
       "    <tr>\n",
       "      <th>ORGANICS BY GOSH</th>\n",
       "      <td>11900.0</td>\n",
       "    </tr>\n",
       "    <tr>\n",
       "      <th>PARK BEND</th>\n",
       "      <td>12330.0</td>\n",
       "    </tr>\n",
       "    <tr>\n",
       "      <th>PARK CENTER</th>\n",
       "      <td>0.0</td>\n",
       "    </tr>\n",
       "    <tr>\n",
       "      <th>ST. EDWARDS</th>\n",
       "      <td>0.0</td>\n",
       "    </tr>\n",
       "    <tr>\n",
       "      <th>STEINER LANDFILL</th>\n",
       "      <td>780.0</td>\n",
       "    </tr>\n",
       "    <tr>\n",
       "      <th>TDS - MRF</th>\n",
       "      <td>10330.0</td>\n",
       "    </tr>\n",
       "    <tr>\n",
       "      <th>TDS LANDFILL</th>\n",
       "      <td>14920.0</td>\n",
       "    </tr>\n",
       "    <tr>\n",
       "      <th>WESTFIELD</th>\n",
       "      <td>16020.0</td>\n",
       "    </tr>\n",
       "    <tr>\n",
       "      <th>WILCAB</th>\n",
       "      <td>0.0</td>\n",
       "    </tr>\n",
       "  </tbody>\n",
       "</table>\n",
       "</div>"
      ],
      "text/plain": [
       "                       load_weight\n",
       "dropoff_site                      \n",
       "AUSTIN IRON AND METAL        400.0\n",
       "AUSTIN WOOD RECYCLING       4050.0\n",
       "BALCONES RECYCLING          9840.0\n",
       "BALCONES WOODS              8460.0\n",
       "GREAT NORTHERN                 0.0\n",
       "HORNSBY BEND                6380.0\n",
       "MRF                         1360.0\n",
       "ON ROUTE HIGH DUMP             0.0\n",
       "ONION CREEK                    0.0\n",
       "ORGANICS BY GOSH           11900.0\n",
       "PARK BEND                  12330.0\n",
       "PARK CENTER                    0.0\n",
       "ST. EDWARDS                    0.0\n",
       "STEINER LANDFILL             780.0\n",
       "TDS - MRF                  10330.0\n",
       "TDS LANDFILL               14920.0\n",
       "WESTFIELD                  16020.0\n",
       "WILCAB                         0.0"
      ]
     },
     "execution_count": 19,
     "metadata": {},
     "output_type": "execute_result"
    }
   ],
   "source": [
    "median = df.groupby('dropoff_site')[['load_weight']].median()\n",
    "median"
   ]
  },
  {
   "cell_type": "markdown",
   "metadata": {},
   "source": [
    "From calculating the central tendency for each dropoff site, we may get information about something like **a glimpse of the data distribution**.\n",
    "\n",
    "For example, i will take the mean and median of `TDS LANDFILL` as largest mode. The mean is 15165.2 kg and the median is 14920 kg. It is possible that the weight of the waste disposed of in `TDS LANDFILL` varies each time it receives disposal so that there is a difference between the median and the average. "
   ]
  },
  {
   "cell_type": "code",
   "execution_count": 20,
   "metadata": {},
   "outputs": [
    {
     "data": {
      "text/plain": [
       "dropoff_site            \n",
       "AUSTIN IRON AND METAL  0               RECYCLED METAL\n",
       "AUSTIN WOOD RECYCLING  0    RECYCLING - SINGLE STREAM\n",
       "BALCONES RECYCLING     0    RECYCLING - SINGLE STREAM\n",
       "BALCONES WOODS         0    RECYCLING - SINGLE STREAM\n",
       "GREAT NORTHERN         0                     SWEEPING\n",
       "HORNSBY BEND           0                        BRUSH\n",
       "MRF                    0                        TIRES\n",
       "ON ROUTE HIGH DUMP     0                     SWEEPING\n",
       "ONION CREEK            0                     SWEEPING\n",
       "ORGANICS BY GOSH       0                     ORGANICS\n",
       "PARK BEND              0                     ORGANICS\n",
       "PARK CENTER            0                     SWEEPING\n",
       "ST. EDWARDS            0                     SWEEPING\n",
       "STEINER LANDFILL       0          GARBAGE COLLECTIONS\n",
       "TDS - MRF              0    RECYCLING - SINGLE STREAM\n",
       "TDS LANDFILL           0          GARBAGE COLLECTIONS\n",
       "WESTFIELD              0          GARBAGE COLLECTIONS\n",
       "WILCAB                 0                     SWEEPING\n",
       "Name: load_type, dtype: object"
      ]
     },
     "execution_count": 20,
     "metadata": {},
     "output_type": "execute_result"
    }
   ],
   "source": [
    "modus_loadtype = df.groupby('dropoff_site')['load_type'].apply(pd.Series.mode)\n",
    "modus_loadtype"
   ]
  },
  {
   "cell_type": "markdown",
   "metadata": {},
   "source": [
    "Above this, I have also looked for the mode for the `load_type` column because I want to focus the analysis for waste management on garbage collections and recycling single streams."
   ]
  },
  {
   "cell_type": "markdown",
   "metadata": {},
   "source": [
    "## SAMPLE 1"
   ]
  },
  {
   "cell_type": "markdown",
   "metadata": {},
   "source": [
    "I am slicing `Austin Wood Recycling, Balcones Recycling, Balcones Woods, and TDS - MRF` data from variable `df` into a new variable called `recycling_single_stream`."
   ]
  },
  {
   "cell_type": "code",
   "execution_count": 21,
   "metadata": {},
   "outputs": [
    {
     "data": {
      "text/html": [
       "<div>\n",
       "<style scoped>\n",
       "    .dataframe tbody tr th:only-of-type {\n",
       "        vertical-align: middle;\n",
       "    }\n",
       "\n",
       "    .dataframe tbody tr th {\n",
       "        vertical-align: top;\n",
       "    }\n",
       "\n",
       "    .dataframe thead th {\n",
       "        text-align: right;\n",
       "    }\n",
       "</style>\n",
       "<table border=\"1\" class=\"dataframe\">\n",
       "  <thead>\n",
       "    <tr style=\"text-align: right;\">\n",
       "      <th></th>\n",
       "      <th>report_date</th>\n",
       "      <th>load_time</th>\n",
       "      <th>load_type</th>\n",
       "      <th>load_weight</th>\n",
       "      <th>dropoff_site</th>\n",
       "    </tr>\n",
       "  </thead>\n",
       "  <tbody>\n",
       "    <tr>\n",
       "      <th>4485</th>\n",
       "      <td>2021-02-03</td>\n",
       "      <td>2021-02-03 02:05:00 UTC</td>\n",
       "      <td>RECYCLING - SINGLE STREAM</td>\n",
       "      <td>2340.0</td>\n",
       "      <td>AUSTIN WOOD RECYCLING</td>\n",
       "    </tr>\n",
       "    <tr>\n",
       "      <th>24620</th>\n",
       "      <td>2021-06-25</td>\n",
       "      <td>2021-06-25 11:45:00 UTC</td>\n",
       "      <td>RECYCLING - SINGLE STREAM</td>\n",
       "      <td>5760.0</td>\n",
       "      <td>AUSTIN WOOD RECYCLING</td>\n",
       "    </tr>\n",
       "  </tbody>\n",
       "</table>\n",
       "</div>"
      ],
      "text/plain": [
       "      report_date                load_time                  load_type  \\\n",
       "4485   2021-02-03  2021-02-03 02:05:00 UTC  RECYCLING - SINGLE STREAM   \n",
       "24620  2021-06-25  2021-06-25 11:45:00 UTC  RECYCLING - SINGLE STREAM   \n",
       "\n",
       "       load_weight           dropoff_site  \n",
       "4485        2340.0  AUSTIN WOOD RECYCLING  \n",
       "24620       5760.0  AUSTIN WOOD RECYCLING  "
      ]
     },
     "execution_count": 21,
     "metadata": {},
     "output_type": "execute_result"
    }
   ],
   "source": [
    "AWR = df[df['dropoff_site']=='AUSTIN WOOD RECYCLING']\n",
    "AWR"
   ]
  },
  {
   "cell_type": "code",
   "execution_count": 22,
   "metadata": {},
   "outputs": [
    {
     "data": {
      "text/html": [
       "<div>\n",
       "<style scoped>\n",
       "    .dataframe tbody tr th:only-of-type {\n",
       "        vertical-align: middle;\n",
       "    }\n",
       "\n",
       "    .dataframe tbody tr th {\n",
       "        vertical-align: top;\n",
       "    }\n",
       "\n",
       "    .dataframe thead th {\n",
       "        text-align: right;\n",
       "    }\n",
       "</style>\n",
       "<table border=\"1\" class=\"dataframe\">\n",
       "  <thead>\n",
       "    <tr style=\"text-align: right;\">\n",
       "      <th></th>\n",
       "      <th>report_date</th>\n",
       "      <th>load_time</th>\n",
       "      <th>load_type</th>\n",
       "      <th>load_weight</th>\n",
       "      <th>dropoff_site</th>\n",
       "    </tr>\n",
       "  </thead>\n",
       "  <tbody>\n",
       "    <tr>\n",
       "      <th>13853</th>\n",
       "      <td>2021-04-09</td>\n",
       "      <td>2021-04-09 12:00:00 UTC</td>\n",
       "      <td>RECYCLING - SINGLE STREAM</td>\n",
       "      <td>8460.0</td>\n",
       "      <td>BALCONES WOODS</td>\n",
       "    </tr>\n",
       "  </tbody>\n",
       "</table>\n",
       "</div>"
      ],
      "text/plain": [
       "      report_date                load_time                  load_type  \\\n",
       "13853  2021-04-09  2021-04-09 12:00:00 UTC  RECYCLING - SINGLE STREAM   \n",
       "\n",
       "       load_weight    dropoff_site  \n",
       "13853       8460.0  BALCONES WOODS  "
      ]
     },
     "execution_count": 22,
     "metadata": {},
     "output_type": "execute_result"
    }
   ],
   "source": [
    "BW = df[df['dropoff_site']=='BALCONES WOODS']\n",
    "BW"
   ]
  },
  {
   "cell_type": "code",
   "execution_count": 23,
   "metadata": {},
   "outputs": [
    {
     "data": {
      "text/html": [
       "<div>\n",
       "<style scoped>\n",
       "    .dataframe tbody tr th:only-of-type {\n",
       "        vertical-align: middle;\n",
       "    }\n",
       "\n",
       "    .dataframe tbody tr th {\n",
       "        vertical-align: top;\n",
       "    }\n",
       "\n",
       "    .dataframe thead th {\n",
       "        text-align: right;\n",
       "    }\n",
       "</style>\n",
       "<table border=\"1\" class=\"dataframe\">\n",
       "  <thead>\n",
       "    <tr style=\"text-align: right;\">\n",
       "      <th></th>\n",
       "      <th>report_date</th>\n",
       "      <th>load_time</th>\n",
       "      <th>load_type</th>\n",
       "      <th>load_weight</th>\n",
       "      <th>dropoff_site</th>\n",
       "    </tr>\n",
       "  </thead>\n",
       "  <tbody>\n",
       "    <tr>\n",
       "      <th>111</th>\n",
       "      <td>2021-01-02</td>\n",
       "      <td>2021-01-02 12:22:00 UTC</td>\n",
       "      <td>RECYCLING - SINGLE STREAM</td>\n",
       "      <td>8760.0</td>\n",
       "      <td>BALCONES RECYCLING</td>\n",
       "    </tr>\n",
       "    <tr>\n",
       "      <th>112</th>\n",
       "      <td>2021-01-02</td>\n",
       "      <td>2021-01-02 12:45:00 UTC</td>\n",
       "      <td>RECYCLING - SINGLE STREAM</td>\n",
       "      <td>8500.0</td>\n",
       "      <td>BALCONES RECYCLING</td>\n",
       "    </tr>\n",
       "    <tr>\n",
       "      <th>113</th>\n",
       "      <td>2021-01-02</td>\n",
       "      <td>2021-01-02 11:55:00 UTC</td>\n",
       "      <td>RECYCLING - SINGLE STREAM</td>\n",
       "      <td>5020.0</td>\n",
       "      <td>BALCONES RECYCLING</td>\n",
       "    </tr>\n",
       "    <tr>\n",
       "      <th>114</th>\n",
       "      <td>2021-01-02</td>\n",
       "      <td>2021-01-02 11:48:00 UTC</td>\n",
       "      <td>RECYCLING - SINGLE STREAM</td>\n",
       "      <td>4440.0</td>\n",
       "      <td>BALCONES RECYCLING</td>\n",
       "    </tr>\n",
       "    <tr>\n",
       "      <th>115</th>\n",
       "      <td>2021-01-02</td>\n",
       "      <td>2021-01-02 09:58:00 UTC</td>\n",
       "      <td>RECYCLING - SINGLE STREAM</td>\n",
       "      <td>8660.0</td>\n",
       "      <td>BALCONES RECYCLING</td>\n",
       "    </tr>\n",
       "    <tr>\n",
       "      <th>...</th>\n",
       "      <td>...</td>\n",
       "      <td>...</td>\n",
       "      <td>...</td>\n",
       "      <td>...</td>\n",
       "      <td>...</td>\n",
       "    </tr>\n",
       "    <tr>\n",
       "      <th>26002</th>\n",
       "      <td>2021-07-07</td>\n",
       "      <td>2021-07-07 02:00:00 UTC</td>\n",
       "      <td>RECYCLING - SINGLE STREAM</td>\n",
       "      <td>4540.0</td>\n",
       "      <td>BALCONES RECYCLING</td>\n",
       "    </tr>\n",
       "    <tr>\n",
       "      <th>26003</th>\n",
       "      <td>2021-07-07</td>\n",
       "      <td>2021-07-07 10:00:00 UTC</td>\n",
       "      <td>RECYCLING - SINGLE STREAM</td>\n",
       "      <td>8660.0</td>\n",
       "      <td>BALCONES RECYCLING</td>\n",
       "    </tr>\n",
       "    <tr>\n",
       "      <th>26004</th>\n",
       "      <td>2021-07-07</td>\n",
       "      <td>2021-07-07 12:00:00 UTC</td>\n",
       "      <td>RECYCLING - SINGLE STREAM</td>\n",
       "      <td>4740.0</td>\n",
       "      <td>BALCONES RECYCLING</td>\n",
       "    </tr>\n",
       "    <tr>\n",
       "      <th>26005</th>\n",
       "      <td>2021-07-07</td>\n",
       "      <td>2021-07-07 09:00:00 UTC</td>\n",
       "      <td>RECYCLING - SINGLE STREAM</td>\n",
       "      <td>9200.0</td>\n",
       "      <td>BALCONES RECYCLING</td>\n",
       "    </tr>\n",
       "    <tr>\n",
       "      <th>26006</th>\n",
       "      <td>2021-07-07</td>\n",
       "      <td>2021-07-07 10:00:00 UTC</td>\n",
       "      <td>RECYCLING - SINGLE STREAM</td>\n",
       "      <td>11500.0</td>\n",
       "      <td>BALCONES RECYCLING</td>\n",
       "    </tr>\n",
       "  </tbody>\n",
       "</table>\n",
       "<p>3837 rows × 5 columns</p>\n",
       "</div>"
      ],
      "text/plain": [
       "      report_date                load_time                  load_type  \\\n",
       "111    2021-01-02  2021-01-02 12:22:00 UTC  RECYCLING - SINGLE STREAM   \n",
       "112    2021-01-02  2021-01-02 12:45:00 UTC  RECYCLING - SINGLE STREAM   \n",
       "113    2021-01-02  2021-01-02 11:55:00 UTC  RECYCLING - SINGLE STREAM   \n",
       "114    2021-01-02  2021-01-02 11:48:00 UTC  RECYCLING - SINGLE STREAM   \n",
       "115    2021-01-02  2021-01-02 09:58:00 UTC  RECYCLING - SINGLE STREAM   \n",
       "...           ...                      ...                        ...   \n",
       "26002  2021-07-07  2021-07-07 02:00:00 UTC  RECYCLING - SINGLE STREAM   \n",
       "26003  2021-07-07  2021-07-07 10:00:00 UTC  RECYCLING - SINGLE STREAM   \n",
       "26004  2021-07-07  2021-07-07 12:00:00 UTC  RECYCLING - SINGLE STREAM   \n",
       "26005  2021-07-07  2021-07-07 09:00:00 UTC  RECYCLING - SINGLE STREAM   \n",
       "26006  2021-07-07  2021-07-07 10:00:00 UTC  RECYCLING - SINGLE STREAM   \n",
       "\n",
       "       load_weight        dropoff_site  \n",
       "111         8760.0  BALCONES RECYCLING  \n",
       "112         8500.0  BALCONES RECYCLING  \n",
       "113         5020.0  BALCONES RECYCLING  \n",
       "114         4440.0  BALCONES RECYCLING  \n",
       "115         8660.0  BALCONES RECYCLING  \n",
       "...            ...                 ...  \n",
       "26002       4540.0  BALCONES RECYCLING  \n",
       "26003       8660.0  BALCONES RECYCLING  \n",
       "26004       4740.0  BALCONES RECYCLING  \n",
       "26005       9200.0  BALCONES RECYCLING  \n",
       "26006      11500.0  BALCONES RECYCLING  \n",
       "\n",
       "[3837 rows x 5 columns]"
      ]
     },
     "execution_count": 23,
     "metadata": {},
     "output_type": "execute_result"
    }
   ],
   "source": [
    "BR = df[df['dropoff_site']=='BALCONES RECYCLING']\n",
    "BR"
   ]
  },
  {
   "cell_type": "code",
   "execution_count": 24,
   "metadata": {},
   "outputs": [
    {
     "data": {
      "text/plain": [
       "RECYCLING - SINGLE STREAM    3837\n",
       "Name: load_type, dtype: int64"
      ]
     },
     "execution_count": 24,
     "metadata": {},
     "output_type": "execute_result"
    }
   ],
   "source": [
    "BR.loc[BR[\"dropoff_site\"] == \"BALCONES RECYCLING\", \"load_type\"].value_counts()"
   ]
  },
  {
   "cell_type": "code",
   "execution_count": 25,
   "metadata": {},
   "outputs": [
    {
     "data": {
      "text/html": [
       "<div>\n",
       "<style scoped>\n",
       "    .dataframe tbody tr th:only-of-type {\n",
       "        vertical-align: middle;\n",
       "    }\n",
       "\n",
       "    .dataframe tbody tr th {\n",
       "        vertical-align: top;\n",
       "    }\n",
       "\n",
       "    .dataframe thead th {\n",
       "        text-align: right;\n",
       "    }\n",
       "</style>\n",
       "<table border=\"1\" class=\"dataframe\">\n",
       "  <thead>\n",
       "    <tr style=\"text-align: right;\">\n",
       "      <th></th>\n",
       "      <th>report_date</th>\n",
       "      <th>load_time</th>\n",
       "      <th>load_type</th>\n",
       "      <th>load_weight</th>\n",
       "      <th>dropoff_site</th>\n",
       "    </tr>\n",
       "  </thead>\n",
       "  <tbody>\n",
       "    <tr>\n",
       "      <th>6</th>\n",
       "      <td>2021-01-02</td>\n",
       "      <td>2021-01-02 12:00:00 UTC</td>\n",
       "      <td>RECYCLING - SINGLE STREAM</td>\n",
       "      <td>320.0</td>\n",
       "      <td>TDS - MRF</td>\n",
       "    </tr>\n",
       "    <tr>\n",
       "      <th>7</th>\n",
       "      <td>2021-01-02</td>\n",
       "      <td>2021-01-02 09:02:00 UTC</td>\n",
       "      <td>RECYCLING - SINGLE STREAM</td>\n",
       "      <td>520.0</td>\n",
       "      <td>TDS - MRF</td>\n",
       "    </tr>\n",
       "    <tr>\n",
       "      <th>164</th>\n",
       "      <td>2021-01-04</td>\n",
       "      <td>2021-01-04 10:08:00 UTC</td>\n",
       "      <td>RECYCLING - SINGLE STREAM</td>\n",
       "      <td>5820.0</td>\n",
       "      <td>TDS - MRF</td>\n",
       "    </tr>\n",
       "    <tr>\n",
       "      <th>165</th>\n",
       "      <td>2021-01-04</td>\n",
       "      <td>2021-01-04 12:43:00 UTC</td>\n",
       "      <td>RECYCLING - SINGLE STREAM</td>\n",
       "      <td>1640.0</td>\n",
       "      <td>TDS - MRF</td>\n",
       "    </tr>\n",
       "    <tr>\n",
       "      <th>166</th>\n",
       "      <td>2021-01-04</td>\n",
       "      <td>2021-01-04 12:21:00 UTC</td>\n",
       "      <td>RECYCLING - SINGLE STREAM</td>\n",
       "      <td>5420.0</td>\n",
       "      <td>TDS - MRF</td>\n",
       "    </tr>\n",
       "    <tr>\n",
       "      <th>...</th>\n",
       "      <td>...</td>\n",
       "      <td>...</td>\n",
       "      <td>...</td>\n",
       "      <td>...</td>\n",
       "      <td>...</td>\n",
       "    </tr>\n",
       "    <tr>\n",
       "      <th>25728</th>\n",
       "      <td>2021-07-06</td>\n",
       "      <td>2021-07-06 10:00:00 UTC</td>\n",
       "      <td>RECYCLING - SINGLE STREAM</td>\n",
       "      <td>9080.0</td>\n",
       "      <td>TDS - MRF</td>\n",
       "    </tr>\n",
       "    <tr>\n",
       "      <th>25729</th>\n",
       "      <td>2021-07-06</td>\n",
       "      <td>2021-07-06 09:00:00 UTC</td>\n",
       "      <td>RECYCLING - SINGLE STREAM</td>\n",
       "      <td>12840.0</td>\n",
       "      <td>TDS - MRF</td>\n",
       "    </tr>\n",
       "    <tr>\n",
       "      <th>25730</th>\n",
       "      <td>2021-07-06</td>\n",
       "      <td>2021-07-06 02:00:00 UTC</td>\n",
       "      <td>RECYCLING - SINGLE STREAM</td>\n",
       "      <td>10200.0</td>\n",
       "      <td>TDS - MRF</td>\n",
       "    </tr>\n",
       "    <tr>\n",
       "      <th>25863</th>\n",
       "      <td>2021-07-07</td>\n",
       "      <td>2021-07-07 02:00:00 UTC</td>\n",
       "      <td>RECYCLING - SINGLE STREAM</td>\n",
       "      <td>5340.0</td>\n",
       "      <td>TDS - MRF</td>\n",
       "    </tr>\n",
       "    <tr>\n",
       "      <th>25864</th>\n",
       "      <td>2021-07-07</td>\n",
       "      <td>2021-07-07 02:00:00 UTC</td>\n",
       "      <td>RECYCLING - SINGLE STREAM</td>\n",
       "      <td>4060.0</td>\n",
       "      <td>TDS - MRF</td>\n",
       "    </tr>\n",
       "  </tbody>\n",
       "</table>\n",
       "<p>2948 rows × 5 columns</p>\n",
       "</div>"
      ],
      "text/plain": [
       "      report_date                load_time                  load_type  \\\n",
       "6      2021-01-02  2021-01-02 12:00:00 UTC  RECYCLING - SINGLE STREAM   \n",
       "7      2021-01-02  2021-01-02 09:02:00 UTC  RECYCLING - SINGLE STREAM   \n",
       "164    2021-01-04  2021-01-04 10:08:00 UTC  RECYCLING - SINGLE STREAM   \n",
       "165    2021-01-04  2021-01-04 12:43:00 UTC  RECYCLING - SINGLE STREAM   \n",
       "166    2021-01-04  2021-01-04 12:21:00 UTC  RECYCLING - SINGLE STREAM   \n",
       "...           ...                      ...                        ...   \n",
       "25728  2021-07-06  2021-07-06 10:00:00 UTC  RECYCLING - SINGLE STREAM   \n",
       "25729  2021-07-06  2021-07-06 09:00:00 UTC  RECYCLING - SINGLE STREAM   \n",
       "25730  2021-07-06  2021-07-06 02:00:00 UTC  RECYCLING - SINGLE STREAM   \n",
       "25863  2021-07-07  2021-07-07 02:00:00 UTC  RECYCLING - SINGLE STREAM   \n",
       "25864  2021-07-07  2021-07-07 02:00:00 UTC  RECYCLING - SINGLE STREAM   \n",
       "\n",
       "       load_weight dropoff_site  \n",
       "6            320.0    TDS - MRF  \n",
       "7            520.0    TDS - MRF  \n",
       "164         5820.0    TDS - MRF  \n",
       "165         1640.0    TDS - MRF  \n",
       "166         5420.0    TDS - MRF  \n",
       "...            ...          ...  \n",
       "25728       9080.0    TDS - MRF  \n",
       "25729      12840.0    TDS - MRF  \n",
       "25730      10200.0    TDS - MRF  \n",
       "25863       5340.0    TDS - MRF  \n",
       "25864       4060.0    TDS - MRF  \n",
       "\n",
       "[2948 rows x 5 columns]"
      ]
     },
     "execution_count": 25,
     "metadata": {},
     "output_type": "execute_result"
    }
   ],
   "source": [
    "TDS_MRF = df[df['dropoff_site']=='TDS - MRF']\n",
    "TDS_MRF"
   ]
  },
  {
   "cell_type": "code",
   "execution_count": 26,
   "metadata": {},
   "outputs": [
    {
     "data": {
      "text/plain": [
       "RECYCLING - SINGLE STREAM    2917\n",
       "GARBAGE COLLECTIONS            28\n",
       "BULK                            2\n",
       "LITTER                          1\n",
       "Name: load_type, dtype: int64"
      ]
     },
     "execution_count": 26,
     "metadata": {},
     "output_type": "execute_result"
    }
   ],
   "source": [
    "TDS_MRF.loc[TDS_MRF[\"dropoff_site\"] == \"TDS - MRF\", \"load_type\"].value_counts()"
   ]
  },
  {
   "cell_type": "code",
   "execution_count": 27,
   "metadata": {},
   "outputs": [
    {
     "data": {
      "text/html": [
       "<div>\n",
       "<style scoped>\n",
       "    .dataframe tbody tr th:only-of-type {\n",
       "        vertical-align: middle;\n",
       "    }\n",
       "\n",
       "    .dataframe tbody tr th {\n",
       "        vertical-align: top;\n",
       "    }\n",
       "\n",
       "    .dataframe thead th {\n",
       "        text-align: right;\n",
       "    }\n",
       "</style>\n",
       "<table border=\"1\" class=\"dataframe\">\n",
       "  <thead>\n",
       "    <tr style=\"text-align: right;\">\n",
       "      <th></th>\n",
       "      <th>report_date</th>\n",
       "      <th>load_time</th>\n",
       "      <th>load_type</th>\n",
       "      <th>load_weight</th>\n",
       "      <th>dropoff_site</th>\n",
       "    </tr>\n",
       "  </thead>\n",
       "  <tbody>\n",
       "    <tr>\n",
       "      <th>6</th>\n",
       "      <td>2021-01-02</td>\n",
       "      <td>2021-01-02 12:00:00 UTC</td>\n",
       "      <td>RECYCLING - SINGLE STREAM</td>\n",
       "      <td>320.0</td>\n",
       "      <td>TDS - MRF</td>\n",
       "    </tr>\n",
       "    <tr>\n",
       "      <th>7</th>\n",
       "      <td>2021-01-02</td>\n",
       "      <td>2021-01-02 09:02:00 UTC</td>\n",
       "      <td>RECYCLING - SINGLE STREAM</td>\n",
       "      <td>520.0</td>\n",
       "      <td>TDS - MRF</td>\n",
       "    </tr>\n",
       "    <tr>\n",
       "      <th>164</th>\n",
       "      <td>2021-01-04</td>\n",
       "      <td>2021-01-04 10:08:00 UTC</td>\n",
       "      <td>RECYCLING - SINGLE STREAM</td>\n",
       "      <td>5820.0</td>\n",
       "      <td>TDS - MRF</td>\n",
       "    </tr>\n",
       "    <tr>\n",
       "      <th>165</th>\n",
       "      <td>2021-01-04</td>\n",
       "      <td>2021-01-04 12:43:00 UTC</td>\n",
       "      <td>RECYCLING - SINGLE STREAM</td>\n",
       "      <td>1640.0</td>\n",
       "      <td>TDS - MRF</td>\n",
       "    </tr>\n",
       "    <tr>\n",
       "      <th>166</th>\n",
       "      <td>2021-01-04</td>\n",
       "      <td>2021-01-04 12:21:00 UTC</td>\n",
       "      <td>RECYCLING - SINGLE STREAM</td>\n",
       "      <td>5420.0</td>\n",
       "      <td>TDS - MRF</td>\n",
       "    </tr>\n",
       "    <tr>\n",
       "      <th>...</th>\n",
       "      <td>...</td>\n",
       "      <td>...</td>\n",
       "      <td>...</td>\n",
       "      <td>...</td>\n",
       "      <td>...</td>\n",
       "    </tr>\n",
       "    <tr>\n",
       "      <th>25728</th>\n",
       "      <td>2021-07-06</td>\n",
       "      <td>2021-07-06 10:00:00 UTC</td>\n",
       "      <td>RECYCLING - SINGLE STREAM</td>\n",
       "      <td>9080.0</td>\n",
       "      <td>TDS - MRF</td>\n",
       "    </tr>\n",
       "    <tr>\n",
       "      <th>25729</th>\n",
       "      <td>2021-07-06</td>\n",
       "      <td>2021-07-06 09:00:00 UTC</td>\n",
       "      <td>RECYCLING - SINGLE STREAM</td>\n",
       "      <td>12840.0</td>\n",
       "      <td>TDS - MRF</td>\n",
       "    </tr>\n",
       "    <tr>\n",
       "      <th>25730</th>\n",
       "      <td>2021-07-06</td>\n",
       "      <td>2021-07-06 02:00:00 UTC</td>\n",
       "      <td>RECYCLING - SINGLE STREAM</td>\n",
       "      <td>10200.0</td>\n",
       "      <td>TDS - MRF</td>\n",
       "    </tr>\n",
       "    <tr>\n",
       "      <th>25863</th>\n",
       "      <td>2021-07-07</td>\n",
       "      <td>2021-07-07 02:00:00 UTC</td>\n",
       "      <td>RECYCLING - SINGLE STREAM</td>\n",
       "      <td>5340.0</td>\n",
       "      <td>TDS - MRF</td>\n",
       "    </tr>\n",
       "    <tr>\n",
       "      <th>25864</th>\n",
       "      <td>2021-07-07</td>\n",
       "      <td>2021-07-07 02:00:00 UTC</td>\n",
       "      <td>RECYCLING - SINGLE STREAM</td>\n",
       "      <td>4060.0</td>\n",
       "      <td>TDS - MRF</td>\n",
       "    </tr>\n",
       "  </tbody>\n",
       "</table>\n",
       "<p>2917 rows × 5 columns</p>\n",
       "</div>"
      ],
      "text/plain": [
       "      report_date                load_time                  load_type  \\\n",
       "6      2021-01-02  2021-01-02 12:00:00 UTC  RECYCLING - SINGLE STREAM   \n",
       "7      2021-01-02  2021-01-02 09:02:00 UTC  RECYCLING - SINGLE STREAM   \n",
       "164    2021-01-04  2021-01-04 10:08:00 UTC  RECYCLING - SINGLE STREAM   \n",
       "165    2021-01-04  2021-01-04 12:43:00 UTC  RECYCLING - SINGLE STREAM   \n",
       "166    2021-01-04  2021-01-04 12:21:00 UTC  RECYCLING - SINGLE STREAM   \n",
       "...           ...                      ...                        ...   \n",
       "25728  2021-07-06  2021-07-06 10:00:00 UTC  RECYCLING - SINGLE STREAM   \n",
       "25729  2021-07-06  2021-07-06 09:00:00 UTC  RECYCLING - SINGLE STREAM   \n",
       "25730  2021-07-06  2021-07-06 02:00:00 UTC  RECYCLING - SINGLE STREAM   \n",
       "25863  2021-07-07  2021-07-07 02:00:00 UTC  RECYCLING - SINGLE STREAM   \n",
       "25864  2021-07-07  2021-07-07 02:00:00 UTC  RECYCLING - SINGLE STREAM   \n",
       "\n",
       "       load_weight dropoff_site  \n",
       "6            320.0    TDS - MRF  \n",
       "7            520.0    TDS - MRF  \n",
       "164         5820.0    TDS - MRF  \n",
       "165         1640.0    TDS - MRF  \n",
       "166         5420.0    TDS - MRF  \n",
       "...            ...          ...  \n",
       "25728       9080.0    TDS - MRF  \n",
       "25729      12840.0    TDS - MRF  \n",
       "25730      10200.0    TDS - MRF  \n",
       "25863       5340.0    TDS - MRF  \n",
       "25864       4060.0    TDS - MRF  \n",
       "\n",
       "[2917 rows x 5 columns]"
      ]
     },
     "execution_count": 27,
     "metadata": {},
     "output_type": "execute_result"
    }
   ],
   "source": [
    "TDS_MRF.drop(TDS_MRF[(TDS_MRF.load_type == \"GARBAGE COLLECTIONS\")].index, inplace=True)\n",
    "TDS_MRF.drop(TDS_MRF[(TDS_MRF.load_type == \"BULK\")].index, inplace=True)\n",
    "TDS_MRF.drop(TDS_MRF[(TDS_MRF.load_type == \"LITTER\")].index, inplace=True)\n",
    "TDS_MRF"
   ]
  },
  {
   "cell_type": "markdown",
   "metadata": {},
   "source": [
    "As specially `TDS - MRF`, I removed the load type **Garbage collections, bulk, and litter** because I wanted to focus on the analysis of sample 1 which recycles single streams."
   ]
  },
  {
   "cell_type": "code",
   "execution_count": 28,
   "metadata": {},
   "outputs": [
    {
     "data": {
      "text/html": [
       "<div>\n",
       "<style scoped>\n",
       "    .dataframe tbody tr th:only-of-type {\n",
       "        vertical-align: middle;\n",
       "    }\n",
       "\n",
       "    .dataframe tbody tr th {\n",
       "        vertical-align: top;\n",
       "    }\n",
       "\n",
       "    .dataframe thead th {\n",
       "        text-align: right;\n",
       "    }\n",
       "</style>\n",
       "<table border=\"1\" class=\"dataframe\">\n",
       "  <thead>\n",
       "    <tr style=\"text-align: right;\">\n",
       "      <th></th>\n",
       "      <th>report_date</th>\n",
       "      <th>load_time</th>\n",
       "      <th>load_type</th>\n",
       "      <th>load_weight</th>\n",
       "      <th>dropoff_site</th>\n",
       "    </tr>\n",
       "  </thead>\n",
       "  <tbody>\n",
       "    <tr>\n",
       "      <th>4485</th>\n",
       "      <td>2021-02-03</td>\n",
       "      <td>2021-02-03 02:05:00 UTC</td>\n",
       "      <td>RECYCLING - SINGLE STREAM</td>\n",
       "      <td>2340.0</td>\n",
       "      <td>AUSTIN WOOD RECYCLING</td>\n",
       "    </tr>\n",
       "    <tr>\n",
       "      <th>24620</th>\n",
       "      <td>2021-06-25</td>\n",
       "      <td>2021-06-25 11:45:00 UTC</td>\n",
       "      <td>RECYCLING - SINGLE STREAM</td>\n",
       "      <td>5760.0</td>\n",
       "      <td>AUSTIN WOOD RECYCLING</td>\n",
       "    </tr>\n",
       "    <tr>\n",
       "      <th>111</th>\n",
       "      <td>2021-01-02</td>\n",
       "      <td>2021-01-02 12:22:00 UTC</td>\n",
       "      <td>RECYCLING - SINGLE STREAM</td>\n",
       "      <td>8760.0</td>\n",
       "      <td>BALCONES RECYCLING</td>\n",
       "    </tr>\n",
       "    <tr>\n",
       "      <th>112</th>\n",
       "      <td>2021-01-02</td>\n",
       "      <td>2021-01-02 12:45:00 UTC</td>\n",
       "      <td>RECYCLING - SINGLE STREAM</td>\n",
       "      <td>8500.0</td>\n",
       "      <td>BALCONES RECYCLING</td>\n",
       "    </tr>\n",
       "    <tr>\n",
       "      <th>113</th>\n",
       "      <td>2021-01-02</td>\n",
       "      <td>2021-01-02 11:55:00 UTC</td>\n",
       "      <td>RECYCLING - SINGLE STREAM</td>\n",
       "      <td>5020.0</td>\n",
       "      <td>BALCONES RECYCLING</td>\n",
       "    </tr>\n",
       "    <tr>\n",
       "      <th>...</th>\n",
       "      <td>...</td>\n",
       "      <td>...</td>\n",
       "      <td>...</td>\n",
       "      <td>...</td>\n",
       "      <td>...</td>\n",
       "    </tr>\n",
       "    <tr>\n",
       "      <th>25728</th>\n",
       "      <td>2021-07-06</td>\n",
       "      <td>2021-07-06 10:00:00 UTC</td>\n",
       "      <td>RECYCLING - SINGLE STREAM</td>\n",
       "      <td>9080.0</td>\n",
       "      <td>TDS - MRF</td>\n",
       "    </tr>\n",
       "    <tr>\n",
       "      <th>25729</th>\n",
       "      <td>2021-07-06</td>\n",
       "      <td>2021-07-06 09:00:00 UTC</td>\n",
       "      <td>RECYCLING - SINGLE STREAM</td>\n",
       "      <td>12840.0</td>\n",
       "      <td>TDS - MRF</td>\n",
       "    </tr>\n",
       "    <tr>\n",
       "      <th>25730</th>\n",
       "      <td>2021-07-06</td>\n",
       "      <td>2021-07-06 02:00:00 UTC</td>\n",
       "      <td>RECYCLING - SINGLE STREAM</td>\n",
       "      <td>10200.0</td>\n",
       "      <td>TDS - MRF</td>\n",
       "    </tr>\n",
       "    <tr>\n",
       "      <th>25863</th>\n",
       "      <td>2021-07-07</td>\n",
       "      <td>2021-07-07 02:00:00 UTC</td>\n",
       "      <td>RECYCLING - SINGLE STREAM</td>\n",
       "      <td>5340.0</td>\n",
       "      <td>TDS - MRF</td>\n",
       "    </tr>\n",
       "    <tr>\n",
       "      <th>25864</th>\n",
       "      <td>2021-07-07</td>\n",
       "      <td>2021-07-07 02:00:00 UTC</td>\n",
       "      <td>RECYCLING - SINGLE STREAM</td>\n",
       "      <td>4060.0</td>\n",
       "      <td>TDS - MRF</td>\n",
       "    </tr>\n",
       "  </tbody>\n",
       "</table>\n",
       "<p>6757 rows × 5 columns</p>\n",
       "</div>"
      ],
      "text/plain": [
       "      report_date                load_time                  load_type  \\\n",
       "4485   2021-02-03  2021-02-03 02:05:00 UTC  RECYCLING - SINGLE STREAM   \n",
       "24620  2021-06-25  2021-06-25 11:45:00 UTC  RECYCLING - SINGLE STREAM   \n",
       "111    2021-01-02  2021-01-02 12:22:00 UTC  RECYCLING - SINGLE STREAM   \n",
       "112    2021-01-02  2021-01-02 12:45:00 UTC  RECYCLING - SINGLE STREAM   \n",
       "113    2021-01-02  2021-01-02 11:55:00 UTC  RECYCLING - SINGLE STREAM   \n",
       "...           ...                      ...                        ...   \n",
       "25728  2021-07-06  2021-07-06 10:00:00 UTC  RECYCLING - SINGLE STREAM   \n",
       "25729  2021-07-06  2021-07-06 09:00:00 UTC  RECYCLING - SINGLE STREAM   \n",
       "25730  2021-07-06  2021-07-06 02:00:00 UTC  RECYCLING - SINGLE STREAM   \n",
       "25863  2021-07-07  2021-07-07 02:00:00 UTC  RECYCLING - SINGLE STREAM   \n",
       "25864  2021-07-07  2021-07-07 02:00:00 UTC  RECYCLING - SINGLE STREAM   \n",
       "\n",
       "       load_weight           dropoff_site  \n",
       "4485        2340.0  AUSTIN WOOD RECYCLING  \n",
       "24620       5760.0  AUSTIN WOOD RECYCLING  \n",
       "111         8760.0     BALCONES RECYCLING  \n",
       "112         8500.0     BALCONES RECYCLING  \n",
       "113         5020.0     BALCONES RECYCLING  \n",
       "...            ...                    ...  \n",
       "25728       9080.0              TDS - MRF  \n",
       "25729      12840.0              TDS - MRF  \n",
       "25730      10200.0              TDS - MRF  \n",
       "25863       5340.0              TDS - MRF  \n",
       "25864       4060.0              TDS - MRF  \n",
       "\n",
       "[6757 rows x 5 columns]"
      ]
     },
     "execution_count": 28,
     "metadata": {},
     "output_type": "execute_result"
    }
   ],
   "source": [
    "recycling_single_stream = pd.concat([AWR, BR, BW, TDS_MRF], axis=0)\n",
    "recycling_single_stream"
   ]
  },
  {
   "cell_type": "markdown",
   "metadata": {},
   "source": [
    "From the combined data of four dropoff sites with load type recycling single stream, it obtained 6757 rows and 5 columns"
   ]
  },
  {
   "cell_type": "markdown",
   "metadata": {},
   "source": [
    "Now I will further analyze the data already stored in the `recycling_single_stream` variable.\n",
    "\n",
    "The analysis that will be carried out is to calculate the central tendency and also the standard deviation of the variable `recycling_single_stream`. This is done to see the distribution of data in `recycling_single_stream`."
   ]
  },
  {
   "cell_type": "code",
   "execution_count": 29,
   "metadata": {},
   "outputs": [
    {
     "name": "stdout",
     "output_type": "stream",
     "text": [
      "rata-rata : 9611.764096492527\n",
      "median : 10040.0\n",
      "modus : 11880.0\n",
      "standar deviasi : 3917.6245538657477\n",
      "min : 40.0\n",
      "max : 27060.0\n"
     ]
    }
   ],
   "source": [
    "mean_satu = recycling_single_stream['load_weight'].mean()\n",
    "median_satu = recycling_single_stream['load_weight'].median()\n",
    "modus_satu = recycling_single_stream['load_weight'].mode()[0]\n",
    "standar_deviasi_satu = recycling_single_stream['load_weight'].std()\n",
    "min_satu = recycling_single_stream['load_weight'].min()\n",
    "max_satu = recycling_single_stream['load_weight'].max()\n",
    "\n",
    "print(f'rata-rata : {mean_satu}')\n",
    "print(f'median : {median_satu}')\n",
    "print(f'modus : {modus_satu}')\n",
    "print(f'standar deviasi : {standar_deviasi_satu}')\n",
    "print(f'min : {min_satu}')\n",
    "print(f'max : {max_satu}')"
   ]
  },
  {
   "cell_type": "markdown",
   "metadata": {},
   "source": [
    "Now I will calculate the skew value in the `load_weight` column of the `recycling_single_stream` data. This skew value is used to determine whether a data has a normal or skewed data distribution. If the skew value is above 0.5 to 1 then the data is right skewed data, while if the skew value is below -0.5 to -1 then the data distribution is left skewed."
   ]
  },
  {
   "cell_type": "code",
   "execution_count": 30,
   "metadata": {},
   "outputs": [
    {
     "name": "stdout",
     "output_type": "stream",
     "text": [
      "0.06053444968048845\n"
     ]
    }
   ],
   "source": [
    "print(recycling_single_stream['load_weight'].skew())"
   ]
  },
  {
   "cell_type": "markdown",
   "metadata": {},
   "source": [
    "Because the `recycling_single_stream` data has a skewness value of 0.0605, the data has a normal distribution."
   ]
  },
  {
   "cell_type": "markdown",
   "metadata": {},
   "source": [
    "To provide a better visualization of the `recycling_single_stream` data, I will plot the `recycling_single_stream` data."
   ]
  },
  {
   "cell_type": "code",
   "execution_count": 31,
   "metadata": {},
   "outputs": [
    {
     "data": {
      "text/plain": [
       "<function matplotlib.pyplot.show(close=None, block=None)>"
      ]
     },
     "execution_count": 31,
     "metadata": {},
     "output_type": "execute_result"
    },
    {
     "data": {
      "image/png": "[encoded data removed]",
      "text/plain": [
       "<Figure size 432x288 with 1 Axes>"
      ]
     },
     "metadata": {
      "needs_background": "light"
     },
     "output_type": "display_data"
    },
    {
     "data": {
      "image/png": "[encoded data removed]",
      "text/plain": [
       "<Figure size 360x360 with 1 Axes>"
      ]
     },
     "metadata": {
      "needs_background": "light"
     },
     "output_type": "display_data"
    }
   ],
   "source": [
    "### HISTOGRAM DENGAN AXIS LINE\n",
    "a = recycling_single_stream['load_weight']\n",
    "plt.hist(recycling_single_stream['load_weight'], color = 'white', edgecolor = 'black',\n",
    "         bins = int(500/5))\n",
    "\n",
    "plt.title('Data Distribution in TDS MRF')\n",
    "plt.xlabel('Load Weight')\n",
    "plt.ylabel('Count')\n",
    "plt.axvline(a.mean(), color='magenta', linestyle='dashed', linewidth=2)\n",
    "plt.axvline(a.median(), color='green', linestyle='dotted', linewidth=2)\n",
    "plt.axvline(a.mean()+3*a.std(), color='red', linestyle='dotted', linewidth=2)\n",
    "plt.axvline(a.mean()-3*a.std(), color='red', linestyle='dotted', linewidth=2)\n",
    "plt.show\n",
    "\n",
    "\n",
    "### displot\n",
    "sns.displot(recycling_single_stream.load_weight, kde=True, label='Load Weight in TDS MRF')\n",
    "plt.axvline(a.mean()+3*a.std(), color='red', linestyle='dotted', linewidth=2)\n",
    "plt.axvline(a.mean()-3*a.std(), color='red', linestyle='dotted', linewidth=2)\n",
    "plt.show"
   ]
  },
  {
   "cell_type": "markdown",
   "metadata": {},
   "source": [
    "There are outliers in the `recycling_single_stream` data in the normal distribution. Outliers are data points that are far from other data points.\n",
    "\n",
    "The next step to do is to handle outliers.\n",
    "\n",
    "Some popular concepts for dealing with outliers are:\n",
    "\n",
    "- Dropping outliers\n",
    "- Limit them - i.e. define max/min point and assign that value to outlier. This applies if the data shows that after some point the larger/smaller value does not change the result.\n",
    "- Double check - they could have entered the value incorrectly or so."
   ]
  },
  {
   "cell_type": "code",
   "execution_count": 32,
   "metadata": {},
   "outputs": [
    {
     "data": {
      "text/html": [
       "<div>\n",
       "<style scoped>\n",
       "    .dataframe tbody tr th:only-of-type {\n",
       "        vertical-align: middle;\n",
       "    }\n",
       "\n",
       "    .dataframe tbody tr th {\n",
       "        vertical-align: top;\n",
       "    }\n",
       "\n",
       "    .dataframe thead th {\n",
       "        text-align: right;\n",
       "    }\n",
       "</style>\n",
       "<table border=\"1\" class=\"dataframe\">\n",
       "  <thead>\n",
       "    <tr style=\"text-align: right;\">\n",
       "      <th></th>\n",
       "      <th>report_date</th>\n",
       "      <th>load_time</th>\n",
       "      <th>load_type</th>\n",
       "      <th>load_weight</th>\n",
       "      <th>dropoff_site</th>\n",
       "      <th>Z-Score</th>\n",
       "    </tr>\n",
       "  </thead>\n",
       "  <tbody>\n",
       "    <tr>\n",
       "      <th>4485</th>\n",
       "      <td>2021-02-03</td>\n",
       "      <td>2021-02-03 02:05:00 UTC</td>\n",
       "      <td>RECYCLING - SINGLE STREAM</td>\n",
       "      <td>2340.0</td>\n",
       "      <td>AUSTIN WOOD RECYCLING</td>\n",
       "      <td>-1.856304</td>\n",
       "    </tr>\n",
       "    <tr>\n",
       "      <th>24620</th>\n",
       "      <td>2021-06-25</td>\n",
       "      <td>2021-06-25 11:45:00 UTC</td>\n",
       "      <td>RECYCLING - SINGLE STREAM</td>\n",
       "      <td>5760.0</td>\n",
       "      <td>AUSTIN WOOD RECYCLING</td>\n",
       "      <td>-0.983261</td>\n",
       "    </tr>\n",
       "    <tr>\n",
       "      <th>111</th>\n",
       "      <td>2021-01-02</td>\n",
       "      <td>2021-01-02 12:22:00 UTC</td>\n",
       "      <td>RECYCLING - SINGLE STREAM</td>\n",
       "      <td>8760.0</td>\n",
       "      <td>BALCONES RECYCLING</td>\n",
       "      <td>-0.217435</td>\n",
       "    </tr>\n",
       "    <tr>\n",
       "      <th>112</th>\n",
       "      <td>2021-01-02</td>\n",
       "      <td>2021-01-02 12:45:00 UTC</td>\n",
       "      <td>RECYCLING - SINGLE STREAM</td>\n",
       "      <td>8500.0</td>\n",
       "      <td>BALCONES RECYCLING</td>\n",
       "      <td>-0.283806</td>\n",
       "    </tr>\n",
       "    <tr>\n",
       "      <th>113</th>\n",
       "      <td>2021-01-02</td>\n",
       "      <td>2021-01-02 11:55:00 UTC</td>\n",
       "      <td>RECYCLING - SINGLE STREAM</td>\n",
       "      <td>5020.0</td>\n",
       "      <td>BALCONES RECYCLING</td>\n",
       "      <td>-1.172165</td>\n",
       "    </tr>\n",
       "    <tr>\n",
       "      <th>...</th>\n",
       "      <td>...</td>\n",
       "      <td>...</td>\n",
       "      <td>...</td>\n",
       "      <td>...</td>\n",
       "      <td>...</td>\n",
       "      <td>...</td>\n",
       "    </tr>\n",
       "    <tr>\n",
       "      <th>25728</th>\n",
       "      <td>2021-07-06</td>\n",
       "      <td>2021-07-06 10:00:00 UTC</td>\n",
       "      <td>RECYCLING - SINGLE STREAM</td>\n",
       "      <td>9080.0</td>\n",
       "      <td>TDS - MRF</td>\n",
       "      <td>-0.135746</td>\n",
       "    </tr>\n",
       "    <tr>\n",
       "      <th>25729</th>\n",
       "      <td>2021-07-06</td>\n",
       "      <td>2021-07-06 09:00:00 UTC</td>\n",
       "      <td>RECYCLING - SINGLE STREAM</td>\n",
       "      <td>12840.0</td>\n",
       "      <td>TDS - MRF</td>\n",
       "      <td>0.824090</td>\n",
       "    </tr>\n",
       "    <tr>\n",
       "      <th>25730</th>\n",
       "      <td>2021-07-06</td>\n",
       "      <td>2021-07-06 02:00:00 UTC</td>\n",
       "      <td>RECYCLING - SINGLE STREAM</td>\n",
       "      <td>10200.0</td>\n",
       "      <td>TDS - MRF</td>\n",
       "      <td>0.150162</td>\n",
       "    </tr>\n",
       "    <tr>\n",
       "      <th>25863</th>\n",
       "      <td>2021-07-07</td>\n",
       "      <td>2021-07-07 02:00:00 UTC</td>\n",
       "      <td>RECYCLING - SINGLE STREAM</td>\n",
       "      <td>5340.0</td>\n",
       "      <td>TDS - MRF</td>\n",
       "      <td>-1.090477</td>\n",
       "    </tr>\n",
       "    <tr>\n",
       "      <th>25864</th>\n",
       "      <td>2021-07-07</td>\n",
       "      <td>2021-07-07 02:00:00 UTC</td>\n",
       "      <td>RECYCLING - SINGLE STREAM</td>\n",
       "      <td>4060.0</td>\n",
       "      <td>TDS - MRF</td>\n",
       "      <td>-1.417230</td>\n",
       "    </tr>\n",
       "  </tbody>\n",
       "</table>\n",
       "<p>6757 rows × 6 columns</p>\n",
       "</div>"
      ],
      "text/plain": [
       "      report_date                load_time                  load_type  \\\n",
       "4485   2021-02-03  2021-02-03 02:05:00 UTC  RECYCLING - SINGLE STREAM   \n",
       "24620  2021-06-25  2021-06-25 11:45:00 UTC  RECYCLING - SINGLE STREAM   \n",
       "111    2021-01-02  2021-01-02 12:22:00 UTC  RECYCLING - SINGLE STREAM   \n",
       "112    2021-01-02  2021-01-02 12:45:00 UTC  RECYCLING - SINGLE STREAM   \n",
       "113    2021-01-02  2021-01-02 11:55:00 UTC  RECYCLING - SINGLE STREAM   \n",
       "...           ...                      ...                        ...   \n",
       "25728  2021-07-06  2021-07-06 10:00:00 UTC  RECYCLING - SINGLE STREAM   \n",
       "25729  2021-07-06  2021-07-06 09:00:00 UTC  RECYCLING - SINGLE STREAM   \n",
       "25730  2021-07-06  2021-07-06 02:00:00 UTC  RECYCLING - SINGLE STREAM   \n",
       "25863  2021-07-07  2021-07-07 02:00:00 UTC  RECYCLING - SINGLE STREAM   \n",
       "25864  2021-07-07  2021-07-07 02:00:00 UTC  RECYCLING - SINGLE STREAM   \n",
       "\n",
       "       load_weight           dropoff_site   Z-Score  \n",
       "4485        2340.0  AUSTIN WOOD RECYCLING -1.856304  \n",
       "24620       5760.0  AUSTIN WOOD RECYCLING -0.983261  \n",
       "111         8760.0     BALCONES RECYCLING -0.217435  \n",
       "112         8500.0     BALCONES RECYCLING -0.283806  \n",
       "113         5020.0     BALCONES RECYCLING -1.172165  \n",
       "...            ...                    ...       ...  \n",
       "25728       9080.0              TDS - MRF -0.135746  \n",
       "25729      12840.0              TDS - MRF  0.824090  \n",
       "25730      10200.0              TDS - MRF  0.150162  \n",
       "25863       5340.0              TDS - MRF -1.090477  \n",
       "25864       4060.0              TDS - MRF -1.417230  \n",
       "\n",
       "[6757 rows x 6 columns]"
      ]
     },
     "execution_count": 32,
     "metadata": {},
     "output_type": "execute_result"
    }
   ],
   "source": [
    "recycling_single_stream['Z-Score'] = stats.zscore(recycling_single_stream['load_weight'])\n",
    "recycling_single_stream"
   ]
  },
  {
   "cell_type": "code",
   "execution_count": 33,
   "metadata": {},
   "outputs": [
    {
     "data": {
      "text/html": [
       "<div>\n",
       "<style scoped>\n",
       "    .dataframe tbody tr th:only-of-type {\n",
       "        vertical-align: middle;\n",
       "    }\n",
       "\n",
       "    .dataframe tbody tr th {\n",
       "        vertical-align: top;\n",
       "    }\n",
       "\n",
       "    .dataframe thead th {\n",
       "        text-align: right;\n",
       "    }\n",
       "</style>\n",
       "<table border=\"1\" class=\"dataframe\">\n",
       "  <thead>\n",
       "    <tr style=\"text-align: right;\">\n",
       "      <th></th>\n",
       "      <th>report_date</th>\n",
       "      <th>load_time</th>\n",
       "      <th>load_type</th>\n",
       "      <th>load_weight</th>\n",
       "      <th>dropoff_site</th>\n",
       "      <th>Z-Score</th>\n",
       "    </tr>\n",
       "  </thead>\n",
       "  <tbody>\n",
       "    <tr>\n",
       "      <th>891</th>\n",
       "      <td>2021-01-07</td>\n",
       "      <td>2021-01-05 02:05:00 UTC</td>\n",
       "      <td>RECYCLING - SINGLE STREAM</td>\n",
       "      <td>21400.0</td>\n",
       "      <td>BALCONES RECYCLING</td>\n",
       "      <td>3.009249</td>\n",
       "    </tr>\n",
       "    <tr>\n",
       "      <th>900</th>\n",
       "      <td>2021-01-07</td>\n",
       "      <td>2021-01-07 12:20:00 UTC</td>\n",
       "      <td>RECYCLING - SINGLE STREAM</td>\n",
       "      <td>21400.0</td>\n",
       "      <td>BALCONES RECYCLING</td>\n",
       "      <td>3.009249</td>\n",
       "    </tr>\n",
       "    <tr>\n",
       "      <th>18569</th>\n",
       "      <td>2021-05-12</td>\n",
       "      <td>2021-05-12 01:03:00 UTC</td>\n",
       "      <td>RECYCLING - SINGLE STREAM</td>\n",
       "      <td>23240.0</td>\n",
       "      <td>BALCONES RECYCLING</td>\n",
       "      <td>3.478956</td>\n",
       "    </tr>\n",
       "    <tr>\n",
       "      <th>20469</th>\n",
       "      <td>2021-05-26</td>\n",
       "      <td>2021-05-26 01:45:00 UTC</td>\n",
       "      <td>RECYCLING - SINGLE STREAM</td>\n",
       "      <td>21470.0</td>\n",
       "      <td>BALCONES RECYCLING</td>\n",
       "      <td>3.027118</td>\n",
       "    </tr>\n",
       "    <tr>\n",
       "      <th>22295</th>\n",
       "      <td>2021-06-09</td>\n",
       "      <td>2021-06-09 01:55:00 UTC</td>\n",
       "      <td>RECYCLING - SINGLE STREAM</td>\n",
       "      <td>25780.0</td>\n",
       "      <td>BALCONES RECYCLING</td>\n",
       "      <td>4.127356</td>\n",
       "    </tr>\n",
       "    <tr>\n",
       "      <th>22302</th>\n",
       "      <td>2021-06-09</td>\n",
       "      <td>2021-06-09 01:44:00 UTC</td>\n",
       "      <td>RECYCLING - SINGLE STREAM</td>\n",
       "      <td>22480.0</td>\n",
       "      <td>BALCONES RECYCLING</td>\n",
       "      <td>3.284947</td>\n",
       "    </tr>\n",
       "    <tr>\n",
       "      <th>397</th>\n",
       "      <td>2021-01-05</td>\n",
       "      <td>2021-01-05 02:00:00 UTC</td>\n",
       "      <td>RECYCLING - SINGLE STREAM</td>\n",
       "      <td>22800.0</td>\n",
       "      <td>TDS - MRF</td>\n",
       "      <td>3.366635</td>\n",
       "    </tr>\n",
       "    <tr>\n",
       "      <th>4151</th>\n",
       "      <td>2021-02-02</td>\n",
       "      <td>2021-02-02 02:07:00 UTC</td>\n",
       "      <td>RECYCLING - SINGLE STREAM</td>\n",
       "      <td>21520.0</td>\n",
       "      <td>TDS - MRF</td>\n",
       "      <td>3.039882</td>\n",
       "    </tr>\n",
       "    <tr>\n",
       "      <th>20866</th>\n",
       "      <td>2021-05-31</td>\n",
       "      <td>2021-05-31 02:15:00 UTC</td>\n",
       "      <td>RECYCLING - SINGLE STREAM</td>\n",
       "      <td>23320.0</td>\n",
       "      <td>TDS - MRF</td>\n",
       "      <td>3.499378</td>\n",
       "    </tr>\n",
       "    <tr>\n",
       "      <th>20870</th>\n",
       "      <td>2021-05-31</td>\n",
       "      <td>2021-05-31 01:01:00 UTC</td>\n",
       "      <td>RECYCLING - SINGLE STREAM</td>\n",
       "      <td>22280.0</td>\n",
       "      <td>TDS - MRF</td>\n",
       "      <td>3.233892</td>\n",
       "    </tr>\n",
       "    <tr>\n",
       "      <th>21048</th>\n",
       "      <td>2021-06-01</td>\n",
       "      <td>2021-06-01 02:32:00 UTC</td>\n",
       "      <td>RECYCLING - SINGLE STREAM</td>\n",
       "      <td>24340.0</td>\n",
       "      <td>TDS - MRF</td>\n",
       "      <td>3.759759</td>\n",
       "    </tr>\n",
       "    <tr>\n",
       "      <th>21958</th>\n",
       "      <td>2021-06-08</td>\n",
       "      <td>2021-06-08 01:03:00 UTC</td>\n",
       "      <td>RECYCLING - SINGLE STREAM</td>\n",
       "      <td>23560.0</td>\n",
       "      <td>TDS - MRF</td>\n",
       "      <td>3.560644</td>\n",
       "    </tr>\n",
       "    <tr>\n",
       "      <th>21969</th>\n",
       "      <td>2021-06-08</td>\n",
       "      <td>2021-06-08 02:40:00 UTC</td>\n",
       "      <td>RECYCLING - SINGLE STREAM</td>\n",
       "      <td>27060.0</td>\n",
       "      <td>TDS - MRF</td>\n",
       "      <td>4.454109</td>\n",
       "    </tr>\n",
       "    <tr>\n",
       "      <th>23904</th>\n",
       "      <td>2021-06-22</td>\n",
       "      <td>2021-06-22 12:20:00 UTC</td>\n",
       "      <td>RECYCLING - SINGLE STREAM</td>\n",
       "      <td>21520.0</td>\n",
       "      <td>TDS - MRF</td>\n",
       "      <td>3.039882</td>\n",
       "    </tr>\n",
       "  </tbody>\n",
       "</table>\n",
       "</div>"
      ],
      "text/plain": [
       "      report_date                load_time                  load_type  \\\n",
       "891    2021-01-07  2021-01-05 02:05:00 UTC  RECYCLING - SINGLE STREAM   \n",
       "900    2021-01-07  2021-01-07 12:20:00 UTC  RECYCLING - SINGLE STREAM   \n",
       "18569  2021-05-12  2021-05-12 01:03:00 UTC  RECYCLING - SINGLE STREAM   \n",
       "20469  2021-05-26  2021-05-26 01:45:00 UTC  RECYCLING - SINGLE STREAM   \n",
       "22295  2021-06-09  2021-06-09 01:55:00 UTC  RECYCLING - SINGLE STREAM   \n",
       "22302  2021-06-09  2021-06-09 01:44:00 UTC  RECYCLING - SINGLE STREAM   \n",
       "397    2021-01-05  2021-01-05 02:00:00 UTC  RECYCLING - SINGLE STREAM   \n",
       "4151   2021-02-02  2021-02-02 02:07:00 UTC  RECYCLING - SINGLE STREAM   \n",
       "20866  2021-05-31  2021-05-31 02:15:00 UTC  RECYCLING - SINGLE STREAM   \n",
       "20870  2021-05-31  2021-05-31 01:01:00 UTC  RECYCLING - SINGLE STREAM   \n",
       "21048  2021-06-01  2021-06-01 02:32:00 UTC  RECYCLING - SINGLE STREAM   \n",
       "21958  2021-06-08  2021-06-08 01:03:00 UTC  RECYCLING - SINGLE STREAM   \n",
       "21969  2021-06-08  2021-06-08 02:40:00 UTC  RECYCLING - SINGLE STREAM   \n",
       "23904  2021-06-22  2021-06-22 12:20:00 UTC  RECYCLING - SINGLE STREAM   \n",
       "\n",
       "       load_weight        dropoff_site   Z-Score  \n",
       "891        21400.0  BALCONES RECYCLING  3.009249  \n",
       "900        21400.0  BALCONES RECYCLING  3.009249  \n",
       "18569      23240.0  BALCONES RECYCLING  3.478956  \n",
       "20469      21470.0  BALCONES RECYCLING  3.027118  \n",
       "22295      25780.0  BALCONES RECYCLING  4.127356  \n",
       "22302      22480.0  BALCONES RECYCLING  3.284947  \n",
       "397        22800.0           TDS - MRF  3.366635  \n",
       "4151       21520.0           TDS - MRF  3.039882  \n",
       "20866      23320.0           TDS - MRF  3.499378  \n",
       "20870      22280.0           TDS - MRF  3.233892  \n",
       "21048      24340.0           TDS - MRF  3.759759  \n",
       "21958      23560.0           TDS - MRF  3.560644  \n",
       "21969      27060.0           TDS - MRF  4.454109  \n",
       "23904      21520.0           TDS - MRF  3.039882  "
      ]
     },
     "execution_count": 33,
     "metadata": {},
     "output_type": "execute_result"
    }
   ],
   "source": [
    "recycling_single_stream[(recycling_single_stream['Z-Score']>3)| (recycling_single_stream['Z-Score']<-3)]"
   ]
  },
  {
   "cell_type": "code",
   "execution_count": 34,
   "metadata": {},
   "outputs": [
    {
     "data": {
      "text/plain": [
       "report_date     14\n",
       "load_time       14\n",
       "load_type       14\n",
       "load_weight     14\n",
       "dropoff_site    14\n",
       "Z-Score         14\n",
       "dtype: int64"
      ]
     },
     "execution_count": 34,
     "metadata": {},
     "output_type": "execute_result"
    }
   ],
   "source": [
    "recycling_single_stream[(recycling_single_stream['Z-Score']>3)| (recycling_single_stream['Z-Score']<-3)].count()"
   ]
  },
  {
   "cell_type": "code",
   "execution_count": 35,
   "metadata": {},
   "outputs": [
    {
     "data": {
      "text/plain": [
       "0.20719254106852156"
      ]
     },
     "execution_count": 35,
     "metadata": {},
     "output_type": "execute_result"
    }
   ],
   "source": [
    "# PERCENTILES OF THE OUTLIERS\n",
    "\n",
    "data_outlier_satu = recycling_single_stream[(recycling_single_stream['Z-Score']>3)| (recycling_single_stream['Z-Score']<-3)]\n",
    "jumlah_data_outlier_satu = data_outlier_satu.load_weight.count()\n",
    "jumlah_data_recycling_single_stream = recycling_single_stream.load_weight.count()\n",
    "\n",
    "outliers_percentage_satu = (jumlah_data_outlier_satu/jumlah_data_recycling_single_stream)*100\n",
    "outliers_percentage_satu"
   ]
  },
  {
   "cell_type": "markdown",
   "metadata": {},
   "source": [
    "In the `recycling_single_stream` data, the number of outliers in the data only adds up to 14 data. Data `recycling_single_stream` has a total of 6757 rows of data. **The percentage of extreme value is 0.21% of the total data**. The number of extreme value is still small when compared to the total amount of data. So I will use the capping method to handle the extreme values. \n",
    "\n",
    "Since the right-hand `recycling_single_stream` data crosses its limit, the way to detect outliers is to use the z-score, first look for the z-score then look at the outliers by filtering the data for z-scores greater than -3 to 3"
   ]
  },
  {
   "cell_type": "code",
   "execution_count": 36,
   "metadata": {},
   "outputs": [
    {
     "data": {
      "text/plain": [
       "21364.637758089768"
      ]
     },
     "execution_count": 36,
     "metadata": {},
     "output_type": "execute_result"
    }
   ],
   "source": [
    "outliers_L = (recycling_single_stream.load_weight.mean()) - (3 * (recycling_single_stream.load_weight.std()))\n",
    "outliers_R = (recycling_single_stream.load_weight.mean()) + (3 * (recycling_single_stream.load_weight.std()))\n",
    "outliers_R"
   ]
  },
  {
   "cell_type": "code",
   "execution_count": 37,
   "metadata": {},
   "outputs": [],
   "source": [
    "recycling_single_stream[\"load_weight\"] = np.where(recycling_single_stream['load_weight']>21364.0, 21364.0,recycling_single_stream['load_weight'])"
   ]
  },
  {
   "cell_type": "code",
   "execution_count": 38,
   "metadata": {},
   "outputs": [
    {
     "data": {
      "text/plain": [
       "21364.0"
      ]
     },
     "execution_count": 38,
     "metadata": {},
     "output_type": "execute_result"
    }
   ],
   "source": [
    "recycling_single_stream['load_weight'].max()"
   ]
  },
  {
   "cell_type": "markdown",
   "metadata": {},
   "source": [
    "The command above has done the capping of the existing outliers with proven maximum value changed to 21364.0"
   ]
  },
  {
   "cell_type": "markdown",
   "metadata": {},
   "source": [
    "Below is the plotting of `recycling_single_stream` data after capping."
   ]
  },
  {
   "cell_type": "code",
   "execution_count": 39,
   "metadata": {},
   "outputs": [
    {
     "data": {
      "text/plain": [
       "<function matplotlib.pyplot.show(close=None, block=None)>"
      ]
     },
     "execution_count": 39,
     "metadata": {},
     "output_type": "execute_result"
    },
    {
     "data": {
      "image/png": "[encoded data removed]",
      "text/plain": [
       "<Figure size 432x288 with 1 Axes>"
      ]
     },
     "metadata": {
      "needs_background": "light"
     },
     "output_type": "display_data"
    },
    {
     "data": {
      "image/png": "[encoded data removed]",
      "text/plain": [
       "<Figure size 360x360 with 1 Axes>"
      ]
     },
     "metadata": {
      "needs_background": "light"
     },
     "output_type": "display_data"
    }
   ],
   "source": [
    "### HISTOGRAM DENGAN AXIS LINE\n",
    "a = recycling_single_stream['load_weight']\n",
    "plt.hist(recycling_single_stream['load_weight'], color = 'white', edgecolor = 'black',\n",
    "         bins = int(500/5))\n",
    "\n",
    "plt.title('Data Distribution with load type recycling single stream')\n",
    "plt.xlabel('Load Weight')\n",
    "plt.ylabel('Count')\n",
    "plt.axvline(a.mean(), color='magenta', linestyle='dashed', linewidth=2)\n",
    "plt.axvline(a.median(), color='green', linestyle='dotted', linewidth=2)\n",
    "plt.axvline(a.mean()+3*a.std(), color='red', linestyle='dotted', linewidth=2)\n",
    "plt.axvline(a.mean()-3*a.std(), color='red', linestyle='dotted', linewidth=2)\n",
    "plt.show\n",
    "\n",
    "\n",
    "### displot\n",
    "sns.displot(recycling_single_stream.load_weight, kde=True, label='Load Weight in TDS MRF')\n",
    "plt.axvline(a.mean()+3*a.std(), color='red', linestyle='dotted', linewidth=2)\n",
    "plt.axvline(a.mean()-3*a.std(), color='red', linestyle='dotted', linewidth=2)\n",
    "plt.show"
   ]
  },
  {
   "cell_type": "markdown",
   "metadata": {},
   "source": [
    "**The following is a comparison of the mean, median, and mode of the data `recycling_single_stream` with outliers and `recycling_single_stream` without any extreme values.**"
   ]
  },
  {
   "cell_type": "code",
   "execution_count": 40,
   "metadata": {},
   "outputs": [
    {
     "name": "stdout",
     "output_type": "stream",
     "text": [
      "rata-rata : 9608.349267426373\n",
      "median : 10040.0\n",
      "modus : 11880.0\n"
     ]
    }
   ],
   "source": [
    "mean_satu_new = recycling_single_stream['load_weight'].mean()\n",
    "median_satu_new = recycling_single_stream['load_weight'].median()\n",
    "modus_satu_new = recycling_single_stream['load_weight'].mode()[0]\n",
    "\n",
    "print(f'rata-rata : {mean_satu_new}')\n",
    "print(f'median : {median_satu_new}')\n",
    "print(f'modus : {modus_satu_new}')"
   ]
  },
  {
   "cell_type": "code",
   "execution_count": 41,
   "metadata": {},
   "outputs": [
    {
     "data": {
      "text/html": [
       "<div>\n",
       "<style scoped>\n",
       "    .dataframe tbody tr th:only-of-type {\n",
       "        vertical-align: middle;\n",
       "    }\n",
       "\n",
       "    .dataframe tbody tr th {\n",
       "        vertical-align: top;\n",
       "    }\n",
       "\n",
       "    .dataframe thead th {\n",
       "        text-align: right;\n",
       "    }\n",
       "</style>\n",
       "<table border=\"1\" class=\"dataframe\">\n",
       "  <thead>\n",
       "    <tr style=\"text-align: right;\">\n",
       "      <th></th>\n",
       "      <th>Data Condition</th>\n",
       "      <th>Mean</th>\n",
       "      <th>Median</th>\n",
       "      <th>Modus</th>\n",
       "    </tr>\n",
       "  </thead>\n",
       "  <tbody>\n",
       "    <tr>\n",
       "      <th>0</th>\n",
       "      <td>With Outliers</td>\n",
       "      <td>9611.764096</td>\n",
       "      <td>10040.0</td>\n",
       "      <td>11880.0</td>\n",
       "    </tr>\n",
       "    <tr>\n",
       "      <th>1</th>\n",
       "      <td>Without Outliers</td>\n",
       "      <td>9608.349267</td>\n",
       "      <td>10040.0</td>\n",
       "      <td>11880.0</td>\n",
       "    </tr>\n",
       "  </tbody>\n",
       "</table>\n",
       "</div>"
      ],
      "text/plain": [
       "     Data Condition         Mean   Median    Modus\n",
       "0     With Outliers  9611.764096  10040.0  11880.0\n",
       "1  Without Outliers  9608.349267  10040.0  11880.0"
      ]
     },
     "execution_count": 41,
     "metadata": {},
     "output_type": "execute_result"
    }
   ],
   "source": [
    "perbandingan = pd.DataFrame({'Data Condition': ['With Outliers', 'Without Outliers'],\n",
    "                   'Mean':[mean_satu,mean_satu_new],\n",
    "                   'Median':[median_satu,median_satu_new],\n",
    "                   'Modus':[modus_satu,modus_satu_new]\n",
    "                   })\n",
    "perbandingan"
   ]
  },
  {
   "cell_type": "markdown",
   "metadata": {},
   "source": [
    "Since the data is clear of extreme values, I will now calculate the range, variance, and standard deviation values."
   ]
  },
  {
   "cell_type": "code",
   "execution_count": 42,
   "metadata": {},
   "outputs": [
    {
     "data": {
      "text/plain": [
       "21324.0"
      ]
     },
     "execution_count": 42,
     "metadata": {},
     "output_type": "execute_result"
    }
   ],
   "source": [
    "max_recycling_single_stream = recycling_single_stream['load_weight'].max()\n",
    "min_recycling_single_stream = recycling_single_stream['load_weight'].min()\n",
    "\n",
    "range_recycling_single_stream = max_recycling_single_stream - min_recycling_single_stream\n",
    "range_recycling_single_stream"
   ]
  },
  {
   "cell_type": "code",
   "execution_count": 43,
   "metadata": {},
   "outputs": [
    {
     "data": {
      "text/plain": [
       "15256071.094098438"
      ]
     },
     "execution_count": 43,
     "metadata": {},
     "output_type": "execute_result"
    }
   ],
   "source": [
    "Variance = recycling_single_stream[\"load_weight\"].var()\n",
    "Variance"
   ]
  },
  {
   "cell_type": "code",
   "execution_count": 44,
   "metadata": {},
   "outputs": [
    {
     "data": {
      "text/plain": [
       "3905.9020845508194"
      ]
     },
     "execution_count": 44,
     "metadata": {},
     "output_type": "execute_result"
    }
   ],
   "source": [
    "std = recycling_single_stream[\"load_weight\"].std()\n",
    "std"
   ]
  },
  {
   "cell_type": "markdown",
   "metadata": {},
   "source": [
    "**From the results above, the information obtained is the diversity of the weight of waste disposal at the recycling single stream type, the value of waste disposal at the recycling single stream type is far from the average value.**\n",
    "\n",
    "\n",
    "The standard deviation is derived from variance and tells you, on average, how far each value lies from the mean.\n",
    "\n",
    "Both measures reflect variability in a distribution, but their units differ:\n",
    "\n",
    "- **Standard deviation** is expressed in the same units as the original values (e.g., meters).\n",
    "- **Variance is expressed** in much larger units (e.g., meters squared)\n",
    "\n",
    "Since the units of variance are much larger than those of a typical value of a data set, it’s harder to interpret the variance number intuitively. That’s why standard deviation is often preferred as a main measure of variability.\n",
    "\n",
    "However, the variance is more informative about variability than the standard deviation, and it’s used in making statistical inferences."
   ]
  },
  {
   "cell_type": "markdown",
   "metadata": {},
   "source": [
    "---"
   ]
  },
  {
   "cell_type": "markdown",
   "metadata": {},
   "source": [
    "Now if the city government plans to add a new site. I have to provide analysis and suggestions regarding the amount of storage capacity at the new site based on the calculation of the confidence interval."
   ]
  },
  {
   "cell_type": "code",
   "execution_count": 45,
   "metadata": {},
   "outputs": [
    {
     "data": {
      "text/plain": [
       "(1952.9218545668455, 17263.7766802859)"
      ]
     },
     "execution_count": 45,
     "metadata": {},
     "output_type": "execute_result"
    }
   ],
   "source": [
    "ci = stats.norm.interval(0.95, recycling_single_stream['load_weight'].mean(), recycling_single_stream['load_weight'].std())\n",
    "ci"
   ]
  },
  {
   "cell_type": "markdown",
   "metadata": {},
   "source": [
    "## SAMPLE 2"
   ]
  },
  {
   "cell_type": "markdown",
   "metadata": {},
   "source": [
    "I am slicing `Steiner Landfill, Westfield, and TDS Landfill` data from variable `df` into a new variable called `garbage_collections`."
   ]
  },
  {
   "cell_type": "code",
   "execution_count": 46,
   "metadata": {},
   "outputs": [
    {
     "data": {
      "text/html": [
       "<div>\n",
       "<style scoped>\n",
       "    .dataframe tbody tr th:only-of-type {\n",
       "        vertical-align: middle;\n",
       "    }\n",
       "\n",
       "    .dataframe tbody tr th {\n",
       "        vertical-align: top;\n",
       "    }\n",
       "\n",
       "    .dataframe thead th {\n",
       "        text-align: right;\n",
       "    }\n",
       "</style>\n",
       "<table border=\"1\" class=\"dataframe\">\n",
       "  <thead>\n",
       "    <tr style=\"text-align: right;\">\n",
       "      <th></th>\n",
       "      <th>report_date</th>\n",
       "      <th>load_time</th>\n",
       "      <th>load_type</th>\n",
       "      <th>load_weight</th>\n",
       "      <th>dropoff_site</th>\n",
       "    </tr>\n",
       "  </thead>\n",
       "  <tbody>\n",
       "    <tr>\n",
       "      <th>14591</th>\n",
       "      <td>2021-04-14</td>\n",
       "      <td>2021-04-14 11:35:00 UTC</td>\n",
       "      <td>GARBAGE COLLECTIONS</td>\n",
       "      <td>780.0</td>\n",
       "      <td>STEINER LANDFILL</td>\n",
       "    </tr>\n",
       "  </tbody>\n",
       "</table>\n",
       "</div>"
      ],
      "text/plain": [
       "      report_date                load_time            load_type  load_weight  \\\n",
       "14591  2021-04-14  2021-04-14 11:35:00 UTC  GARBAGE COLLECTIONS        780.0   \n",
       "\n",
       "           dropoff_site  \n",
       "14591  STEINER LANDFILL  "
      ]
     },
     "execution_count": 46,
     "metadata": {},
     "output_type": "execute_result"
    }
   ],
   "source": [
    "SL = df[df['dropoff_site']=='STEINER LANDFILL']\n",
    "SL"
   ]
  },
  {
   "cell_type": "code",
   "execution_count": 47,
   "metadata": {},
   "outputs": [
    {
     "data": {
      "text/html": [
       "<div>\n",
       "<style scoped>\n",
       "    .dataframe tbody tr th:only-of-type {\n",
       "        vertical-align: middle;\n",
       "    }\n",
       "\n",
       "    .dataframe tbody tr th {\n",
       "        vertical-align: top;\n",
       "    }\n",
       "\n",
       "    .dataframe thead th {\n",
       "        text-align: right;\n",
       "    }\n",
       "</style>\n",
       "<table border=\"1\" class=\"dataframe\">\n",
       "  <thead>\n",
       "    <tr style=\"text-align: right;\">\n",
       "      <th></th>\n",
       "      <th>report_date</th>\n",
       "      <th>load_time</th>\n",
       "      <th>load_type</th>\n",
       "      <th>load_weight</th>\n",
       "      <th>dropoff_site</th>\n",
       "    </tr>\n",
       "  </thead>\n",
       "  <tbody>\n",
       "    <tr>\n",
       "      <th>19600</th>\n",
       "      <td>2021-05-20</td>\n",
       "      <td>2021-05-20 11:25:00 UTC</td>\n",
       "      <td>GARBAGE COLLECTIONS</td>\n",
       "      <td>16020.0</td>\n",
       "      <td>WESTFIELD</td>\n",
       "    </tr>\n",
       "  </tbody>\n",
       "</table>\n",
       "</div>"
      ],
      "text/plain": [
       "      report_date                load_time            load_type  load_weight  \\\n",
       "19600  2021-05-20  2021-05-20 11:25:00 UTC  GARBAGE COLLECTIONS      16020.0   \n",
       "\n",
       "      dropoff_site  \n",
       "19600    WESTFIELD  "
      ]
     },
     "execution_count": 47,
     "metadata": {},
     "output_type": "execute_result"
    }
   ],
   "source": [
    "WF = df[df['dropoff_site']=='WESTFIELD']\n",
    "WF"
   ]
  },
  {
   "cell_type": "code",
   "execution_count": 48,
   "metadata": {},
   "outputs": [
    {
     "data": {
      "text/html": [
       "<div>\n",
       "<style scoped>\n",
       "    .dataframe tbody tr th:only-of-type {\n",
       "        vertical-align: middle;\n",
       "    }\n",
       "\n",
       "    .dataframe tbody tr th {\n",
       "        vertical-align: top;\n",
       "    }\n",
       "\n",
       "    .dataframe thead th {\n",
       "        text-align: right;\n",
       "    }\n",
       "</style>\n",
       "<table border=\"1\" class=\"dataframe\">\n",
       "  <thead>\n",
       "    <tr style=\"text-align: right;\">\n",
       "      <th></th>\n",
       "      <th>report_date</th>\n",
       "      <th>load_time</th>\n",
       "      <th>load_type</th>\n",
       "      <th>load_weight</th>\n",
       "      <th>dropoff_site</th>\n",
       "    </tr>\n",
       "  </thead>\n",
       "  <tbody>\n",
       "    <tr>\n",
       "      <th>16</th>\n",
       "      <td>2021-01-02</td>\n",
       "      <td>2021-01-02 02:16:00 UTC</td>\n",
       "      <td>BULK</td>\n",
       "      <td>12480.0</td>\n",
       "      <td>TDS LANDFILL</td>\n",
       "    </tr>\n",
       "    <tr>\n",
       "      <th>17</th>\n",
       "      <td>2021-01-02</td>\n",
       "      <td>2021-01-02 12:25:00 UTC</td>\n",
       "      <td>BULK</td>\n",
       "      <td>10200.0</td>\n",
       "      <td>TDS LANDFILL</td>\n",
       "    </tr>\n",
       "    <tr>\n",
       "      <th>18</th>\n",
       "      <td>2021-01-02</td>\n",
       "      <td>2021-01-02 02:13:00 UTC</td>\n",
       "      <td>BULK</td>\n",
       "      <td>5440.0</td>\n",
       "      <td>TDS LANDFILL</td>\n",
       "    </tr>\n",
       "    <tr>\n",
       "      <th>19</th>\n",
       "      <td>2021-01-02</td>\n",
       "      <td>2021-01-02 04:27:00 UTC</td>\n",
       "      <td>DEAD ANIMAL</td>\n",
       "      <td>140.0</td>\n",
       "      <td>TDS LANDFILL</td>\n",
       "    </tr>\n",
       "    <tr>\n",
       "      <th>20</th>\n",
       "      <td>2021-01-02</td>\n",
       "      <td>2021-01-02 02:44:00 UTC</td>\n",
       "      <td>GARBAGE COLLECTIONS</td>\n",
       "      <td>24580.0</td>\n",
       "      <td>TDS LANDFILL</td>\n",
       "    </tr>\n",
       "    <tr>\n",
       "      <th>...</th>\n",
       "      <td>...</td>\n",
       "      <td>...</td>\n",
       "      <td>...</td>\n",
       "      <td>...</td>\n",
       "      <td>...</td>\n",
       "    </tr>\n",
       "    <tr>\n",
       "      <th>26097</th>\n",
       "      <td>2021-07-08</td>\n",
       "      <td>2021-07-08 02:04:00 UTC</td>\n",
       "      <td>GARBAGE COLLECTIONS</td>\n",
       "      <td>8380.0</td>\n",
       "      <td>TDS LANDFILL</td>\n",
       "    </tr>\n",
       "    <tr>\n",
       "      <th>26098</th>\n",
       "      <td>2021-07-08</td>\n",
       "      <td>2021-07-08 02:27:00 UTC</td>\n",
       "      <td>BULK</td>\n",
       "      <td>2100.0</td>\n",
       "      <td>TDS LANDFILL</td>\n",
       "    </tr>\n",
       "    <tr>\n",
       "      <th>26099</th>\n",
       "      <td>2021-07-08</td>\n",
       "      <td>2021-07-08 11:07:00 UTC</td>\n",
       "      <td>BULK</td>\n",
       "      <td>3500.0</td>\n",
       "      <td>TDS LANDFILL</td>\n",
       "    </tr>\n",
       "    <tr>\n",
       "      <th>26155</th>\n",
       "      <td>2021-07-09</td>\n",
       "      <td>2021-07-09 12:00:00 UTC</td>\n",
       "      <td>LITTER</td>\n",
       "      <td>1900.0</td>\n",
       "      <td>TDS LANDFILL</td>\n",
       "    </tr>\n",
       "    <tr>\n",
       "      <th>26156</th>\n",
       "      <td>2021-07-09</td>\n",
       "      <td>2021-07-09 12:00:00 UTC</td>\n",
       "      <td>LITTER</td>\n",
       "      <td>3040.0</td>\n",
       "      <td>TDS LANDFILL</td>\n",
       "    </tr>\n",
       "  </tbody>\n",
       "</table>\n",
       "<p>10694 rows × 5 columns</p>\n",
       "</div>"
      ],
      "text/plain": [
       "      report_date                load_time            load_type  load_weight  \\\n",
       "16     2021-01-02  2021-01-02 02:16:00 UTC                 BULK      12480.0   \n",
       "17     2021-01-02  2021-01-02 12:25:00 UTC                 BULK      10200.0   \n",
       "18     2021-01-02  2021-01-02 02:13:00 UTC                 BULK       5440.0   \n",
       "19     2021-01-02  2021-01-02 04:27:00 UTC          DEAD ANIMAL        140.0   \n",
       "20     2021-01-02  2021-01-02 02:44:00 UTC  GARBAGE COLLECTIONS      24580.0   \n",
       "...           ...                      ...                  ...          ...   \n",
       "26097  2021-07-08  2021-07-08 02:04:00 UTC  GARBAGE COLLECTIONS       8380.0   \n",
       "26098  2021-07-08  2021-07-08 02:27:00 UTC                 BULK       2100.0   \n",
       "26099  2021-07-08  2021-07-08 11:07:00 UTC                 BULK       3500.0   \n",
       "26155  2021-07-09  2021-07-09 12:00:00 UTC               LITTER       1900.0   \n",
       "26156  2021-07-09  2021-07-09 12:00:00 UTC               LITTER       3040.0   \n",
       "\n",
       "       dropoff_site  \n",
       "16     TDS LANDFILL  \n",
       "17     TDS LANDFILL  \n",
       "18     TDS LANDFILL  \n",
       "19     TDS LANDFILL  \n",
       "20     TDS LANDFILL  \n",
       "...             ...  \n",
       "26097  TDS LANDFILL  \n",
       "26098  TDS LANDFILL  \n",
       "26099  TDS LANDFILL  \n",
       "26155  TDS LANDFILL  \n",
       "26156  TDS LANDFILL  \n",
       "\n",
       "[10694 rows x 5 columns]"
      ]
     },
     "execution_count": 48,
     "metadata": {},
     "output_type": "execute_result"
    }
   ],
   "source": [
    "TDS_LANDFILL = df[df['dropoff_site']=='TDS LANDFILL']\n",
    "TDS_LANDFILL"
   ]
  },
  {
   "cell_type": "code",
   "execution_count": 49,
   "metadata": {},
   "outputs": [
    {
     "data": {
      "text/plain": [
       "GARBAGE COLLECTIONS          8204\n",
       "BULK                         1590\n",
       "SWEEPING                      360\n",
       "MIXED LITTER                  329\n",
       "DEAD ANIMAL                   131\n",
       "LITTER                         40\n",
       "ORGANICS                       22\n",
       "TIRES                          10\n",
       "RECYCLING - SINGLE STREAM       3\n",
       "BRUSH                           2\n",
       "CONTAMINATED RECYCLING          1\n",
       "CONTAMINATED ORGANICS           1\n",
       "RECYCLED METAL                  1\n",
       "Name: load_type, dtype: int64"
      ]
     },
     "execution_count": 49,
     "metadata": {},
     "output_type": "execute_result"
    }
   ],
   "source": [
    "TDS_LANDFILL.loc[TDS_LANDFILL[\"dropoff_site\"] == \"TDS LANDFILL\", \"load_type\"].value_counts()"
   ]
  },
  {
   "cell_type": "code",
   "execution_count": 50,
   "metadata": {},
   "outputs": [
    {
     "data": {
      "text/html": [
       "<div>\n",
       "<style scoped>\n",
       "    .dataframe tbody tr th:only-of-type {\n",
       "        vertical-align: middle;\n",
       "    }\n",
       "\n",
       "    .dataframe tbody tr th {\n",
       "        vertical-align: top;\n",
       "    }\n",
       "\n",
       "    .dataframe thead th {\n",
       "        text-align: right;\n",
       "    }\n",
       "</style>\n",
       "<table border=\"1\" class=\"dataframe\">\n",
       "  <thead>\n",
       "    <tr style=\"text-align: right;\">\n",
       "      <th></th>\n",
       "      <th>report_date</th>\n",
       "      <th>load_time</th>\n",
       "      <th>load_type</th>\n",
       "      <th>load_weight</th>\n",
       "      <th>dropoff_site</th>\n",
       "    </tr>\n",
       "  </thead>\n",
       "  <tbody>\n",
       "    <tr>\n",
       "      <th>20</th>\n",
       "      <td>2021-01-02</td>\n",
       "      <td>2021-01-02 02:44:00 UTC</td>\n",
       "      <td>GARBAGE COLLECTIONS</td>\n",
       "      <td>24580.0</td>\n",
       "      <td>TDS LANDFILL</td>\n",
       "    </tr>\n",
       "    <tr>\n",
       "      <th>21</th>\n",
       "      <td>2021-01-02</td>\n",
       "      <td>2021-01-02 12:00:00 UTC</td>\n",
       "      <td>GARBAGE COLLECTIONS</td>\n",
       "      <td>13020.0</td>\n",
       "      <td>TDS LANDFILL</td>\n",
       "    </tr>\n",
       "    <tr>\n",
       "      <th>22</th>\n",
       "      <td>2021-01-02</td>\n",
       "      <td>2021-01-02 01:34:00 UTC</td>\n",
       "      <td>GARBAGE COLLECTIONS</td>\n",
       "      <td>17340.0</td>\n",
       "      <td>TDS LANDFILL</td>\n",
       "    </tr>\n",
       "    <tr>\n",
       "      <th>23</th>\n",
       "      <td>2021-01-02</td>\n",
       "      <td>2021-01-02 01:19:00 UTC</td>\n",
       "      <td>GARBAGE COLLECTIONS</td>\n",
       "      <td>19300.0</td>\n",
       "      <td>TDS LANDFILL</td>\n",
       "    </tr>\n",
       "    <tr>\n",
       "      <th>24</th>\n",
       "      <td>2021-01-02</td>\n",
       "      <td>2021-01-02 10:24:00 UTC</td>\n",
       "      <td>GARBAGE COLLECTIONS</td>\n",
       "      <td>22500.0</td>\n",
       "      <td>TDS LANDFILL</td>\n",
       "    </tr>\n",
       "    <tr>\n",
       "      <th>...</th>\n",
       "      <td>...</td>\n",
       "      <td>...</td>\n",
       "      <td>...</td>\n",
       "      <td>...</td>\n",
       "      <td>...</td>\n",
       "    </tr>\n",
       "    <tr>\n",
       "      <th>26093</th>\n",
       "      <td>2021-07-08</td>\n",
       "      <td>2021-07-08 11:10:00 UTC</td>\n",
       "      <td>GARBAGE COLLECTIONS</td>\n",
       "      <td>14500.0</td>\n",
       "      <td>TDS LANDFILL</td>\n",
       "    </tr>\n",
       "    <tr>\n",
       "      <th>26094</th>\n",
       "      <td>2021-07-08</td>\n",
       "      <td>2021-07-08 04:23:00 UTC</td>\n",
       "      <td>GARBAGE COLLECTIONS</td>\n",
       "      <td>12560.0</td>\n",
       "      <td>TDS LANDFILL</td>\n",
       "    </tr>\n",
       "    <tr>\n",
       "      <th>26095</th>\n",
       "      <td>2021-07-08</td>\n",
       "      <td>2021-07-08 04:20:00 UTC</td>\n",
       "      <td>GARBAGE COLLECTIONS</td>\n",
       "      <td>13360.0</td>\n",
       "      <td>TDS LANDFILL</td>\n",
       "    </tr>\n",
       "    <tr>\n",
       "      <th>26096</th>\n",
       "      <td>2021-07-08</td>\n",
       "      <td>2021-07-08 11:39:00 UTC</td>\n",
       "      <td>GARBAGE COLLECTIONS</td>\n",
       "      <td>20180.0</td>\n",
       "      <td>TDS LANDFILL</td>\n",
       "    </tr>\n",
       "    <tr>\n",
       "      <th>26097</th>\n",
       "      <td>2021-07-08</td>\n",
       "      <td>2021-07-08 02:04:00 UTC</td>\n",
       "      <td>GARBAGE COLLECTIONS</td>\n",
       "      <td>8380.0</td>\n",
       "      <td>TDS LANDFILL</td>\n",
       "    </tr>\n",
       "  </tbody>\n",
       "</table>\n",
       "<p>8204 rows × 5 columns</p>\n",
       "</div>"
      ],
      "text/plain": [
       "      report_date                load_time            load_type  load_weight  \\\n",
       "20     2021-01-02  2021-01-02 02:44:00 UTC  GARBAGE COLLECTIONS      24580.0   \n",
       "21     2021-01-02  2021-01-02 12:00:00 UTC  GARBAGE COLLECTIONS      13020.0   \n",
       "22     2021-01-02  2021-01-02 01:34:00 UTC  GARBAGE COLLECTIONS      17340.0   \n",
       "23     2021-01-02  2021-01-02 01:19:00 UTC  GARBAGE COLLECTIONS      19300.0   \n",
       "24     2021-01-02  2021-01-02 10:24:00 UTC  GARBAGE COLLECTIONS      22500.0   \n",
       "...           ...                      ...                  ...          ...   \n",
       "26093  2021-07-08  2021-07-08 11:10:00 UTC  GARBAGE COLLECTIONS      14500.0   \n",
       "26094  2021-07-08  2021-07-08 04:23:00 UTC  GARBAGE COLLECTIONS      12560.0   \n",
       "26095  2021-07-08  2021-07-08 04:20:00 UTC  GARBAGE COLLECTIONS      13360.0   \n",
       "26096  2021-07-08  2021-07-08 11:39:00 UTC  GARBAGE COLLECTIONS      20180.0   \n",
       "26097  2021-07-08  2021-07-08 02:04:00 UTC  GARBAGE COLLECTIONS       8380.0   \n",
       "\n",
       "       dropoff_site  \n",
       "20     TDS LANDFILL  \n",
       "21     TDS LANDFILL  \n",
       "22     TDS LANDFILL  \n",
       "23     TDS LANDFILL  \n",
       "24     TDS LANDFILL  \n",
       "...             ...  \n",
       "26093  TDS LANDFILL  \n",
       "26094  TDS LANDFILL  \n",
       "26095  TDS LANDFILL  \n",
       "26096  TDS LANDFILL  \n",
       "26097  TDS LANDFILL  \n",
       "\n",
       "[8204 rows x 5 columns]"
      ]
     },
     "execution_count": 50,
     "metadata": {},
     "output_type": "execute_result"
    }
   ],
   "source": [
    "TDS_LANDFILL.drop(TDS_LANDFILL[(TDS_LANDFILL.load_type == \"BULK\")].index, inplace=True)\n",
    "TDS_LANDFILL.drop(TDS_LANDFILL[(TDS_LANDFILL.load_type == \"SWEEPING\")].index, inplace=True)\n",
    "TDS_LANDFILL.drop(TDS_LANDFILL[(TDS_LANDFILL.load_type == \"MIXED LITTER\")].index, inplace=True)\n",
    "TDS_LANDFILL.drop(TDS_LANDFILL[(TDS_LANDFILL.load_type == \"DEAD ANIMAL\")].index, inplace=True)\n",
    "TDS_LANDFILL.drop(TDS_LANDFILL[(TDS_LANDFILL.load_type == \"LITTER\")].index, inplace=True)\n",
    "TDS_LANDFILL.drop(TDS_LANDFILL[(TDS_LANDFILL.load_type == \"ORGANICS\")].index, inplace=True)\n",
    "TDS_LANDFILL.drop(TDS_LANDFILL[(TDS_LANDFILL.load_type == \"TIRES\")].index, inplace=True)\n",
    "TDS_LANDFILL.drop(TDS_LANDFILL[(TDS_LANDFILL.load_type == \"RECYCLING - SINGLE STREAM\")].index, inplace=True)\n",
    "TDS_LANDFILL.drop(TDS_LANDFILL[(TDS_LANDFILL.load_type == \"BRUSH\")].index, inplace=True)\n",
    "TDS_LANDFILL.drop(TDS_LANDFILL[(TDS_LANDFILL.load_type == \"CONTAMINATED RECYCLING\")].index, inplace=True)\n",
    "TDS_LANDFILL.drop(TDS_LANDFILL[(TDS_LANDFILL.load_type == \"CONTAMINATED ORGANICS\")].index, inplace=True)\n",
    "TDS_LANDFILL.drop(TDS_LANDFILL[(TDS_LANDFILL.load_type == \"RECYCLED METAL\")].index, inplace=True)\n",
    "TDS_LANDFILL"
   ]
  },
  {
   "cell_type": "markdown",
   "metadata": {},
   "source": [
    "As specially `TDS LANDFILL`, I removed the load type **Bulk, sweeping, mixed liter, dead animal, litter, organics, tires, recycling single stream, brush, Contamined recycling, Contamined organics, Recycled metal** because I wanted to focus on the analysis of sample 2 which garbage collections."
   ]
  },
  {
   "cell_type": "code",
   "execution_count": 51,
   "metadata": {},
   "outputs": [
    {
     "data": {
      "text/html": [
       "<div>\n",
       "<style scoped>\n",
       "    .dataframe tbody tr th:only-of-type {\n",
       "        vertical-align: middle;\n",
       "    }\n",
       "\n",
       "    .dataframe tbody tr th {\n",
       "        vertical-align: top;\n",
       "    }\n",
       "\n",
       "    .dataframe thead th {\n",
       "        text-align: right;\n",
       "    }\n",
       "</style>\n",
       "<table border=\"1\" class=\"dataframe\">\n",
       "  <thead>\n",
       "    <tr style=\"text-align: right;\">\n",
       "      <th></th>\n",
       "      <th>report_date</th>\n",
       "      <th>load_time</th>\n",
       "      <th>load_type</th>\n",
       "      <th>load_weight</th>\n",
       "      <th>dropoff_site</th>\n",
       "    </tr>\n",
       "  </thead>\n",
       "  <tbody>\n",
       "    <tr>\n",
       "      <th>14591</th>\n",
       "      <td>2021-04-14</td>\n",
       "      <td>2021-04-14 11:35:00 UTC</td>\n",
       "      <td>GARBAGE COLLECTIONS</td>\n",
       "      <td>780.0</td>\n",
       "      <td>STEINER LANDFILL</td>\n",
       "    </tr>\n",
       "    <tr>\n",
       "      <th>19600</th>\n",
       "      <td>2021-05-20</td>\n",
       "      <td>2021-05-20 11:25:00 UTC</td>\n",
       "      <td>GARBAGE COLLECTIONS</td>\n",
       "      <td>16020.0</td>\n",
       "      <td>WESTFIELD</td>\n",
       "    </tr>\n",
       "    <tr>\n",
       "      <th>20</th>\n",
       "      <td>2021-01-02</td>\n",
       "      <td>2021-01-02 02:44:00 UTC</td>\n",
       "      <td>GARBAGE COLLECTIONS</td>\n",
       "      <td>24580.0</td>\n",
       "      <td>TDS LANDFILL</td>\n",
       "    </tr>\n",
       "    <tr>\n",
       "      <th>21</th>\n",
       "      <td>2021-01-02</td>\n",
       "      <td>2021-01-02 12:00:00 UTC</td>\n",
       "      <td>GARBAGE COLLECTIONS</td>\n",
       "      <td>13020.0</td>\n",
       "      <td>TDS LANDFILL</td>\n",
       "    </tr>\n",
       "    <tr>\n",
       "      <th>22</th>\n",
       "      <td>2021-01-02</td>\n",
       "      <td>2021-01-02 01:34:00 UTC</td>\n",
       "      <td>GARBAGE COLLECTIONS</td>\n",
       "      <td>17340.0</td>\n",
       "      <td>TDS LANDFILL</td>\n",
       "    </tr>\n",
       "    <tr>\n",
       "      <th>...</th>\n",
       "      <td>...</td>\n",
       "      <td>...</td>\n",
       "      <td>...</td>\n",
       "      <td>...</td>\n",
       "      <td>...</td>\n",
       "    </tr>\n",
       "    <tr>\n",
       "      <th>26093</th>\n",
       "      <td>2021-07-08</td>\n",
       "      <td>2021-07-08 11:10:00 UTC</td>\n",
       "      <td>GARBAGE COLLECTIONS</td>\n",
       "      <td>14500.0</td>\n",
       "      <td>TDS LANDFILL</td>\n",
       "    </tr>\n",
       "    <tr>\n",
       "      <th>26094</th>\n",
       "      <td>2021-07-08</td>\n",
       "      <td>2021-07-08 04:23:00 UTC</td>\n",
       "      <td>GARBAGE COLLECTIONS</td>\n",
       "      <td>12560.0</td>\n",
       "      <td>TDS LANDFILL</td>\n",
       "    </tr>\n",
       "    <tr>\n",
       "      <th>26095</th>\n",
       "      <td>2021-07-08</td>\n",
       "      <td>2021-07-08 04:20:00 UTC</td>\n",
       "      <td>GARBAGE COLLECTIONS</td>\n",
       "      <td>13360.0</td>\n",
       "      <td>TDS LANDFILL</td>\n",
       "    </tr>\n",
       "    <tr>\n",
       "      <th>26096</th>\n",
       "      <td>2021-07-08</td>\n",
       "      <td>2021-07-08 11:39:00 UTC</td>\n",
       "      <td>GARBAGE COLLECTIONS</td>\n",
       "      <td>20180.0</td>\n",
       "      <td>TDS LANDFILL</td>\n",
       "    </tr>\n",
       "    <tr>\n",
       "      <th>26097</th>\n",
       "      <td>2021-07-08</td>\n",
       "      <td>2021-07-08 02:04:00 UTC</td>\n",
       "      <td>GARBAGE COLLECTIONS</td>\n",
       "      <td>8380.0</td>\n",
       "      <td>TDS LANDFILL</td>\n",
       "    </tr>\n",
       "  </tbody>\n",
       "</table>\n",
       "<p>8206 rows × 5 columns</p>\n",
       "</div>"
      ],
      "text/plain": [
       "      report_date                load_time            load_type  load_weight  \\\n",
       "14591  2021-04-14  2021-04-14 11:35:00 UTC  GARBAGE COLLECTIONS        780.0   \n",
       "19600  2021-05-20  2021-05-20 11:25:00 UTC  GARBAGE COLLECTIONS      16020.0   \n",
       "20     2021-01-02  2021-01-02 02:44:00 UTC  GARBAGE COLLECTIONS      24580.0   \n",
       "21     2021-01-02  2021-01-02 12:00:00 UTC  GARBAGE COLLECTIONS      13020.0   \n",
       "22     2021-01-02  2021-01-02 01:34:00 UTC  GARBAGE COLLECTIONS      17340.0   \n",
       "...           ...                      ...                  ...          ...   \n",
       "26093  2021-07-08  2021-07-08 11:10:00 UTC  GARBAGE COLLECTIONS      14500.0   \n",
       "26094  2021-07-08  2021-07-08 04:23:00 UTC  GARBAGE COLLECTIONS      12560.0   \n",
       "26095  2021-07-08  2021-07-08 04:20:00 UTC  GARBAGE COLLECTIONS      13360.0   \n",
       "26096  2021-07-08  2021-07-08 11:39:00 UTC  GARBAGE COLLECTIONS      20180.0   \n",
       "26097  2021-07-08  2021-07-08 02:04:00 UTC  GARBAGE COLLECTIONS       8380.0   \n",
       "\n",
       "           dropoff_site  \n",
       "14591  STEINER LANDFILL  \n",
       "19600         WESTFIELD  \n",
       "20         TDS LANDFILL  \n",
       "21         TDS LANDFILL  \n",
       "22         TDS LANDFILL  \n",
       "...                 ...  \n",
       "26093      TDS LANDFILL  \n",
       "26094      TDS LANDFILL  \n",
       "26095      TDS LANDFILL  \n",
       "26096      TDS LANDFILL  \n",
       "26097      TDS LANDFILL  \n",
       "\n",
       "[8206 rows x 5 columns]"
      ]
     },
     "execution_count": 51,
     "metadata": {},
     "output_type": "execute_result"
    }
   ],
   "source": [
    "garbage_collections = pd.concat([SL, WF, TDS_LANDFILL], axis=0)\n",
    "garbage_collections"
   ]
  },
  {
   "cell_type": "markdown",
   "metadata": {},
   "source": [
    "From the combined data of three dropoff sites with load type garbage collections, it obtained 8206 rows and 5 columns"
   ]
  },
  {
   "cell_type": "markdown",
   "metadata": {},
   "source": [
    "Now I will further analyze the data already stored in the `garbage collections` variable.\n",
    "\n",
    "The analysis that will be carried out is to calculate the central tendency and also the standard deviation of the variable `garbage collections`. This is done to see the distribution of data in `garbage collections`."
   ]
  },
  {
   "cell_type": "code",
   "execution_count": 52,
   "metadata": {},
   "outputs": [
    {
     "name": "stdout",
     "output_type": "stream",
     "text": [
      "rata-rata : 17614.784613624175\n",
      "median : 18140.0\n",
      "modus : 0    21780.0\n",
      "Name: load_weight, dtype: float64\n",
      "min : 0.0\n",
      "max : 245540.0\n"
     ]
    }
   ],
   "source": [
    "mean_dua = garbage_collections['load_weight'].mean()\n",
    "median_dua = garbage_collections['load_weight'].median()\n",
    "modus_dua = garbage_collections['load_weight'].mode()\n",
    "standar_deviasi_dua = garbage_collections['load_weight'].std()\n",
    "variance_dua = garbage_collections['load_weight'].var()\n",
    "min_dua = garbage_collections['load_weight'].min()\n",
    "max_dua = garbage_collections['load_weight'].max()\n",
    "\n",
    "print(f'rata-rata : {mean_dua}')\n",
    "print(f'median : {median_dua}')\n",
    "print(f'modus : {modus_dua}')\n",
    "print(f'min : {min_dua}')\n",
    "print(f'max : {max_dua}')"
   ]
  },
  {
   "cell_type": "markdown",
   "metadata": {},
   "source": [
    "Now I will calculate the skew value in the `load_weight` column of the `garbage_collections` data. This skew value is used to determine whether a data has a normal or skewed data distribution. If the skew value is above 0.5 to 1 then the data is right skewed data, while if the skew value is below -0.5 to -1 then the data distribution is left skewed."
   ]
  },
  {
   "cell_type": "code",
   "execution_count": 53,
   "metadata": {},
   "outputs": [
    {
     "name": "stdout",
     "output_type": "stream",
     "text": [
      "5.555015751680914\n"
     ]
    }
   ],
   "source": [
    "print(garbage_collections['load_weight'].skew())"
   ]
  },
  {
   "cell_type": "markdown",
   "metadata": {},
   "source": [
    "Because the `garbage_collections` data has a skewness value of 5.55502, the data has a right skewed distribution."
   ]
  },
  {
   "cell_type": "markdown",
   "metadata": {},
   "source": [
    "To provide a better visualization of the `garbage_collections` data, I will plot the `garbage_collections` data."
   ]
  },
  {
   "cell_type": "code",
   "execution_count": 54,
   "metadata": {},
   "outputs": [
    {
     "data": {
      "text/plain": [
       "<seaborn.axisgrid.FacetGrid at 0x1d5b629b940>"
      ]
     },
     "execution_count": 54,
     "metadata": {},
     "output_type": "execute_result"
    },
    {
     "data": {
      "image/png": "[encoded data removed]",
      "text/plain": [
       "<Figure size 432x288 with 1 Axes>"
      ]
     },
     "metadata": {
      "needs_background": "light"
     },
     "output_type": "display_data"
    },
    {
     "data": {
      "image/png": "[encoded data removed]",
      "text/plain": [
       "<Figure size 360x360 with 1 Axes>"
      ]
     },
     "metadata": {
      "needs_background": "light"
     },
     "output_type": "display_data"
    }
   ],
   "source": [
    "### HISTOGRAM DENGAN AXIS LINE\n",
    "b = garbage_collections['load_weight']\n",
    "plt.hist(garbage_collections['load_weight'], color = 'white', edgecolor = 'black',\n",
    "         bins = int(500/5))\n",
    "\n",
    "plt.title('Data Distribution of Garbage Collections')\n",
    "plt.xlabel('Load Weight')\n",
    "plt.ylabel('Count')\n",
    "plt.axvline(b.mean(), color='magenta', linestyle='dashed', linewidth=2)\n",
    "plt.axvline(b.median(), color='green', linestyle='dotted', linewidth=2)\n",
    "plt.show\n",
    "\n",
    "\n",
    "### displot\n",
    "sns.displot(garbage_collections.load_weight, kde=True, label='Load Weight of Garbage Collections')"
   ]
  },
  {
   "cell_type": "markdown",
   "metadata": {},
   "source": [
    "Because the `garbage_collections` data has a right skewed data distribution, there are outliers in the `garbage_collections` data. Outliers are data points that are far from other data points.\n",
    "\n",
    "The next step to do is to handle outliers.\n",
    "\n",
    "Some popular concepts for dealing with outliers are:\n",
    "\n",
    "- Dropping outliers\n",
    "- Limit them - i.e. define max/min point and assign that value to outlier. This applies if the data shows that after some point the larger/smaller value does not change the result.\n",
    "- Double check - they could have entered the value incorrectly or so."
   ]
  },
  {
   "cell_type": "code",
   "execution_count": 55,
   "metadata": {},
   "outputs": [
    {
     "data": {
      "text/plain": [
       "<AxesSubplot:ylabel='load_weight'>"
      ]
     },
     "execution_count": 55,
     "metadata": {},
     "output_type": "execute_result"
    },
    {
     "data": {
      "image/png": "[encoded data removed]",
      "text/plain": [
       "<Figure size 432x288 with 1 Axes>"
      ]
     },
     "metadata": {
      "needs_background": "light"
     },
     "output_type": "display_data"
    }
   ],
   "source": [
    "sns.boxplot(data=garbage_collections, y='load_weight', whis=3)"
   ]
  },
  {
   "cell_type": "code",
   "execution_count": 56,
   "metadata": {},
   "outputs": [
    {
     "name": "stdout",
     "output_type": "stream",
     "text": [
      "Q1 : 12040.0\n",
      "Q3 : 23080.0\n",
      "IQR : 11040.0\n"
     ]
    }
   ],
   "source": [
    "Q1_garbage_collections = garbage_collections['load_weight'].quantile(q=0.25)\n",
    "Q3_garbage_collections = garbage_collections['load_weight'].quantile(q=0.75)\n",
    "IQR_garbage_collections = garbage_collections['load_weight'].quantile(q=0.75) - garbage_collections['load_weight'].quantile(q=0.25)\n",
    "\n",
    "print(f'Q1 : {Q1_garbage_collections}')\n",
    "print(f'Q3 : {Q3_garbage_collections}')\n",
    "print(f'IQR : {IQR_garbage_collections}')"
   ]
  },
  {
   "cell_type": "code",
   "execution_count": 57,
   "metadata": {},
   "outputs": [
    {
     "data": {
      "text/plain": [
       "56200.0"
      ]
     },
     "execution_count": 57,
     "metadata": {},
     "output_type": "execute_result"
    }
   ],
   "source": [
    "lower_bound_garbage_collections = (garbage_collections[\"load_weight\"].quantile(0.25)) - (3 * IQR_garbage_collections)\n",
    "upper_bound_garbage_collections = (garbage_collections[\"load_weight\"].quantile(0.75)) + (3 * IQR_garbage_collections)\n",
    "upper_bound_garbage_collections"
   ]
  },
  {
   "cell_type": "code",
   "execution_count": 58,
   "metadata": {},
   "outputs": [
    {
     "data": {
      "text/plain": [
       "0.073117231294175"
      ]
     },
     "execution_count": 58,
     "metadata": {},
     "output_type": "execute_result"
    }
   ],
   "source": [
    "# PERCENTILES OF THE OUTLIERS\n",
    "\n",
    "data_outlier_dua = garbage_collections[garbage_collections.load_weight > 56200.0]\n",
    "jumlah_data_outlier_dua = data_outlier_dua.load_weight.count()\n",
    "jumlah_data_garbage_collections = garbage_collections.load_weight.count()\n",
    "\n",
    "outliers_percentage_dua = (jumlah_data_outlier_dua/jumlah_data_garbage_collections)*100\n",
    "outliers_percentage_dua"
   ]
  },
  {
   "cell_type": "markdown",
   "metadata": {},
   "source": [
    "In the `garbage_collections` data, the number of outliers in the data only adds up to 6 data. Data `garbage_collections` has a total of 8206 rows of data. **The percentage of extreme value is 0.07% of the total data**. The number of extreme value is still very small when compared to the total amount of data. So I will use the capping method to handle the extreme values. \n",
    "\n",
    "Since the `garbage_collections` data is right skewed, the way to detect outliers is to look for values that are above the IQR (Interquartile Range). The formula is Q3 + (3 * IQR)"
   ]
  },
  {
   "cell_type": "code",
   "execution_count": 59,
   "metadata": {},
   "outputs": [
    {
     "data": {
      "text/html": [
       "<div>\n",
       "<style scoped>\n",
       "    .dataframe tbody tr th:only-of-type {\n",
       "        vertical-align: middle;\n",
       "    }\n",
       "\n",
       "    .dataframe tbody tr th {\n",
       "        vertical-align: top;\n",
       "    }\n",
       "\n",
       "    .dataframe thead th {\n",
       "        text-align: right;\n",
       "    }\n",
       "</style>\n",
       "<table border=\"1\" class=\"dataframe\">\n",
       "  <thead>\n",
       "    <tr style=\"text-align: right;\">\n",
       "      <th></th>\n",
       "      <th>report_date</th>\n",
       "      <th>load_time</th>\n",
       "      <th>load_type</th>\n",
       "      <th>load_weight</th>\n",
       "      <th>dropoff_site</th>\n",
       "    </tr>\n",
       "  </thead>\n",
       "  <tbody>\n",
       "    <tr>\n",
       "      <th>5176</th>\n",
       "      <td>2021-02-09</td>\n",
       "      <td>2021-02-09 01:08:00 UTC</td>\n",
       "      <td>GARBAGE COLLECTIONS</td>\n",
       "      <td>102680.0</td>\n",
       "      <td>TDS LANDFILL</td>\n",
       "    </tr>\n",
       "    <tr>\n",
       "      <th>8680</th>\n",
       "      <td>2021-03-09</td>\n",
       "      <td>2021-03-09 01:30:00 UTC</td>\n",
       "      <td>GARBAGE COLLECTIONS</td>\n",
       "      <td>145160.0</td>\n",
       "      <td>TDS LANDFILL</td>\n",
       "    </tr>\n",
       "    <tr>\n",
       "      <th>12021</th>\n",
       "      <td>2021-03-29</td>\n",
       "      <td>2021-03-29 05:08:00 UTC</td>\n",
       "      <td>GARBAGE COLLECTIONS</td>\n",
       "      <td>58600.0</td>\n",
       "      <td>TDS LANDFILL</td>\n",
       "    </tr>\n",
       "    <tr>\n",
       "      <th>20368</th>\n",
       "      <td>2021-05-26</td>\n",
       "      <td>2021-05-26 11:40:00 UTC</td>\n",
       "      <td>GARBAGE COLLECTIONS</td>\n",
       "      <td>80697.0</td>\n",
       "      <td>TDS LANDFILL</td>\n",
       "    </tr>\n",
       "    <tr>\n",
       "      <th>20553</th>\n",
       "      <td>2021-05-27</td>\n",
       "      <td>2021-05-27 11:33:00 UTC</td>\n",
       "      <td>GARBAGE COLLECTIONS</td>\n",
       "      <td>245540.0</td>\n",
       "      <td>TDS LANDFILL</td>\n",
       "    </tr>\n",
       "    <tr>\n",
       "      <th>23798</th>\n",
       "      <td>2021-06-21</td>\n",
       "      <td>2021-06-21 01:05:00 UTC</td>\n",
       "      <td>GARBAGE COLLECTIONS</td>\n",
       "      <td>227780.0</td>\n",
       "      <td>TDS LANDFILL</td>\n",
       "    </tr>\n",
       "  </tbody>\n",
       "</table>\n",
       "</div>"
      ],
      "text/plain": [
       "      report_date                load_time            load_type  load_weight  \\\n",
       "5176   2021-02-09  2021-02-09 01:08:00 UTC  GARBAGE COLLECTIONS     102680.0   \n",
       "8680   2021-03-09  2021-03-09 01:30:00 UTC  GARBAGE COLLECTIONS     145160.0   \n",
       "12021  2021-03-29  2021-03-29 05:08:00 UTC  GARBAGE COLLECTIONS      58600.0   \n",
       "20368  2021-05-26  2021-05-26 11:40:00 UTC  GARBAGE COLLECTIONS      80697.0   \n",
       "20553  2021-05-27  2021-05-27 11:33:00 UTC  GARBAGE COLLECTIONS     245540.0   \n",
       "23798  2021-06-21  2021-06-21 01:05:00 UTC  GARBAGE COLLECTIONS     227780.0   \n",
       "\n",
       "       dropoff_site  \n",
       "5176   TDS LANDFILL  \n",
       "8680   TDS LANDFILL  \n",
       "12021  TDS LANDFILL  \n",
       "20368  TDS LANDFILL  \n",
       "20553  TDS LANDFILL  \n",
       "23798  TDS LANDFILL  "
      ]
     },
     "execution_count": 59,
     "metadata": {},
     "output_type": "execute_result"
    }
   ],
   "source": [
    "garbage_collections[garbage_collections['load_weight']>56200.0]"
   ]
  },
  {
   "cell_type": "code",
   "execution_count": 60,
   "metadata": {},
   "outputs": [
    {
     "data": {
      "text/html": [
       "<div>\n",
       "<style scoped>\n",
       "    .dataframe tbody tr th:only-of-type {\n",
       "        vertical-align: middle;\n",
       "    }\n",
       "\n",
       "    .dataframe tbody tr th {\n",
       "        vertical-align: top;\n",
       "    }\n",
       "\n",
       "    .dataframe thead th {\n",
       "        text-align: right;\n",
       "    }\n",
       "</style>\n",
       "<table border=\"1\" class=\"dataframe\">\n",
       "  <thead>\n",
       "    <tr style=\"text-align: right;\">\n",
       "      <th></th>\n",
       "      <th>report_date</th>\n",
       "      <th>load_time</th>\n",
       "      <th>load_type</th>\n",
       "      <th>load_weight</th>\n",
       "      <th>dropoff_site</th>\n",
       "    </tr>\n",
       "  </thead>\n",
       "  <tbody>\n",
       "    <tr>\n",
       "      <th>14591</th>\n",
       "      <td>2021-04-14</td>\n",
       "      <td>2021-04-14 11:35:00 UTC</td>\n",
       "      <td>GARBAGE COLLECTIONS</td>\n",
       "      <td>780.0</td>\n",
       "      <td>STEINER LANDFILL</td>\n",
       "    </tr>\n",
       "    <tr>\n",
       "      <th>19600</th>\n",
       "      <td>2021-05-20</td>\n",
       "      <td>2021-05-20 11:25:00 UTC</td>\n",
       "      <td>GARBAGE COLLECTIONS</td>\n",
       "      <td>16020.0</td>\n",
       "      <td>WESTFIELD</td>\n",
       "    </tr>\n",
       "    <tr>\n",
       "      <th>20</th>\n",
       "      <td>2021-01-02</td>\n",
       "      <td>2021-01-02 02:44:00 UTC</td>\n",
       "      <td>GARBAGE COLLECTIONS</td>\n",
       "      <td>24580.0</td>\n",
       "      <td>TDS LANDFILL</td>\n",
       "    </tr>\n",
       "    <tr>\n",
       "      <th>21</th>\n",
       "      <td>2021-01-02</td>\n",
       "      <td>2021-01-02 12:00:00 UTC</td>\n",
       "      <td>GARBAGE COLLECTIONS</td>\n",
       "      <td>13020.0</td>\n",
       "      <td>TDS LANDFILL</td>\n",
       "    </tr>\n",
       "    <tr>\n",
       "      <th>22</th>\n",
       "      <td>2021-01-02</td>\n",
       "      <td>2021-01-02 01:34:00 UTC</td>\n",
       "      <td>GARBAGE COLLECTIONS</td>\n",
       "      <td>17340.0</td>\n",
       "      <td>TDS LANDFILL</td>\n",
       "    </tr>\n",
       "    <tr>\n",
       "      <th>...</th>\n",
       "      <td>...</td>\n",
       "      <td>...</td>\n",
       "      <td>...</td>\n",
       "      <td>...</td>\n",
       "      <td>...</td>\n",
       "    </tr>\n",
       "    <tr>\n",
       "      <th>26093</th>\n",
       "      <td>2021-07-08</td>\n",
       "      <td>2021-07-08 11:10:00 UTC</td>\n",
       "      <td>GARBAGE COLLECTIONS</td>\n",
       "      <td>14500.0</td>\n",
       "      <td>TDS LANDFILL</td>\n",
       "    </tr>\n",
       "    <tr>\n",
       "      <th>26094</th>\n",
       "      <td>2021-07-08</td>\n",
       "      <td>2021-07-08 04:23:00 UTC</td>\n",
       "      <td>GARBAGE COLLECTIONS</td>\n",
       "      <td>12560.0</td>\n",
       "      <td>TDS LANDFILL</td>\n",
       "    </tr>\n",
       "    <tr>\n",
       "      <th>26095</th>\n",
       "      <td>2021-07-08</td>\n",
       "      <td>2021-07-08 04:20:00 UTC</td>\n",
       "      <td>GARBAGE COLLECTIONS</td>\n",
       "      <td>13360.0</td>\n",
       "      <td>TDS LANDFILL</td>\n",
       "    </tr>\n",
       "    <tr>\n",
       "      <th>26096</th>\n",
       "      <td>2021-07-08</td>\n",
       "      <td>2021-07-08 11:39:00 UTC</td>\n",
       "      <td>GARBAGE COLLECTIONS</td>\n",
       "      <td>20180.0</td>\n",
       "      <td>TDS LANDFILL</td>\n",
       "    </tr>\n",
       "    <tr>\n",
       "      <th>26097</th>\n",
       "      <td>2021-07-08</td>\n",
       "      <td>2021-07-08 02:04:00 UTC</td>\n",
       "      <td>GARBAGE COLLECTIONS</td>\n",
       "      <td>8380.0</td>\n",
       "      <td>TDS LANDFILL</td>\n",
       "    </tr>\n",
       "  </tbody>\n",
       "</table>\n",
       "<p>8206 rows × 5 columns</p>\n",
       "</div>"
      ],
      "text/plain": [
       "      report_date                load_time            load_type  load_weight  \\\n",
       "14591  2021-04-14  2021-04-14 11:35:00 UTC  GARBAGE COLLECTIONS        780.0   \n",
       "19600  2021-05-20  2021-05-20 11:25:00 UTC  GARBAGE COLLECTIONS      16020.0   \n",
       "20     2021-01-02  2021-01-02 02:44:00 UTC  GARBAGE COLLECTIONS      24580.0   \n",
       "21     2021-01-02  2021-01-02 12:00:00 UTC  GARBAGE COLLECTIONS      13020.0   \n",
       "22     2021-01-02  2021-01-02 01:34:00 UTC  GARBAGE COLLECTIONS      17340.0   \n",
       "...           ...                      ...                  ...          ...   \n",
       "26093  2021-07-08  2021-07-08 11:10:00 UTC  GARBAGE COLLECTIONS      14500.0   \n",
       "26094  2021-07-08  2021-07-08 04:23:00 UTC  GARBAGE COLLECTIONS      12560.0   \n",
       "26095  2021-07-08  2021-07-08 04:20:00 UTC  GARBAGE COLLECTIONS      13360.0   \n",
       "26096  2021-07-08  2021-07-08 11:39:00 UTC  GARBAGE COLLECTIONS      20180.0   \n",
       "26097  2021-07-08  2021-07-08 02:04:00 UTC  GARBAGE COLLECTIONS       8380.0   \n",
       "\n",
       "           dropoff_site  \n",
       "14591  STEINER LANDFILL  \n",
       "19600         WESTFIELD  \n",
       "20         TDS LANDFILL  \n",
       "21         TDS LANDFILL  \n",
       "22         TDS LANDFILL  \n",
       "...                 ...  \n",
       "26093      TDS LANDFILL  \n",
       "26094      TDS LANDFILL  \n",
       "26095      TDS LANDFILL  \n",
       "26096      TDS LANDFILL  \n",
       "26097      TDS LANDFILL  \n",
       "\n",
       "[8206 rows x 5 columns]"
      ]
     },
     "execution_count": 60,
     "metadata": {},
     "output_type": "execute_result"
    }
   ],
   "source": [
    "garbage_collections[\"load_weight\"] = np.where(garbage_collections['load_weight']>56200.0, 56200.0,garbage_collections['load_weight'])\n",
    "garbage_collections"
   ]
  },
  {
   "cell_type": "code",
   "execution_count": 61,
   "metadata": {},
   "outputs": [
    {
     "data": {
      "text/plain": [
       "56200.0"
      ]
     },
     "execution_count": 61,
     "metadata": {},
     "output_type": "execute_result"
    }
   ],
   "source": [
    "garbage_collections['load_weight'].max()"
   ]
  },
  {
   "cell_type": "markdown",
   "metadata": {},
   "source": [
    "The command above has done the capping of the existing outliers with proven maximum value changed to 39640.0\n",
    "\n",
    "Below is the plotting of `garbage_collections` data after capping."
   ]
  },
  {
   "cell_type": "code",
   "execution_count": 62,
   "metadata": {},
   "outputs": [
    {
     "name": "stdout",
     "output_type": "stream",
     "text": [
      "-0.07329757486331162\n"
     ]
    }
   ],
   "source": [
    "print(garbage_collections['load_weight'].skew())"
   ]
  },
  {
   "cell_type": "code",
   "execution_count": 63,
   "metadata": {},
   "outputs": [
    {
     "data": {
      "text/plain": [
       "<seaborn.axisgrid.FacetGrid at 0x1d5b7c997f0>"
      ]
     },
     "execution_count": 63,
     "metadata": {},
     "output_type": "execute_result"
    },
    {
     "data": {
      "image/png": "[encoded data removed]",
      "text/plain": [
       "<Figure size 432x288 with 1 Axes>"
      ]
     },
     "metadata": {
      "needs_background": "light"
     },
     "output_type": "display_data"
    },
    {
     "data": {
      "image/png": "[encoded data removed]",
      "text/plain": [
       "<Figure size 360x360 with 1 Axes>"
      ]
     },
     "metadata": {
      "needs_background": "light"
     },
     "output_type": "display_data"
    }
   ],
   "source": [
    "### HISTOGRAM DENGAN AXIS LINE\n",
    "b = garbage_collections['load_weight']\n",
    "plt.hist(garbage_collections['load_weight'], color = 'white', edgecolor = 'black',\n",
    "         bins = int(500/5))\n",
    "\n",
    "plt.title('Data Distribution of Garbage Collections')\n",
    "plt.xlabel('Load Weight')\n",
    "plt.ylabel('Count')\n",
    "plt.axvline(b.mean(), color='magenta', linestyle='dashed', linewidth=2)\n",
    "plt.axvline(b.median(), color='green', linestyle='dotted', linewidth=2)\n",
    "plt.show\n",
    "\n",
    "\n",
    "### displot\n",
    "sns.displot(garbage_collections.load_weight, kde=True, label='Load Weight of Garbage Collections')"
   ]
  },
  {
   "cell_type": "code",
   "execution_count": 64,
   "metadata": {},
   "outputs": [
    {
     "data": {
      "text/plain": [
       "<AxesSubplot:ylabel='load_weight'>"
      ]
     },
     "execution_count": 64,
     "metadata": {},
     "output_type": "execute_result"
    },
    {
     "data": {
      "image/png": "[encoded data removed]",
      "text/plain": [
       "<Figure size 432x288 with 1 Axes>"
      ]
     },
     "metadata": {
      "needs_background": "light"
     },
     "output_type": "display_data"
    }
   ],
   "source": [
    "sns.boxplot(data=garbage_collections, y='load_weight', whis=3)"
   ]
  },
  {
   "cell_type": "markdown",
   "metadata": {},
   "source": [
    "**The following is a comparison of the mean, median, and mode of the data `garbage_collection` with outliers and `garbage_collection` without any extreme values.**"
   ]
  },
  {
   "cell_type": "code",
   "execution_count": 65,
   "metadata": {},
   "outputs": [
    {
     "name": "stdout",
     "output_type": "stream",
     "text": [
      "rata-rata : 17551.019441798682\n",
      "median : 18140.0\n",
      "modus : 0    21780.0\n",
      "Name: load_weight, dtype: float64\n",
      "standar deviasi : 7079.525463462363\n",
      "variance : 50119680.78781199\n"
     ]
    }
   ],
   "source": [
    "mean_dua_new = garbage_collections['load_weight'].mean()\n",
    "median_dua_new = garbage_collections['load_weight'].median()\n",
    "modus_dua_new = garbage_collections['load_weight'].mode()\n",
    "standar_deviasi_dua_new = garbage_collections['load_weight'].std()\n",
    "variance_dua_new = garbage_collections['load_weight'].var()\n",
    "\n",
    "print(f'rata-rata : {mean_dua_new}')\n",
    "print(f'median : {median_dua_new}')\n",
    "print(f'modus : {modus_dua_new}')\n",
    "print(f'standar deviasi : {standar_deviasi_dua_new}')\n",
    "print(f'variance : {variance_dua_new}')"
   ]
  },
  {
   "cell_type": "code",
   "execution_count": 66,
   "metadata": {},
   "outputs": [
    {
     "data": {
      "text/html": [
       "<div>\n",
       "<style scoped>\n",
       "    .dataframe tbody tr th:only-of-type {\n",
       "        vertical-align: middle;\n",
       "    }\n",
       "\n",
       "    .dataframe tbody tr th {\n",
       "        vertical-align: top;\n",
       "    }\n",
       "\n",
       "    .dataframe thead th {\n",
       "        text-align: right;\n",
       "    }\n",
       "</style>\n",
       "<table border=\"1\" class=\"dataframe\">\n",
       "  <thead>\n",
       "    <tr style=\"text-align: right;\">\n",
       "      <th></th>\n",
       "      <th>Data Condition</th>\n",
       "      <th>Mean</th>\n",
       "      <th>Median</th>\n",
       "      <th>Variance</th>\n",
       "      <th>Standar deviasi</th>\n",
       "    </tr>\n",
       "  </thead>\n",
       "  <tbody>\n",
       "    <tr>\n",
       "      <th>0</th>\n",
       "      <td>With Outliers</td>\n",
       "      <td>17614.784614</td>\n",
       "      <td>18140.0</td>\n",
       "      <td>6.430406e+07</td>\n",
       "      <td>8018.980998</td>\n",
       "    </tr>\n",
       "    <tr>\n",
       "      <th>1</th>\n",
       "      <td>Without Outliers</td>\n",
       "      <td>17551.019442</td>\n",
       "      <td>18140.0</td>\n",
       "      <td>5.011968e+07</td>\n",
       "      <td>7079.525463</td>\n",
       "    </tr>\n",
       "  </tbody>\n",
       "</table>\n",
       "</div>"
      ],
      "text/plain": [
       "     Data Condition          Mean   Median      Variance  Standar deviasi\n",
       "0     With Outliers  17614.784614  18140.0  6.430406e+07      8018.980998\n",
       "1  Without Outliers  17551.019442  18140.0  5.011968e+07      7079.525463"
      ]
     },
     "execution_count": 66,
     "metadata": {},
     "output_type": "execute_result"
    }
   ],
   "source": [
    "perbandingan1 = pd.DataFrame({'Data Condition': ['With Outliers', 'Without Outliers'],\n",
    "                   'Mean':[mean_dua,mean_dua_new],\n",
    "                   'Median':[median_dua,median_dua_new],\n",
    "                   'Variance':[variance_dua,variance_dua_new],\n",
    "                   'Standar deviasi':[standar_deviasi_dua,standar_deviasi_dua_new],\n",
    "                   })\n",
    "perbandingan1"
   ]
  },
  {
   "cell_type": "markdown",
   "metadata": {},
   "source": [
    "Since the data is clear of extreme values, I will now calculate the range, variance, and standard deviation values."
   ]
  },
  {
   "cell_type": "code",
   "execution_count": 67,
   "metadata": {},
   "outputs": [
    {
     "data": {
      "text/plain": [
       "56200.0"
      ]
     },
     "execution_count": 67,
     "metadata": {},
     "output_type": "execute_result"
    }
   ],
   "source": [
    "max_garbage_collections = garbage_collections['load_weight'].max()\n",
    "min_garbage_collections = garbage_collections['load_weight'].min()\n",
    "\n",
    "range_recycling_single_stream = max_garbage_collections - min_garbage_collections\n",
    "range_recycling_single_stream"
   ]
  },
  {
   "cell_type": "code",
   "execution_count": 68,
   "metadata": {},
   "outputs": [
    {
     "data": {
      "text/plain": [
       "50119680.78781199"
      ]
     },
     "execution_count": 68,
     "metadata": {},
     "output_type": "execute_result"
    }
   ],
   "source": [
    "Variance_GC = garbage_collections[\"load_weight\"].var()\n",
    "Variance_GC"
   ]
  },
  {
   "cell_type": "code",
   "execution_count": 69,
   "metadata": {},
   "outputs": [
    {
     "data": {
      "text/plain": [
       "7079.525463462363"
      ]
     },
     "execution_count": 69,
     "metadata": {},
     "output_type": "execute_result"
    }
   ],
   "source": [
    "std_GC = garbage_collections[\"load_weight\"].std()\n",
    "std_GC"
   ]
  },
  {
   "cell_type": "markdown",
   "metadata": {},
   "source": [
    "**From the results above, the information obtained is the diversity of the weight of waste disposal at the garbage collections type, the value of waste disposal at the garbage collections type is far from the average value.**\n",
    "\n",
    "\n",
    "The standard deviation is derived from variance and tells you, on average, how far each value lies from the mean.\n",
    "\n",
    "Both measures reflect variability in a distribution, but their units differ:\n",
    "\n",
    "- **Standard deviation** is expressed in the same units as the original values (e.g., meters).\n",
    "- **Variance is expressed** in much larger units (e.g., meters squared)\n",
    "\n",
    "Since the units of variance are much larger than those of a typical value of a data set, it’s harder to interpret the variance number intuitively. That’s why standard deviation is often preferred as a main measure of variability.\n",
    "\n",
    "However, the variance is more informative about variability than the standard deviation, and it’s used in making statistical inferences."
   ]
  },
  {
   "cell_type": "markdown",
   "metadata": {},
   "source": [
    "---"
   ]
  },
  {
   "cell_type": "markdown",
   "metadata": {},
   "source": [
    "Furthermore, because the `df` data is clear of outliers, we can calculate the confidence interval for the garbage load capacity for the new drop off site.\n",
    "\n",
    "CI (Confidence Interval) is a range of values where 95% of the garbage load that has occurred is in that range."
   ]
  },
  {
   "cell_type": "markdown",
   "metadata": {},
   "source": [
    "Now if the city government plans to add a new site. I have to provide analysis and suggestions regarding the amount of storage capacity at the new site based on the calculation of the confidence interval."
   ]
  },
  {
   "cell_type": "code",
   "execution_count": 70,
   "metadata": {},
   "outputs": [
    {
     "data": {
      "text/plain": [
       "(3675.404505778215, 31426.63437781915)"
      ]
     },
     "execution_count": 70,
     "metadata": {},
     "output_type": "execute_result"
    }
   ],
   "source": [
    "ci_GC = stats.norm.interval(0.95, garbage_collections['load_weight'].mean(), garbage_collections['load_weight'].std())\n",
    "ci_GC"
   ]
  },
  {
   "cell_type": "markdown",
   "metadata": {},
   "source": [
    "Based on the above calculation results, **the heavy load capacity for the new site can be assessed in the range of 3675.40 kg to 31426.63 kg**.\n",
    "\n",
    "This is because the calculation is based on the average load weight of all landfills. So, I suggest a capacity value of the new landfill that is within the average weight range of the landfill, which will result in a possible overload in the new landfill."
   ]
  },
  {
   "cell_type": "markdown",
   "metadata": {},
   "source": [
    "---"
   ]
  },
  {
   "cell_type": "markdown",
   "metadata": {},
   "source": [
    "All samples have been cleaned of all outliers. Now, I want to know if the average `load_weight` of the `recycling single stream type` data is significantly different from the average of the `garbage collections type`?"
   ]
  },
  {
   "cell_type": "markdown",
   "metadata": {},
   "source": [
    "My hypothesis on this case:\n",
    "\n",
    "H0: μ_recycling single stream = μ_garbage collections\n",
    "\n",
    "H1: μ_recycling single stream != μ_garbage collections"
   ]
  },
  {
   "cell_type": "code",
   "execution_count": 71,
   "metadata": {},
   "outputs": [
    {
     "name": "stdout",
     "output_type": "stream",
     "text": [
      "Average load weight of recycling single stream: 491846.0\n",
      "Average load weight of garbage collections: 935219.0\n"
     ]
    }
   ],
   "source": [
    "recycling_single_stream_ = recycling_single_stream.groupby('report_date')['load_weight'].sum()\n",
    "garbage_collections_ = garbage_collections.groupby('report_date')['load_weight'].sum()\n",
    "\n",
    "print('Average load weight of recycling single stream: {}'.format(np.round(recycling_single_stream_.mean())))\n",
    "print('Average load weight of garbage collections: {}'.format(np.round(garbage_collections_.mean())))"
   ]
  },
  {
   "cell_type": "markdown",
   "metadata": {},
   "source": [
    "I am going to use T-Test 2 sample 2 tailed method for the hypothesis testing"
   ]
  },
  {
   "cell_type": "code",
   "execution_count": 72,
   "metadata": {},
   "outputs": [
    {
     "name": "stdout",
     "output_type": "stream",
     "text": [
      "P-value: 2.0048793147551902e-23\n",
      "t-statistics: -10.924163594661861\n"
     ]
    }
   ],
   "source": [
    "t_stat, p_val = stats.ttest_ind(recycling_single_stream_, garbage_collections_)\n",
    "print('P-value:',p_val) #the p-value isn't divided by 2 since the output is two-sided p-value\n",
    "print('t-statistics:',t_stat)"
   ]
  },
  {
   "cell_type": "code",
   "execution_count": 73,
   "metadata": {},
   "outputs": [
    {
     "data": {
      "text/plain": [
       "<matplotlib.legend.Legend at 0x1d5b7f32dc0>"
      ]
     },
     "execution_count": 73,
     "metadata": {},
     "output_type": "execute_result"
    },
    {
     "data": {
      "image/png": "[encoded data removed]",
      "text/plain": [
       "<Figure size 1152x360 with 1 Axes>"
      ]
     },
     "metadata": {
      "needs_background": "light"
     },
     "output_type": "display_data"
    }
   ],
   "source": [
    "recycling_pop = np.random.normal(recycling_single_stream.load_weight.mean(),recycling_single_stream.load_weight.std(),10000)\n",
    "garbage_pop = np.random.normal(garbage_collections.load_weight.mean(),garbage_collections.load_weight.std(),10000)\n",
    "\n",
    "ci = stats.norm.interval(0.95, recycling_single_stream.load_weight.mean(), recycling_single_stream.load_weight.std())\n",
    "plt.figure(figsize=(16,5))\n",
    "sns.distplot(recycling_pop, label='Recycling single stream Average Load weight a Day *Pop',color='blue')\n",
    "sns.distplot(garbage_pop, label='Garbage collections Average Load weight a Day *Pop',color='red')\n",
    "\n",
    "plt.axvline(recycling_single_stream.load_weight.mean(), color='blue', linewidth=2, label='Recycling single stream mean')\n",
    "plt.axvline(garbage_collections.load_weight.mean(), color='red',  linewidth=2, label='Garbage collections mean')\n",
    "\n",
    "plt.axvline(ci[1], color='green', linestyle='dashed', linewidth=2, label='confidence threshold of 95%')\n",
    "plt.axvline(ci[0], color='green', linestyle='dashed', linewidth=2)\n",
    "\n",
    "plt.axvline(recycling_pop.mean()+t_stat*recycling_pop.std(), color='black', linestyle='dashed', linewidth=2, label = 'Alternative Hypothesis')\n",
    "plt.axvline(garbage_pop.mean()-t_stat*garbage_pop.std(), color='black', linestyle='dashed', linewidth=2)\n",
    "\n",
    "plt.legend()"
   ]
  },
  {
   "cell_type": "markdown",
   "metadata": {},
   "source": [
    "Based on the calculation results above, it can be shown that **H0 is rejected** so that it can be concluded that the average `load_weight` in the `recycle single stream type` is significantly different from the average of the `garbage collections type`."
   ]
  },
  {
   "cell_type": "markdown",
   "metadata": {},
   "source": [
    "#### Answering Questions\n",
    "\n",
    "1. What technique did you choose for handling outliers? Explain why!\n",
    "\n",
    "    - To handle outliers, I chose the capping method or censoring for both `recycling single stream` data and `garbage collections` data. This is because I want to avoid losing important data or having a significant influence on the characteristics of the data.\n",
    "\n",
    "\n",
    "2. What is the concept behind the confidence interval so that we can use it to complete step 7?\n",
    "\n",
    "    - A confidence interval is a range of values that describes the uncertainty surrounding an estimate. In my case, I set my confidence interval level to 95%, this indicates a level of certainty about our estimate. If we were to repeatedly make new estimates using exactly the same procedure, the confidence intervals would contain the average of all the estimates 95% of the time.\n",
    "    - Simpler meaning is confidence intervals are one way to represent how \"good\" an estimate is; the larger a 90% confidence interval for a particular estimate, the more caution is required when using the estimate.\n",
    "\n",
    "\n",
    "3. Explain what type of hypothesis test you used and why?\n",
    "\n",
    "    - I used the T-test Two Sample Two Tailed method because the two sample t test compares the mean of samples data to a known value."
   ]
  },
  {
   "cell_type": "markdown",
   "metadata": {},
   "source": [
    "---"
   ]
  },
  {
   "cell_type": "markdown",
   "metadata": {},
   "source": [
    "## Working Station Problem 2 (Math / Calculus)"
   ]
  },
  {
   "cell_type": "markdown",
   "metadata": {},
   "source": [
    "### Problem Statement\n",
    "\n",
    "The government wants to know how much garbage is loaded in kg in Austin the next day (10 July 2021). In this case, the government wants I to do forecasting to predict future values. There are many forecasting techniques that can be done but I will use a very simple method, namely using the velocity formula.\n",
    "\n",
    "Assume that the rate of daily addition of waste can be written using the following formula:\n",
    "\n",
    "<img src=\"https://latex2png.com/pngs/d095b902113a1ef68d07fd786e4be428.png\"></img>\n",
    "\n",
    "where `1` is today's notation and `0` is yesterday's notation.\n",
    "\n",
    "If I want to predict the amount of garbage load tomorrow, I can use the formula:\n",
    "\n",
    "<img src=\"https://latex2png.com/pngs/50dc63299a1860b10a15346a9ca3a42e.png\"></img>\n",
    "\n",
    "Where `v` will be calculated using the first derivative of the `load_weight` data which previously had to be grouped by `report_date` and don't forget after that `report_date` must be sorted from the smallest to the largest date. `Δt` **values 1** because it only wants to predict the value in one day ahead.\n",
    "\n",
    "**Additional note**: To calculate the derivative, the x and y axes must be determined first. Set `load_weight` as the y-axis and for the x-axis, you can use the index of the groupby result dataframe if the index is a sequence number from 0 to N-1. If not, you can create it using `range()`."
   ]
  },
  {
   "cell_type": "markdown",
   "metadata": {},
   "source": [
    "To simplify it, the problem statement in this second math problem is to predict the `load_weight` value for 10 July 2021 by using the provided formula."
   ]
  },
  {
   "cell_type": "markdown",
   "metadata": {},
   "source": [
    "First of all, we will group by `report_date` column and add up the total load weight for each day and convert the grouping results into a dataframe which is then stored in the `delta_w` variable"
   ]
  },
  {
   "cell_type": "code",
   "execution_count": 74,
   "metadata": {},
   "outputs": [
    {
     "data": {
      "text/html": [
       "<div>\n",
       "<style scoped>\n",
       "    .dataframe tbody tr th:only-of-type {\n",
       "        vertical-align: middle;\n",
       "    }\n",
       "\n",
       "    .dataframe tbody tr th {\n",
       "        vertical-align: top;\n",
       "    }\n",
       "\n",
       "    .dataframe thead th {\n",
       "        text-align: right;\n",
       "    }\n",
       "</style>\n",
       "<table border=\"1\" class=\"dataframe\">\n",
       "  <thead>\n",
       "    <tr style=\"text-align: right;\">\n",
       "      <th></th>\n",
       "      <th>load_weight</th>\n",
       "    </tr>\n",
       "    <tr>\n",
       "      <th>report_date</th>\n",
       "      <th></th>\n",
       "    </tr>\n",
       "  </thead>\n",
       "  <tbody>\n",
       "    <tr>\n",
       "      <th>2021-01-01</th>\n",
       "      <td>0.0</td>\n",
       "    </tr>\n",
       "    <tr>\n",
       "      <th>2021-01-02</th>\n",
       "      <td>2170130.0</td>\n",
       "    </tr>\n",
       "    <tr>\n",
       "      <th>2021-01-04</th>\n",
       "      <td>2920260.0</td>\n",
       "    </tr>\n",
       "    <tr>\n",
       "      <th>2021-01-05</th>\n",
       "      <td>2388540.0</td>\n",
       "    </tr>\n",
       "    <tr>\n",
       "      <th>2021-01-06</th>\n",
       "      <td>2396550.0</td>\n",
       "    </tr>\n",
       "    <tr>\n",
       "      <th>...</th>\n",
       "      <td>...</td>\n",
       "    </tr>\n",
       "    <tr>\n",
       "      <th>2021-07-05</th>\n",
       "      <td>1897290.0</td>\n",
       "    </tr>\n",
       "    <tr>\n",
       "      <th>2021-07-06</th>\n",
       "      <td>1921640.0</td>\n",
       "    </tr>\n",
       "    <tr>\n",
       "      <th>2021-07-07</th>\n",
       "      <td>1553080.0</td>\n",
       "    </tr>\n",
       "    <tr>\n",
       "      <th>2021-07-08</th>\n",
       "      <td>1417650.0</td>\n",
       "    </tr>\n",
       "    <tr>\n",
       "      <th>2021-07-09</th>\n",
       "      <td>120340.0</td>\n",
       "    </tr>\n",
       "  </tbody>\n",
       "</table>\n",
       "<p>166 rows × 1 columns</p>\n",
       "</div>"
      ],
      "text/plain": [
       "             load_weight\n",
       "report_date             \n",
       "2021-01-01           0.0\n",
       "2021-01-02     2170130.0\n",
       "2021-01-04     2920260.0\n",
       "2021-01-05     2388540.0\n",
       "2021-01-06     2396550.0\n",
       "...                  ...\n",
       "2021-07-05     1897290.0\n",
       "2021-07-06     1921640.0\n",
       "2021-07-07     1553080.0\n",
       "2021-07-08     1417650.0\n",
       "2021-07-09      120340.0\n",
       "\n",
       "[166 rows x 1 columns]"
      ]
     },
     "execution_count": 74,
     "metadata": {},
     "output_type": "execute_result"
    }
   ],
   "source": [
    "delta_w = df.groupby('report_date')['load_weight'].sum().to_frame()\n",
    "delta_w"
   ]
  },
  {
   "cell_type": "markdown",
   "metadata": {},
   "source": [
    "After that, according to the instructions described in the problem statement section, the next step is to differentiate `load_weight` against `Δt` or `delta_t`."
   ]
  },
  {
   "cell_type": "code",
   "execution_count": 75,
   "metadata": {},
   "outputs": [
    {
     "data": {
      "text/plain": [
       "range(0, 166)"
      ]
     },
     "execution_count": 75,
     "metadata": {},
     "output_type": "execute_result"
    }
   ],
   "source": [
    "delta_t = range(len(delta_w))\n",
    "delta_t"
   ]
  },
  {
   "cell_type": "code",
   "execution_count": 76,
   "metadata": {},
   "outputs": [
    {
     "data": {
      "text/plain": [
       "array([ 2.17013000e+06,  7.50130000e+05, -5.31720000e+05,  8.01000000e+03,\n",
       "        4.17800000e+04, -5.93380000e+05, -1.81681000e+06,  2.46847000e+06,\n",
       "       -4.22690000e+05, -5.34000000e+03, -3.57300000e+04, -3.15860000e+05,\n",
       "       -1.68213000e+06,  2.40679000e+06, -2.67390000e+05, -7.91300000e+04,\n",
       "       -2.97600000e+04, -2.86770000e+05, -1.59572000e+06,  2.31477000e+06,\n",
       "       -4.40200000e+05,  3.03900000e+04,  3.62200000e+04, -3.88890000e+05,\n",
       "       -1.73503000e+06,  2.43934000e+06, -3.60620000e+05, -8.69800000e+04,\n",
       "        1.16700000e+05, -3.72670000e+05, -1.73345000e+06,  1.17200000e+04,\n",
       "        2.60815000e+06, -4.94950000e+05, -3.38800000e+04, -1.31158000e+06,\n",
       "        1.08996000e+06, -1.83900000e+06,  1.05132000e+06,  2.66098000e+06,\n",
       "       -5.04400000e+05,  7.47900000e+04,  6.37300000e+04, -9.73200000e+05,\n",
       "       -2.16812000e+06,  1.59200000e+04,  2.95084000e+06, -2.95220000e+05,\n",
       "       -1.06440000e+05, -3.87200000e+04, -3.54825000e+05, -2.17421500e+06,\n",
       "       -5.08200000e+04,  3.08313000e+06, -2.78730000e+05, -1.98670000e+05,\n",
       "       -1.69280000e+05, -2.62150000e+05, -2.10616000e+06,  3.72080000e+05,\n",
       "        2.20590000e+06, -1.49780000e+05, -2.20640000e+05,  6.34900000e+04,\n",
       "       -4.19990000e+05, -1.92788000e+06,  1.61740000e+05,  2.63209012e+06,\n",
       "       -3.11330009e+05,  5.48198836e+04,  1.36000000e+03, -3.80160000e+05,\n",
       "       -1.78233200e+06, -2.99468000e+05,  2.72874000e+06, -1.69620000e+05,\n",
       "       -4.44240000e+05,  1.67560000e+05, -6.81950000e+05, -1.84285000e+06,\n",
       "        2.07841000e+06,  3.40730000e+05, -2.77000000e+05,  4.95480000e+04,\n",
       "       -2.45628000e+05, -1.84880000e+06,  2.56385000e+06,  2.65700000e+04,\n",
       "       -1.59580000e+05, -1.34550000e+05, -3.93670000e+05, -1.73158000e+06,\n",
       "       -2.76060000e+05,  2.70263000e+06, -3.44430000e+05, -1.30000000e+04,\n",
       "       -1.42960000e+05, -3.44820000e+05, -1.55664000e+06,  2.21223800e+06,\n",
       "       -2.21558000e+05,  1.02540000e+05, -2.69040000e+05, -2.88940000e+05,\n",
       "       -1.68574000e+06,  2.44275000e+06, -3.18670000e+05,  1.12570000e+05,\n",
       "       -1.42750000e+05, -2.08950000e+05, -1.76581000e+06,  2.31266000e+06,\n",
       "       -2.78750000e+05, -1.21300000e+04,  2.16300000e+04, -4.28030000e+05,\n",
       "       -1.77570000e+06,  2.55128000e+06, -4.17620000e+05, -3.30000000e+03,\n",
       "       -1.91250000e+05, -2.90640000e+05, -1.75635000e+06,  2.32110900e+06,\n",
       "       -1.31819000e+05,  6.99070000e+04,  4.96730000e+04, -5.73040000e+05,\n",
       "       -1.72889000e+06, -8.54000000e+03,  2.60093000e+06, -2.29730000e+05,\n",
       "        7.28100000e+04, -1.39500000e+04, -4.33340000e+05, -1.74630000e+06,\n",
       "        2.53482000e+06, -3.35650000e+05, -1.11159702e+05, -2.02980000e+01,\n",
       "       -4.82900000e+05, -1.65831000e+06,  2.44171000e+06, -4.95450000e+05,\n",
       "        3.66400000e+04, -3.47500000e+04, -4.03210000e+05, -1.69620000e+06,\n",
       "        2.53511000e+06, -4.67400000e+05,  2.48500000e+04, -9.73500000e+04,\n",
       "       -5.45780000e+05, -1.49161000e+06,  2.49019000e+06, -4.96800000e+05,\n",
       "       -3.38700000e+04,  8.50000000e+02, -3.39450000e+05, -1.41848000e+06,\n",
       "        1.68905000e+06,  2.43500000e+04, -3.68560000e+05, -1.35430000e+05,\n",
       "       -1.29731000e+06])"
      ]
     },
     "execution_count": 76,
     "metadata": {},
     "output_type": "execute_result"
    }
   ],
   "source": [
    "v = np.diff(delta_w.load_weight)/np.diff(delta_t)\n",
    "v"
   ]
  },
  {
   "cell_type": "markdown",
   "metadata": {},
   "source": [
    "And if I want to predict the amount of garbage load tomorrow, then I will use the formula below:"
   ]
  },
  {
   "cell_type": "code",
   "execution_count": 77,
   "metadata": {},
   "outputs": [
    {
     "data": {
      "text/plain": [
       "1176970.0"
      ]
     },
     "execution_count": 77,
     "metadata": {},
     "output_type": "execute_result"
    }
   ],
   "source": [
    "W_tomorrow = delta_w['load_weight'][-1] + v[-1] * 1\n",
    "abs(W_tomorrow)"
   ]
  },
  {
   "cell_type": "markdown",
   "metadata": {},
   "source": [
    "By the calculation above, in 10th July 2021 is predicted will be having **1176970.0.0 kg** of garbage."
   ]
  },
  {
   "cell_type": "markdown",
   "metadata": {},
   "source": [
    "#### Answering Questions\n",
    "\n",
    "1. To calculate the first derivative can be used symbolic and numerical methods, for this case, what technique do you use?\n",
    "    - I used numerical method to calculate the first derivative.\n",
    "2. Do you need a mathematical function to calculate the derivative? (yes/no) give your reasons!\n",
    "    - Yes. Because the derivative is the instantaneous rate of change of a function with respect to one of its variables.\n",
    "3. How much load weight do you expect tomorrow (10 July 2021)?\n",
    "    - I estimate there will be **1176970.0.0 kg** of garbage"
   ]
  },
  {
   "cell_type": "markdown",
   "metadata": {},
   "source": [
    "---"
   ]
  },
  {
   "cell_type": "markdown",
   "metadata": {},
   "source": [
    "## Conclusions, Assumptions, Overall Analysis\n",
    "\n",
    "From the data that I have analyzed, I have come to the conclusions of: \n",
    "\n",
    "1. The overall waste of Austin City will increase exponentially. Thus, a stronger and more sustainable waste management is needed.\n",
    "\n",
    "2. Garbage collections have an average load weight value greater than single stream recycling with a value of 17551 kg or about 17.5 tons for 6 months. Based on the analysis data, it can be suggested that the garbage collection system should be updated and distributed properly in the city, considering the average load weight is not small. If the government wants to add a new site, it is recommended to provide garbage containers with a load of more than 31426.6 kg or 31.4 tons for 6 months and can be socialized for household waste must not contain hazardous or flammable materials and do not place hot ash, coal, dirt, stone, concrete, tiles, shingles, sheet metal or household hazardous waste (paint, oil, corrosive, battery, etc.) in the bin.\n",
    "\n",
    "3. The average load weight for 6 months in the Garbage collections type is greater than the Recycling single stream type. This is because single stream recycling does not have to filter and sort, so consumers only throw away all recyclable items in the same container, besides that it has the advantage of reducing government costs in collecting and managing waste in the single stream recycling type. However, from the results of the analysis, it can be suggested for the Austin Smart City government, if you want to add a new site for waste disposal, it is more focused on the single stream recycling type to load recycling collection trucks with a capacity greater than 17263.7 kg or about 17.3 ton.\n",
    "\n",
    "4. I estimate there will be 1176970.0.0 kg of waste on 10 July 2021."
   ]
  }
 ],
 "metadata": {
  "kernelspec": {
   "display_name": "Python 3.9.12 ('base')",
   "language": "python",
   "name": "python3"
  },
  "language_info": {
   "codemirror_mode": {
    "name": "ipython",
    "version": 3
   },
   "file_extension": ".py",
   "mimetype": "text/x-python",
   "name": "python",
   "nbconvert_exporter": "python",
   "pygments_lexer": "ipython3",
   "version": "3.9.12"
  },
  "orig_nbformat": 4,
  "vscode": {
   "interpreter": {
    "hash": "7679c2132d3f6ce38c9df14d554b39c06862b36a4e6689c81f9ae15bd0911d7d"
   }
  }
 },
 "nbformat": 4,
 "nbformat_minor": 2
}
